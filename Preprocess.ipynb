{
  "cells": [
    {
      "cell_type": "markdown",
      "metadata": {
        "id": "view-in-github",
        "colab_type": "text"
      },
      "source": [
        "<a href=\"https://colab.research.google.com/github/mellow-75/hackathon-/blob/main/Preprocess.ipynb\" target=\"_parent\"><img src=\"https://colab.research.google.com/assets/colab-badge.svg\" alt=\"Open In Colab\"/></a>"
      ]
    },
    {
      "cell_type": "code",
      "source": [
        "from google.colab import drive\n",
        "drive.mount('/content/drive')"
      ],
      "metadata": {
        "colab": {
          "base_uri": "https://localhost:8080/"
        },
        "id": "F3Y1noPyWTnb",
        "outputId": "843bb6a7-1e21-4ff3-fa46-05c2a6997c7c"
      },
      "id": "F3Y1noPyWTnb",
      "execution_count": 119,
      "outputs": [
        {
          "output_type": "stream",
          "name": "stdout",
          "text": [
            "Drive already mounted at /content/drive; to attempt to forcibly remount, call drive.mount(\"/content/drive\", force_remount=True).\n"
          ]
        }
      ]
    },
    {
      "cell_type": "code",
      "execution_count": 137,
      "id": "95377922",
      "metadata": {
        "id": "95377922"
      },
      "outputs": [],
      "source": [
        "import pandas as pd\n",
        "import numpy as np\n",
        "import matplotlib.pyplot as plt\n",
        "import sklearn.ensemble\n",
        "from sklearn.feature_extraction.text import TfidfVectorizer\n",
        "from sklearn.preprocessing import OneHotEncoder\n",
        "from sklearn.model_selection import train_test_split\n",
        "from sklearn.preprocessing import StandardScaler\n",
        "from sklearn.ensemble import RandomForestClassifier\n",
        "from sklearn.neural_network import MLPClassifier\n",
        "from sklearn.metrics import accuracy_score, precision_score, recall_score ,f1_score,confusion_matrix"
      ]
    },
    {
      "cell_type": "code",
      "execution_count": 127,
      "id": "fb839c51",
      "metadata": {
        "id": "fb839c51"
      },
      "outputs": [],
      "source": [
        "df=pd.read_csv(\"/content/drive/MyDrive/hackathon/Doceree-HCP_Train.csv\", encoding = \"latin=1\")"
      ]
    },
    {
      "cell_type": "code",
      "execution_count": 83,
      "id": "e68d3579",
      "metadata": {
        "colab": {
          "base_uri": "https://localhost:8080/",
          "height": 634
        },
        "id": "e68d3579",
        "outputId": "9073a14e-3810-47d5-e9d9-8310c7b33093",
        "scrolled": true
      },
      "outputs": [
        {
          "output_type": "execute_result",
          "data": {
            "text/plain": [
              "     ID DEVICETYPE  PLATFORM_ID    BIDREQUESTIP  \\\n",
              "0  1001    Desktop            2    170.173.0.22   \n",
              "1  1002    Desktop            2   65.216.253.25   \n",
              "2  1003    Desktop            2    66.232.79.22   \n",
              "3  1004    Desktop            3  137.54.125.246   \n",
              "4  1005     Mobile            7  174.202.231.99   \n",
              "\n",
              "                        USERPLATFORMUID     USERCITY  USERZIPCODE  \\\n",
              "0  6974dcaa-f932-480e-9fb5-c52e20e1393a     Portland      97206.0   \n",
              "1  c12f3f8f-8fcf-484a-90e1-1ac04db8cdcf    Arlington      22202.0   \n",
              "2  a698de4b-e200-46dd-b5fb-40402175ae18  New Meadows      83654.0   \n",
              "3  45967533-75c8-4fbd-a00c-e6ff20447aaa          NaN  229114624.0   \n",
              "4  a17e25be-532d-4cf5-b916-9308c8c3961f      Houston      77008.0   \n",
              "\n",
              "                                           USERAGENT            PLATFORMTYPE  \\\n",
              "0  Mozilla/5.0 (Windows NT 10.0; Win64; x64) Appl...  Online Medical Journal   \n",
              "1  Mozilla/5.0 (Macintosh; Intel Mac OS X 10_15_7...  Online Medical Journal   \n",
              "2  Mozilla/5.0 (Macintosh; Intel Mac OS X 10_15_7...  Online Medical Journal   \n",
              "3  Mozilla/5.0 (Windows NT 10.0; Win64; x64) Appl...  Online Medical Journal   \n",
              "4  Mozilla/5.0 (iPhone; CPU iPhone OS 16_1_1 like...  Online Medical Journal   \n",
              "\n",
              "  CHANNELTYPE                                                URL  \\\n",
              "0     Website  https://www.cancertherapyadvisor.com/home/canc...   \n",
              "1     Website  https://www.cancertherapyadvisor.com/home/deci...   \n",
              "2     Website  https://www.cancertherapyadvisor.com/home/canc...   \n",
              "3     Website  https://globalrph.com/medcalcs/warfarin-mainte...   \n",
              "4     Website  https://www.cureus.com/articles/58184-a-review...   \n",
              "\n",
              "                                            KEYWORDS    TAXONOMY  IS_HCP  \n",
              "0  General|Endocrine|False|Medicine|Surgery|Urolo...         NaN     0.0  \n",
              "1  Bone Marrow|Radiography|Chronic|Oncology|Psych...         NaN     0.0  \n",
              "2  General|Endocrine|False|Medicine|Surgery|Urolo...         NaN     0.0  \n",
              "3  Dental|Total|Clinical|Pharmacology|Physicians|...  2084P0800X     1.0  \n",
              "4  Critical Care|Emergency Medicine|General Pract...         NaN     0.0  "
            ],
            "text/html": [
              "\n",
              "  <div id=\"df-5d517f99-e605-4a7f-b499-3df08f19dd9c\">\n",
              "    <div class=\"colab-df-container\">\n",
              "      <div>\n",
              "<style scoped>\n",
              "    .dataframe tbody tr th:only-of-type {\n",
              "        vertical-align: middle;\n",
              "    }\n",
              "\n",
              "    .dataframe tbody tr th {\n",
              "        vertical-align: top;\n",
              "    }\n",
              "\n",
              "    .dataframe thead th {\n",
              "        text-align: right;\n",
              "    }\n",
              "</style>\n",
              "<table border=\"1\" class=\"dataframe\">\n",
              "  <thead>\n",
              "    <tr style=\"text-align: right;\">\n",
              "      <th></th>\n",
              "      <th>ID</th>\n",
              "      <th>DEVICETYPE</th>\n",
              "      <th>PLATFORM_ID</th>\n",
              "      <th>BIDREQUESTIP</th>\n",
              "      <th>USERPLATFORMUID</th>\n",
              "      <th>USERCITY</th>\n",
              "      <th>USERZIPCODE</th>\n",
              "      <th>USERAGENT</th>\n",
              "      <th>PLATFORMTYPE</th>\n",
              "      <th>CHANNELTYPE</th>\n",
              "      <th>URL</th>\n",
              "      <th>KEYWORDS</th>\n",
              "      <th>TAXONOMY</th>\n",
              "      <th>IS_HCP</th>\n",
              "    </tr>\n",
              "  </thead>\n",
              "  <tbody>\n",
              "    <tr>\n",
              "      <th>0</th>\n",
              "      <td>1001</td>\n",
              "      <td>Desktop</td>\n",
              "      <td>2</td>\n",
              "      <td>170.173.0.22</td>\n",
              "      <td>6974dcaa-f932-480e-9fb5-c52e20e1393a</td>\n",
              "      <td>Portland</td>\n",
              "      <td>97206.0</td>\n",
              "      <td>Mozilla/5.0 (Windows NT 10.0; Win64; x64) Appl...</td>\n",
              "      <td>Online Medical Journal</td>\n",
              "      <td>Website</td>\n",
              "      <td>https://www.cancertherapyadvisor.com/home/canc...</td>\n",
              "      <td>General|Endocrine|False|Medicine|Surgery|Urolo...</td>\n",
              "      <td>NaN</td>\n",
              "      <td>0.0</td>\n",
              "    </tr>\n",
              "    <tr>\n",
              "      <th>1</th>\n",
              "      <td>1002</td>\n",
              "      <td>Desktop</td>\n",
              "      <td>2</td>\n",
              "      <td>65.216.253.25</td>\n",
              "      <td>c12f3f8f-8fcf-484a-90e1-1ac04db8cdcf</td>\n",
              "      <td>Arlington</td>\n",
              "      <td>22202.0</td>\n",
              "      <td>Mozilla/5.0 (Macintosh; Intel Mac OS X 10_15_7...</td>\n",
              "      <td>Online Medical Journal</td>\n",
              "      <td>Website</td>\n",
              "      <td>https://www.cancertherapyadvisor.com/home/deci...</td>\n",
              "      <td>Bone Marrow|Radiography|Chronic|Oncology|Psych...</td>\n",
              "      <td>NaN</td>\n",
              "      <td>0.0</td>\n",
              "    </tr>\n",
              "    <tr>\n",
              "      <th>2</th>\n",
              "      <td>1003</td>\n",
              "      <td>Desktop</td>\n",
              "      <td>2</td>\n",
              "      <td>66.232.79.22</td>\n",
              "      <td>a698de4b-e200-46dd-b5fb-40402175ae18</td>\n",
              "      <td>New Meadows</td>\n",
              "      <td>83654.0</td>\n",
              "      <td>Mozilla/5.0 (Macintosh; Intel Mac OS X 10_15_7...</td>\n",
              "      <td>Online Medical Journal</td>\n",
              "      <td>Website</td>\n",
              "      <td>https://www.cancertherapyadvisor.com/home/canc...</td>\n",
              "      <td>General|Endocrine|False|Medicine|Surgery|Urolo...</td>\n",
              "      <td>NaN</td>\n",
              "      <td>0.0</td>\n",
              "    </tr>\n",
              "    <tr>\n",
              "      <th>3</th>\n",
              "      <td>1004</td>\n",
              "      <td>Desktop</td>\n",
              "      <td>3</td>\n",
              "      <td>137.54.125.246</td>\n",
              "      <td>45967533-75c8-4fbd-a00c-e6ff20447aaa</td>\n",
              "      <td>NaN</td>\n",
              "      <td>229114624.0</td>\n",
              "      <td>Mozilla/5.0 (Windows NT 10.0; Win64; x64) Appl...</td>\n",
              "      <td>Online Medical Journal</td>\n",
              "      <td>Website</td>\n",
              "      <td>https://globalrph.com/medcalcs/warfarin-mainte...</td>\n",
              "      <td>Dental|Total|Clinical|Pharmacology|Physicians|...</td>\n",
              "      <td>2084P0800X</td>\n",
              "      <td>1.0</td>\n",
              "    </tr>\n",
              "    <tr>\n",
              "      <th>4</th>\n",
              "      <td>1005</td>\n",
              "      <td>Mobile</td>\n",
              "      <td>7</td>\n",
              "      <td>174.202.231.99</td>\n",
              "      <td>a17e25be-532d-4cf5-b916-9308c8c3961f</td>\n",
              "      <td>Houston</td>\n",
              "      <td>77008.0</td>\n",
              "      <td>Mozilla/5.0 (iPhone; CPU iPhone OS 16_1_1 like...</td>\n",
              "      <td>Online Medical Journal</td>\n",
              "      <td>Website</td>\n",
              "      <td>https://www.cureus.com/articles/58184-a-review...</td>\n",
              "      <td>Critical Care|Emergency Medicine|General Pract...</td>\n",
              "      <td>NaN</td>\n",
              "      <td>0.0</td>\n",
              "    </tr>\n",
              "  </tbody>\n",
              "</table>\n",
              "</div>\n",
              "      <button class=\"colab-df-convert\" onclick=\"convertToInteractive('df-5d517f99-e605-4a7f-b499-3df08f19dd9c')\"\n",
              "              title=\"Convert this dataframe to an interactive table.\"\n",
              "              style=\"display:none;\">\n",
              "        \n",
              "  <svg xmlns=\"http://www.w3.org/2000/svg\" height=\"24px\"viewBox=\"0 0 24 24\"\n",
              "       width=\"24px\">\n",
              "    <path d=\"M0 0h24v24H0V0z\" fill=\"none\"/>\n",
              "    <path d=\"M18.56 5.44l.94 2.06.94-2.06 2.06-.94-2.06-.94-.94-2.06-.94 2.06-2.06.94zm-11 1L8.5 8.5l.94-2.06 2.06-.94-2.06-.94L8.5 2.5l-.94 2.06-2.06.94zm10 10l.94 2.06.94-2.06 2.06-.94-2.06-.94-.94-2.06-.94 2.06-2.06.94z\"/><path d=\"M17.41 7.96l-1.37-1.37c-.4-.4-.92-.59-1.43-.59-.52 0-1.04.2-1.43.59L10.3 9.45l-7.72 7.72c-.78.78-.78 2.05 0 2.83L4 21.41c.39.39.9.59 1.41.59.51 0 1.02-.2 1.41-.59l7.78-7.78 2.81-2.81c.8-.78.8-2.07 0-2.86zM5.41 20L4 18.59l7.72-7.72 1.47 1.35L5.41 20z\"/>\n",
              "  </svg>\n",
              "      </button>\n",
              "      \n",
              "  <style>\n",
              "    .colab-df-container {\n",
              "      display:flex;\n",
              "      flex-wrap:wrap;\n",
              "      gap: 12px;\n",
              "    }\n",
              "\n",
              "    .colab-df-convert {\n",
              "      background-color: #E8F0FE;\n",
              "      border: none;\n",
              "      border-radius: 50%;\n",
              "      cursor: pointer;\n",
              "      display: none;\n",
              "      fill: #1967D2;\n",
              "      height: 32px;\n",
              "      padding: 0 0 0 0;\n",
              "      width: 32px;\n",
              "    }\n",
              "\n",
              "    .colab-df-convert:hover {\n",
              "      background-color: #E2EBFA;\n",
              "      box-shadow: 0px 1px 2px rgba(60, 64, 67, 0.3), 0px 1px 3px 1px rgba(60, 64, 67, 0.15);\n",
              "      fill: #174EA6;\n",
              "    }\n",
              "\n",
              "    [theme=dark] .colab-df-convert {\n",
              "      background-color: #3B4455;\n",
              "      fill: #D2E3FC;\n",
              "    }\n",
              "\n",
              "    [theme=dark] .colab-df-convert:hover {\n",
              "      background-color: #434B5C;\n",
              "      box-shadow: 0px 1px 3px 1px rgba(0, 0, 0, 0.15);\n",
              "      filter: drop-shadow(0px 1px 2px rgba(0, 0, 0, 0.3));\n",
              "      fill: #FFFFFF;\n",
              "    }\n",
              "  </style>\n",
              "\n",
              "      <script>\n",
              "        const buttonEl =\n",
              "          document.querySelector('#df-5d517f99-e605-4a7f-b499-3df08f19dd9c button.colab-df-convert');\n",
              "        buttonEl.style.display =\n",
              "          google.colab.kernel.accessAllowed ? 'block' : 'none';\n",
              "\n",
              "        async function convertToInteractive(key) {\n",
              "          const element = document.querySelector('#df-5d517f99-e605-4a7f-b499-3df08f19dd9c');\n",
              "          const dataTable =\n",
              "            await google.colab.kernel.invokeFunction('convertToInteractive',\n",
              "                                                     [key], {});\n",
              "          if (!dataTable) return;\n",
              "\n",
              "          const docLinkHtml = 'Like what you see? Visit the ' +\n",
              "            '<a target=\"_blank\" href=https://colab.research.google.com/notebooks/data_table.ipynb>data table notebook</a>'\n",
              "            + ' to learn more about interactive tables.';\n",
              "          element.innerHTML = '';\n",
              "          dataTable['output_type'] = 'display_data';\n",
              "          await google.colab.output.renderOutput(dataTable, element);\n",
              "          const docLink = document.createElement('div');\n",
              "          docLink.innerHTML = docLinkHtml;\n",
              "          element.appendChild(docLink);\n",
              "        }\n",
              "      </script>\n",
              "    </div>\n",
              "  </div>\n",
              "  "
            ]
          },
          "metadata": {},
          "execution_count": 83
        }
      ],
      "source": [
        "df.head()"
      ]
    },
    {
      "cell_type": "code",
      "execution_count": 41,
      "id": "a63239ec",
      "metadata": {
        "colab": {
          "base_uri": "https://localhost:8080/"
        },
        "id": "a63239ec",
        "outputId": "b08403d5-351d-48df-8f38-8ae702c40106"
      },
      "outputs": [
        {
          "output_type": "stream",
          "name": "stdout",
          "text": [
            "no of nan values :  0\n",
            "(113937, 14)\n"
          ]
        }
      ],
      "source": [
        "print(\"no of nan values : \" ,df['ID'].isna().sum())\n",
        "print(df.shape)"
      ]
    },
    {
      "cell_type": "code",
      "execution_count": 42,
      "id": "472a66ec",
      "metadata": {
        "colab": {
          "base_uri": "https://localhost:8080/"
        },
        "id": "472a66ec",
        "outputId": "01d6b016-499b-435b-e834-6d09b2b1313d"
      },
      "outputs": [
        {
          "output_type": "stream",
          "name": "stdout",
          "text": [
            "no of nan values :  0\n",
            "Desktop    78423\n",
            "Mobile     32065\n",
            "Tablet      3425\n",
            "Unknown       24\n",
            "Name: DEVICETYPE, dtype: int64\n"
          ]
        }
      ],
      "source": [
        "print(\"no of nan values : \" ,df['DEVICETYPE'].isna().sum())\n",
        "print(df.DEVICETYPE.value_counts())"
      ]
    },
    {
      "cell_type": "code",
      "execution_count": 43,
      "id": "99ff1253",
      "metadata": {
        "colab": {
          "base_uri": "https://localhost:8080/"
        },
        "id": "99ff1253",
        "outputId": "bc382478-9547-4c1a-85b9-421ea6524031"
      },
      "outputs": [
        {
          "output_type": "stream",
          "name": "stdout",
          "text": [
            "no of nan values :  0\n",
            "2     79151\n",
            "7     20913\n",
            "9      3891\n",
            "5      3230\n",
            "6      2978\n",
            "10     1037\n",
            "4       745\n",
            "14      725\n",
            "12      544\n",
            "3       479\n",
            "8       130\n",
            "15       42\n",
            "1        40\n",
            "13       31\n",
            "16        1\n",
            "Name: PLATFORM_ID, dtype: int64\n"
          ]
        }
      ],
      "source": [
        "print(\"no of nan values : \" ,df['PLATFORM_ID'].isna().sum())\n",
        "print(df.PLATFORM_ID.value_counts())"
      ]
    },
    {
      "cell_type": "code",
      "execution_count": 44,
      "id": "ea4380ee",
      "metadata": {
        "colab": {
          "base_uri": "https://localhost:8080/"
        },
        "id": "ea4380ee",
        "outputId": "92339165-fceb-481f-ed8a-3d4d5d741743"
      },
      "outputs": [
        {
          "output_type": "stream",
          "name": "stdout",
          "text": [
            "no of nan values :  0\n",
            "71.105.120.171     1718\n",
            "142.154.205.202    1143\n",
            "68.132.98.211       866\n",
            "108.175.114.100     727\n",
            "108.175.114.101     707\n",
            "173.66.114.27       675\n",
            "162.17.102.153      629\n",
            "12.218.110.242      604\n",
            "65.216.253.25       581\n",
            "150.148.14.137      517\n",
            "99.160.6.197        505\n",
            "129.176.151.15      456\n",
            "23.125.217.54       426\n",
            "65.112.8.18         419\n",
            "24.102.87.62        373\n",
            "69.92.49.4          350\n",
            "38.240.111.51       346\n",
            "47.189.55.180       327\n",
            "71.87.24.123        303\n",
            "67.203.36.94        259\n",
            "198.184.147.58      257\n",
            "128.146.52.108      253\n",
            "67.203.36.81        244\n",
            "71.66.42.242        237\n",
            "128.146.189.103     231\n",
            "209.126.104.10      218\n",
            "50.26.129.135       211\n",
            "98.110.76.22        209\n",
            "66.249.66.75        207\n",
            "24.45.121.35        202\n",
            "66.249.66.73        200\n",
            "209.126.104.7       199\n",
            "207.38.89.236       183\n",
            "207.38.87.145       182\n",
            "209.126.104.18      176\n",
            "209.126.127.71      169\n",
            "185.228.195.71      169\n",
            "35.129.213.194      169\n",
            "209.126.124.58      168\n",
            "216.24.45.43        168\n",
            "66.97.189.250       165\n",
            "209.126.103.138     165\n",
            "209.126.104.13      164\n",
            "68.175.60.169       161\n",
            "139.52.18.237       159\n",
            "170.212.0.93        157\n",
            "167.201.243.131     153\n",
            "162.119.232.108     151\n",
            "174.66.101.238      149\n",
            "152.3.43.49         149\n",
            "73.7.183.117        143\n",
            "71.232.195.131      142\n",
            "152.16.191.106      140\n",
            "208.74.105.182      140\n",
            "71.163.17.92        140\n",
            "66.249.66.89        138\n",
            "104.136.3.138       137\n",
            "174.59.217.179      136\n",
            "162.82.0.67         133\n",
            "208.68.20.27        133\n",
            "Name: BIDREQUESTIP, dtype: int64\n"
          ]
        }
      ],
      "source": [
        "print(\"no of nan values : \" ,df['BIDREQUESTIP'].isna().sum())\n",
        "print(df.BIDREQUESTIP.value_counts().head(60))"
      ]
    },
    {
      "cell_type": "code",
      "execution_count": 45,
      "id": "497a28fc",
      "metadata": {
        "colab": {
          "base_uri": "https://localhost:8080/"
        },
        "id": "497a28fc",
        "outputId": "1e2aa931-9231-4529-aacc-b65b70201a55"
      },
      "outputs": [
        {
          "output_type": "stream",
          "name": "stdout",
          "text": [
            "no of nan values :  4\n",
            "3e2578c8-f794-41af-a38c-c5cfb3c0f014    1447\n",
            "d76f7c0b-1a64-4d4b-b36d-86c832be8837    1406\n",
            "d00f28d6-3a50-46cd-92f3-8601bd57ad0e     675\n",
            "fcd3d327-0ad5-425e-8ea8-33ffe6a31543     629\n",
            "fe53f32c-4646-4abe-afea-90b21d6b8531     617\n",
            "82fcc028-f146-4efb-b95e-69fd62109bbc     520\n",
            "73828378-8999-4670-a3bf-e5e78096301c     517\n",
            "fa24a307-1001-4f5e-9d87-669e91737c07     505\n",
            "f6890950-af86-4400-ab0b-e8498d0ba99e     418\n",
            "a4706c21-3ce1-453d-b57c-1541c50d15f5     418\n",
            "6b1794db-cc22-4f66-b185-ecd99146bb07     391\n",
            "d9f89efd-0f02-4844-9719-098302c545df     365\n",
            "c42db189-7d1b-4639-b9c6-9fa4d80be4bd     347\n",
            "29903453-4c40-4f25-98a5-ddc554f71555     346\n",
            "9fee45ce-0010-40e0-a272-6c1c4f86ea00     344\n",
            "72cbb382-31dd-4e2a-9e9c-9d0f40a7d0a9     324\n",
            "cd57e558-f19d-4cd8-afcc-d0fa18259173     300\n",
            "63238044-b275-480b-a613-780d45d2f70a     294\n",
            "b323edaf-33ac-44f0-a570-b1c342f806b9     271\n",
            "456631b8-ca59-4e7a-96a0-53bcbf85eaef     259\n",
            "Name: USERPLATFORMUID, dtype: int64\n"
          ]
        }
      ],
      "source": [
        "print(\"no of nan values : \" ,df['USERPLATFORMUID'].isna().sum())\n",
        "print(df.USERPLATFORMUID.value_counts().head(20))"
      ]
    },
    {
      "cell_type": "code",
      "execution_count": 46,
      "id": "8cdf96bc",
      "metadata": {
        "colab": {
          "base_uri": "https://localhost:8080/"
        },
        "id": "8cdf96bc",
        "outputId": "512c11c7-6f1f-4b37-cd1c-0157af19a0b4"
      },
      "outputs": [
        {
          "output_type": "stream",
          "name": "stdout",
          "text": [
            "no of nan values :  6359\n",
            "New York              4943\n",
            "Brooklyn              3237\n",
            "St Louis              2545\n",
            "Los Angeles           2154\n",
            "Houston               1747\n",
            "Queens                1629\n",
            "Arlington             1503\n",
            "Chicago               1448\n",
            "Philadelphia          1191\n",
            "Columbus              1105\n",
            "Miami                 1023\n",
            "Phoenix                888\n",
            "Fort Worth             884\n",
            "Deer Park              883\n",
            "San Francisco          881\n",
            "Rochester              798\n",
            "Dallas                 784\n",
            "Memphis                756\n",
            "Charlotte              695\n",
            "Pittsburgh             669\n",
            "Palm Beach Gardens     664\n",
            "Seattle                650\n",
            "Atlanta                630\n",
            "Rockville              592\n",
            "Durham                 577\n",
            "Washington             565\n",
            "Minneapolis            557\n",
            "Springfield            556\n",
            "Cleveland              555\n",
            "Cambridge              538\n",
            "Denver                 503\n",
            "Tampa                  485\n",
            "San Diego              478\n",
            "Portland               463\n",
            "Buena Park             431\n",
            "Jacksonville           430\n",
            "Orlando                429\n",
            "Austin                 425\n",
            "Boston                 410\n",
            "Las Vegas              396\n",
            "San Antonio            392\n",
            "Cincinnati             385\n",
            "Garland                384\n",
            "Idaho Falls            382\n",
            "Sacramento             382\n",
            "Kansas City            380\n",
            "Ashburn                375\n",
            "Birmingham             373\n",
            "Salt Lake City         347\n",
            "San Jose               347\n",
            "Indianapolis           347\n",
            "Pilot Mountain         346\n",
            "Appleton               344\n",
            "Richmond               330\n",
            "Baltimore              329\n",
            "Tucson                 306\n",
            "Amarillo               294\n",
            "Nashville              283\n",
            "Milwaukee              275\n",
            "Gainesville            273\n",
            "Name: USERCITY, dtype: int64\n"
          ]
        }
      ],
      "source": [
        "print(\"no of nan values : \" ,df['USERCITY'].isna().sum())\n",
        "print(df.USERCITY.value_counts().head(60))"
      ]
    },
    {
      "cell_type": "code",
      "execution_count": 47,
      "id": "02c32a70",
      "metadata": {
        "colab": {
          "base_uri": "https://localhost:8080/"
        },
        "id": "02c32a70",
        "outputId": "172ea246-8728-4a48-8696-8c68cf406a38"
      },
      "outputs": [
        {
          "output_type": "stream",
          "name": "stdout",
          "text": [
            "no of nan values :  4592\n",
            "63169.0        2116\n",
            "11226.0        1752\n",
            "22202.0        1259\n",
            "10001.0        1190\n",
            "90060.0        1058\n",
            "               ... \n",
            "56748.0           1\n",
            "77021.0           1\n",
            "74880.0           1\n",
            "93630.0           1\n",
            "760865488.0       1\n",
            "Name: USERZIPCODE, Length: 11278, dtype: int64\n"
          ]
        }
      ],
      "source": [
        "print(\"no of nan values : \" ,df['USERZIPCODE'].isna().sum())\n",
        "print(df.USERZIPCODE.value_counts())"
      ]
    },
    {
      "cell_type": "code",
      "execution_count": 48,
      "id": "17008e93",
      "metadata": {
        "colab": {
          "base_uri": "https://localhost:8080/"
        },
        "id": "17008e93",
        "outputId": "8f1e2458-3968-4794-cc68-1c7658c1978e",
        "scrolled": true
      },
      "outputs": [
        {
          "output_type": "stream",
          "name": "stdout",
          "text": [
            "no of nan values :  2\n"
          ]
        }
      ],
      "source": [
        "print(\"no of nan values : \" ,df['USERAGENT'].isna().sum())\n"
      ]
    },
    {
      "cell_type": "code",
      "execution_count": 49,
      "id": "6eeedca0",
      "metadata": {
        "colab": {
          "base_uri": "https://localhost:8080/"
        },
        "id": "6eeedca0",
        "outputId": "83920039-56cd-4ef5-ef91-5ef66217ca62"
      },
      "outputs": [
        {
          "output_type": "stream",
          "name": "stdout",
          "text": [
            "no of nan values :  0\n",
            "Online Medical Journal      110120\n",
            "Online Learning Portal        2978\n",
            "Medical News Platform          798\n",
            "Electronic Health Record        40\n",
            "Tele-medicine Platform           1\n",
            "Name: PLATFORMTYPE, dtype: int64\n"
          ]
        }
      ],
      "source": [
        "print(\"no of nan values : \" ,df['PLATFORMTYPE'].isna().sum())\n",
        "print(df.PLATFORMTYPE.value_counts())"
      ]
    },
    {
      "cell_type": "code",
      "execution_count": 50,
      "id": "1abc9643",
      "metadata": {
        "colab": {
          "base_uri": "https://localhost:8080/"
        },
        "id": "1abc9643",
        "outputId": "9a359cf9-41ed-469a-9b9a-c3d5285d1a6e"
      },
      "outputs": [
        {
          "output_type": "stream",
          "name": "stdout",
          "text": [
            "no of nan values :  0\n",
            "Website    113937\n",
            "Name: CHANNELTYPE, dtype: int64\n"
          ]
        }
      ],
      "source": [
        "print(\"no of nan values : \" ,df['CHANNELTYPE'].isna().sum())\n",
        "print(df.CHANNELTYPE.value_counts())"
      ]
    },
    {
      "cell_type": "code",
      "execution_count": 51,
      "id": "97a4bf71",
      "metadata": {
        "colab": {
          "base_uri": "https://localhost:8080/"
        },
        "id": "97a4bf71",
        "outputId": "cbd03e8a-9f44-4d04-b74e-fcd65d897c7a"
      },
      "outputs": [
        {
          "output_type": "stream",
          "name": "stdout",
          "text": [
            "no of nan values :  0\n",
            "5231\n"
          ]
        }
      ],
      "source": [
        "print(\"no of nan values : \" ,df['URL'].isna().sum())\n",
        "print(df.URL.nunique())"
      ]
    },
    {
      "cell_type": "code",
      "execution_count": 52,
      "id": "f2651d7d",
      "metadata": {
        "colab": {
          "base_uri": "https://localhost:8080/"
        },
        "id": "f2651d7d",
        "outputId": "dd442530-80fa-43f4-a3f2-f5a53c0b1a06"
      },
      "outputs": [
        {
          "output_type": "stream",
          "name": "stdout",
          "text": [
            "no of nan values :  0\n",
            "2460\n"
          ]
        }
      ],
      "source": [
        "print(\"no of nan values : \" ,df['KEYWORDS'].isna().sum())\n",
        "print(df.KEYWORDS.nunique())"
      ]
    },
    {
      "cell_type": "code",
      "source": [
        "print(\"no of nan values : \" ,df['IS_HCP'].isna().sum())"
      ],
      "metadata": {
        "colab": {
          "base_uri": "https://localhost:8080/"
        },
        "id": "IkmE2o7gmLYW",
        "outputId": "f4c7bd6f-ec51-4166-9fa9-ed21d95b42b4"
      },
      "id": "IkmE2o7gmLYW",
      "execution_count": 102,
      "outputs": [
        {
          "output_type": "stream",
          "name": "stdout",
          "text": [
            "no of nan values :  1\n"
          ]
        }
      ]
    },
    {
      "cell_type": "code",
      "execution_count": 53,
      "id": "2b12bf78",
      "metadata": {
        "colab": {
          "base_uri": "https://localhost:8080/"
        },
        "id": "2b12bf78",
        "outputId": "2e67bd6a-4a8e-4b0e-a7bd-3aecfb6867ee"
      },
      "outputs": [
        {
          "output_type": "stream",
          "name": "stdout",
          "text": [
            "no of nan values :  81624\n",
            "2084P0800X    7930\n",
            "2084N0400X    6621\n",
            "207Q00000X    3997\n",
            "207R00000X    3190\n",
            "208000000X     837\n",
            "              ... \n",
            "163WC0400X       1\n",
            "246QM0706X       1\n",
            "1835N1003X       1\n",
            "207RI0008X       1\n",
            "207XX0801X       1\n",
            "Name: TAXONOMY, Length: 207, dtype: int64\n"
          ]
        }
      ],
      "source": [
        "print(\"no of nan values : \" ,df['TAXONOMY'].isna().sum())\n",
        "print(df.TAXONOMY.value_counts())"
      ]
    },
    {
      "cell_type": "code",
      "execution_count": 54,
      "id": "fc4ab65d",
      "metadata": {
        "colab": {
          "base_uri": "https://localhost:8080/"
        },
        "id": "fc4ab65d",
        "outputId": "9dfe29f3-a794-41db-e1de-494b1f6cbb1e"
      },
      "outputs": [
        {
          "output_type": "stream",
          "name": "stdout",
          "text": [
            "<class 'pandas.core.frame.DataFrame'>\n",
            "RangeIndex: 113937 entries, 0 to 113936\n",
            "Data columns (total 14 columns):\n",
            " #   Column           Non-Null Count   Dtype  \n",
            "---  ------           --------------   -----  \n",
            " 0   ID               113937 non-null  int64  \n",
            " 1   DEVICETYPE       113937 non-null  object \n",
            " 2   PLATFORM_ID      113937 non-null  int64  \n",
            " 3   BIDREQUESTIP     113937 non-null  object \n",
            " 4   USERPLATFORMUID  113933 non-null  object \n",
            " 5   USERCITY         107578 non-null  object \n",
            " 6   USERZIPCODE      109345 non-null  float64\n",
            " 7   USERAGENT        113935 non-null  object \n",
            " 8   PLATFORMTYPE     113937 non-null  object \n",
            " 9   CHANNELTYPE      113937 non-null  object \n",
            " 10  URL              113937 non-null  object \n",
            " 11  KEYWORDS         113937 non-null  object \n",
            " 12  TAXONOMY         32313 non-null   object \n",
            " 13  IS_HCP           113936 non-null  float64\n",
            "dtypes: float64(2), int64(2), object(10)\n",
            "memory usage: 12.2+ MB\n"
          ]
        }
      ],
      "source": [
        "df.info()"
      ]
    },
    {
      "cell_type": "code",
      "execution_count": 55,
      "id": "7538ce03",
      "metadata": {
        "colab": {
          "base_uri": "https://localhost:8080/"
        },
        "id": "7538ce03",
        "outputId": "654c98f7-21d9-48bd-f0cd-d19a87ab2db1"
      },
      "outputs": [
        {
          "output_type": "execute_result",
          "data": {
            "text/plain": [
              "ID                   int64\n",
              "DEVICETYPE          object\n",
              "PLATFORM_ID          int64\n",
              "BIDREQUESTIP        object\n",
              "USERPLATFORMUID     object\n",
              "USERCITY            object\n",
              "USERZIPCODE        float64\n",
              "USERAGENT           object\n",
              "PLATFORMTYPE        object\n",
              "CHANNELTYPE         object\n",
              "URL                 object\n",
              "KEYWORDS            object\n",
              "TAXONOMY            object\n",
              "IS_HCP             float64\n",
              "dtype: object"
            ]
          },
          "metadata": {},
          "execution_count": 55
        }
      ],
      "source": [
        "df.dtypes"
      ]
    },
    {
      "cell_type": "code",
      "execution_count": 56,
      "id": "351b89a2",
      "metadata": {
        "id": "351b89a2"
      },
      "outputs": [],
      "source": [
        "# plt.matshow(df.corr())\n",
        "# plt.show()"
      ]
    },
    {
      "cell_type": "code",
      "execution_count": 106,
      "id": "fe05510f",
      "metadata": {
        "id": "fe05510f"
      },
      "outputs": [],
      "source": [
        "a=df[[\"TAXONOMY\",\"IS_HCP\"]]"
      ]
    },
    {
      "cell_type": "code",
      "execution_count": 58,
      "id": "42d56f40",
      "metadata": {
        "colab": {
          "base_uri": "https://localhost:8080/"
        },
        "id": "42d56f40",
        "outputId": "d03f6355-978b-4018-dc82-b6f502f8cd34"
      },
      "outputs": [
        {
          "output_type": "stream",
          "name": "stdout",
          "text": [
            "      TAXONOMY  IS_HCP\n",
            "0          NaN     0.0\n",
            "1          NaN     0.0\n",
            "2          NaN     0.0\n",
            "3   2084P0800X     1.0\n",
            "4          NaN     0.0\n",
            "5          NaN     0.0\n",
            "6          NaN     0.0\n",
            "7          NaN     0.0\n",
            "8   2084P0804X     1.0\n",
            "9          NaN     0.0\n",
            "10         NaN     0.0\n",
            "11         NaN     0.0\n",
            "12         NaN     0.0\n",
            "13         NaN     0.0\n",
            "14         NaN     0.0\n",
            "15         NaN     0.0\n",
            "16         NaN     0.0\n",
            "17         NaN     0.0\n",
            "18         NaN     0.0\n",
            "19         NaN     0.0\n",
            "20         NaN     0.0\n",
            "21  2084N0400X     1.0\n",
            "22         NaN     0.0\n",
            "23         NaN     0.0\n",
            "24         NaN     0.0\n",
            "25         NaN     0.0\n",
            "26         NaN     0.0\n",
            "27         NaN     0.0\n",
            "28         NaN     0.0\n",
            "29  2084V0102X     1.0\n",
            "30         NaN     0.0\n",
            "31         NaN     0.0\n",
            "32         NaN     0.0\n",
            "33         NaN     0.0\n",
            "34         NaN     0.0\n",
            "35  207RC0000X     1.0\n",
            "36         NaN     0.0\n",
            "37         NaN     0.0\n",
            "38         NaN     0.0\n",
            "39         NaN     0.0\n",
            "40         NaN     0.0\n",
            "41         NaN     0.0\n",
            "42         NaN     0.0\n",
            "43         NaN     0.0\n",
            "44         NaN     0.0\n",
            "45         NaN     0.0\n",
            "46         NaN     0.0\n",
            "47         NaN     0.0\n",
            "48         NaN     0.0\n",
            "49         NaN     0.0\n"
          ]
        }
      ],
      "source": [
        "print(a.iloc[:50])"
      ]
    },
    {
      "cell_type": "code",
      "source": [
        "df['TAXONOMY'].value_counts()"
      ],
      "metadata": {
        "colab": {
          "base_uri": "https://localhost:8080/"
        },
        "id": "TaoIRD7pkir_",
        "outputId": "3a20dc68-472b-410d-f5af-45ed7d286ab4"
      },
      "id": "TaoIRD7pkir_",
      "execution_count": 101,
      "outputs": [
        {
          "output_type": "execute_result",
          "data": {
            "text/plain": [
              "2084P0800X    7930\n",
              "2084N0400X    6621\n",
              "207Q00000X    3997\n",
              "207R00000X    3190\n",
              "208000000X     837\n",
              "              ... \n",
              "163WC0400X       1\n",
              "246QM0706X       1\n",
              "1835N1003X       1\n",
              "207RI0008X       1\n",
              "207XX0801X       1\n",
              "Name: TAXONOMY, Length: 207, dtype: int64"
            ]
          },
          "metadata": {},
          "execution_count": 101
        }
      ]
    },
    {
      "cell_type": "code",
      "source": [
        "def scale(x):\n",
        "  sclr = StandardScaler()\n",
        "  x = sclr.fit(x)\n",
        "  return x"
      ],
      "metadata": {
        "id": "5GoJE0XUzj3J"
      },
      "id": "5GoJE0XUzj3J",
      "execution_count": 138,
      "outputs": []
    },
    {
      "cell_type": "code",
      "source": [
        "def ohe(df,col):\n",
        "  ohe = OneHotEncoder()\n",
        "  colm = ohe.fit_transform(df[col].values.reshape(-1,1)).toarray()\n",
        "  feature_labels=ohe.categories_\n",
        "  feature_labels=np.array(feature_labels).ravel()\n",
        "  x=pd.DataFrame(colm,columns=feature_labels)\n",
        "  del df[col]\n",
        "  df=pd.concat([df,x],axis=1)\n",
        "  return df"
      ],
      "metadata": {
        "id": "8yIjKF8SaZYI"
      },
      "id": "8yIjKF8SaZYI",
      "execution_count": 60,
      "outputs": []
    },
    {
      "cell_type": "code",
      "source": [
        "def drp(df):\n",
        "  df.drop(['USERPLATFORMUID','USERCITY','USERAGENT','CHANNELTYPE','URL'],axis = 1,inplace = True)\n",
        "  return df"
      ],
      "metadata": {
        "id": "ulzuh9S_dlrT"
      },
      "id": "ulzuh9S_dlrT",
      "execution_count": 120,
      "outputs": []
    },
    {
      "cell_type": "code",
      "source": [
        "def vectorize(df):\n",
        "  vectorizer_1 =TfidfVectorizer()\n",
        "  feature_matrix=vectorizer_1.fit_transform(df[\"BIDREQUESTIP\"])\n",
        "  vectorized_bidrequestip=pd.DataFrame(feature_matrix.toarray())\n",
        "  vectorizer_2 = TfidfVectorizer(tokenizer=lambda x: x.split('|'))\n",
        "  tfidf_matrix = vectorizer_2.fit_transform(df['KEYWORDS'])\n",
        "  vectorized_keywords = pd.DataFrame(tfidf_matrix.toarray(), columns=vectorizer_2.get_feature_names_out())\n",
        "  df = pd.concat([df,vectorized_bidrequestip,vectorized_keywords],axis = 1)\n",
        "  df.drop(['BIDREQUESTIP','KEYWORDS'],axis = 1,inplace = True)\n",
        "  return df"
      ],
      "metadata": {
        "id": "LfHdFRj6rxpH"
      },
      "id": "LfHdFRj6rxpH",
      "execution_count": 126,
      "outputs": []
    },
    {
      "cell_type": "code",
      "source": [
        "df = vectorize(df)\n",
        "df.head()"
      ],
      "metadata": {
        "colab": {
          "base_uri": "https://localhost:8080/",
          "height": 733
        },
        "id": "urKwiv4CtICq",
        "outputId": "b4af58bd-d432-427b-9f2a-8b39a4f11dd0"
      },
      "id": "urKwiv4CtICq",
      "execution_count": 128,
      "outputs": [
        {
          "output_type": "stream",
          "name": "stderr",
          "text": [
            "/usr/local/lib/python3.10/dist-packages/sklearn/feature_extraction/text.py:528: UserWarning: The parameter 'token_pattern' will not be used since 'tokenizer' is not None'\n",
            "  warnings.warn(\n"
          ]
        },
        {
          "output_type": "execute_result",
          "data": {
            "text/plain": [
              "     ID DEVICETYPE  PLATFORM_ID                       USERPLATFORMUID  \\\n",
              "0  1001    Desktop            2  6974dcaa-f932-480e-9fb5-c52e20e1393a   \n",
              "1  1002    Desktop            2  c12f3f8f-8fcf-484a-90e1-1ac04db8cdcf   \n",
              "2  1003    Desktop            2  a698de4b-e200-46dd-b5fb-40402175ae18   \n",
              "3  1004    Desktop            3  45967533-75c8-4fbd-a00c-e6ff20447aaa   \n",
              "4  1005     Mobile            7  a17e25be-532d-4cf5-b916-9308c8c3961f   \n",
              "\n",
              "      USERCITY  USERZIPCODE  \\\n",
              "0     Portland      97206.0   \n",
              "1    Arlington      22202.0   \n",
              "2  New Meadows      83654.0   \n",
              "3          NaN  229114624.0   \n",
              "4      Houston      77008.0   \n",
              "\n",
              "                                           USERAGENT            PLATFORMTYPE  \\\n",
              "0  Mozilla/5.0 (Windows NT 10.0; Win64; x64) Appl...  Online Medical Journal   \n",
              "1  Mozilla/5.0 (Macintosh; Intel Mac OS X 10_15_7...  Online Medical Journal   \n",
              "2  Mozilla/5.0 (Macintosh; Intel Mac OS X 10_15_7...  Online Medical Journal   \n",
              "3  Mozilla/5.0 (Windows NT 10.0; Win64; x64) Appl...  Online Medical Journal   \n",
              "4  Mozilla/5.0 (iPhone; CPU iPhone OS 16_1_1 like...  Online Medical Journal   \n",
              "\n",
              "  CHANNELTYPE                                                URL  ...  \\\n",
              "0     Website  https://www.cancertherapyadvisor.com/home/canc...  ...   \n",
              "1     Website  https://www.cancertherapyadvisor.com/home/deci...  ...   \n",
              "2     Website  https://www.cancertherapyadvisor.com/home/canc...  ...   \n",
              "3     Website  https://globalrph.com/medcalcs/warfarin-mainte...  ...   \n",
              "4     Website  https://www.cureus.com/articles/58184-a-review...  ...   \n",
              "\n",
              "  wheezing  whipple disease  whole genome sequencing  whooping cough  \\\n",
              "0      0.0              0.0                      0.0             0.0   \n",
              "1      0.0              0.0                      0.0             0.0   \n",
              "2      0.0              0.0                      0.0             0.0   \n",
              "3      0.0              0.0                      0.0             0.0   \n",
              "4      0.0              0.0                      0.0             0.0   \n",
              "\n",
              "   wound infection  yaws  yellow fever  zoonoses  zostavax  \\\n",
              "0              0.0   0.0           0.0       0.0       0.0   \n",
              "1              0.0   0.0           0.0       0.0       0.0   \n",
              "2              0.0   0.0           0.0       0.0       0.0   \n",
              "3              0.0   0.0           0.0       0.0       0.0   \n",
              "4              0.0   0.0           0.0       0.0       0.0   \n",
              "\n",
              "   zoster sine herpete  \n",
              "0                  0.0  \n",
              "1                  0.0  \n",
              "2                  0.0  \n",
              "3                  0.0  \n",
              "4                  0.0  \n",
              "\n",
              "[5 rows x 1474 columns]"
            ],
            "text/html": [
              "\n",
              "  <div id=\"df-0089c2b0-9e91-4d81-9e13-e2bee0645de5\">\n",
              "    <div class=\"colab-df-container\">\n",
              "      <div>\n",
              "<style scoped>\n",
              "    .dataframe tbody tr th:only-of-type {\n",
              "        vertical-align: middle;\n",
              "    }\n",
              "\n",
              "    .dataframe tbody tr th {\n",
              "        vertical-align: top;\n",
              "    }\n",
              "\n",
              "    .dataframe thead th {\n",
              "        text-align: right;\n",
              "    }\n",
              "</style>\n",
              "<table border=\"1\" class=\"dataframe\">\n",
              "  <thead>\n",
              "    <tr style=\"text-align: right;\">\n",
              "      <th></th>\n",
              "      <th>ID</th>\n",
              "      <th>DEVICETYPE</th>\n",
              "      <th>PLATFORM_ID</th>\n",
              "      <th>USERPLATFORMUID</th>\n",
              "      <th>USERCITY</th>\n",
              "      <th>USERZIPCODE</th>\n",
              "      <th>USERAGENT</th>\n",
              "      <th>PLATFORMTYPE</th>\n",
              "      <th>CHANNELTYPE</th>\n",
              "      <th>URL</th>\n",
              "      <th>...</th>\n",
              "      <th>wheezing</th>\n",
              "      <th>whipple disease</th>\n",
              "      <th>whole genome sequencing</th>\n",
              "      <th>whooping cough</th>\n",
              "      <th>wound infection</th>\n",
              "      <th>yaws</th>\n",
              "      <th>yellow fever</th>\n",
              "      <th>zoonoses</th>\n",
              "      <th>zostavax</th>\n",
              "      <th>zoster sine herpete</th>\n",
              "    </tr>\n",
              "  </thead>\n",
              "  <tbody>\n",
              "    <tr>\n",
              "      <th>0</th>\n",
              "      <td>1001</td>\n",
              "      <td>Desktop</td>\n",
              "      <td>2</td>\n",
              "      <td>6974dcaa-f932-480e-9fb5-c52e20e1393a</td>\n",
              "      <td>Portland</td>\n",
              "      <td>97206.0</td>\n",
              "      <td>Mozilla/5.0 (Windows NT 10.0; Win64; x64) Appl...</td>\n",
              "      <td>Online Medical Journal</td>\n",
              "      <td>Website</td>\n",
              "      <td>https://www.cancertherapyadvisor.com/home/canc...</td>\n",
              "      <td>...</td>\n",
              "      <td>0.0</td>\n",
              "      <td>0.0</td>\n",
              "      <td>0.0</td>\n",
              "      <td>0.0</td>\n",
              "      <td>0.0</td>\n",
              "      <td>0.0</td>\n",
              "      <td>0.0</td>\n",
              "      <td>0.0</td>\n",
              "      <td>0.0</td>\n",
              "      <td>0.0</td>\n",
              "    </tr>\n",
              "    <tr>\n",
              "      <th>1</th>\n",
              "      <td>1002</td>\n",
              "      <td>Desktop</td>\n",
              "      <td>2</td>\n",
              "      <td>c12f3f8f-8fcf-484a-90e1-1ac04db8cdcf</td>\n",
              "      <td>Arlington</td>\n",
              "      <td>22202.0</td>\n",
              "      <td>Mozilla/5.0 (Macintosh; Intel Mac OS X 10_15_7...</td>\n",
              "      <td>Online Medical Journal</td>\n",
              "      <td>Website</td>\n",
              "      <td>https://www.cancertherapyadvisor.com/home/deci...</td>\n",
              "      <td>...</td>\n",
              "      <td>0.0</td>\n",
              "      <td>0.0</td>\n",
              "      <td>0.0</td>\n",
              "      <td>0.0</td>\n",
              "      <td>0.0</td>\n",
              "      <td>0.0</td>\n",
              "      <td>0.0</td>\n",
              "      <td>0.0</td>\n",
              "      <td>0.0</td>\n",
              "      <td>0.0</td>\n",
              "    </tr>\n",
              "    <tr>\n",
              "      <th>2</th>\n",
              "      <td>1003</td>\n",
              "      <td>Desktop</td>\n",
              "      <td>2</td>\n",
              "      <td>a698de4b-e200-46dd-b5fb-40402175ae18</td>\n",
              "      <td>New Meadows</td>\n",
              "      <td>83654.0</td>\n",
              "      <td>Mozilla/5.0 (Macintosh; Intel Mac OS X 10_15_7...</td>\n",
              "      <td>Online Medical Journal</td>\n",
              "      <td>Website</td>\n",
              "      <td>https://www.cancertherapyadvisor.com/home/canc...</td>\n",
              "      <td>...</td>\n",
              "      <td>0.0</td>\n",
              "      <td>0.0</td>\n",
              "      <td>0.0</td>\n",
              "      <td>0.0</td>\n",
              "      <td>0.0</td>\n",
              "      <td>0.0</td>\n",
              "      <td>0.0</td>\n",
              "      <td>0.0</td>\n",
              "      <td>0.0</td>\n",
              "      <td>0.0</td>\n",
              "    </tr>\n",
              "    <tr>\n",
              "      <th>3</th>\n",
              "      <td>1004</td>\n",
              "      <td>Desktop</td>\n",
              "      <td>3</td>\n",
              "      <td>45967533-75c8-4fbd-a00c-e6ff20447aaa</td>\n",
              "      <td>NaN</td>\n",
              "      <td>229114624.0</td>\n",
              "      <td>Mozilla/5.0 (Windows NT 10.0; Win64; x64) Appl...</td>\n",
              "      <td>Online Medical Journal</td>\n",
              "      <td>Website</td>\n",
              "      <td>https://globalrph.com/medcalcs/warfarin-mainte...</td>\n",
              "      <td>...</td>\n",
              "      <td>0.0</td>\n",
              "      <td>0.0</td>\n",
              "      <td>0.0</td>\n",
              "      <td>0.0</td>\n",
              "      <td>0.0</td>\n",
              "      <td>0.0</td>\n",
              "      <td>0.0</td>\n",
              "      <td>0.0</td>\n",
              "      <td>0.0</td>\n",
              "      <td>0.0</td>\n",
              "    </tr>\n",
              "    <tr>\n",
              "      <th>4</th>\n",
              "      <td>1005</td>\n",
              "      <td>Mobile</td>\n",
              "      <td>7</td>\n",
              "      <td>a17e25be-532d-4cf5-b916-9308c8c3961f</td>\n",
              "      <td>Houston</td>\n",
              "      <td>77008.0</td>\n",
              "      <td>Mozilla/5.0 (iPhone; CPU iPhone OS 16_1_1 like...</td>\n",
              "      <td>Online Medical Journal</td>\n",
              "      <td>Website</td>\n",
              "      <td>https://www.cureus.com/articles/58184-a-review...</td>\n",
              "      <td>...</td>\n",
              "      <td>0.0</td>\n",
              "      <td>0.0</td>\n",
              "      <td>0.0</td>\n",
              "      <td>0.0</td>\n",
              "      <td>0.0</td>\n",
              "      <td>0.0</td>\n",
              "      <td>0.0</td>\n",
              "      <td>0.0</td>\n",
              "      <td>0.0</td>\n",
              "      <td>0.0</td>\n",
              "    </tr>\n",
              "  </tbody>\n",
              "</table>\n",
              "<p>5 rows × 1474 columns</p>\n",
              "</div>\n",
              "      <button class=\"colab-df-convert\" onclick=\"convertToInteractive('df-0089c2b0-9e91-4d81-9e13-e2bee0645de5')\"\n",
              "              title=\"Convert this dataframe to an interactive table.\"\n",
              "              style=\"display:none;\">\n",
              "        \n",
              "  <svg xmlns=\"http://www.w3.org/2000/svg\" height=\"24px\"viewBox=\"0 0 24 24\"\n",
              "       width=\"24px\">\n",
              "    <path d=\"M0 0h24v24H0V0z\" fill=\"none\"/>\n",
              "    <path d=\"M18.56 5.44l.94 2.06.94-2.06 2.06-.94-2.06-.94-.94-2.06-.94 2.06-2.06.94zm-11 1L8.5 8.5l.94-2.06 2.06-.94-2.06-.94L8.5 2.5l-.94 2.06-2.06.94zm10 10l.94 2.06.94-2.06 2.06-.94-2.06-.94-.94-2.06-.94 2.06-2.06.94z\"/><path d=\"M17.41 7.96l-1.37-1.37c-.4-.4-.92-.59-1.43-.59-.52 0-1.04.2-1.43.59L10.3 9.45l-7.72 7.72c-.78.78-.78 2.05 0 2.83L4 21.41c.39.39.9.59 1.41.59.51 0 1.02-.2 1.41-.59l7.78-7.78 2.81-2.81c.8-.78.8-2.07 0-2.86zM5.41 20L4 18.59l7.72-7.72 1.47 1.35L5.41 20z\"/>\n",
              "  </svg>\n",
              "      </button>\n",
              "      \n",
              "  <style>\n",
              "    .colab-df-container {\n",
              "      display:flex;\n",
              "      flex-wrap:wrap;\n",
              "      gap: 12px;\n",
              "    }\n",
              "\n",
              "    .colab-df-convert {\n",
              "      background-color: #E8F0FE;\n",
              "      border: none;\n",
              "      border-radius: 50%;\n",
              "      cursor: pointer;\n",
              "      display: none;\n",
              "      fill: #1967D2;\n",
              "      height: 32px;\n",
              "      padding: 0 0 0 0;\n",
              "      width: 32px;\n",
              "    }\n",
              "\n",
              "    .colab-df-convert:hover {\n",
              "      background-color: #E2EBFA;\n",
              "      box-shadow: 0px 1px 2px rgba(60, 64, 67, 0.3), 0px 1px 3px 1px rgba(60, 64, 67, 0.15);\n",
              "      fill: #174EA6;\n",
              "    }\n",
              "\n",
              "    [theme=dark] .colab-df-convert {\n",
              "      background-color: #3B4455;\n",
              "      fill: #D2E3FC;\n",
              "    }\n",
              "\n",
              "    [theme=dark] .colab-df-convert:hover {\n",
              "      background-color: #434B5C;\n",
              "      box-shadow: 0px 1px 3px 1px rgba(0, 0, 0, 0.15);\n",
              "      filter: drop-shadow(0px 1px 2px rgba(0, 0, 0, 0.3));\n",
              "      fill: #FFFFFF;\n",
              "    }\n",
              "  </style>\n",
              "\n",
              "      <script>\n",
              "        const buttonEl =\n",
              "          document.querySelector('#df-0089c2b0-9e91-4d81-9e13-e2bee0645de5 button.colab-df-convert');\n",
              "        buttonEl.style.display =\n",
              "          google.colab.kernel.accessAllowed ? 'block' : 'none';\n",
              "\n",
              "        async function convertToInteractive(key) {\n",
              "          const element = document.querySelector('#df-0089c2b0-9e91-4d81-9e13-e2bee0645de5');\n",
              "          const dataTable =\n",
              "            await google.colab.kernel.invokeFunction('convertToInteractive',\n",
              "                                                     [key], {});\n",
              "          if (!dataTable) return;\n",
              "\n",
              "          const docLinkHtml = 'Like what you see? Visit the ' +\n",
              "            '<a target=\"_blank\" href=https://colab.research.google.com/notebooks/data_table.ipynb>data table notebook</a>'\n",
              "            + ' to learn more about interactive tables.';\n",
              "          element.innerHTML = '';\n",
              "          dataTable['output_type'] = 'display_data';\n",
              "          await google.colab.output.renderOutput(dataTable, element);\n",
              "          const docLink = document.createElement('div');\n",
              "          docLink.innerHTML = docLinkHtml;\n",
              "          element.appendChild(docLink);\n",
              "        }\n",
              "      </script>\n",
              "    </div>\n",
              "  </div>\n",
              "  "
            ]
          },
          "metadata": {},
          "execution_count": 128
        }
      ]
    },
    {
      "cell_type": "markdown",
      "source": [
        "Dropping certain fixed columns\n"
      ],
      "metadata": {
        "id": "lr_dOpDdycSj"
      },
      "id": "lr_dOpDdycSj"
    },
    {
      "cell_type": "code",
      "source": [
        "df = drp(df)\n",
        "print('no of nan values:',df.isnull().sum())\n",
        "df.head()"
      ],
      "metadata": {
        "colab": {
          "base_uri": "https://localhost:8080/",
          "height": 629
        },
        "id": "JCm4eSSTd3-Q",
        "outputId": "a89206b6-a97f-44b0-cd18-461c85fa9239"
      },
      "id": "JCm4eSSTd3-Q",
      "execution_count": 129,
      "outputs": [
        {
          "output_type": "stream",
          "name": "stdout",
          "text": [
            "no of nan values: ID                        0\n",
            "DEVICETYPE                0\n",
            "PLATFORM_ID               0\n",
            "USERZIPCODE            4592\n",
            "PLATFORMTYPE              0\n",
            "                       ... \n",
            "yaws                      0\n",
            "yellow fever              0\n",
            "zoonoses                  0\n",
            "zostavax                  0\n",
            "zoster sine herpete       0\n",
            "Length: 1469, dtype: int64\n"
          ]
        },
        {
          "output_type": "execute_result",
          "data": {
            "text/plain": [
              "     ID DEVICETYPE  PLATFORM_ID  USERZIPCODE            PLATFORMTYPE  \\\n",
              "0  1001    Desktop            2      97206.0  Online Medical Journal   \n",
              "1  1002    Desktop            2      22202.0  Online Medical Journal   \n",
              "2  1003    Desktop            2      83654.0  Online Medical Journal   \n",
              "3  1004    Desktop            3  229114624.0  Online Medical Journal   \n",
              "4  1005     Mobile            7      77008.0  Online Medical Journal   \n",
              "\n",
              "     TAXONOMY  IS_HCP    0    1    2  ...  wheezing  whipple disease  \\\n",
              "0         NaN     0.0  0.0  0.0  0.0  ...       0.0              0.0   \n",
              "1         NaN     0.0  0.0  0.0  0.0  ...       0.0              0.0   \n",
              "2         NaN     0.0  0.0  0.0  0.0  ...       0.0              0.0   \n",
              "3  2084P0800X     1.0  0.0  0.0  0.0  ...       0.0              0.0   \n",
              "4         NaN     0.0  0.0  0.0  0.0  ...       0.0              0.0   \n",
              "\n",
              "   whole genome sequencing  whooping cough  wound infection  yaws  \\\n",
              "0                      0.0             0.0              0.0   0.0   \n",
              "1                      0.0             0.0              0.0   0.0   \n",
              "2                      0.0             0.0              0.0   0.0   \n",
              "3                      0.0             0.0              0.0   0.0   \n",
              "4                      0.0             0.0              0.0   0.0   \n",
              "\n",
              "   yellow fever  zoonoses  zostavax  zoster sine herpete  \n",
              "0           0.0       0.0       0.0                  0.0  \n",
              "1           0.0       0.0       0.0                  0.0  \n",
              "2           0.0       0.0       0.0                  0.0  \n",
              "3           0.0       0.0       0.0                  0.0  \n",
              "4           0.0       0.0       0.0                  0.0  \n",
              "\n",
              "[5 rows x 1469 columns]"
            ],
            "text/html": [
              "\n",
              "  <div id=\"df-2b388bcb-ac2c-4a26-ab93-02abeb8cdf84\">\n",
              "    <div class=\"colab-df-container\">\n",
              "      <div>\n",
              "<style scoped>\n",
              "    .dataframe tbody tr th:only-of-type {\n",
              "        vertical-align: middle;\n",
              "    }\n",
              "\n",
              "    .dataframe tbody tr th {\n",
              "        vertical-align: top;\n",
              "    }\n",
              "\n",
              "    .dataframe thead th {\n",
              "        text-align: right;\n",
              "    }\n",
              "</style>\n",
              "<table border=\"1\" class=\"dataframe\">\n",
              "  <thead>\n",
              "    <tr style=\"text-align: right;\">\n",
              "      <th></th>\n",
              "      <th>ID</th>\n",
              "      <th>DEVICETYPE</th>\n",
              "      <th>PLATFORM_ID</th>\n",
              "      <th>USERZIPCODE</th>\n",
              "      <th>PLATFORMTYPE</th>\n",
              "      <th>TAXONOMY</th>\n",
              "      <th>IS_HCP</th>\n",
              "      <th>0</th>\n",
              "      <th>1</th>\n",
              "      <th>2</th>\n",
              "      <th>...</th>\n",
              "      <th>wheezing</th>\n",
              "      <th>whipple disease</th>\n",
              "      <th>whole genome sequencing</th>\n",
              "      <th>whooping cough</th>\n",
              "      <th>wound infection</th>\n",
              "      <th>yaws</th>\n",
              "      <th>yellow fever</th>\n",
              "      <th>zoonoses</th>\n",
              "      <th>zostavax</th>\n",
              "      <th>zoster sine herpete</th>\n",
              "    </tr>\n",
              "  </thead>\n",
              "  <tbody>\n",
              "    <tr>\n",
              "      <th>0</th>\n",
              "      <td>1001</td>\n",
              "      <td>Desktop</td>\n",
              "      <td>2</td>\n",
              "      <td>97206.0</td>\n",
              "      <td>Online Medical Journal</td>\n",
              "      <td>NaN</td>\n",
              "      <td>0.0</td>\n",
              "      <td>0.0</td>\n",
              "      <td>0.0</td>\n",
              "      <td>0.0</td>\n",
              "      <td>...</td>\n",
              "      <td>0.0</td>\n",
              "      <td>0.0</td>\n",
              "      <td>0.0</td>\n",
              "      <td>0.0</td>\n",
              "      <td>0.0</td>\n",
              "      <td>0.0</td>\n",
              "      <td>0.0</td>\n",
              "      <td>0.0</td>\n",
              "      <td>0.0</td>\n",
              "      <td>0.0</td>\n",
              "    </tr>\n",
              "    <tr>\n",
              "      <th>1</th>\n",
              "      <td>1002</td>\n",
              "      <td>Desktop</td>\n",
              "      <td>2</td>\n",
              "      <td>22202.0</td>\n",
              "      <td>Online Medical Journal</td>\n",
              "      <td>NaN</td>\n",
              "      <td>0.0</td>\n",
              "      <td>0.0</td>\n",
              "      <td>0.0</td>\n",
              "      <td>0.0</td>\n",
              "      <td>...</td>\n",
              "      <td>0.0</td>\n",
              "      <td>0.0</td>\n",
              "      <td>0.0</td>\n",
              "      <td>0.0</td>\n",
              "      <td>0.0</td>\n",
              "      <td>0.0</td>\n",
              "      <td>0.0</td>\n",
              "      <td>0.0</td>\n",
              "      <td>0.0</td>\n",
              "      <td>0.0</td>\n",
              "    </tr>\n",
              "    <tr>\n",
              "      <th>2</th>\n",
              "      <td>1003</td>\n",
              "      <td>Desktop</td>\n",
              "      <td>2</td>\n",
              "      <td>83654.0</td>\n",
              "      <td>Online Medical Journal</td>\n",
              "      <td>NaN</td>\n",
              "      <td>0.0</td>\n",
              "      <td>0.0</td>\n",
              "      <td>0.0</td>\n",
              "      <td>0.0</td>\n",
              "      <td>...</td>\n",
              "      <td>0.0</td>\n",
              "      <td>0.0</td>\n",
              "      <td>0.0</td>\n",
              "      <td>0.0</td>\n",
              "      <td>0.0</td>\n",
              "      <td>0.0</td>\n",
              "      <td>0.0</td>\n",
              "      <td>0.0</td>\n",
              "      <td>0.0</td>\n",
              "      <td>0.0</td>\n",
              "    </tr>\n",
              "    <tr>\n",
              "      <th>3</th>\n",
              "      <td>1004</td>\n",
              "      <td>Desktop</td>\n",
              "      <td>3</td>\n",
              "      <td>229114624.0</td>\n",
              "      <td>Online Medical Journal</td>\n",
              "      <td>2084P0800X</td>\n",
              "      <td>1.0</td>\n",
              "      <td>0.0</td>\n",
              "      <td>0.0</td>\n",
              "      <td>0.0</td>\n",
              "      <td>...</td>\n",
              "      <td>0.0</td>\n",
              "      <td>0.0</td>\n",
              "      <td>0.0</td>\n",
              "      <td>0.0</td>\n",
              "      <td>0.0</td>\n",
              "      <td>0.0</td>\n",
              "      <td>0.0</td>\n",
              "      <td>0.0</td>\n",
              "      <td>0.0</td>\n",
              "      <td>0.0</td>\n",
              "    </tr>\n",
              "    <tr>\n",
              "      <th>4</th>\n",
              "      <td>1005</td>\n",
              "      <td>Mobile</td>\n",
              "      <td>7</td>\n",
              "      <td>77008.0</td>\n",
              "      <td>Online Medical Journal</td>\n",
              "      <td>NaN</td>\n",
              "      <td>0.0</td>\n",
              "      <td>0.0</td>\n",
              "      <td>0.0</td>\n",
              "      <td>0.0</td>\n",
              "      <td>...</td>\n",
              "      <td>0.0</td>\n",
              "      <td>0.0</td>\n",
              "      <td>0.0</td>\n",
              "      <td>0.0</td>\n",
              "      <td>0.0</td>\n",
              "      <td>0.0</td>\n",
              "      <td>0.0</td>\n",
              "      <td>0.0</td>\n",
              "      <td>0.0</td>\n",
              "      <td>0.0</td>\n",
              "    </tr>\n",
              "  </tbody>\n",
              "</table>\n",
              "<p>5 rows × 1469 columns</p>\n",
              "</div>\n",
              "      <button class=\"colab-df-convert\" onclick=\"convertToInteractive('df-2b388bcb-ac2c-4a26-ab93-02abeb8cdf84')\"\n",
              "              title=\"Convert this dataframe to an interactive table.\"\n",
              "              style=\"display:none;\">\n",
              "        \n",
              "  <svg xmlns=\"http://www.w3.org/2000/svg\" height=\"24px\"viewBox=\"0 0 24 24\"\n",
              "       width=\"24px\">\n",
              "    <path d=\"M0 0h24v24H0V0z\" fill=\"none\"/>\n",
              "    <path d=\"M18.56 5.44l.94 2.06.94-2.06 2.06-.94-2.06-.94-.94-2.06-.94 2.06-2.06.94zm-11 1L8.5 8.5l.94-2.06 2.06-.94-2.06-.94L8.5 2.5l-.94 2.06-2.06.94zm10 10l.94 2.06.94-2.06 2.06-.94-2.06-.94-.94-2.06-.94 2.06-2.06.94z\"/><path d=\"M17.41 7.96l-1.37-1.37c-.4-.4-.92-.59-1.43-.59-.52 0-1.04.2-1.43.59L10.3 9.45l-7.72 7.72c-.78.78-.78 2.05 0 2.83L4 21.41c.39.39.9.59 1.41.59.51 0 1.02-.2 1.41-.59l7.78-7.78 2.81-2.81c.8-.78.8-2.07 0-2.86zM5.41 20L4 18.59l7.72-7.72 1.47 1.35L5.41 20z\"/>\n",
              "  </svg>\n",
              "      </button>\n",
              "      \n",
              "  <style>\n",
              "    .colab-df-container {\n",
              "      display:flex;\n",
              "      flex-wrap:wrap;\n",
              "      gap: 12px;\n",
              "    }\n",
              "\n",
              "    .colab-df-convert {\n",
              "      background-color: #E8F0FE;\n",
              "      border: none;\n",
              "      border-radius: 50%;\n",
              "      cursor: pointer;\n",
              "      display: none;\n",
              "      fill: #1967D2;\n",
              "      height: 32px;\n",
              "      padding: 0 0 0 0;\n",
              "      width: 32px;\n",
              "    }\n",
              "\n",
              "    .colab-df-convert:hover {\n",
              "      background-color: #E2EBFA;\n",
              "      box-shadow: 0px 1px 2px rgba(60, 64, 67, 0.3), 0px 1px 3px 1px rgba(60, 64, 67, 0.15);\n",
              "      fill: #174EA6;\n",
              "    }\n",
              "\n",
              "    [theme=dark] .colab-df-convert {\n",
              "      background-color: #3B4455;\n",
              "      fill: #D2E3FC;\n",
              "    }\n",
              "\n",
              "    [theme=dark] .colab-df-convert:hover {\n",
              "      background-color: #434B5C;\n",
              "      box-shadow: 0px 1px 3px 1px rgba(0, 0, 0, 0.15);\n",
              "      filter: drop-shadow(0px 1px 2px rgba(0, 0, 0, 0.3));\n",
              "      fill: #FFFFFF;\n",
              "    }\n",
              "  </style>\n",
              "\n",
              "      <script>\n",
              "        const buttonEl =\n",
              "          document.querySelector('#df-2b388bcb-ac2c-4a26-ab93-02abeb8cdf84 button.colab-df-convert');\n",
              "        buttonEl.style.display =\n",
              "          google.colab.kernel.accessAllowed ? 'block' : 'none';\n",
              "\n",
              "        async function convertToInteractive(key) {\n",
              "          const element = document.querySelector('#df-2b388bcb-ac2c-4a26-ab93-02abeb8cdf84');\n",
              "          const dataTable =\n",
              "            await google.colab.kernel.invokeFunction('convertToInteractive',\n",
              "                                                     [key], {});\n",
              "          if (!dataTable) return;\n",
              "\n",
              "          const docLinkHtml = 'Like what you see? Visit the ' +\n",
              "            '<a target=\"_blank\" href=https://colab.research.google.com/notebooks/data_table.ipynb>data table notebook</a>'\n",
              "            + ' to learn more about interactive tables.';\n",
              "          element.innerHTML = '';\n",
              "          dataTable['output_type'] = 'display_data';\n",
              "          await google.colab.output.renderOutput(dataTable, element);\n",
              "          const docLink = document.createElement('div');\n",
              "          docLink.innerHTML = docLinkHtml;\n",
              "          element.appendChild(docLink);\n",
              "        }\n",
              "      </script>\n",
              "    </div>\n",
              "  </div>\n",
              "  "
            ]
          },
          "metadata": {},
          "execution_count": 129
        }
      ]
    },
    {
      "cell_type": "markdown",
      "source": [
        "Performing One Hot Encoding over certian columns"
      ],
      "metadata": {
        "id": "Kd3TUSq7yh5P"
      },
      "id": "Kd3TUSq7yh5P"
    },
    {
      "cell_type": "code",
      "source": [
        "df = ohe(df,\"DEVICETYPE\")\n",
        "df = ohe(df,\"PLATFORMTYPE\")\n",
        "df.head()"
      ],
      "metadata": {
        "colab": {
          "base_uri": "https://localhost:8080/",
          "height": 334
        },
        "id": "yiJoB0DsbQco",
        "outputId": "c9dfe0d0-2ffb-47b1-dc10-b4061b866b9d"
      },
      "id": "yiJoB0DsbQco",
      "execution_count": 130,
      "outputs": [
        {
          "output_type": "execute_result",
          "data": {
            "text/plain": [
              "     ID  PLATFORM_ID  USERZIPCODE    TAXONOMY  IS_HCP    0    1    2    3  \\\n",
              "0  1001            2      97206.0         NaN     0.0  0.0  0.0  0.0  0.0   \n",
              "1  1002            2      22202.0         NaN     0.0  0.0  0.0  0.0  0.0   \n",
              "2  1003            2      83654.0         NaN     0.0  0.0  0.0  0.0  0.0   \n",
              "3  1004            3  229114624.0  2084P0800X     1.0  0.0  0.0  0.0  0.0   \n",
              "4  1005            7      77008.0         NaN     0.0  0.0  0.0  0.0  0.0   \n",
              "\n",
              "     4  ...  zoster sine herpete  Desktop  Mobile  Tablet  Unknown  \\\n",
              "0  0.0  ...                  0.0      1.0     0.0     0.0      0.0   \n",
              "1  0.0  ...                  0.0      1.0     0.0     0.0      0.0   \n",
              "2  0.0  ...                  0.0      1.0     0.0     0.0      0.0   \n",
              "3  0.0  ...                  0.0      1.0     0.0     0.0      0.0   \n",
              "4  0.0  ...                  0.0      0.0     1.0     0.0      0.0   \n",
              "\n",
              "   Electronic Health Record  Medical News Platform  Online Learning Portal  \\\n",
              "0                       0.0                    0.0                     0.0   \n",
              "1                       0.0                    0.0                     0.0   \n",
              "2                       0.0                    0.0                     0.0   \n",
              "3                       0.0                    0.0                     0.0   \n",
              "4                       0.0                    0.0                     0.0   \n",
              "\n",
              "   Online Medical Journal  Tele-medicine Platform  \n",
              "0                     1.0                     0.0  \n",
              "1                     1.0                     0.0  \n",
              "2                     1.0                     0.0  \n",
              "3                     1.0                     0.0  \n",
              "4                     1.0                     0.0  \n",
              "\n",
              "[5 rows x 1476 columns]"
            ],
            "text/html": [
              "\n",
              "  <div id=\"df-7b81ea27-595c-4f2c-9810-2facf0026654\">\n",
              "    <div class=\"colab-df-container\">\n",
              "      <div>\n",
              "<style scoped>\n",
              "    .dataframe tbody tr th:only-of-type {\n",
              "        vertical-align: middle;\n",
              "    }\n",
              "\n",
              "    .dataframe tbody tr th {\n",
              "        vertical-align: top;\n",
              "    }\n",
              "\n",
              "    .dataframe thead th {\n",
              "        text-align: right;\n",
              "    }\n",
              "</style>\n",
              "<table border=\"1\" class=\"dataframe\">\n",
              "  <thead>\n",
              "    <tr style=\"text-align: right;\">\n",
              "      <th></th>\n",
              "      <th>ID</th>\n",
              "      <th>PLATFORM_ID</th>\n",
              "      <th>USERZIPCODE</th>\n",
              "      <th>TAXONOMY</th>\n",
              "      <th>IS_HCP</th>\n",
              "      <th>0</th>\n",
              "      <th>1</th>\n",
              "      <th>2</th>\n",
              "      <th>3</th>\n",
              "      <th>4</th>\n",
              "      <th>...</th>\n",
              "      <th>zoster sine herpete</th>\n",
              "      <th>Desktop</th>\n",
              "      <th>Mobile</th>\n",
              "      <th>Tablet</th>\n",
              "      <th>Unknown</th>\n",
              "      <th>Electronic Health Record</th>\n",
              "      <th>Medical News Platform</th>\n",
              "      <th>Online Learning Portal</th>\n",
              "      <th>Online Medical Journal</th>\n",
              "      <th>Tele-medicine Platform</th>\n",
              "    </tr>\n",
              "  </thead>\n",
              "  <tbody>\n",
              "    <tr>\n",
              "      <th>0</th>\n",
              "      <td>1001</td>\n",
              "      <td>2</td>\n",
              "      <td>97206.0</td>\n",
              "      <td>NaN</td>\n",
              "      <td>0.0</td>\n",
              "      <td>0.0</td>\n",
              "      <td>0.0</td>\n",
              "      <td>0.0</td>\n",
              "      <td>0.0</td>\n",
              "      <td>0.0</td>\n",
              "      <td>...</td>\n",
              "      <td>0.0</td>\n",
              "      <td>1.0</td>\n",
              "      <td>0.0</td>\n",
              "      <td>0.0</td>\n",
              "      <td>0.0</td>\n",
              "      <td>0.0</td>\n",
              "      <td>0.0</td>\n",
              "      <td>0.0</td>\n",
              "      <td>1.0</td>\n",
              "      <td>0.0</td>\n",
              "    </tr>\n",
              "    <tr>\n",
              "      <th>1</th>\n",
              "      <td>1002</td>\n",
              "      <td>2</td>\n",
              "      <td>22202.0</td>\n",
              "      <td>NaN</td>\n",
              "      <td>0.0</td>\n",
              "      <td>0.0</td>\n",
              "      <td>0.0</td>\n",
              "      <td>0.0</td>\n",
              "      <td>0.0</td>\n",
              "      <td>0.0</td>\n",
              "      <td>...</td>\n",
              "      <td>0.0</td>\n",
              "      <td>1.0</td>\n",
              "      <td>0.0</td>\n",
              "      <td>0.0</td>\n",
              "      <td>0.0</td>\n",
              "      <td>0.0</td>\n",
              "      <td>0.0</td>\n",
              "      <td>0.0</td>\n",
              "      <td>1.0</td>\n",
              "      <td>0.0</td>\n",
              "    </tr>\n",
              "    <tr>\n",
              "      <th>2</th>\n",
              "      <td>1003</td>\n",
              "      <td>2</td>\n",
              "      <td>83654.0</td>\n",
              "      <td>NaN</td>\n",
              "      <td>0.0</td>\n",
              "      <td>0.0</td>\n",
              "      <td>0.0</td>\n",
              "      <td>0.0</td>\n",
              "      <td>0.0</td>\n",
              "      <td>0.0</td>\n",
              "      <td>...</td>\n",
              "      <td>0.0</td>\n",
              "      <td>1.0</td>\n",
              "      <td>0.0</td>\n",
              "      <td>0.0</td>\n",
              "      <td>0.0</td>\n",
              "      <td>0.0</td>\n",
              "      <td>0.0</td>\n",
              "      <td>0.0</td>\n",
              "      <td>1.0</td>\n",
              "      <td>0.0</td>\n",
              "    </tr>\n",
              "    <tr>\n",
              "      <th>3</th>\n",
              "      <td>1004</td>\n",
              "      <td>3</td>\n",
              "      <td>229114624.0</td>\n",
              "      <td>2084P0800X</td>\n",
              "      <td>1.0</td>\n",
              "      <td>0.0</td>\n",
              "      <td>0.0</td>\n",
              "      <td>0.0</td>\n",
              "      <td>0.0</td>\n",
              "      <td>0.0</td>\n",
              "      <td>...</td>\n",
              "      <td>0.0</td>\n",
              "      <td>1.0</td>\n",
              "      <td>0.0</td>\n",
              "      <td>0.0</td>\n",
              "      <td>0.0</td>\n",
              "      <td>0.0</td>\n",
              "      <td>0.0</td>\n",
              "      <td>0.0</td>\n",
              "      <td>1.0</td>\n",
              "      <td>0.0</td>\n",
              "    </tr>\n",
              "    <tr>\n",
              "      <th>4</th>\n",
              "      <td>1005</td>\n",
              "      <td>7</td>\n",
              "      <td>77008.0</td>\n",
              "      <td>NaN</td>\n",
              "      <td>0.0</td>\n",
              "      <td>0.0</td>\n",
              "      <td>0.0</td>\n",
              "      <td>0.0</td>\n",
              "      <td>0.0</td>\n",
              "      <td>0.0</td>\n",
              "      <td>...</td>\n",
              "      <td>0.0</td>\n",
              "      <td>0.0</td>\n",
              "      <td>1.0</td>\n",
              "      <td>0.0</td>\n",
              "      <td>0.0</td>\n",
              "      <td>0.0</td>\n",
              "      <td>0.0</td>\n",
              "      <td>0.0</td>\n",
              "      <td>1.0</td>\n",
              "      <td>0.0</td>\n",
              "    </tr>\n",
              "  </tbody>\n",
              "</table>\n",
              "<p>5 rows × 1476 columns</p>\n",
              "</div>\n",
              "      <button class=\"colab-df-convert\" onclick=\"convertToInteractive('df-7b81ea27-595c-4f2c-9810-2facf0026654')\"\n",
              "              title=\"Convert this dataframe to an interactive table.\"\n",
              "              style=\"display:none;\">\n",
              "        \n",
              "  <svg xmlns=\"http://www.w3.org/2000/svg\" height=\"24px\"viewBox=\"0 0 24 24\"\n",
              "       width=\"24px\">\n",
              "    <path d=\"M0 0h24v24H0V0z\" fill=\"none\"/>\n",
              "    <path d=\"M18.56 5.44l.94 2.06.94-2.06 2.06-.94-2.06-.94-.94-2.06-.94 2.06-2.06.94zm-11 1L8.5 8.5l.94-2.06 2.06-.94-2.06-.94L8.5 2.5l-.94 2.06-2.06.94zm10 10l.94 2.06.94-2.06 2.06-.94-2.06-.94-.94-2.06-.94 2.06-2.06.94z\"/><path d=\"M17.41 7.96l-1.37-1.37c-.4-.4-.92-.59-1.43-.59-.52 0-1.04.2-1.43.59L10.3 9.45l-7.72 7.72c-.78.78-.78 2.05 0 2.83L4 21.41c.39.39.9.59 1.41.59.51 0 1.02-.2 1.41-.59l7.78-7.78 2.81-2.81c.8-.78.8-2.07 0-2.86zM5.41 20L4 18.59l7.72-7.72 1.47 1.35L5.41 20z\"/>\n",
              "  </svg>\n",
              "      </button>\n",
              "      \n",
              "  <style>\n",
              "    .colab-df-container {\n",
              "      display:flex;\n",
              "      flex-wrap:wrap;\n",
              "      gap: 12px;\n",
              "    }\n",
              "\n",
              "    .colab-df-convert {\n",
              "      background-color: #E8F0FE;\n",
              "      border: none;\n",
              "      border-radius: 50%;\n",
              "      cursor: pointer;\n",
              "      display: none;\n",
              "      fill: #1967D2;\n",
              "      height: 32px;\n",
              "      padding: 0 0 0 0;\n",
              "      width: 32px;\n",
              "    }\n",
              "\n",
              "    .colab-df-convert:hover {\n",
              "      background-color: #E2EBFA;\n",
              "      box-shadow: 0px 1px 2px rgba(60, 64, 67, 0.3), 0px 1px 3px 1px rgba(60, 64, 67, 0.15);\n",
              "      fill: #174EA6;\n",
              "    }\n",
              "\n",
              "    [theme=dark] .colab-df-convert {\n",
              "      background-color: #3B4455;\n",
              "      fill: #D2E3FC;\n",
              "    }\n",
              "\n",
              "    [theme=dark] .colab-df-convert:hover {\n",
              "      background-color: #434B5C;\n",
              "      box-shadow: 0px 1px 3px 1px rgba(0, 0, 0, 0.15);\n",
              "      filter: drop-shadow(0px 1px 2px rgba(0, 0, 0, 0.3));\n",
              "      fill: #FFFFFF;\n",
              "    }\n",
              "  </style>\n",
              "\n",
              "      <script>\n",
              "        const buttonEl =\n",
              "          document.querySelector('#df-7b81ea27-595c-4f2c-9810-2facf0026654 button.colab-df-convert');\n",
              "        buttonEl.style.display =\n",
              "          google.colab.kernel.accessAllowed ? 'block' : 'none';\n",
              "\n",
              "        async function convertToInteractive(key) {\n",
              "          const element = document.querySelector('#df-7b81ea27-595c-4f2c-9810-2facf0026654');\n",
              "          const dataTable =\n",
              "            await google.colab.kernel.invokeFunction('convertToInteractive',\n",
              "                                                     [key], {});\n",
              "          if (!dataTable) return;\n",
              "\n",
              "          const docLinkHtml = 'Like what you see? Visit the ' +\n",
              "            '<a target=\"_blank\" href=https://colab.research.google.com/notebooks/data_table.ipynb>data table notebook</a>'\n",
              "            + ' to learn more about interactive tables.';\n",
              "          element.innerHTML = '';\n",
              "          dataTable['output_type'] = 'display_data';\n",
              "          await google.colab.output.renderOutput(dataTable, element);\n",
              "          const docLink = document.createElement('div');\n",
              "          docLink.innerHTML = docLinkHtml;\n",
              "          element.appendChild(docLink);\n",
              "        }\n",
              "      </script>\n",
              "    </div>\n",
              "  </div>\n",
              "  "
            ]
          },
          "metadata": {},
          "execution_count": 130
        }
      ]
    },
    {
      "cell_type": "code",
      "source": [
        "df_hcp = df.drop(['TAXONOMY'],axis = 1)\n",
        "df_taxonomy = df.drop(['IS_HCP'],axis = 1)"
      ],
      "metadata": {
        "id": "z0eNrs4dvtyz"
      },
      "id": "z0eNrs4dvtyz",
      "execution_count": 131,
      "outputs": []
    },
    {
      "cell_type": "code",
      "source": [
        "print(\"na in df_hcp:\",df_hcp.isnull().sum(),\"na in df_taxonomy:\",df_taxonomy.isnull().sum())"
      ],
      "metadata": {
        "colab": {
          "base_uri": "https://localhost:8080/"
        },
        "id": "fpKIH4s4v6pN",
        "outputId": "af6ae0ca-d61e-4fbd-978a-da25e0fb5de6"
      },
      "id": "fpKIH4s4v6pN",
      "execution_count": 134,
      "outputs": [
        {
          "output_type": "stream",
          "name": "stdout",
          "text": [
            "na in df_hcp: ID                             0\n",
            "PLATFORM_ID                    0\n",
            "USERZIPCODE                 4592\n",
            "IS_HCP                         1\n",
            "0                              0\n",
            "                            ... \n",
            "Electronic Health Record       0\n",
            "Medical News Platform          0\n",
            "Online Learning Portal         0\n",
            "Online Medical Journal         0\n",
            "Tele-medicine Platform         0\n",
            "Length: 1475, dtype: int64 na in df_taxonomy: ID                              0\n",
            "PLATFORM_ID                     0\n",
            "USERZIPCODE                  4592\n",
            "TAXONOMY                    81624\n",
            "0                               0\n",
            "                            ...  \n",
            "Electronic Health Record        0\n",
            "Medical News Platform           0\n",
            "Online Learning Portal          0\n",
            "Online Medical Journal          0\n",
            "Tele-medicine Platform          0\n",
            "Length: 1475, dtype: int64\n"
          ]
        }
      ]
    },
    {
      "cell_type": "markdown",
      "source": [
        "Taking care of null values"
      ],
      "metadata": {
        "id": "-jaDhmAbyqwq"
      },
      "id": "-jaDhmAbyqwq"
    },
    {
      "cell_type": "code",
      "source": [
        "df_hcp.dropna(axis = 0,how = 'any',inplace = True)\n",
        "df_taxonomy.dropna(axis = 0,how = 'any',inplace = True)\n",
        "print(print(\"na in df_hcp:\",df_hcp.isnull().sum(),\"na in df_taxonomy:\",df_taxonomy.isnull().sum()))"
      ],
      "metadata": {
        "colab": {
          "base_uri": "https://localhost:8080/"
        },
        "id": "bM8l4PGbwTXf",
        "outputId": "8557c52e-b00d-4cf1-d0e4-dd8603da018a"
      },
      "id": "bM8l4PGbwTXf",
      "execution_count": 135,
      "outputs": [
        {
          "output_type": "stream",
          "name": "stdout",
          "text": [
            "na in df_hcp: ID                          0\n",
            "PLATFORM_ID                 0\n",
            "USERZIPCODE                 0\n",
            "IS_HCP                      0\n",
            "0                           0\n",
            "                           ..\n",
            "Electronic Health Record    0\n",
            "Medical News Platform       0\n",
            "Online Learning Portal      0\n",
            "Online Medical Journal      0\n",
            "Tele-medicine Platform      0\n",
            "Length: 1475, dtype: int64 na in df_taxonomy: ID                          0\n",
            "PLATFORM_ID                 0\n",
            "USERZIPCODE                 0\n",
            "TAXONOMY                    0\n",
            "0                           0\n",
            "                           ..\n",
            "Electronic Health Record    0\n",
            "Medical News Platform       0\n",
            "Online Learning Portal      0\n",
            "Online Medical Journal      0\n",
            "Tele-medicine Platform      0\n",
            "Length: 1475, dtype: int64\n",
            "None\n"
          ]
        }
      ]
    },
    {
      "cell_type": "code",
      "source": [
        "print(\"df_hcp_shape: \",df_hcp.shape,\" df_taxonomy_shape:\",df_taxonomy.shape)"
      ],
      "metadata": {
        "colab": {
          "base_uri": "https://localhost:8080/"
        },
        "id": "BNtmxPFew3KB",
        "outputId": "48998161-6edf-4172-cfe1-782bc1097219"
      },
      "id": "BNtmxPFew3KB",
      "execution_count": 136,
      "outputs": [
        {
          "output_type": "stream",
          "name": "stdout",
          "text": [
            "df_hcp_shape:  (109344, 1475)  df_taxonomy_shape: (32313, 1475)\n"
          ]
        }
      ]
    },
    {
      "cell_type": "markdown",
      "source": [
        "df_hcp should be used to predict hcp classification problem and df_taxonomy should be used to train taxonomy prediction/classification"
      ],
      "metadata": {
        "id": "qZp7FuZqxe98"
      },
      "id": "qZp7FuZqxe98"
    }
  ],
  "metadata": {
    "colab": {
      "provenance": [],
      "include_colab_link": true
    },
    "kernelspec": {
      "display_name": "Python 3 (ipykernel)",
      "language": "python",
      "name": "python3"
    },
    "language_info": {
      "codemirror_mode": {
        "name": "ipython",
        "version": 3
      },
      "file_extension": ".py",
      "mimetype": "text/x-python",
      "name": "python",
      "nbconvert_exporter": "python",
      "pygments_lexer": "ipython3",
      "version": "3.11.1"
    }
  },
  "nbformat": 4,
  "nbformat_minor": 5
}