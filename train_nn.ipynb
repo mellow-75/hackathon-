{
  "cells": [
    {
      "cell_type": "markdown",
      "metadata": {
        "id": "view-in-github",
        "colab_type": "text"
      },
      "source": [
        "<a href=\"https://colab.research.google.com/github/mellow-75/hackathon-/blob/main/train_nn.ipynb\" target=\"_parent\"><img src=\"https://colab.research.google.com/assets/colab-badge.svg\" alt=\"Open In Colab\"/></a>"
      ]
    },
    {
      "cell_type": "code",
      "execution_count": null,
      "metadata": {
        "colab": {
          "base_uri": "https://localhost:8080/"
        },
        "id": "F3Y1noPyWTnb",
        "outputId": "cfb3a24a-dd03-4e8b-d8c2-4a9f5d4637ef"
      },
      "outputs": [
        {
          "name": "stdout",
          "output_type": "stream",
          "text": [
            "Drive already mounted at /content/drive; to attempt to forcibly remount, call drive.mount(\"/content/drive\", force_remount=True).\n"
          ]
        }
      ],
      "source": [
        "from google.colab import drive\n",
        "drive.mount('/content/drive')"
      ],
      "id": "F3Y1noPyWTnb"
    },
    {
      "cell_type": "code",
      "execution_count": 59,
      "metadata": {
        "id": "95377922"
      },
      "outputs": [],
      "source": [
        "import pandas as pd\n",
        "import numpy as np\n",
        "import matplotlib.pyplot as plt\n",
        "import sklearn.ensemble\n",
        "from sklearn.feature_extraction.text import TfidfVectorizer\n",
        "from sklearn.preprocessing import OneHotEncoder\n",
        "from sklearn.model_selection import train_test_split\n",
        "from sklearn.preprocessing import StandardScaler\n",
        "from sklearn.ensemble import RandomForestClassifier\n",
        "from sklearn.neural_network import MLPClassifier\n",
        "from sklearn.svm import SVC\n",
        "from sklearn.metrics import accuracy_score, precision_score, recall_score ,f1_score,confusion_matrix\n",
        "import tensorflow as tf\n",
        "from tensorflow.keras.layers import Dense,Flatten,Dropout,Input\n",
        "from tensorflow.keras import Model"
      ],
      "id": "95377922"
    },
    {
      "cell_type": "code",
      "execution_count": null,
      "metadata": {
        "id": "fb839c51"
      },
      "outputs": [],
      "source": [
        "df=pd.read_csv(\"/content/drive/MyDrive/hackathon/Doceree-HCP_Train.csv\", encoding = \"latin=1\")"
      ],
      "id": "fb839c51"
    },
    {
      "cell_type": "code",
      "execution_count": null,
      "metadata": {
        "colab": {
          "base_uri": "https://localhost:8080/",
          "height": 634
        },
        "id": "e68d3579",
        "outputId": "d2abcc8a-66ff-4603-e430-135c3d70a751",
        "scrolled": true
      },
      "outputs": [
        {
          "data": {
            "text/html": [
              "\n",
              "  <div id=\"df-1f03ff54-bfc3-4a3d-8770-e2968ffc3585\">\n",
              "    <div class=\"colab-df-container\">\n",
              "      <div>\n",
              "<style scoped>\n",
              "    .dataframe tbody tr th:only-of-type {\n",
              "        vertical-align: middle;\n",
              "    }\n",
              "\n",
              "    .dataframe tbody tr th {\n",
              "        vertical-align: top;\n",
              "    }\n",
              "\n",
              "    .dataframe thead th {\n",
              "        text-align: right;\n",
              "    }\n",
              "</style>\n",
              "<table border=\"1\" class=\"dataframe\">\n",
              "  <thead>\n",
              "    <tr style=\"text-align: right;\">\n",
              "      <th></th>\n",
              "      <th>ID</th>\n",
              "      <th>DEVICETYPE</th>\n",
              "      <th>PLATFORM_ID</th>\n",
              "      <th>BIDREQUESTIP</th>\n",
              "      <th>USERPLATFORMUID</th>\n",
              "      <th>USERCITY</th>\n",
              "      <th>USERZIPCODE</th>\n",
              "      <th>USERAGENT</th>\n",
              "      <th>PLATFORMTYPE</th>\n",
              "      <th>CHANNELTYPE</th>\n",
              "      <th>URL</th>\n",
              "      <th>KEYWORDS</th>\n",
              "      <th>TAXONOMY</th>\n",
              "      <th>IS_HCP</th>\n",
              "    </tr>\n",
              "  </thead>\n",
              "  <tbody>\n",
              "    <tr>\n",
              "      <th>0</th>\n",
              "      <td>1001</td>\n",
              "      <td>Desktop</td>\n",
              "      <td>2</td>\n",
              "      <td>170.173.0.22</td>\n",
              "      <td>6974dcaa-f932-480e-9fb5-c52e20e1393a</td>\n",
              "      <td>Portland</td>\n",
              "      <td>97206.0</td>\n",
              "      <td>Mozilla/5.0 (Windows NT 10.0; Win64; x64) Appl...</td>\n",
              "      <td>Online Medical Journal</td>\n",
              "      <td>Website</td>\n",
              "      <td>https://www.cancertherapyadvisor.com/home/canc...</td>\n",
              "      <td>General|Endocrine|False|Medicine|Surgery|Urolo...</td>\n",
              "      <td>NaN</td>\n",
              "      <td>0.0</td>\n",
              "    </tr>\n",
              "    <tr>\n",
              "      <th>1</th>\n",
              "      <td>1002</td>\n",
              "      <td>Desktop</td>\n",
              "      <td>2</td>\n",
              "      <td>65.216.253.25</td>\n",
              "      <td>c12f3f8f-8fcf-484a-90e1-1ac04db8cdcf</td>\n",
              "      <td>Arlington</td>\n",
              "      <td>22202.0</td>\n",
              "      <td>Mozilla/5.0 (Macintosh; Intel Mac OS X 10_15_7...</td>\n",
              "      <td>Online Medical Journal</td>\n",
              "      <td>Website</td>\n",
              "      <td>https://www.cancertherapyadvisor.com/home/deci...</td>\n",
              "      <td>Bone Marrow|Radiography|Chronic|Oncology|Psych...</td>\n",
              "      <td>NaN</td>\n",
              "      <td>0.0</td>\n",
              "    </tr>\n",
              "    <tr>\n",
              "      <th>2</th>\n",
              "      <td>1003</td>\n",
              "      <td>Desktop</td>\n",
              "      <td>2</td>\n",
              "      <td>66.232.79.22</td>\n",
              "      <td>a698de4b-e200-46dd-b5fb-40402175ae18</td>\n",
              "      <td>New Meadows</td>\n",
              "      <td>83654.0</td>\n",
              "      <td>Mozilla/5.0 (Macintosh; Intel Mac OS X 10_15_7...</td>\n",
              "      <td>Online Medical Journal</td>\n",
              "      <td>Website</td>\n",
              "      <td>https://www.cancertherapyadvisor.com/home/canc...</td>\n",
              "      <td>General|Endocrine|False|Medicine|Surgery|Urolo...</td>\n",
              "      <td>NaN</td>\n",
              "      <td>0.0</td>\n",
              "    </tr>\n",
              "    <tr>\n",
              "      <th>3</th>\n",
              "      <td>1004</td>\n",
              "      <td>Desktop</td>\n",
              "      <td>3</td>\n",
              "      <td>137.54.125.246</td>\n",
              "      <td>45967533-75c8-4fbd-a00c-e6ff20447aaa</td>\n",
              "      <td>NaN</td>\n",
              "      <td>229114624.0</td>\n",
              "      <td>Mozilla/5.0 (Windows NT 10.0; Win64; x64) Appl...</td>\n",
              "      <td>Online Medical Journal</td>\n",
              "      <td>Website</td>\n",
              "      <td>https://globalrph.com/medcalcs/warfarin-mainte...</td>\n",
              "      <td>Dental|Total|Clinical|Pharmacology|Physicians|...</td>\n",
              "      <td>2084P0800X</td>\n",
              "      <td>1.0</td>\n",
              "    </tr>\n",
              "    <tr>\n",
              "      <th>4</th>\n",
              "      <td>1005</td>\n",
              "      <td>Mobile</td>\n",
              "      <td>7</td>\n",
              "      <td>174.202.231.99</td>\n",
              "      <td>a17e25be-532d-4cf5-b916-9308c8c3961f</td>\n",
              "      <td>Houston</td>\n",
              "      <td>77008.0</td>\n",
              "      <td>Mozilla/5.0 (iPhone; CPU iPhone OS 16_1_1 like...</td>\n",
              "      <td>Online Medical Journal</td>\n",
              "      <td>Website</td>\n",
              "      <td>https://www.cureus.com/articles/58184-a-review...</td>\n",
              "      <td>Critical Care|Emergency Medicine|General Pract...</td>\n",
              "      <td>NaN</td>\n",
              "      <td>0.0</td>\n",
              "    </tr>\n",
              "  </tbody>\n",
              "</table>\n",
              "</div>\n",
              "      <button class=\"colab-df-convert\" onclick=\"convertToInteractive('df-1f03ff54-bfc3-4a3d-8770-e2968ffc3585')\"\n",
              "              title=\"Convert this dataframe to an interactive table.\"\n",
              "              style=\"display:none;\">\n",
              "        \n",
              "  <svg xmlns=\"http://www.w3.org/2000/svg\" height=\"24px\"viewBox=\"0 0 24 24\"\n",
              "       width=\"24px\">\n",
              "    <path d=\"M0 0h24v24H0V0z\" fill=\"none\"/>\n",
              "    <path d=\"M18.56 5.44l.94 2.06.94-2.06 2.06-.94-2.06-.94-.94-2.06-.94 2.06-2.06.94zm-11 1L8.5 8.5l.94-2.06 2.06-.94-2.06-.94L8.5 2.5l-.94 2.06-2.06.94zm10 10l.94 2.06.94-2.06 2.06-.94-2.06-.94-.94-2.06-.94 2.06-2.06.94z\"/><path d=\"M17.41 7.96l-1.37-1.37c-.4-.4-.92-.59-1.43-.59-.52 0-1.04.2-1.43.59L10.3 9.45l-7.72 7.72c-.78.78-.78 2.05 0 2.83L4 21.41c.39.39.9.59 1.41.59.51 0 1.02-.2 1.41-.59l7.78-7.78 2.81-2.81c.8-.78.8-2.07 0-2.86zM5.41 20L4 18.59l7.72-7.72 1.47 1.35L5.41 20z\"/>\n",
              "  </svg>\n",
              "      </button>\n",
              "      \n",
              "  <style>\n",
              "    .colab-df-container {\n",
              "      display:flex;\n",
              "      flex-wrap:wrap;\n",
              "      gap: 12px;\n",
              "    }\n",
              "\n",
              "    .colab-df-convert {\n",
              "      background-color: #E8F0FE;\n",
              "      border: none;\n",
              "      border-radius: 50%;\n",
              "      cursor: pointer;\n",
              "      display: none;\n",
              "      fill: #1967D2;\n",
              "      height: 32px;\n",
              "      padding: 0 0 0 0;\n",
              "      width: 32px;\n",
              "    }\n",
              "\n",
              "    .colab-df-convert:hover {\n",
              "      background-color: #E2EBFA;\n",
              "      box-shadow: 0px 1px 2px rgba(60, 64, 67, 0.3), 0px 1px 3px 1px rgba(60, 64, 67, 0.15);\n",
              "      fill: #174EA6;\n",
              "    }\n",
              "\n",
              "    [theme=dark] .colab-df-convert {\n",
              "      background-color: #3B4455;\n",
              "      fill: #D2E3FC;\n",
              "    }\n",
              "\n",
              "    [theme=dark] .colab-df-convert:hover {\n",
              "      background-color: #434B5C;\n",
              "      box-shadow: 0px 1px 3px 1px rgba(0, 0, 0, 0.15);\n",
              "      filter: drop-shadow(0px 1px 2px rgba(0, 0, 0, 0.3));\n",
              "      fill: #FFFFFF;\n",
              "    }\n",
              "  </style>\n",
              "\n",
              "      <script>\n",
              "        const buttonEl =\n",
              "          document.querySelector('#df-1f03ff54-bfc3-4a3d-8770-e2968ffc3585 button.colab-df-convert');\n",
              "        buttonEl.style.display =\n",
              "          google.colab.kernel.accessAllowed ? 'block' : 'none';\n",
              "\n",
              "        async function convertToInteractive(key) {\n",
              "          const element = document.querySelector('#df-1f03ff54-bfc3-4a3d-8770-e2968ffc3585');\n",
              "          const dataTable =\n",
              "            await google.colab.kernel.invokeFunction('convertToInteractive',\n",
              "                                                     [key], {});\n",
              "          if (!dataTable) return;\n",
              "\n",
              "          const docLinkHtml = 'Like what you see? Visit the ' +\n",
              "            '<a target=\"_blank\" href=https://colab.research.google.com/notebooks/data_table.ipynb>data table notebook</a>'\n",
              "            + ' to learn more about interactive tables.';\n",
              "          element.innerHTML = '';\n",
              "          dataTable['output_type'] = 'display_data';\n",
              "          await google.colab.output.renderOutput(dataTable, element);\n",
              "          const docLink = document.createElement('div');\n",
              "          docLink.innerHTML = docLinkHtml;\n",
              "          element.appendChild(docLink);\n",
              "        }\n",
              "      </script>\n",
              "    </div>\n",
              "  </div>\n",
              "  "
            ],
            "text/plain": [
              "     ID DEVICETYPE  PLATFORM_ID    BIDREQUESTIP  \\\n",
              "0  1001    Desktop            2    170.173.0.22   \n",
              "1  1002    Desktop            2   65.216.253.25   \n",
              "2  1003    Desktop            2    66.232.79.22   \n",
              "3  1004    Desktop            3  137.54.125.246   \n",
              "4  1005     Mobile            7  174.202.231.99   \n",
              "\n",
              "                        USERPLATFORMUID     USERCITY  USERZIPCODE  \\\n",
              "0  6974dcaa-f932-480e-9fb5-c52e20e1393a     Portland      97206.0   \n",
              "1  c12f3f8f-8fcf-484a-90e1-1ac04db8cdcf    Arlington      22202.0   \n",
              "2  a698de4b-e200-46dd-b5fb-40402175ae18  New Meadows      83654.0   \n",
              "3  45967533-75c8-4fbd-a00c-e6ff20447aaa          NaN  229114624.0   \n",
              "4  a17e25be-532d-4cf5-b916-9308c8c3961f      Houston      77008.0   \n",
              "\n",
              "                                           USERAGENT            PLATFORMTYPE  \\\n",
              "0  Mozilla/5.0 (Windows NT 10.0; Win64; x64) Appl...  Online Medical Journal   \n",
              "1  Mozilla/5.0 (Macintosh; Intel Mac OS X 10_15_7...  Online Medical Journal   \n",
              "2  Mozilla/5.0 (Macintosh; Intel Mac OS X 10_15_7...  Online Medical Journal   \n",
              "3  Mozilla/5.0 (Windows NT 10.0; Win64; x64) Appl...  Online Medical Journal   \n",
              "4  Mozilla/5.0 (iPhone; CPU iPhone OS 16_1_1 like...  Online Medical Journal   \n",
              "\n",
              "  CHANNELTYPE                                                URL  \\\n",
              "0     Website  https://www.cancertherapyadvisor.com/home/canc...   \n",
              "1     Website  https://www.cancertherapyadvisor.com/home/deci...   \n",
              "2     Website  https://www.cancertherapyadvisor.com/home/canc...   \n",
              "3     Website  https://globalrph.com/medcalcs/warfarin-mainte...   \n",
              "4     Website  https://www.cureus.com/articles/58184-a-review...   \n",
              "\n",
              "                                            KEYWORDS    TAXONOMY  IS_HCP  \n",
              "0  General|Endocrine|False|Medicine|Surgery|Urolo...         NaN     0.0  \n",
              "1  Bone Marrow|Radiography|Chronic|Oncology|Psych...         NaN     0.0  \n",
              "2  General|Endocrine|False|Medicine|Surgery|Urolo...         NaN     0.0  \n",
              "3  Dental|Total|Clinical|Pharmacology|Physicians|...  2084P0800X     1.0  \n",
              "4  Critical Care|Emergency Medicine|General Pract...         NaN     0.0  "
            ]
          },
          "execution_count": 4,
          "metadata": {},
          "output_type": "execute_result"
        }
      ],
      "source": [
        "df.head()"
      ],
      "id": "e68d3579"
    },
    {
      "cell_type": "code",
      "execution_count": null,
      "metadata": {
        "colab": {
          "base_uri": "https://localhost:8080/"
        },
        "id": "a63239ec",
        "outputId": "74589265-bdbc-4f10-b3cf-1be2437ac412"
      },
      "outputs": [
        {
          "name": "stdout",
          "output_type": "stream",
          "text": [
            "no of nan values :  0\n",
            "(113937, 14)\n"
          ]
        }
      ],
      "source": [
        "print(\"no of nan values : \" ,df['ID'].isna().sum())\n",
        "print(df.shape)"
      ],
      "id": "a63239ec"
    },
    {
      "cell_type": "code",
      "execution_count": null,
      "metadata": {
        "colab": {
          "base_uri": "https://localhost:8080/"
        },
        "id": "472a66ec",
        "outputId": "cd06545d-40fc-44be-8c1d-94eaa3c292cb"
      },
      "outputs": [
        {
          "name": "stdout",
          "output_type": "stream",
          "text": [
            "no of nan values :  0\n",
            "Desktop    78423\n",
            "Mobile     32065\n",
            "Tablet      3425\n",
            "Unknown       24\n",
            "Name: DEVICETYPE, dtype: int64\n"
          ]
        }
      ],
      "source": [
        "print(\"no of nan values : \" ,df['DEVICETYPE'].isna().sum())\n",
        "print(df.DEVICETYPE.value_counts())"
      ],
      "id": "472a66ec"
    },
    {
      "cell_type": "code",
      "execution_count": null,
      "metadata": {
        "colab": {
          "base_uri": "https://localhost:8080/"
        },
        "id": "99ff1253",
        "outputId": "8f961efd-57f5-4896-e203-fdfb646af1c6"
      },
      "outputs": [
        {
          "name": "stdout",
          "output_type": "stream",
          "text": [
            "no of nan values :  0\n",
            "2     79151\n",
            "7     20913\n",
            "9      3891\n",
            "5      3230\n",
            "6      2978\n",
            "10     1037\n",
            "4       745\n",
            "14      725\n",
            "12      544\n",
            "3       479\n",
            "8       130\n",
            "15       42\n",
            "1        40\n",
            "13       31\n",
            "16        1\n",
            "Name: PLATFORM_ID, dtype: int64\n"
          ]
        }
      ],
      "source": [
        "print(\"no of nan values : \" ,df['PLATFORM_ID'].isna().sum())\n",
        "print(df.PLATFORM_ID.value_counts())"
      ],
      "id": "99ff1253"
    },
    {
      "cell_type": "code",
      "execution_count": null,
      "metadata": {
        "colab": {
          "base_uri": "https://localhost:8080/"
        },
        "id": "ea4380ee",
        "outputId": "15d5b271-2641-4c76-bd99-f34ddf9ced37"
      },
      "outputs": [
        {
          "name": "stdout",
          "output_type": "stream",
          "text": [
            "no of nan values :  0\n",
            "71.105.120.171     1718\n",
            "142.154.205.202    1143\n",
            "68.132.98.211       866\n",
            "108.175.114.100     727\n",
            "108.175.114.101     707\n",
            "173.66.114.27       675\n",
            "162.17.102.153      629\n",
            "12.218.110.242      604\n",
            "65.216.253.25       581\n",
            "150.148.14.137      517\n",
            "99.160.6.197        505\n",
            "129.176.151.15      456\n",
            "23.125.217.54       426\n",
            "65.112.8.18         419\n",
            "24.102.87.62        373\n",
            "69.92.49.4          350\n",
            "38.240.111.51       346\n",
            "47.189.55.180       327\n",
            "71.87.24.123        303\n",
            "67.203.36.94        259\n",
            "198.184.147.58      257\n",
            "128.146.52.108      253\n",
            "67.203.36.81        244\n",
            "71.66.42.242        237\n",
            "128.146.189.103     231\n",
            "209.126.104.10      218\n",
            "50.26.129.135       211\n",
            "98.110.76.22        209\n",
            "66.249.66.75        207\n",
            "24.45.121.35        202\n",
            "66.249.66.73        200\n",
            "209.126.104.7       199\n",
            "207.38.89.236       183\n",
            "207.38.87.145       182\n",
            "209.126.104.18      176\n",
            "209.126.127.71      169\n",
            "185.228.195.71      169\n",
            "35.129.213.194      169\n",
            "209.126.124.58      168\n",
            "216.24.45.43        168\n",
            "66.97.189.250       165\n",
            "209.126.103.138     165\n",
            "209.126.104.13      164\n",
            "68.175.60.169       161\n",
            "139.52.18.237       159\n",
            "170.212.0.93        157\n",
            "167.201.243.131     153\n",
            "162.119.232.108     151\n",
            "174.66.101.238      149\n",
            "152.3.43.49         149\n",
            "73.7.183.117        143\n",
            "71.232.195.131      142\n",
            "152.16.191.106      140\n",
            "208.74.105.182      140\n",
            "71.163.17.92        140\n",
            "66.249.66.89        138\n",
            "104.136.3.138       137\n",
            "174.59.217.179      136\n",
            "162.82.0.67         133\n",
            "208.68.20.27        133\n",
            "Name: BIDREQUESTIP, dtype: int64\n"
          ]
        }
      ],
      "source": [
        "print(\"no of nan values : \" ,df['BIDREQUESTIP'].isna().sum())\n",
        "print(df.BIDREQUESTIP.value_counts().head(60))"
      ],
      "id": "ea4380ee"
    },
    {
      "cell_type": "code",
      "execution_count": null,
      "metadata": {
        "colab": {
          "base_uri": "https://localhost:8080/"
        },
        "id": "497a28fc",
        "outputId": "20c521be-2c65-473c-e9b4-ed0ddac6a455"
      },
      "outputs": [
        {
          "name": "stdout",
          "output_type": "stream",
          "text": [
            "no of nan values :  4\n",
            "3e2578c8-f794-41af-a38c-c5cfb3c0f014    1447\n",
            "d76f7c0b-1a64-4d4b-b36d-86c832be8837    1406\n",
            "d00f28d6-3a50-46cd-92f3-8601bd57ad0e     675\n",
            "fcd3d327-0ad5-425e-8ea8-33ffe6a31543     629\n",
            "fe53f32c-4646-4abe-afea-90b21d6b8531     617\n",
            "82fcc028-f146-4efb-b95e-69fd62109bbc     520\n",
            "73828378-8999-4670-a3bf-e5e78096301c     517\n",
            "fa24a307-1001-4f5e-9d87-669e91737c07     505\n",
            "f6890950-af86-4400-ab0b-e8498d0ba99e     418\n",
            "a4706c21-3ce1-453d-b57c-1541c50d15f5     418\n",
            "6b1794db-cc22-4f66-b185-ecd99146bb07     391\n",
            "d9f89efd-0f02-4844-9719-098302c545df     365\n",
            "c42db189-7d1b-4639-b9c6-9fa4d80be4bd     347\n",
            "29903453-4c40-4f25-98a5-ddc554f71555     346\n",
            "9fee45ce-0010-40e0-a272-6c1c4f86ea00     344\n",
            "72cbb382-31dd-4e2a-9e9c-9d0f40a7d0a9     324\n",
            "cd57e558-f19d-4cd8-afcc-d0fa18259173     300\n",
            "63238044-b275-480b-a613-780d45d2f70a     294\n",
            "b323edaf-33ac-44f0-a570-b1c342f806b9     271\n",
            "456631b8-ca59-4e7a-96a0-53bcbf85eaef     259\n",
            "Name: USERPLATFORMUID, dtype: int64\n"
          ]
        }
      ],
      "source": [
        "print(\"no of nan values : \" ,df['USERPLATFORMUID'].isna().sum())\n",
        "print(df.USERPLATFORMUID.value_counts().head(20))"
      ],
      "id": "497a28fc"
    },
    {
      "cell_type": "code",
      "execution_count": null,
      "metadata": {
        "colab": {
          "base_uri": "https://localhost:8080/"
        },
        "id": "8cdf96bc",
        "outputId": "1c44f60d-458b-4082-b419-5822b39bbf80"
      },
      "outputs": [
        {
          "name": "stdout",
          "output_type": "stream",
          "text": [
            "no of nan values :  6359\n",
            "New York              4943\n",
            "Brooklyn              3237\n",
            "St Louis              2545\n",
            "Los Angeles           2154\n",
            "Houston               1747\n",
            "Queens                1629\n",
            "Arlington             1503\n",
            "Chicago               1448\n",
            "Philadelphia          1191\n",
            "Columbus              1105\n",
            "Miami                 1023\n",
            "Phoenix                888\n",
            "Fort Worth             884\n",
            "Deer Park              883\n",
            "San Francisco          881\n",
            "Rochester              798\n",
            "Dallas                 784\n",
            "Memphis                756\n",
            "Charlotte              695\n",
            "Pittsburgh             669\n",
            "Palm Beach Gardens     664\n",
            "Seattle                650\n",
            "Atlanta                630\n",
            "Rockville              592\n",
            "Durham                 577\n",
            "Washington             565\n",
            "Minneapolis            557\n",
            "Springfield            556\n",
            "Cleveland              555\n",
            "Cambridge              538\n",
            "Denver                 503\n",
            "Tampa                  485\n",
            "San Diego              478\n",
            "Portland               463\n",
            "Buena Park             431\n",
            "Jacksonville           430\n",
            "Orlando                429\n",
            "Austin                 425\n",
            "Boston                 410\n",
            "Las Vegas              396\n",
            "San Antonio            392\n",
            "Cincinnati             385\n",
            "Garland                384\n",
            "Idaho Falls            382\n",
            "Sacramento             382\n",
            "Kansas City            380\n",
            "Ashburn                375\n",
            "Birmingham             373\n",
            "Salt Lake City         347\n",
            "San Jose               347\n",
            "Indianapolis           347\n",
            "Pilot Mountain         346\n",
            "Appleton               344\n",
            "Richmond               330\n",
            "Baltimore              329\n",
            "Tucson                 306\n",
            "Amarillo               294\n",
            "Nashville              283\n",
            "Milwaukee              275\n",
            "Gainesville            273\n",
            "Name: USERCITY, dtype: int64\n"
          ]
        }
      ],
      "source": [
        "print(\"no of nan values : \" ,df['USERCITY'].isna().sum())\n",
        "print(df.USERCITY.value_counts().head(60))"
      ],
      "id": "8cdf96bc"
    },
    {
      "cell_type": "code",
      "execution_count": null,
      "metadata": {
        "colab": {
          "base_uri": "https://localhost:8080/"
        },
        "id": "02c32a70",
        "outputId": "32486f27-0f29-4ead-9e0a-971dcd4cfa72"
      },
      "outputs": [
        {
          "name": "stdout",
          "output_type": "stream",
          "text": [
            "no of nan values :  4592\n",
            "63169.0        2116\n",
            "11226.0        1752\n",
            "22202.0        1259\n",
            "10001.0        1190\n",
            "90060.0        1058\n",
            "               ... \n",
            "56748.0           1\n",
            "77021.0           1\n",
            "74880.0           1\n",
            "93630.0           1\n",
            "760865488.0       1\n",
            "Name: USERZIPCODE, Length: 11278, dtype: int64\n"
          ]
        }
      ],
      "source": [
        "print(\"no of nan values : \" ,df['USERZIPCODE'].isna().sum())\n",
        "print(df.USERZIPCODE.value_counts())"
      ],
      "id": "02c32a70"
    },
    {
      "cell_type": "code",
      "execution_count": null,
      "metadata": {
        "colab": {
          "base_uri": "https://localhost:8080/"
        },
        "id": "17008e93",
        "outputId": "68510b1c-8f1a-4dbd-ee97-b947fa2aa3bf",
        "scrolled": true
      },
      "outputs": [
        {
          "name": "stdout",
          "output_type": "stream",
          "text": [
            "no of nan values :  2\n"
          ]
        }
      ],
      "source": [
        "print(\"no of nan values : \" ,df['USERAGENT'].isna().sum())\n"
      ],
      "id": "17008e93"
    },
    {
      "cell_type": "code",
      "execution_count": null,
      "metadata": {
        "colab": {
          "base_uri": "https://localhost:8080/"
        },
        "id": "6eeedca0",
        "outputId": "e0c50724-aebc-4b7b-9b21-a14f20914f8b"
      },
      "outputs": [
        {
          "name": "stdout",
          "output_type": "stream",
          "text": [
            "no of nan values :  0\n",
            "Online Medical Journal      110120\n",
            "Online Learning Portal        2978\n",
            "Medical News Platform          798\n",
            "Electronic Health Record        40\n",
            "Tele-medicine Platform           1\n",
            "Name: PLATFORMTYPE, dtype: int64\n"
          ]
        }
      ],
      "source": [
        "print(\"no of nan values : \" ,df['PLATFORMTYPE'].isna().sum())\n",
        "print(df.PLATFORMTYPE.value_counts())"
      ],
      "id": "6eeedca0"
    },
    {
      "cell_type": "code",
      "execution_count": null,
      "metadata": {
        "colab": {
          "base_uri": "https://localhost:8080/"
        },
        "id": "1abc9643",
        "outputId": "73a65a8a-cbd3-4f70-eefa-337c8e5db620"
      },
      "outputs": [
        {
          "name": "stdout",
          "output_type": "stream",
          "text": [
            "no of nan values :  0\n",
            "Website    113937\n",
            "Name: CHANNELTYPE, dtype: int64\n"
          ]
        }
      ],
      "source": [
        "print(\"no of nan values : \" ,df['CHANNELTYPE'].isna().sum())\n",
        "print(df.CHANNELTYPE.value_counts())"
      ],
      "id": "1abc9643"
    },
    {
      "cell_type": "code",
      "execution_count": null,
      "metadata": {
        "colab": {
          "base_uri": "https://localhost:8080/"
        },
        "id": "97a4bf71",
        "outputId": "0d5c0242-b628-4ab4-d250-8782f4e46bf1"
      },
      "outputs": [
        {
          "name": "stdout",
          "output_type": "stream",
          "text": [
            "no of nan values :  0\n",
            "5231\n"
          ]
        }
      ],
      "source": [
        "print(\"no of nan values : \" ,df['URL'].isna().sum())\n",
        "print(df.URL.nunique())"
      ],
      "id": "97a4bf71"
    },
    {
      "cell_type": "code",
      "execution_count": null,
      "metadata": {
        "colab": {
          "base_uri": "https://localhost:8080/"
        },
        "id": "f2651d7d",
        "outputId": "e83bfc76-eccd-4f5c-f712-546400c48183"
      },
      "outputs": [
        {
          "name": "stdout",
          "output_type": "stream",
          "text": [
            "no of nan values :  0\n",
            "2460\n"
          ]
        }
      ],
      "source": [
        "print(\"no of nan values : \" ,df['KEYWORDS'].isna().sum())\n",
        "print(df.KEYWORDS.nunique())"
      ],
      "id": "f2651d7d"
    },
    {
      "cell_type": "code",
      "execution_count": null,
      "metadata": {
        "colab": {
          "base_uri": "https://localhost:8080/"
        },
        "id": "IkmE2o7gmLYW",
        "outputId": "88fe2429-f7be-4d86-85ef-277069aedd0f"
      },
      "outputs": [
        {
          "name": "stdout",
          "output_type": "stream",
          "text": [
            "no of nan values :  1\n"
          ]
        }
      ],
      "source": [
        "print(\"no of nan values : \" ,df['IS_HCP'].isna().sum())"
      ],
      "id": "IkmE2o7gmLYW"
    },
    {
      "cell_type": "code",
      "execution_count": null,
      "metadata": {
        "colab": {
          "base_uri": "https://localhost:8080/"
        },
        "id": "2b12bf78",
        "outputId": "a37f5f2b-b753-43f3-a9ce-14ce4b9ccc5c"
      },
      "outputs": [
        {
          "name": "stdout",
          "output_type": "stream",
          "text": [
            "no of nan values :  81624\n",
            "2084P0800X    7930\n",
            "2084N0400X    6621\n",
            "207Q00000X    3997\n",
            "207R00000X    3190\n",
            "208000000X     837\n",
            "              ... \n",
            "163WC0400X       1\n",
            "246QM0706X       1\n",
            "1835N1003X       1\n",
            "207RI0008X       1\n",
            "207XX0801X       1\n",
            "Name: TAXONOMY, Length: 207, dtype: int64\n"
          ]
        }
      ],
      "source": [
        "print(\"no of nan values : \" ,df['TAXONOMY'].isna().sum())\n",
        "print(df.TAXONOMY.value_counts())"
      ],
      "id": "2b12bf78"
    },
    {
      "cell_type": "code",
      "execution_count": null,
      "metadata": {
        "colab": {
          "base_uri": "https://localhost:8080/"
        },
        "id": "fc4ab65d",
        "outputId": "aec43a30-1a13-4aee-bc9c-fd56c09c77fc"
      },
      "outputs": [
        {
          "name": "stdout",
          "output_type": "stream",
          "text": [
            "<class 'pandas.core.frame.DataFrame'>\n",
            "RangeIndex: 113937 entries, 0 to 113936\n",
            "Data columns (total 14 columns):\n",
            " #   Column           Non-Null Count   Dtype  \n",
            "---  ------           --------------   -----  \n",
            " 0   ID               113937 non-null  int64  \n",
            " 1   DEVICETYPE       113937 non-null  object \n",
            " 2   PLATFORM_ID      113937 non-null  int64  \n",
            " 3   BIDREQUESTIP     113937 non-null  object \n",
            " 4   USERPLATFORMUID  113933 non-null  object \n",
            " 5   USERCITY         107578 non-null  object \n",
            " 6   USERZIPCODE      109345 non-null  float64\n",
            " 7   USERAGENT        113935 non-null  object \n",
            " 8   PLATFORMTYPE     113937 non-null  object \n",
            " 9   CHANNELTYPE      113937 non-null  object \n",
            " 10  URL              113937 non-null  object \n",
            " 11  KEYWORDS         113937 non-null  object \n",
            " 12  TAXONOMY         32313 non-null   object \n",
            " 13  IS_HCP           113936 non-null  float64\n",
            "dtypes: float64(2), int64(2), object(10)\n",
            "memory usage: 12.2+ MB\n"
          ]
        }
      ],
      "source": [
        "df.info()"
      ],
      "id": "fc4ab65d"
    },
    {
      "cell_type": "code",
      "execution_count": null,
      "metadata": {
        "colab": {
          "base_uri": "https://localhost:8080/"
        },
        "id": "7538ce03",
        "outputId": "ece2dea7-d7de-4df1-eecb-529c89bab47a"
      },
      "outputs": [
        {
          "data": {
            "text/plain": [
              "ID                   int64\n",
              "DEVICETYPE          object\n",
              "PLATFORM_ID          int64\n",
              "BIDREQUESTIP        object\n",
              "USERPLATFORMUID     object\n",
              "USERCITY            object\n",
              "USERZIPCODE        float64\n",
              "USERAGENT           object\n",
              "PLATFORMTYPE        object\n",
              "CHANNELTYPE         object\n",
              "URL                 object\n",
              "KEYWORDS            object\n",
              "TAXONOMY            object\n",
              "IS_HCP             float64\n",
              "dtype: object"
            ]
          },
          "execution_count": 20,
          "metadata": {},
          "output_type": "execute_result"
        }
      ],
      "source": [
        "df.dtypes"
      ],
      "id": "7538ce03"
    },
    {
      "cell_type": "code",
      "execution_count": null,
      "metadata": {
        "id": "351b89a2"
      },
      "outputs": [],
      "source": [
        "# plt.matshow(df.corr())\n",
        "# plt.show()"
      ],
      "id": "351b89a2"
    },
    {
      "cell_type": "code",
      "execution_count": null,
      "metadata": {
        "id": "fe05510f"
      },
      "outputs": [],
      "source": [
        "a=df[[\"TAXONOMY\",\"IS_HCP\"]]"
      ],
      "id": "fe05510f"
    },
    {
      "cell_type": "code",
      "execution_count": null,
      "metadata": {
        "colab": {
          "base_uri": "https://localhost:8080/"
        },
        "id": "42d56f40",
        "outputId": "6e46c940-b3f3-4432-efb5-1e68a8f89973"
      },
      "outputs": [
        {
          "name": "stdout",
          "output_type": "stream",
          "text": [
            "      TAXONOMY  IS_HCP\n",
            "0          NaN     0.0\n",
            "1          NaN     0.0\n",
            "2          NaN     0.0\n",
            "3   2084P0800X     1.0\n",
            "4          NaN     0.0\n",
            "5          NaN     0.0\n",
            "6          NaN     0.0\n",
            "7          NaN     0.0\n",
            "8   2084P0804X     1.0\n",
            "9          NaN     0.0\n",
            "10         NaN     0.0\n",
            "11         NaN     0.0\n",
            "12         NaN     0.0\n",
            "13         NaN     0.0\n",
            "14         NaN     0.0\n",
            "15         NaN     0.0\n",
            "16         NaN     0.0\n",
            "17         NaN     0.0\n",
            "18         NaN     0.0\n",
            "19         NaN     0.0\n",
            "20         NaN     0.0\n",
            "21  2084N0400X     1.0\n",
            "22         NaN     0.0\n",
            "23         NaN     0.0\n",
            "24         NaN     0.0\n",
            "25         NaN     0.0\n",
            "26         NaN     0.0\n",
            "27         NaN     0.0\n",
            "28         NaN     0.0\n",
            "29  2084V0102X     1.0\n",
            "30         NaN     0.0\n",
            "31         NaN     0.0\n",
            "32         NaN     0.0\n",
            "33         NaN     0.0\n",
            "34         NaN     0.0\n",
            "35  207RC0000X     1.0\n",
            "36         NaN     0.0\n",
            "37         NaN     0.0\n",
            "38         NaN     0.0\n",
            "39         NaN     0.0\n",
            "40         NaN     0.0\n",
            "41         NaN     0.0\n",
            "42         NaN     0.0\n",
            "43         NaN     0.0\n",
            "44         NaN     0.0\n",
            "45         NaN     0.0\n",
            "46         NaN     0.0\n",
            "47         NaN     0.0\n",
            "48         NaN     0.0\n",
            "49         NaN     0.0\n"
          ]
        }
      ],
      "source": [
        "print(a.iloc[:50])"
      ],
      "id": "42d56f40"
    },
    {
      "cell_type": "code",
      "execution_count": null,
      "metadata": {
        "colab": {
          "base_uri": "https://localhost:8080/"
        },
        "id": "TaoIRD7pkir_",
        "outputId": "b7c4ccb9-d402-495f-a511-badb012cb84a"
      },
      "outputs": [
        {
          "data": {
            "text/plain": [
              "2084P0800X    7930\n",
              "2084N0400X    6621\n",
              "207Q00000X    3997\n",
              "207R00000X    3190\n",
              "208000000X     837\n",
              "              ... \n",
              "163WC0400X       1\n",
              "246QM0706X       1\n",
              "1835N1003X       1\n",
              "207RI0008X       1\n",
              "207XX0801X       1\n",
              "Name: TAXONOMY, Length: 207, dtype: int64"
            ]
          },
          "execution_count": 24,
          "metadata": {},
          "output_type": "execute_result"
        }
      ],
      "source": [
        "df['TAXONOMY'].value_counts()"
      ],
      "id": "TaoIRD7pkir_"
    },
    {
      "cell_type": "code",
      "execution_count": null,
      "metadata": {
        "id": "5GoJE0XUzj3J"
      },
      "outputs": [],
      "source": [
        "def scale(x):\n",
        "  sclr = StandardScaler()\n",
        "  x = sclr.fit(x)\n",
        "  return x"
      ],
      "id": "5GoJE0XUzj3J"
    },
    {
      "cell_type": "code",
      "execution_count": 53,
      "metadata": {
        "id": "8yIjKF8SaZYI"
      },
      "outputs": [],
      "source": [
        "def ohe(df,col):\n",
        "  ohe = OneHotEncoder()\n",
        "  colm = ohe.fit_transform(df[col].values.reshape(-1,1)).toarray()\n",
        "  feature_labels=ohe.categories_\n",
        "  feature_labels=np.array(feature_labels).ravel()\n",
        "  x=pd.DataFrame(colm,columns=feature_labels)\n",
        "  df=pd.concat([df,x],axis=1)\n",
        "  del df[col]\n",
        "  return df"
      ],
      "id": "8yIjKF8SaZYI"
    },
    {
      "cell_type": "code",
      "execution_count": null,
      "metadata": {
        "id": "ulzuh9S_dlrT"
      },
      "outputs": [],
      "source": [
        "def drp(df):\n",
        "  df.drop(['ID','USERPLATFORMUID','USERCITY','USERAGENT','CHANNELTYPE','URL'],axis = 1,inplace = True)\n",
        "  return df"
      ],
      "id": "ulzuh9S_dlrT"
    },
    {
      "cell_type": "code",
      "execution_count": null,
      "metadata": {
        "id": "LfHdFRj6rxpH"
      },
      "outputs": [],
      "source": [
        "def vectorize(df):\n",
        "  vectorizer_1 =TfidfVectorizer()\n",
        "  feature_matrix=vectorizer_1.fit_transform(df[\"BIDREQUESTIP\"])\n",
        "  vectorized_bidrequestip=pd.DataFrame(feature_matrix.toarray())\n",
        "  vectorizer_2 = TfidfVectorizer(tokenizer=lambda x: x.split('|'))\n",
        "  tfidf_matrix = vectorizer_2.fit_transform(df['KEYWORDS'])\n",
        "  vectorized_keywords = pd.DataFrame(tfidf_matrix.toarray(), columns=vectorizer_2.get_feature_names_out())\n",
        "  df = pd.concat([df,vectorized_bidrequestip,vectorized_keywords],axis = 1)\n",
        "  df.drop(['BIDREQUESTIP','KEYWORDS'],axis = 1,inplace = True)\n",
        "  return df,vectorizer_1,vectorizer_2"
      ],
      "id": "LfHdFRj6rxpH"
    },
    {
      "cell_type": "code",
      "execution_count": null,
      "metadata": {
        "colab": {
          "base_uri": "https://localhost:8080/",
          "height": 733
        },
        "id": "urKwiv4CtICq",
        "outputId": "19003727-6d72-45ef-e4c9-f11acf5fe5fd"
      },
      "outputs": [
        {
          "name": "stderr",
          "output_type": "stream",
          "text": [
            "/usr/local/lib/python3.10/dist-packages/sklearn/feature_extraction/text.py:528: UserWarning: The parameter 'token_pattern' will not be used since 'tokenizer' is not None'\n",
            "  warnings.warn(\n"
          ]
        },
        {
          "data": {
            "text/html": [
              "\n",
              "  <div id=\"df-7d524737-dd0d-4fbd-8945-e23441a9c249\">\n",
              "    <div class=\"colab-df-container\">\n",
              "      <div>\n",
              "<style scoped>\n",
              "    .dataframe tbody tr th:only-of-type {\n",
              "        vertical-align: middle;\n",
              "    }\n",
              "\n",
              "    .dataframe tbody tr th {\n",
              "        vertical-align: top;\n",
              "    }\n",
              "\n",
              "    .dataframe thead th {\n",
              "        text-align: right;\n",
              "    }\n",
              "</style>\n",
              "<table border=\"1\" class=\"dataframe\">\n",
              "  <thead>\n",
              "    <tr style=\"text-align: right;\">\n",
              "      <th></th>\n",
              "      <th>ID</th>\n",
              "      <th>DEVICETYPE</th>\n",
              "      <th>PLATFORM_ID</th>\n",
              "      <th>USERPLATFORMUID</th>\n",
              "      <th>USERCITY</th>\n",
              "      <th>USERZIPCODE</th>\n",
              "      <th>USERAGENT</th>\n",
              "      <th>PLATFORMTYPE</th>\n",
              "      <th>CHANNELTYPE</th>\n",
              "      <th>URL</th>\n",
              "      <th>...</th>\n",
              "      <th>wheezing</th>\n",
              "      <th>whipple disease</th>\n",
              "      <th>whole genome sequencing</th>\n",
              "      <th>whooping cough</th>\n",
              "      <th>wound infection</th>\n",
              "      <th>yaws</th>\n",
              "      <th>yellow fever</th>\n",
              "      <th>zoonoses</th>\n",
              "      <th>zostavax</th>\n",
              "      <th>zoster sine herpete</th>\n",
              "    </tr>\n",
              "  </thead>\n",
              "  <tbody>\n",
              "    <tr>\n",
              "      <th>0</th>\n",
              "      <td>1001</td>\n",
              "      <td>Desktop</td>\n",
              "      <td>2</td>\n",
              "      <td>6974dcaa-f932-480e-9fb5-c52e20e1393a</td>\n",
              "      <td>Portland</td>\n",
              "      <td>97206.0</td>\n",
              "      <td>Mozilla/5.0 (Windows NT 10.0; Win64; x64) Appl...</td>\n",
              "      <td>Online Medical Journal</td>\n",
              "      <td>Website</td>\n",
              "      <td>https://www.cancertherapyadvisor.com/home/canc...</td>\n",
              "      <td>...</td>\n",
              "      <td>0.0</td>\n",
              "      <td>0.0</td>\n",
              "      <td>0.0</td>\n",
              "      <td>0.0</td>\n",
              "      <td>0.0</td>\n",
              "      <td>0.0</td>\n",
              "      <td>0.0</td>\n",
              "      <td>0.0</td>\n",
              "      <td>0.0</td>\n",
              "      <td>0.0</td>\n",
              "    </tr>\n",
              "    <tr>\n",
              "      <th>1</th>\n",
              "      <td>1002</td>\n",
              "      <td>Desktop</td>\n",
              "      <td>2</td>\n",
              "      <td>c12f3f8f-8fcf-484a-90e1-1ac04db8cdcf</td>\n",
              "      <td>Arlington</td>\n",
              "      <td>22202.0</td>\n",
              "      <td>Mozilla/5.0 (Macintosh; Intel Mac OS X 10_15_7...</td>\n",
              "      <td>Online Medical Journal</td>\n",
              "      <td>Website</td>\n",
              "      <td>https://www.cancertherapyadvisor.com/home/deci...</td>\n",
              "      <td>...</td>\n",
              "      <td>0.0</td>\n",
              "      <td>0.0</td>\n",
              "      <td>0.0</td>\n",
              "      <td>0.0</td>\n",
              "      <td>0.0</td>\n",
              "      <td>0.0</td>\n",
              "      <td>0.0</td>\n",
              "      <td>0.0</td>\n",
              "      <td>0.0</td>\n",
              "      <td>0.0</td>\n",
              "    </tr>\n",
              "    <tr>\n",
              "      <th>2</th>\n",
              "      <td>1003</td>\n",
              "      <td>Desktop</td>\n",
              "      <td>2</td>\n",
              "      <td>a698de4b-e200-46dd-b5fb-40402175ae18</td>\n",
              "      <td>New Meadows</td>\n",
              "      <td>83654.0</td>\n",
              "      <td>Mozilla/5.0 (Macintosh; Intel Mac OS X 10_15_7...</td>\n",
              "      <td>Online Medical Journal</td>\n",
              "      <td>Website</td>\n",
              "      <td>https://www.cancertherapyadvisor.com/home/canc...</td>\n",
              "      <td>...</td>\n",
              "      <td>0.0</td>\n",
              "      <td>0.0</td>\n",
              "      <td>0.0</td>\n",
              "      <td>0.0</td>\n",
              "      <td>0.0</td>\n",
              "      <td>0.0</td>\n",
              "      <td>0.0</td>\n",
              "      <td>0.0</td>\n",
              "      <td>0.0</td>\n",
              "      <td>0.0</td>\n",
              "    </tr>\n",
              "    <tr>\n",
              "      <th>3</th>\n",
              "      <td>1004</td>\n",
              "      <td>Desktop</td>\n",
              "      <td>3</td>\n",
              "      <td>45967533-75c8-4fbd-a00c-e6ff20447aaa</td>\n",
              "      <td>NaN</td>\n",
              "      <td>229114624.0</td>\n",
              "      <td>Mozilla/5.0 (Windows NT 10.0; Win64; x64) Appl...</td>\n",
              "      <td>Online Medical Journal</td>\n",
              "      <td>Website</td>\n",
              "      <td>https://globalrph.com/medcalcs/warfarin-mainte...</td>\n",
              "      <td>...</td>\n",
              "      <td>0.0</td>\n",
              "      <td>0.0</td>\n",
              "      <td>0.0</td>\n",
              "      <td>0.0</td>\n",
              "      <td>0.0</td>\n",
              "      <td>0.0</td>\n",
              "      <td>0.0</td>\n",
              "      <td>0.0</td>\n",
              "      <td>0.0</td>\n",
              "      <td>0.0</td>\n",
              "    </tr>\n",
              "    <tr>\n",
              "      <th>4</th>\n",
              "      <td>1005</td>\n",
              "      <td>Mobile</td>\n",
              "      <td>7</td>\n",
              "      <td>a17e25be-532d-4cf5-b916-9308c8c3961f</td>\n",
              "      <td>Houston</td>\n",
              "      <td>77008.0</td>\n",
              "      <td>Mozilla/5.0 (iPhone; CPU iPhone OS 16_1_1 like...</td>\n",
              "      <td>Online Medical Journal</td>\n",
              "      <td>Website</td>\n",
              "      <td>https://www.cureus.com/articles/58184-a-review...</td>\n",
              "      <td>...</td>\n",
              "      <td>0.0</td>\n",
              "      <td>0.0</td>\n",
              "      <td>0.0</td>\n",
              "      <td>0.0</td>\n",
              "      <td>0.0</td>\n",
              "      <td>0.0</td>\n",
              "      <td>0.0</td>\n",
              "      <td>0.0</td>\n",
              "      <td>0.0</td>\n",
              "      <td>0.0</td>\n",
              "    </tr>\n",
              "  </tbody>\n",
              "</table>\n",
              "<p>5 rows × 1474 columns</p>\n",
              "</div>\n",
              "      <button class=\"colab-df-convert\" onclick=\"convertToInteractive('df-7d524737-dd0d-4fbd-8945-e23441a9c249')\"\n",
              "              title=\"Convert this dataframe to an interactive table.\"\n",
              "              style=\"display:none;\">\n",
              "        \n",
              "  <svg xmlns=\"http://www.w3.org/2000/svg\" height=\"24px\"viewBox=\"0 0 24 24\"\n",
              "       width=\"24px\">\n",
              "    <path d=\"M0 0h24v24H0V0z\" fill=\"none\"/>\n",
              "    <path d=\"M18.56 5.44l.94 2.06.94-2.06 2.06-.94-2.06-.94-.94-2.06-.94 2.06-2.06.94zm-11 1L8.5 8.5l.94-2.06 2.06-.94-2.06-.94L8.5 2.5l-.94 2.06-2.06.94zm10 10l.94 2.06.94-2.06 2.06-.94-2.06-.94-.94-2.06-.94 2.06-2.06.94z\"/><path d=\"M17.41 7.96l-1.37-1.37c-.4-.4-.92-.59-1.43-.59-.52 0-1.04.2-1.43.59L10.3 9.45l-7.72 7.72c-.78.78-.78 2.05 0 2.83L4 21.41c.39.39.9.59 1.41.59.51 0 1.02-.2 1.41-.59l7.78-7.78 2.81-2.81c.8-.78.8-2.07 0-2.86zM5.41 20L4 18.59l7.72-7.72 1.47 1.35L5.41 20z\"/>\n",
              "  </svg>\n",
              "      </button>\n",
              "      \n",
              "  <style>\n",
              "    .colab-df-container {\n",
              "      display:flex;\n",
              "      flex-wrap:wrap;\n",
              "      gap: 12px;\n",
              "    }\n",
              "\n",
              "    .colab-df-convert {\n",
              "      background-color: #E8F0FE;\n",
              "      border: none;\n",
              "      border-radius: 50%;\n",
              "      cursor: pointer;\n",
              "      display: none;\n",
              "      fill: #1967D2;\n",
              "      height: 32px;\n",
              "      padding: 0 0 0 0;\n",
              "      width: 32px;\n",
              "    }\n",
              "\n",
              "    .colab-df-convert:hover {\n",
              "      background-color: #E2EBFA;\n",
              "      box-shadow: 0px 1px 2px rgba(60, 64, 67, 0.3), 0px 1px 3px 1px rgba(60, 64, 67, 0.15);\n",
              "      fill: #174EA6;\n",
              "    }\n",
              "\n",
              "    [theme=dark] .colab-df-convert {\n",
              "      background-color: #3B4455;\n",
              "      fill: #D2E3FC;\n",
              "    }\n",
              "\n",
              "    [theme=dark] .colab-df-convert:hover {\n",
              "      background-color: #434B5C;\n",
              "      box-shadow: 0px 1px 3px 1px rgba(0, 0, 0, 0.15);\n",
              "      filter: drop-shadow(0px 1px 2px rgba(0, 0, 0, 0.3));\n",
              "      fill: #FFFFFF;\n",
              "    }\n",
              "  </style>\n",
              "\n",
              "      <script>\n",
              "        const buttonEl =\n",
              "          document.querySelector('#df-7d524737-dd0d-4fbd-8945-e23441a9c249 button.colab-df-convert');\n",
              "        buttonEl.style.display =\n",
              "          google.colab.kernel.accessAllowed ? 'block' : 'none';\n",
              "\n",
              "        async function convertToInteractive(key) {\n",
              "          const element = document.querySelector('#df-7d524737-dd0d-4fbd-8945-e23441a9c249');\n",
              "          const dataTable =\n",
              "            await google.colab.kernel.invokeFunction('convertToInteractive',\n",
              "                                                     [key], {});\n",
              "          if (!dataTable) return;\n",
              "\n",
              "          const docLinkHtml = 'Like what you see? Visit the ' +\n",
              "            '<a target=\"_blank\" href=https://colab.research.google.com/notebooks/data_table.ipynb>data table notebook</a>'\n",
              "            + ' to learn more about interactive tables.';\n",
              "          element.innerHTML = '';\n",
              "          dataTable['output_type'] = 'display_data';\n",
              "          await google.colab.output.renderOutput(dataTable, element);\n",
              "          const docLink = document.createElement('div');\n",
              "          docLink.innerHTML = docLinkHtml;\n",
              "          element.appendChild(docLink);\n",
              "        }\n",
              "      </script>\n",
              "    </div>\n",
              "  </div>\n",
              "  "
            ],
            "text/plain": [
              "     ID DEVICETYPE  PLATFORM_ID                       USERPLATFORMUID  \\\n",
              "0  1001    Desktop            2  6974dcaa-f932-480e-9fb5-c52e20e1393a   \n",
              "1  1002    Desktop            2  c12f3f8f-8fcf-484a-90e1-1ac04db8cdcf   \n",
              "2  1003    Desktop            2  a698de4b-e200-46dd-b5fb-40402175ae18   \n",
              "3  1004    Desktop            3  45967533-75c8-4fbd-a00c-e6ff20447aaa   \n",
              "4  1005     Mobile            7  a17e25be-532d-4cf5-b916-9308c8c3961f   \n",
              "\n",
              "      USERCITY  USERZIPCODE  \\\n",
              "0     Portland      97206.0   \n",
              "1    Arlington      22202.0   \n",
              "2  New Meadows      83654.0   \n",
              "3          NaN  229114624.0   \n",
              "4      Houston      77008.0   \n",
              "\n",
              "                                           USERAGENT            PLATFORMTYPE  \\\n",
              "0  Mozilla/5.0 (Windows NT 10.0; Win64; x64) Appl...  Online Medical Journal   \n",
              "1  Mozilla/5.0 (Macintosh; Intel Mac OS X 10_15_7...  Online Medical Journal   \n",
              "2  Mozilla/5.0 (Macintosh; Intel Mac OS X 10_15_7...  Online Medical Journal   \n",
              "3  Mozilla/5.0 (Windows NT 10.0; Win64; x64) Appl...  Online Medical Journal   \n",
              "4  Mozilla/5.0 (iPhone; CPU iPhone OS 16_1_1 like...  Online Medical Journal   \n",
              "\n",
              "  CHANNELTYPE                                                URL  ...  \\\n",
              "0     Website  https://www.cancertherapyadvisor.com/home/canc...  ...   \n",
              "1     Website  https://www.cancertherapyadvisor.com/home/deci...  ...   \n",
              "2     Website  https://www.cancertherapyadvisor.com/home/canc...  ...   \n",
              "3     Website  https://globalrph.com/medcalcs/warfarin-mainte...  ...   \n",
              "4     Website  https://www.cureus.com/articles/58184-a-review...  ...   \n",
              "\n",
              "  wheezing  whipple disease  whole genome sequencing  whooping cough  \\\n",
              "0      0.0              0.0                      0.0             0.0   \n",
              "1      0.0              0.0                      0.0             0.0   \n",
              "2      0.0              0.0                      0.0             0.0   \n",
              "3      0.0              0.0                      0.0             0.0   \n",
              "4      0.0              0.0                      0.0             0.0   \n",
              "\n",
              "   wound infection  yaws  yellow fever  zoonoses  zostavax  \\\n",
              "0              0.0   0.0           0.0       0.0       0.0   \n",
              "1              0.0   0.0           0.0       0.0       0.0   \n",
              "2              0.0   0.0           0.0       0.0       0.0   \n",
              "3              0.0   0.0           0.0       0.0       0.0   \n",
              "4              0.0   0.0           0.0       0.0       0.0   \n",
              "\n",
              "   zoster sine herpete  \n",
              "0                  0.0  \n",
              "1                  0.0  \n",
              "2                  0.0  \n",
              "3                  0.0  \n",
              "4                  0.0  \n",
              "\n",
              "[5 rows x 1474 columns]"
            ]
          },
          "execution_count": 8,
          "metadata": {},
          "output_type": "execute_result"
        }
      ],
      "source": [
        "df = vectorize(df)\n",
        "df.head()"
      ],
      "id": "urKwiv4CtICq"
    },
    {
      "cell_type": "markdown",
      "metadata": {
        "id": "lr_dOpDdycSj"
      },
      "source": [
        "Dropping certain fixed columns\n"
      ],
      "id": "lr_dOpDdycSj"
    },
    {
      "cell_type": "code",
      "execution_count": null,
      "metadata": {
        "colab": {
          "base_uri": "https://localhost:8080/",
          "height": 629
        },
        "id": "JCm4eSSTd3-Q",
        "outputId": "a8109037-f6a6-4239-87e4-08f4a7361156"
      },
      "outputs": [
        {
          "name": "stdout",
          "output_type": "stream",
          "text": [
            "no of nan values: DEVICETYPE                 0\n",
            "PLATFORM_ID                0\n",
            "USERZIPCODE             4592\n",
            "PLATFORMTYPE               0\n",
            "TAXONOMY               81624\n",
            "                       ...  \n",
            "yaws                       0\n",
            "yellow fever               0\n",
            "zoonoses                   0\n",
            "zostavax                   0\n",
            "zoster sine herpete        0\n",
            "Length: 1468, dtype: int64\n"
          ]
        },
        {
          "data": {
            "text/html": [
              "\n",
              "  <div id=\"df-8e9d71f1-799b-40c4-903d-cb7ec9415ebb\">\n",
              "    <div class=\"colab-df-container\">\n",
              "      <div>\n",
              "<style scoped>\n",
              "    .dataframe tbody tr th:only-of-type {\n",
              "        vertical-align: middle;\n",
              "    }\n",
              "\n",
              "    .dataframe tbody tr th {\n",
              "        vertical-align: top;\n",
              "    }\n",
              "\n",
              "    .dataframe thead th {\n",
              "        text-align: right;\n",
              "    }\n",
              "</style>\n",
              "<table border=\"1\" class=\"dataframe\">\n",
              "  <thead>\n",
              "    <tr style=\"text-align: right;\">\n",
              "      <th></th>\n",
              "      <th>DEVICETYPE</th>\n",
              "      <th>PLATFORM_ID</th>\n",
              "      <th>USERZIPCODE</th>\n",
              "      <th>PLATFORMTYPE</th>\n",
              "      <th>TAXONOMY</th>\n",
              "      <th>IS_HCP</th>\n",
              "      <th>0</th>\n",
              "      <th>1</th>\n",
              "      <th>2</th>\n",
              "      <th>3</th>\n",
              "      <th>...</th>\n",
              "      <th>wheezing</th>\n",
              "      <th>whipple disease</th>\n",
              "      <th>whole genome sequencing</th>\n",
              "      <th>whooping cough</th>\n",
              "      <th>wound infection</th>\n",
              "      <th>yaws</th>\n",
              "      <th>yellow fever</th>\n",
              "      <th>zoonoses</th>\n",
              "      <th>zostavax</th>\n",
              "      <th>zoster sine herpete</th>\n",
              "    </tr>\n",
              "  </thead>\n",
              "  <tbody>\n",
              "    <tr>\n",
              "      <th>0</th>\n",
              "      <td>Desktop</td>\n",
              "      <td>2</td>\n",
              "      <td>97206.0</td>\n",
              "      <td>Online Medical Journal</td>\n",
              "      <td>NaN</td>\n",
              "      <td>0.0</td>\n",
              "      <td>0.0</td>\n",
              "      <td>0.0</td>\n",
              "      <td>0.0</td>\n",
              "      <td>0.0</td>\n",
              "      <td>...</td>\n",
              "      <td>0.0</td>\n",
              "      <td>0.0</td>\n",
              "      <td>0.0</td>\n",
              "      <td>0.0</td>\n",
              "      <td>0.0</td>\n",
              "      <td>0.0</td>\n",
              "      <td>0.0</td>\n",
              "      <td>0.0</td>\n",
              "      <td>0.0</td>\n",
              "      <td>0.0</td>\n",
              "    </tr>\n",
              "    <tr>\n",
              "      <th>1</th>\n",
              "      <td>Desktop</td>\n",
              "      <td>2</td>\n",
              "      <td>22202.0</td>\n",
              "      <td>Online Medical Journal</td>\n",
              "      <td>NaN</td>\n",
              "      <td>0.0</td>\n",
              "      <td>0.0</td>\n",
              "      <td>0.0</td>\n",
              "      <td>0.0</td>\n",
              "      <td>0.0</td>\n",
              "      <td>...</td>\n",
              "      <td>0.0</td>\n",
              "      <td>0.0</td>\n",
              "      <td>0.0</td>\n",
              "      <td>0.0</td>\n",
              "      <td>0.0</td>\n",
              "      <td>0.0</td>\n",
              "      <td>0.0</td>\n",
              "      <td>0.0</td>\n",
              "      <td>0.0</td>\n",
              "      <td>0.0</td>\n",
              "    </tr>\n",
              "    <tr>\n",
              "      <th>2</th>\n",
              "      <td>Desktop</td>\n",
              "      <td>2</td>\n",
              "      <td>83654.0</td>\n",
              "      <td>Online Medical Journal</td>\n",
              "      <td>NaN</td>\n",
              "      <td>0.0</td>\n",
              "      <td>0.0</td>\n",
              "      <td>0.0</td>\n",
              "      <td>0.0</td>\n",
              "      <td>0.0</td>\n",
              "      <td>...</td>\n",
              "      <td>0.0</td>\n",
              "      <td>0.0</td>\n",
              "      <td>0.0</td>\n",
              "      <td>0.0</td>\n",
              "      <td>0.0</td>\n",
              "      <td>0.0</td>\n",
              "      <td>0.0</td>\n",
              "      <td>0.0</td>\n",
              "      <td>0.0</td>\n",
              "      <td>0.0</td>\n",
              "    </tr>\n",
              "    <tr>\n",
              "      <th>3</th>\n",
              "      <td>Desktop</td>\n",
              "      <td>3</td>\n",
              "      <td>229114624.0</td>\n",
              "      <td>Online Medical Journal</td>\n",
              "      <td>2084P0800X</td>\n",
              "      <td>1.0</td>\n",
              "      <td>0.0</td>\n",
              "      <td>0.0</td>\n",
              "      <td>0.0</td>\n",
              "      <td>0.0</td>\n",
              "      <td>...</td>\n",
              "      <td>0.0</td>\n",
              "      <td>0.0</td>\n",
              "      <td>0.0</td>\n",
              "      <td>0.0</td>\n",
              "      <td>0.0</td>\n",
              "      <td>0.0</td>\n",
              "      <td>0.0</td>\n",
              "      <td>0.0</td>\n",
              "      <td>0.0</td>\n",
              "      <td>0.0</td>\n",
              "    </tr>\n",
              "    <tr>\n",
              "      <th>4</th>\n",
              "      <td>Mobile</td>\n",
              "      <td>7</td>\n",
              "      <td>77008.0</td>\n",
              "      <td>Online Medical Journal</td>\n",
              "      <td>NaN</td>\n",
              "      <td>0.0</td>\n",
              "      <td>0.0</td>\n",
              "      <td>0.0</td>\n",
              "      <td>0.0</td>\n",
              "      <td>0.0</td>\n",
              "      <td>...</td>\n",
              "      <td>0.0</td>\n",
              "      <td>0.0</td>\n",
              "      <td>0.0</td>\n",
              "      <td>0.0</td>\n",
              "      <td>0.0</td>\n",
              "      <td>0.0</td>\n",
              "      <td>0.0</td>\n",
              "      <td>0.0</td>\n",
              "      <td>0.0</td>\n",
              "      <td>0.0</td>\n",
              "    </tr>\n",
              "  </tbody>\n",
              "</table>\n",
              "<p>5 rows × 1468 columns</p>\n",
              "</div>\n",
              "      <button class=\"colab-df-convert\" onclick=\"convertToInteractive('df-8e9d71f1-799b-40c4-903d-cb7ec9415ebb')\"\n",
              "              title=\"Convert this dataframe to an interactive table.\"\n",
              "              style=\"display:none;\">\n",
              "        \n",
              "  <svg xmlns=\"http://www.w3.org/2000/svg\" height=\"24px\"viewBox=\"0 0 24 24\"\n",
              "       width=\"24px\">\n",
              "    <path d=\"M0 0h24v24H0V0z\" fill=\"none\"/>\n",
              "    <path d=\"M18.56 5.44l.94 2.06.94-2.06 2.06-.94-2.06-.94-.94-2.06-.94 2.06-2.06.94zm-11 1L8.5 8.5l.94-2.06 2.06-.94-2.06-.94L8.5 2.5l-.94 2.06-2.06.94zm10 10l.94 2.06.94-2.06 2.06-.94-2.06-.94-.94-2.06-.94 2.06-2.06.94z\"/><path d=\"M17.41 7.96l-1.37-1.37c-.4-.4-.92-.59-1.43-.59-.52 0-1.04.2-1.43.59L10.3 9.45l-7.72 7.72c-.78.78-.78 2.05 0 2.83L4 21.41c.39.39.9.59 1.41.59.51 0 1.02-.2 1.41-.59l7.78-7.78 2.81-2.81c.8-.78.8-2.07 0-2.86zM5.41 20L4 18.59l7.72-7.72 1.47 1.35L5.41 20z\"/>\n",
              "  </svg>\n",
              "      </button>\n",
              "      \n",
              "  <style>\n",
              "    .colab-df-container {\n",
              "      display:flex;\n",
              "      flex-wrap:wrap;\n",
              "      gap: 12px;\n",
              "    }\n",
              "\n",
              "    .colab-df-convert {\n",
              "      background-color: #E8F0FE;\n",
              "      border: none;\n",
              "      border-radius: 50%;\n",
              "      cursor: pointer;\n",
              "      display: none;\n",
              "      fill: #1967D2;\n",
              "      height: 32px;\n",
              "      padding: 0 0 0 0;\n",
              "      width: 32px;\n",
              "    }\n",
              "\n",
              "    .colab-df-convert:hover {\n",
              "      background-color: #E2EBFA;\n",
              "      box-shadow: 0px 1px 2px rgba(60, 64, 67, 0.3), 0px 1px 3px 1px rgba(60, 64, 67, 0.15);\n",
              "      fill: #174EA6;\n",
              "    }\n",
              "\n",
              "    [theme=dark] .colab-df-convert {\n",
              "      background-color: #3B4455;\n",
              "      fill: #D2E3FC;\n",
              "    }\n",
              "\n",
              "    [theme=dark] .colab-df-convert:hover {\n",
              "      background-color: #434B5C;\n",
              "      box-shadow: 0px 1px 3px 1px rgba(0, 0, 0, 0.15);\n",
              "      filter: drop-shadow(0px 1px 2px rgba(0, 0, 0, 0.3));\n",
              "      fill: #FFFFFF;\n",
              "    }\n",
              "  </style>\n",
              "\n",
              "      <script>\n",
              "        const buttonEl =\n",
              "          document.querySelector('#df-8e9d71f1-799b-40c4-903d-cb7ec9415ebb button.colab-df-convert');\n",
              "        buttonEl.style.display =\n",
              "          google.colab.kernel.accessAllowed ? 'block' : 'none';\n",
              "\n",
              "        async function convertToInteractive(key) {\n",
              "          const element = document.querySelector('#df-8e9d71f1-799b-40c4-903d-cb7ec9415ebb');\n",
              "          const dataTable =\n",
              "            await google.colab.kernel.invokeFunction('convertToInteractive',\n",
              "                                                     [key], {});\n",
              "          if (!dataTable) return;\n",
              "\n",
              "          const docLinkHtml = 'Like what you see? Visit the ' +\n",
              "            '<a target=\"_blank\" href=https://colab.research.google.com/notebooks/data_table.ipynb>data table notebook</a>'\n",
              "            + ' to learn more about interactive tables.';\n",
              "          element.innerHTML = '';\n",
              "          dataTable['output_type'] = 'display_data';\n",
              "          await google.colab.output.renderOutput(dataTable, element);\n",
              "          const docLink = document.createElement('div');\n",
              "          docLink.innerHTML = docLinkHtml;\n",
              "          element.appendChild(docLink);\n",
              "        }\n",
              "      </script>\n",
              "    </div>\n",
              "  </div>\n",
              "  "
            ],
            "text/plain": [
              "  DEVICETYPE  PLATFORM_ID  USERZIPCODE            PLATFORMTYPE    TAXONOMY  \\\n",
              "0    Desktop            2      97206.0  Online Medical Journal         NaN   \n",
              "1    Desktop            2      22202.0  Online Medical Journal         NaN   \n",
              "2    Desktop            2      83654.0  Online Medical Journal         NaN   \n",
              "3    Desktop            3  229114624.0  Online Medical Journal  2084P0800X   \n",
              "4     Mobile            7      77008.0  Online Medical Journal         NaN   \n",
              "\n",
              "   IS_HCP    0    1    2    3  ...  wheezing  whipple disease  \\\n",
              "0     0.0  0.0  0.0  0.0  0.0  ...       0.0              0.0   \n",
              "1     0.0  0.0  0.0  0.0  0.0  ...       0.0              0.0   \n",
              "2     0.0  0.0  0.0  0.0  0.0  ...       0.0              0.0   \n",
              "3     1.0  0.0  0.0  0.0  0.0  ...       0.0              0.0   \n",
              "4     0.0  0.0  0.0  0.0  0.0  ...       0.0              0.0   \n",
              "\n",
              "   whole genome sequencing  whooping cough  wound infection  yaws  \\\n",
              "0                      0.0             0.0              0.0   0.0   \n",
              "1                      0.0             0.0              0.0   0.0   \n",
              "2                      0.0             0.0              0.0   0.0   \n",
              "3                      0.0             0.0              0.0   0.0   \n",
              "4                      0.0             0.0              0.0   0.0   \n",
              "\n",
              "   yellow fever  zoonoses  zostavax  zoster sine herpete  \n",
              "0           0.0       0.0       0.0                  0.0  \n",
              "1           0.0       0.0       0.0                  0.0  \n",
              "2           0.0       0.0       0.0                  0.0  \n",
              "3           0.0       0.0       0.0                  0.0  \n",
              "4           0.0       0.0       0.0                  0.0  \n",
              "\n",
              "[5 rows x 1468 columns]"
            ]
          },
          "execution_count": 9,
          "metadata": {},
          "output_type": "execute_result"
        }
      ],
      "source": [
        "df = drp(df)\n",
        "print('no of nan values:',df.isnull().sum())\n",
        "df.head()"
      ],
      "id": "JCm4eSSTd3-Q"
    },
    {
      "cell_type": "markdown",
      "metadata": {
        "id": "Kd3TUSq7yh5P"
      },
      "source": [
        "Performing One Hot Encoding over certian columns"
      ],
      "id": "Kd3TUSq7yh5P"
    },
    {
      "cell_type": "code",
      "execution_count": null,
      "metadata": {
        "colab": {
          "base_uri": "https://localhost:8080/",
          "height": 334
        },
        "id": "yiJoB0DsbQco",
        "outputId": "0a853547-014f-4e37-bc2e-bd822c6c552c"
      },
      "outputs": [
        {
          "data": {
            "text/html": [
              "\n",
              "  <div id=\"df-75d184fc-9525-4a79-85f7-c9c6c5cecad7\">\n",
              "    <div class=\"colab-df-container\">\n",
              "      <div>\n",
              "<style scoped>\n",
              "    .dataframe tbody tr th:only-of-type {\n",
              "        vertical-align: middle;\n",
              "    }\n",
              "\n",
              "    .dataframe tbody tr th {\n",
              "        vertical-align: top;\n",
              "    }\n",
              "\n",
              "    .dataframe thead th {\n",
              "        text-align: right;\n",
              "    }\n",
              "</style>\n",
              "<table border=\"1\" class=\"dataframe\">\n",
              "  <thead>\n",
              "    <tr style=\"text-align: right;\">\n",
              "      <th></th>\n",
              "      <th>PLATFORM_ID</th>\n",
              "      <th>USERZIPCODE</th>\n",
              "      <th>TAXONOMY</th>\n",
              "      <th>IS_HCP</th>\n",
              "      <th>0</th>\n",
              "      <th>1</th>\n",
              "      <th>2</th>\n",
              "      <th>3</th>\n",
              "      <th>4</th>\n",
              "      <th>5</th>\n",
              "      <th>...</th>\n",
              "      <th>zoster sine herpete</th>\n",
              "      <th>Desktop</th>\n",
              "      <th>Mobile</th>\n",
              "      <th>Tablet</th>\n",
              "      <th>Unknown</th>\n",
              "      <th>Electronic Health Record</th>\n",
              "      <th>Medical News Platform</th>\n",
              "      <th>Online Learning Portal</th>\n",
              "      <th>Online Medical Journal</th>\n",
              "      <th>Tele-medicine Platform</th>\n",
              "    </tr>\n",
              "  </thead>\n",
              "  <tbody>\n",
              "    <tr>\n",
              "      <th>0</th>\n",
              "      <td>2</td>\n",
              "      <td>97206.0</td>\n",
              "      <td>NaN</td>\n",
              "      <td>0.0</td>\n",
              "      <td>0.0</td>\n",
              "      <td>0.0</td>\n",
              "      <td>0.0</td>\n",
              "      <td>0.0</td>\n",
              "      <td>0.0</td>\n",
              "      <td>0.0</td>\n",
              "      <td>...</td>\n",
              "      <td>0.0</td>\n",
              "      <td>1.0</td>\n",
              "      <td>0.0</td>\n",
              "      <td>0.0</td>\n",
              "      <td>0.0</td>\n",
              "      <td>0.0</td>\n",
              "      <td>0.0</td>\n",
              "      <td>0.0</td>\n",
              "      <td>1.0</td>\n",
              "      <td>0.0</td>\n",
              "    </tr>\n",
              "    <tr>\n",
              "      <th>1</th>\n",
              "      <td>2</td>\n",
              "      <td>22202.0</td>\n",
              "      <td>NaN</td>\n",
              "      <td>0.0</td>\n",
              "      <td>0.0</td>\n",
              "      <td>0.0</td>\n",
              "      <td>0.0</td>\n",
              "      <td>0.0</td>\n",
              "      <td>0.0</td>\n",
              "      <td>0.0</td>\n",
              "      <td>...</td>\n",
              "      <td>0.0</td>\n",
              "      <td>1.0</td>\n",
              "      <td>0.0</td>\n",
              "      <td>0.0</td>\n",
              "      <td>0.0</td>\n",
              "      <td>0.0</td>\n",
              "      <td>0.0</td>\n",
              "      <td>0.0</td>\n",
              "      <td>1.0</td>\n",
              "      <td>0.0</td>\n",
              "    </tr>\n",
              "    <tr>\n",
              "      <th>2</th>\n",
              "      <td>2</td>\n",
              "      <td>83654.0</td>\n",
              "      <td>NaN</td>\n",
              "      <td>0.0</td>\n",
              "      <td>0.0</td>\n",
              "      <td>0.0</td>\n",
              "      <td>0.0</td>\n",
              "      <td>0.0</td>\n",
              "      <td>0.0</td>\n",
              "      <td>0.0</td>\n",
              "      <td>...</td>\n",
              "      <td>0.0</td>\n",
              "      <td>1.0</td>\n",
              "      <td>0.0</td>\n",
              "      <td>0.0</td>\n",
              "      <td>0.0</td>\n",
              "      <td>0.0</td>\n",
              "      <td>0.0</td>\n",
              "      <td>0.0</td>\n",
              "      <td>1.0</td>\n",
              "      <td>0.0</td>\n",
              "    </tr>\n",
              "    <tr>\n",
              "      <th>3</th>\n",
              "      <td>3</td>\n",
              "      <td>229114624.0</td>\n",
              "      <td>2084P0800X</td>\n",
              "      <td>1.0</td>\n",
              "      <td>0.0</td>\n",
              "      <td>0.0</td>\n",
              "      <td>0.0</td>\n",
              "      <td>0.0</td>\n",
              "      <td>0.0</td>\n",
              "      <td>0.0</td>\n",
              "      <td>...</td>\n",
              "      <td>0.0</td>\n",
              "      <td>1.0</td>\n",
              "      <td>0.0</td>\n",
              "      <td>0.0</td>\n",
              "      <td>0.0</td>\n",
              "      <td>0.0</td>\n",
              "      <td>0.0</td>\n",
              "      <td>0.0</td>\n",
              "      <td>1.0</td>\n",
              "      <td>0.0</td>\n",
              "    </tr>\n",
              "    <tr>\n",
              "      <th>4</th>\n",
              "      <td>7</td>\n",
              "      <td>77008.0</td>\n",
              "      <td>NaN</td>\n",
              "      <td>0.0</td>\n",
              "      <td>0.0</td>\n",
              "      <td>0.0</td>\n",
              "      <td>0.0</td>\n",
              "      <td>0.0</td>\n",
              "      <td>0.0</td>\n",
              "      <td>0.0</td>\n",
              "      <td>...</td>\n",
              "      <td>0.0</td>\n",
              "      <td>0.0</td>\n",
              "      <td>1.0</td>\n",
              "      <td>0.0</td>\n",
              "      <td>0.0</td>\n",
              "      <td>0.0</td>\n",
              "      <td>0.0</td>\n",
              "      <td>0.0</td>\n",
              "      <td>1.0</td>\n",
              "      <td>0.0</td>\n",
              "    </tr>\n",
              "  </tbody>\n",
              "</table>\n",
              "<p>5 rows × 1475 columns</p>\n",
              "</div>\n",
              "      <button class=\"colab-df-convert\" onclick=\"convertToInteractive('df-75d184fc-9525-4a79-85f7-c9c6c5cecad7')\"\n",
              "              title=\"Convert this dataframe to an interactive table.\"\n",
              "              style=\"display:none;\">\n",
              "        \n",
              "  <svg xmlns=\"http://www.w3.org/2000/svg\" height=\"24px\"viewBox=\"0 0 24 24\"\n",
              "       width=\"24px\">\n",
              "    <path d=\"M0 0h24v24H0V0z\" fill=\"none\"/>\n",
              "    <path d=\"M18.56 5.44l.94 2.06.94-2.06 2.06-.94-2.06-.94-.94-2.06-.94 2.06-2.06.94zm-11 1L8.5 8.5l.94-2.06 2.06-.94-2.06-.94L8.5 2.5l-.94 2.06-2.06.94zm10 10l.94 2.06.94-2.06 2.06-.94-2.06-.94-.94-2.06-.94 2.06-2.06.94z\"/><path d=\"M17.41 7.96l-1.37-1.37c-.4-.4-.92-.59-1.43-.59-.52 0-1.04.2-1.43.59L10.3 9.45l-7.72 7.72c-.78.78-.78 2.05 0 2.83L4 21.41c.39.39.9.59 1.41.59.51 0 1.02-.2 1.41-.59l7.78-7.78 2.81-2.81c.8-.78.8-2.07 0-2.86zM5.41 20L4 18.59l7.72-7.72 1.47 1.35L5.41 20z\"/>\n",
              "  </svg>\n",
              "      </button>\n",
              "      \n",
              "  <style>\n",
              "    .colab-df-container {\n",
              "      display:flex;\n",
              "      flex-wrap:wrap;\n",
              "      gap: 12px;\n",
              "    }\n",
              "\n",
              "    .colab-df-convert {\n",
              "      background-color: #E8F0FE;\n",
              "      border: none;\n",
              "      border-radius: 50%;\n",
              "      cursor: pointer;\n",
              "      display: none;\n",
              "      fill: #1967D2;\n",
              "      height: 32px;\n",
              "      padding: 0 0 0 0;\n",
              "      width: 32px;\n",
              "    }\n",
              "\n",
              "    .colab-df-convert:hover {\n",
              "      background-color: #E2EBFA;\n",
              "      box-shadow: 0px 1px 2px rgba(60, 64, 67, 0.3), 0px 1px 3px 1px rgba(60, 64, 67, 0.15);\n",
              "      fill: #174EA6;\n",
              "    }\n",
              "\n",
              "    [theme=dark] .colab-df-convert {\n",
              "      background-color: #3B4455;\n",
              "      fill: #D2E3FC;\n",
              "    }\n",
              "\n",
              "    [theme=dark] .colab-df-convert:hover {\n",
              "      background-color: #434B5C;\n",
              "      box-shadow: 0px 1px 3px 1px rgba(0, 0, 0, 0.15);\n",
              "      filter: drop-shadow(0px 1px 2px rgba(0, 0, 0, 0.3));\n",
              "      fill: #FFFFFF;\n",
              "    }\n",
              "  </style>\n",
              "\n",
              "      <script>\n",
              "        const buttonEl =\n",
              "          document.querySelector('#df-75d184fc-9525-4a79-85f7-c9c6c5cecad7 button.colab-df-convert');\n",
              "        buttonEl.style.display =\n",
              "          google.colab.kernel.accessAllowed ? 'block' : 'none';\n",
              "\n",
              "        async function convertToInteractive(key) {\n",
              "          const element = document.querySelector('#df-75d184fc-9525-4a79-85f7-c9c6c5cecad7');\n",
              "          const dataTable =\n",
              "            await google.colab.kernel.invokeFunction('convertToInteractive',\n",
              "                                                     [key], {});\n",
              "          if (!dataTable) return;\n",
              "\n",
              "          const docLinkHtml = 'Like what you see? Visit the ' +\n",
              "            '<a target=\"_blank\" href=https://colab.research.google.com/notebooks/data_table.ipynb>data table notebook</a>'\n",
              "            + ' to learn more about interactive tables.';\n",
              "          element.innerHTML = '';\n",
              "          dataTable['output_type'] = 'display_data';\n",
              "          await google.colab.output.renderOutput(dataTable, element);\n",
              "          const docLink = document.createElement('div');\n",
              "          docLink.innerHTML = docLinkHtml;\n",
              "          element.appendChild(docLink);\n",
              "        }\n",
              "      </script>\n",
              "    </div>\n",
              "  </div>\n",
              "  "
            ],
            "text/plain": [
              "   PLATFORM_ID  USERZIPCODE    TAXONOMY  IS_HCP    0    1    2    3    4    5  \\\n",
              "0            2      97206.0         NaN     0.0  0.0  0.0  0.0  0.0  0.0  0.0   \n",
              "1            2      22202.0         NaN     0.0  0.0  0.0  0.0  0.0  0.0  0.0   \n",
              "2            2      83654.0         NaN     0.0  0.0  0.0  0.0  0.0  0.0  0.0   \n",
              "3            3  229114624.0  2084P0800X     1.0  0.0  0.0  0.0  0.0  0.0  0.0   \n",
              "4            7      77008.0         NaN     0.0  0.0  0.0  0.0  0.0  0.0  0.0   \n",
              "\n",
              "   ...  zoster sine herpete  Desktop  Mobile  Tablet  Unknown  \\\n",
              "0  ...                  0.0      1.0     0.0     0.0      0.0   \n",
              "1  ...                  0.0      1.0     0.0     0.0      0.0   \n",
              "2  ...                  0.0      1.0     0.0     0.0      0.0   \n",
              "3  ...                  0.0      1.0     0.0     0.0      0.0   \n",
              "4  ...                  0.0      0.0     1.0     0.0      0.0   \n",
              "\n",
              "   Electronic Health Record  Medical News Platform  Online Learning Portal  \\\n",
              "0                       0.0                    0.0                     0.0   \n",
              "1                       0.0                    0.0                     0.0   \n",
              "2                       0.0                    0.0                     0.0   \n",
              "3                       0.0                    0.0                     0.0   \n",
              "4                       0.0                    0.0                     0.0   \n",
              "\n",
              "   Online Medical Journal  Tele-medicine Platform  \n",
              "0                     1.0                     0.0  \n",
              "1                     1.0                     0.0  \n",
              "2                     1.0                     0.0  \n",
              "3                     1.0                     0.0  \n",
              "4                     1.0                     0.0  \n",
              "\n",
              "[5 rows x 1475 columns]"
            ]
          },
          "execution_count": 10,
          "metadata": {},
          "output_type": "execute_result"
        }
      ],
      "source": [
        "df = ohe(df,\"DEVICETYPE\")\n",
        "df = ohe(df,\"PLATFORMTYPE\")\n",
        "df.head()"
      ],
      "id": "yiJoB0DsbQco"
    },
    {
      "cell_type": "code",
      "execution_count": null,
      "metadata": {
        "id": "z0eNrs4dvtyz"
      },
      "outputs": [],
      "source": [
        "df_hcp = df.drop(['TAXONOMY'],axis = 1)\n",
        "df_taxonomy = df.drop(['IS_HCP'],axis = 1)"
      ],
      "id": "z0eNrs4dvtyz"
    },
    {
      "cell_type": "code",
      "execution_count": null,
      "metadata": {
        "colab": {
          "base_uri": "https://localhost:8080/"
        },
        "id": "fpKIH4s4v6pN",
        "outputId": "9ab0c2c4-8b5f-4f8d-c043-a3017cacadd6"
      },
      "outputs": [
        {
          "name": "stdout",
          "output_type": "stream",
          "text": [
            "na in df_hcp: PLATFORM_ID                    0\n",
            "USERZIPCODE                 4592\n",
            "IS_HCP                         1\n",
            "0                              0\n",
            "1                              0\n",
            "                            ... \n",
            "Electronic Health Record       0\n",
            "Medical News Platform          0\n",
            "Online Learning Portal         0\n",
            "Online Medical Journal         0\n",
            "Tele-medicine Platform         0\n",
            "Length: 1474, dtype: int64 na in df_taxonomy: PLATFORM_ID                     0\n",
            "USERZIPCODE                  4592\n",
            "TAXONOMY                    81624\n",
            "0                               0\n",
            "1                               0\n",
            "                            ...  \n",
            "Electronic Health Record        0\n",
            "Medical News Platform           0\n",
            "Online Learning Portal          0\n",
            "Online Medical Journal          0\n",
            "Tele-medicine Platform          0\n",
            "Length: 1474, dtype: int64\n"
          ]
        }
      ],
      "source": [
        "print(\"na in df_hcp:\",df_hcp.isnull().sum(),\"na in df_taxonomy:\",df_taxonomy.isnull().sum())"
      ],
      "id": "fpKIH4s4v6pN"
    },
    {
      "cell_type": "markdown",
      "metadata": {
        "id": "-jaDhmAbyqwq"
      },
      "source": [
        "Taking care of null values"
      ],
      "id": "-jaDhmAbyqwq"
    },
    {
      "cell_type": "code",
      "execution_count": null,
      "metadata": {
        "colab": {
          "base_uri": "https://localhost:8080/"
        },
        "id": "bM8l4PGbwTXf",
        "outputId": "c3667bff-d33c-4c5c-ccd0-964d0d7a16bf"
      },
      "outputs": [
        {
          "name": "stdout",
          "output_type": "stream",
          "text": [
            "na in df_hcp: PLATFORM_ID                 0\n",
            "USERZIPCODE                 0\n",
            "IS_HCP                      0\n",
            "0                           0\n",
            "1                           0\n",
            "                           ..\n",
            "Electronic Health Record    0\n",
            "Medical News Platform       0\n",
            "Online Learning Portal      0\n",
            "Online Medical Journal      0\n",
            "Tele-medicine Platform      0\n",
            "Length: 1474, dtype: int64 na in df_taxonomy: PLATFORM_ID                 0\n",
            "USERZIPCODE                 0\n",
            "TAXONOMY                    0\n",
            "0                           0\n",
            "1                           0\n",
            "                           ..\n",
            "Electronic Health Record    0\n",
            "Medical News Platform       0\n",
            "Online Learning Portal      0\n",
            "Online Medical Journal      0\n",
            "Tele-medicine Platform      0\n",
            "Length: 1474, dtype: int64\n",
            "None\n"
          ]
        }
      ],
      "source": [
        "df_hcp.dropna(axis = 0,how = 'any',inplace = True)\n",
        "df_taxonomy.dropna(axis = 0,how = 'any',inplace = True)\n",
        "print(print(\"na in df_hcp:\",df_hcp.isnull().sum(),\"na in df_taxonomy:\",df_taxonomy.isnull().sum()))"
      ],
      "id": "bM8l4PGbwTXf"
    },
    {
      "cell_type": "code",
      "execution_count": null,
      "metadata": {
        "colab": {
          "base_uri": "https://localhost:8080/"
        },
        "id": "BNtmxPFew3KB",
        "outputId": "e58785be-68ce-4fb2-e7ab-efc38b8595a1"
      },
      "outputs": [
        {
          "name": "stdout",
          "output_type": "stream",
          "text": [
            "df_hcp_shape:  (109344, 1474)  df_taxonomy_shape: (32313, 1474)\n"
          ]
        }
      ],
      "source": [
        "print(\"df_hcp_shape: \",df_hcp.shape,\" df_taxonomy_shape:\",df_taxonomy.shape)"
      ],
      "id": "BNtmxPFew3KB"
    },
    {
      "cell_type": "markdown",
      "metadata": {
        "id": "qZp7FuZqxe98"
      },
      "source": [
        "df_hcp should be used to predict hcp classification problem and df_taxonomy should be used to train taxonomy prediction/classification"
      ],
      "id": "qZp7FuZqxe98"
    },
    {
      "cell_type": "code",
      "source": [
        "#Hyperparameters\n",
        "num_layers = 10\n",
        "input_shape = ()\n",
        "num_classes = 207 #207 taxonomy are there\n",
        "units = [256,256,512,512,1024,1024,2048,2048,1024,1024] #list of size num_layers\n",
        "dropout = [0.2,0.2,0.3,0.3,0.4,0.4,0.5,0.5,0.4,0.4] #list of size num_layers\n",
        "num_epochs = 10"
      ],
      "metadata": {
        "id": "YstS6-A630uu"
      },
      "id": "YstS6-A630uu",
      "execution_count": null,
      "outputs": []
    },
    {
      "cell_type": "code",
      "source": [
        "def nn():\n",
        "  input = Input(shape = input_shape)\n",
        "  for i in range(num_layers):\n",
        "    x = Dense(units[i],activation = 'relu')(input)\n",
        "    input = Dropout(dropout[i])(x)\n",
        "  x = Dense(units = 512,activation = 'relu')(input)\n",
        "  y = Dense(units = num_classes,activation = 'softmax')(x)\n",
        "  model = Model(inputs = input,outputs = y)\n",
        "  model.compile(optimizer = tf.keras.optimizers.Adamdelta(rho = 0.9),loss ='sparse_categorical_crossentropy',metrics = ['accuracy'])\n",
        "  return model"
      ],
      "metadata": {
        "id": "7ArtZFpN3NFq"
      },
      "id": "7ArtZFpN3NFq",
      "execution_count": null,
      "outputs": []
    },
    {
      "cell_type": "code",
      "source": [
        "model = nn()\n",
        "#model.fit(X,y,validation_data = (X_val,y_val),epochs = num_epochs)"
      ],
      "metadata": {
        "id": "sfVtnQC35imc"
      },
      "id": "sfVtnQC35imc",
      "execution_count": null,
      "outputs": []
    }
  ],
  "metadata": {
    "colab": {
      "provenance": [],
      "include_colab_link": true
    },
    "kernelspec": {
      "display_name": "Python 3 (ipykernel)",
      "language": "python",
      "name": "python3"
    },
    "language_info": {
      "codemirror_mode": {
        "name": "ipython",
        "version": 3
      },
      "file_extension": ".py",
      "mimetype": "text/x-python",
      "name": "python",
      "nbconvert_exporter": "python",
      "pygments_lexer": "ipython3",
      "version": "3.11.1"
    }
  },
  "nbformat": 4,
  "nbformat_minor": 5
}