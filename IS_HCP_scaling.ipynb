{
  "cells": [
    {
      "cell_type": "markdown",
      "metadata": {
        "id": "view-in-github",
        "colab_type": "text"
      },
      "source": [
        "<a href=\"https://colab.research.google.com/github/mellow-75/hackathon-/blob/main/IS_HCP_scaling.ipynb\" target=\"_parent\"><img src=\"https://colab.research.google.com/assets/colab-badge.svg\" alt=\"Open In Colab\"/></a>"
      ]
    },
    {
      "cell_type": "code",
      "source": [
        "from google.colab import drive\n",
        "drive.mount('/content/drive')"
      ],
      "metadata": {
        "id": "m4d5cMVRh93N",
        "colab": {
          "base_uri": "https://localhost:8080/"
        },
        "outputId": "61cfd234-ccc3-4d5d-cd7c-2091beca6404"
      },
      "id": "m4d5cMVRh93N",
      "execution_count": 9,
      "outputs": [
        {
          "output_type": "stream",
          "name": "stdout",
          "text": [
            "Mounted at /content/drive\n"
          ]
        }
      ]
    },
    {
      "cell_type": "code",
      "execution_count": 1,
      "id": "95377922",
      "metadata": {
        "id": "95377922"
      },
      "outputs": [],
      "source": [
        "import pandas as pd\n",
        "import numpy as np\n",
        "import matplotlib.pyplot as plt\n",
        "import sklearn.ensemble\n",
        "from sklearn.feature_extraction.text import TfidfVectorizer\n",
        "from sklearn.preprocessing import StandardScaler\n",
        "from sklearn.ensemble import RandomForestClassifier,HistGradientBoostingClassifier\n",
        "from sklearn.neural_network import MLPClassifier\n",
        "from sklearn.metrics import accuracy_score, precision_score, recall_score ,f1_score,confusion_matrix"
      ]
    },
    {
      "cell_type": "code",
      "execution_count": 2,
      "id": "fb839c51",
      "metadata": {
        "id": "fb839c51"
      },
      "outputs": [],
      "source": [
        "df=pd.read_csv(\"/content/drive/MyDrive/hackathon/Doceree-HCP_Train.csv\", encoding = \"latin=1\")"
      ]
    },
    {
      "cell_type": "code",
      "execution_count": null,
      "id": "a63239ec",
      "metadata": {
        "colab": {
          "base_uri": "https://localhost:8080/"
        },
        "id": "a63239ec",
        "outputId": "34e3e47b-a9d3-450b-ea4b-56040d08063c"
      },
      "outputs": [
        {
          "output_type": "stream",
          "name": "stdout",
          "text": [
            "no of nan values :  0\n",
            "(62723, 14)\n"
          ]
        }
      ],
      "source": [
        "print(\"no of nan values : \" ,df['ID'].isna().sum())\n",
        "print(df.shape)"
      ]
    },
    {
      "cell_type": "code",
      "execution_count": null,
      "id": "472a66ec",
      "metadata": {
        "colab": {
          "base_uri": "https://localhost:8080/"
        },
        "id": "472a66ec",
        "outputId": "0f2a1142-b13c-46cc-d76a-fe2422d092bf"
      },
      "outputs": [
        {
          "output_type": "stream",
          "name": "stdout",
          "text": [
            "no of nan values :  0\n",
            "Desktop    43116\n",
            "Mobile     17729\n",
            "Tablet      1866\n",
            "Unknown       12\n",
            "Name: DEVICETYPE, dtype: int64\n"
          ]
        }
      ],
      "source": [
        "print(\"no of nan values : \" ,df['DEVICETYPE'].isna().sum())\n",
        "print(df.DEVICETYPE.value_counts())"
      ]
    },
    {
      "cell_type": "code",
      "execution_count": null,
      "id": "99ff1253",
      "metadata": {
        "colab": {
          "base_uri": "https://localhost:8080/"
        },
        "id": "99ff1253",
        "outputId": "86bbcd9f-f80a-49ac-eea3-c18dbe31bd18"
      },
      "outputs": [
        {
          "output_type": "stream",
          "name": "stdout",
          "text": [
            "no of nan values :  0\n",
            "2     43608\n",
            "7     11508\n",
            "9      2092\n",
            "5      1739\n",
            "6      1643\n",
            "10      596\n",
            "4       413\n",
            "14      400\n",
            "12      317\n",
            "3       274\n",
            "8        73\n",
            "15       25\n",
            "1        22\n",
            "13       12\n",
            "16        1\n",
            "Name: PLATFORM_ID, dtype: int64\n"
          ]
        }
      ],
      "source": [
        "print(\"no of nan values : \" ,df['PLATFORM_ID'].isna().sum())\n",
        "print(df.PLATFORM_ID.value_counts())"
      ]
    },
    {
      "cell_type": "code",
      "execution_count": null,
      "id": "ea4380ee",
      "metadata": {
        "colab": {
          "base_uri": "https://localhost:8080/"
        },
        "id": "ea4380ee",
        "outputId": "039cb6b8-36b2-4505-c91e-18cb46436d28"
      },
      "outputs": [
        {
          "output_type": "stream",
          "name": "stdout",
          "text": [
            "no of nan values :  0\n",
            "71.105.120.171     936\n",
            "142.154.205.202    644\n",
            "68.132.98.211      490\n",
            "108.175.114.101    396\n",
            "108.175.114.100    394\n",
            "162.17.102.153     353\n",
            "173.66.114.27      348\n",
            "12.218.110.242     309\n",
            "65.216.253.25      290\n",
            "150.148.14.137     286\n",
            "99.160.6.197       265\n",
            "129.176.151.15     258\n",
            "65.112.8.18        228\n",
            "23.125.217.54      227\n",
            "24.102.87.62       211\n",
            "69.92.49.4         196\n",
            "38.240.111.51      190\n",
            "47.189.55.180      184\n",
            "71.87.24.123       180\n",
            "198.184.147.58     151\n",
            "128.146.52.108     144\n",
            "67.203.36.94       142\n",
            "71.66.42.242       133\n",
            "67.203.36.81       126\n",
            "128.146.189.103    120\n",
            "24.45.121.35       117\n",
            "50.26.129.135      116\n",
            "209.126.104.10     113\n",
            "98.110.76.22       111\n",
            "209.126.104.7      109\n",
            "207.38.89.236      108\n",
            "66.249.66.73       108\n",
            "139.52.18.237      107\n",
            "207.38.87.145      103\n",
            "66.249.66.75       102\n",
            "209.126.127.71     101\n",
            "68.175.60.169       99\n",
            "209.126.103.138     97\n",
            "35.129.213.194      96\n",
            "216.24.45.43        95\n",
            "174.66.101.238      94\n",
            "209.126.124.58      93\n",
            "170.212.0.93        93\n",
            "209.126.104.18      91\n",
            "209.126.104.13      85\n",
            "104.136.3.138       84\n",
            "152.16.191.106      84\n",
            "208.74.105.182      83\n",
            "167.201.243.131     83\n",
            "162.119.232.108     83\n",
            "162.82.0.67         81\n",
            "71.163.17.92        81\n",
            "185.228.195.71      81\n",
            "66.97.189.250       81\n",
            "73.7.183.117        80\n",
            "152.3.43.49         80\n",
            "174.59.217.179      78\n",
            "66.249.66.89        74\n",
            "71.232.195.131      71\n",
            "129.171.150.193     69\n",
            "Name: BIDREQUESTIP, dtype: int64\n"
          ]
        }
      ],
      "source": [
        "print(\"no of nan values : \" ,df['BIDREQUESTIP'].isna().sum())\n",
        "print(df.BIDREQUESTIP.value_counts().head(60))"
      ]
    },
    {
      "cell_type": "code",
      "execution_count": null,
      "id": "497a28fc",
      "metadata": {
        "colab": {
          "base_uri": "https://localhost:8080/"
        },
        "id": "497a28fc",
        "outputId": "1fd877f4-ac46-4c4b-c99a-e11dee71babd"
      },
      "outputs": [
        {
          "output_type": "stream",
          "name": "stdout",
          "text": [
            "no of nan values :  1\n",
            "3e2578c8-f794-41af-a38c-c5cfb3c0f014    798\n",
            "d76f7c0b-1a64-4d4b-b36d-86c832be8837    782\n",
            "fcd3d327-0ad5-425e-8ea8-33ffe6a31543    353\n",
            "d00f28d6-3a50-46cd-92f3-8601bd57ad0e    348\n",
            "fe53f32c-4646-4abe-afea-90b21d6b8531    330\n",
            "73828378-8999-4670-a3bf-e5e78096301c    286\n",
            "82fcc028-f146-4efb-b95e-69fd62109bbc    284\n",
            "fa24a307-1001-4f5e-9d87-669e91737c07    265\n",
            "f6890950-af86-4400-ab0b-e8498d0ba99e    242\n",
            "6b1794db-cc22-4f66-b185-ecd99146bb07    228\n",
            "a4706c21-3ce1-453d-b57c-1541c50d15f5    227\n",
            "d9f89efd-0f02-4844-9719-098302c545df    212\n",
            "c42db189-7d1b-4639-b9c6-9fa4d80be4bd    195\n",
            "72cbb382-31dd-4e2a-9e9c-9d0f40a7d0a9    193\n",
            "29903453-4c40-4f25-98a5-ddc554f71555    190\n",
            "9fee45ce-0010-40e0-a272-6c1c4f86ea00    180\n",
            "cd57e558-f19d-4cd8-afcc-d0fa18259173    178\n",
            "63238044-b275-480b-a613-780d45d2f70a    167\n",
            "456631b8-ca59-4e7a-96a0-53bcbf85eaef    142\n",
            "722fe815-ed32-4bff-ad66-03edf6d910dd    142\n",
            "Name: USERPLATFORMUID, dtype: int64\n"
          ]
        }
      ],
      "source": [
        "print(\"no of nan values : \" ,df['USERPLATFORMUID'].isna().sum())\n",
        "print(df.USERPLATFORMUID.value_counts().head(20))"
      ]
    },
    {
      "cell_type": "code",
      "execution_count": null,
      "id": "8cdf96bc",
      "metadata": {
        "colab": {
          "base_uri": "https://localhost:8080/"
        },
        "id": "8cdf96bc",
        "outputId": "0f77368e-ed10-4be4-c9d0-745ae0aa2c29"
      },
      "outputs": [
        {
          "output_type": "stream",
          "name": "stdout",
          "text": [
            "no of nan values :  3497\n",
            "New York              2739\n",
            "Brooklyn              1773\n",
            "St Louis              1411\n",
            "Los Angeles           1173\n",
            "Houston                997\n",
            "Queens                 909\n",
            "Arlington              776\n",
            "Chicago                770\n",
            "Philadelphia           643\n",
            "Columbus               626\n",
            "Miami                  555\n",
            "Phoenix                509\n",
            "Deer Park              497\n",
            "San Francisco          479\n",
            "Fort Worth             466\n",
            "Rochester              446\n",
            "Dallas                 441\n",
            "Charlotte              401\n",
            "Memphis                389\n",
            "Palm Beach Gardens     376\n",
            "Pittsburgh             370\n",
            "Seattle                368\n",
            "Rockville              328\n",
            "Atlanta                328\n",
            "Durham                 323\n",
            "Minneapolis            304\n",
            "Washington             302\n",
            "Springfield            299\n",
            "Cambridge              295\n",
            "Denver                 289\n",
            "Portland               286\n",
            "Cleveland              285\n",
            "San Diego              273\n",
            "Tampa                  267\n",
            "Jacksonville           251\n",
            "Orlando                249\n",
            "Buena Park             231\n",
            "San Antonio            229\n",
            "Boston                 227\n",
            "Austin                 224\n",
            "Garland                216\n",
            "Sacramento             216\n",
            "Birmingham             216\n",
            "Cincinnati             214\n",
            "Indianapolis           214\n",
            "Idaho Falls            212\n",
            "Las Vegas              211\n",
            "Salt Lake City         208\n",
            "Appleton               206\n",
            "Ashburn                206\n",
            "Kansas City            204\n",
            "San Jose               196\n",
            "Pilot Mountain         190\n",
            "Richmond               184\n",
            "Baltimore              176\n",
            "Gainesville            164\n",
            "Amarillo               163\n",
            "Nashville              159\n",
            "Milwaukee              150\n",
            "Saint Paul             143\n",
            "Name: USERCITY, dtype: int64\n"
          ]
        }
      ],
      "source": [
        "print(\"no of nan values : \" ,df['USERCITY'].isna().sum())\n",
        "print(df.USERCITY.value_counts().head(60))"
      ]
    },
    {
      "cell_type": "code",
      "execution_count": null,
      "id": "02c32a70",
      "metadata": {
        "colab": {
          "base_uri": "https://localhost:8080/"
        },
        "id": "02c32a70",
        "outputId": "b76d1db2-3f65-4408-8534-ee574cd1cb1f"
      },
      "outputs": [
        {
          "output_type": "stream",
          "name": "stdout",
          "text": [
            "no of nan values :  2510\n",
            "63169.0        1191\n",
            "11226.0         959\n",
            "10001.0         658\n",
            "22202.0         640\n",
            "90060.0         576\n",
            "               ... \n",
            "317686772.0       1\n",
            "60465.0           1\n",
            "80124.0           1\n",
            "76012.0           1\n",
            "83647.0           1\n",
            "Name: USERZIPCODE, Length: 9527, dtype: int64\n"
          ]
        }
      ],
      "source": [
        "print(\"no of nan values : \" ,df['USERZIPCODE'].isna().sum())\n",
        "print(df.USERZIPCODE.value_counts())"
      ]
    },
    {
      "cell_type": "code",
      "execution_count": null,
      "id": "17008e93",
      "metadata": {
        "colab": {
          "base_uri": "https://localhost:8080/"
        },
        "id": "17008e93",
        "outputId": "e5f2f933-f2d4-435f-8177-837ed1e847df",
        "scrolled": true
      },
      "outputs": [
        {
          "output_type": "stream",
          "name": "stdout",
          "text": [
            "no of nan values :  1\n"
          ]
        }
      ],
      "source": [
        "print(\"no of nan values : \" ,df['USERAGENT'].isna().sum())\n"
      ]
    },
    {
      "cell_type": "code",
      "execution_count": null,
      "id": "6eeedca0",
      "metadata": {
        "colab": {
          "base_uri": "https://localhost:8080/"
        },
        "id": "6eeedca0",
        "outputId": "519ffebb-41ba-4f84-a872-03246c5ef7e4"
      },
      "outputs": [
        {
          "output_type": "stream",
          "name": "stdout",
          "text": [
            "no of nan values :  0\n",
            "Online Medical Journal      60620\n",
            "Online Learning Portal       1643\n",
            "Medical News Platform         437\n",
            "Electronic Health Record       22\n",
            "Tele-medicine Platform          1\n",
            "Name: PLATFORMTYPE, dtype: int64\n"
          ]
        }
      ],
      "source": [
        "print(\"no of nan values : \" ,df['PLATFORMTYPE'].isna().sum())\n",
        "print(df.PLATFORMTYPE.value_counts())"
      ]
    },
    {
      "cell_type": "code",
      "execution_count": null,
      "id": "1abc9643",
      "metadata": {
        "colab": {
          "base_uri": "https://localhost:8080/"
        },
        "id": "1abc9643",
        "outputId": "f07994c6-9c3f-45cd-b706-2ebf95c21730"
      },
      "outputs": [
        {
          "output_type": "stream",
          "name": "stdout",
          "text": [
            "no of nan values :  0\n",
            "Website    62723\n",
            "Name: CHANNELTYPE, dtype: int64\n"
          ]
        }
      ],
      "source": [
        "print(\"no of nan values : \" ,df['CHANNELTYPE'].isna().sum())\n",
        "print(df.CHANNELTYPE.value_counts())"
      ]
    },
    {
      "cell_type": "code",
      "execution_count": null,
      "id": "97a4bf71",
      "metadata": {
        "colab": {
          "base_uri": "https://localhost:8080/"
        },
        "id": "97a4bf71",
        "outputId": "42df0c36-cd8f-4036-9793-47c4c923c412"
      },
      "outputs": [
        {
          "output_type": "stream",
          "name": "stdout",
          "text": [
            "no of nan values :  0\n",
            "4084\n"
          ]
        }
      ],
      "source": [
        "print(\"no of nan values : \" ,df['URL'].isna().sum())\n",
        "print(df.URL.nunique())"
      ]
    },
    {
      "cell_type": "code",
      "execution_count": null,
      "id": "f2651d7d",
      "metadata": {
        "colab": {
          "base_uri": "https://localhost:8080/"
        },
        "id": "f2651d7d",
        "outputId": "17a2da19-e988-4e00-956f-3f23086917da"
      },
      "outputs": [
        {
          "output_type": "stream",
          "name": "stdout",
          "text": [
            "no of nan values :  0\n",
            "2136\n"
          ]
        }
      ],
      "source": [
        "print(\"no of nan values : \" ,df['KEYWORDS'].isna().sum())\n",
        "print(df.KEYWORDS.nunique())"
      ]
    },
    {
      "cell_type": "code",
      "source": [
        "df.head()"
      ],
      "metadata": {
        "id": "kPAa1q3OFSyf",
        "outputId": "3c4f1026-9e37-4aca-da73-7668a3f8a08e",
        "colab": {
          "base_uri": "https://localhost:8080/",
          "height": 634
        }
      },
      "id": "kPAa1q3OFSyf",
      "execution_count": null,
      "outputs": [
        {
          "output_type": "execute_result",
          "data": {
            "text/plain": [
              "     ID DEVICETYPE  PLATFORM_ID    BIDREQUESTIP  \\\n",
              "0  1001    Desktop            2    170.173.0.22   \n",
              "1  1002    Desktop            2   65.216.253.25   \n",
              "2  1003    Desktop            2    66.232.79.22   \n",
              "3  1004    Desktop            3  137.54.125.246   \n",
              "4  1005     Mobile            7  174.202.231.99   \n",
              "\n",
              "                        USERPLATFORMUID     USERCITY  USERZIPCODE  \\\n",
              "0  6974dcaa-f932-480e-9fb5-c52e20e1393a     Portland      97206.0   \n",
              "1  c12f3f8f-8fcf-484a-90e1-1ac04db8cdcf    Arlington      22202.0   \n",
              "2  a698de4b-e200-46dd-b5fb-40402175ae18  New Meadows      83654.0   \n",
              "3  45967533-75c8-4fbd-a00c-e6ff20447aaa          NaN  229114624.0   \n",
              "4  a17e25be-532d-4cf5-b916-9308c8c3961f      Houston      77008.0   \n",
              "\n",
              "                                           USERAGENT            PLATFORMTYPE  \\\n",
              "0  Mozilla/5.0 (Windows NT 10.0; Win64; x64) Appl...  Online Medical Journal   \n",
              "1  Mozilla/5.0 (Macintosh; Intel Mac OS X 10_15_7...  Online Medical Journal   \n",
              "2  Mozilla/5.0 (Macintosh; Intel Mac OS X 10_15_7...  Online Medical Journal   \n",
              "3  Mozilla/5.0 (Windows NT 10.0; Win64; x64) Appl...  Online Medical Journal   \n",
              "4  Mozilla/5.0 (iPhone; CPU iPhone OS 16_1_1 like...  Online Medical Journal   \n",
              "\n",
              "  CHANNELTYPE                                                URL  \\\n",
              "0     Website  https://www.cancertherapyadvisor.com/home/canc...   \n",
              "1     Website  https://www.cancertherapyadvisor.com/home/deci...   \n",
              "2     Website  https://www.cancertherapyadvisor.com/home/canc...   \n",
              "3     Website  https://globalrph.com/medcalcs/warfarin-mainte...   \n",
              "4     Website  https://www.cureus.com/articles/58184-a-review...   \n",
              "\n",
              "                                            KEYWORDS    TAXONOMY  IS_HCP  \n",
              "0  General|Endocrine|False|Medicine|Surgery|Urolo...         NaN     0.0  \n",
              "1  Bone Marrow|Radiography|Chronic|Oncology|Psych...         NaN     0.0  \n",
              "2  General|Endocrine|False|Medicine|Surgery|Urolo...         NaN     0.0  \n",
              "3  Dental|Total|Clinical|Pharmacology|Physicians|...  2084P0800X     1.0  \n",
              "4  Critical Care|Emergency Medicine|General Pract...         NaN     0.0  "
            ],
            "text/html": [
              "\n",
              "  <div id=\"df-e6dc76a1-ff0d-4c96-8ff5-c13bb88aaacf\">\n",
              "    <div class=\"colab-df-container\">\n",
              "      <div>\n",
              "<style scoped>\n",
              "    .dataframe tbody tr th:only-of-type {\n",
              "        vertical-align: middle;\n",
              "    }\n",
              "\n",
              "    .dataframe tbody tr th {\n",
              "        vertical-align: top;\n",
              "    }\n",
              "\n",
              "    .dataframe thead th {\n",
              "        text-align: right;\n",
              "    }\n",
              "</style>\n",
              "<table border=\"1\" class=\"dataframe\">\n",
              "  <thead>\n",
              "    <tr style=\"text-align: right;\">\n",
              "      <th></th>\n",
              "      <th>ID</th>\n",
              "      <th>DEVICETYPE</th>\n",
              "      <th>PLATFORM_ID</th>\n",
              "      <th>BIDREQUESTIP</th>\n",
              "      <th>USERPLATFORMUID</th>\n",
              "      <th>USERCITY</th>\n",
              "      <th>USERZIPCODE</th>\n",
              "      <th>USERAGENT</th>\n",
              "      <th>PLATFORMTYPE</th>\n",
              "      <th>CHANNELTYPE</th>\n",
              "      <th>URL</th>\n",
              "      <th>KEYWORDS</th>\n",
              "      <th>TAXONOMY</th>\n",
              "      <th>IS_HCP</th>\n",
              "    </tr>\n",
              "  </thead>\n",
              "  <tbody>\n",
              "    <tr>\n",
              "      <th>0</th>\n",
              "      <td>1001</td>\n",
              "      <td>Desktop</td>\n",
              "      <td>2</td>\n",
              "      <td>170.173.0.22</td>\n",
              "      <td>6974dcaa-f932-480e-9fb5-c52e20e1393a</td>\n",
              "      <td>Portland</td>\n",
              "      <td>97206.0</td>\n",
              "      <td>Mozilla/5.0 (Windows NT 10.0; Win64; x64) Appl...</td>\n",
              "      <td>Online Medical Journal</td>\n",
              "      <td>Website</td>\n",
              "      <td>https://www.cancertherapyadvisor.com/home/canc...</td>\n",
              "      <td>General|Endocrine|False|Medicine|Surgery|Urolo...</td>\n",
              "      <td>NaN</td>\n",
              "      <td>0.0</td>\n",
              "    </tr>\n",
              "    <tr>\n",
              "      <th>1</th>\n",
              "      <td>1002</td>\n",
              "      <td>Desktop</td>\n",
              "      <td>2</td>\n",
              "      <td>65.216.253.25</td>\n",
              "      <td>c12f3f8f-8fcf-484a-90e1-1ac04db8cdcf</td>\n",
              "      <td>Arlington</td>\n",
              "      <td>22202.0</td>\n",
              "      <td>Mozilla/5.0 (Macintosh; Intel Mac OS X 10_15_7...</td>\n",
              "      <td>Online Medical Journal</td>\n",
              "      <td>Website</td>\n",
              "      <td>https://www.cancertherapyadvisor.com/home/deci...</td>\n",
              "      <td>Bone Marrow|Radiography|Chronic|Oncology|Psych...</td>\n",
              "      <td>NaN</td>\n",
              "      <td>0.0</td>\n",
              "    </tr>\n",
              "    <tr>\n",
              "      <th>2</th>\n",
              "      <td>1003</td>\n",
              "      <td>Desktop</td>\n",
              "      <td>2</td>\n",
              "      <td>66.232.79.22</td>\n",
              "      <td>a698de4b-e200-46dd-b5fb-40402175ae18</td>\n",
              "      <td>New Meadows</td>\n",
              "      <td>83654.0</td>\n",
              "      <td>Mozilla/5.0 (Macintosh; Intel Mac OS X 10_15_7...</td>\n",
              "      <td>Online Medical Journal</td>\n",
              "      <td>Website</td>\n",
              "      <td>https://www.cancertherapyadvisor.com/home/canc...</td>\n",
              "      <td>General|Endocrine|False|Medicine|Surgery|Urolo...</td>\n",
              "      <td>NaN</td>\n",
              "      <td>0.0</td>\n",
              "    </tr>\n",
              "    <tr>\n",
              "      <th>3</th>\n",
              "      <td>1004</td>\n",
              "      <td>Desktop</td>\n",
              "      <td>3</td>\n",
              "      <td>137.54.125.246</td>\n",
              "      <td>45967533-75c8-4fbd-a00c-e6ff20447aaa</td>\n",
              "      <td>NaN</td>\n",
              "      <td>229114624.0</td>\n",
              "      <td>Mozilla/5.0 (Windows NT 10.0; Win64; x64) Appl...</td>\n",
              "      <td>Online Medical Journal</td>\n",
              "      <td>Website</td>\n",
              "      <td>https://globalrph.com/medcalcs/warfarin-mainte...</td>\n",
              "      <td>Dental|Total|Clinical|Pharmacology|Physicians|...</td>\n",
              "      <td>2084P0800X</td>\n",
              "      <td>1.0</td>\n",
              "    </tr>\n",
              "    <tr>\n",
              "      <th>4</th>\n",
              "      <td>1005</td>\n",
              "      <td>Mobile</td>\n",
              "      <td>7</td>\n",
              "      <td>174.202.231.99</td>\n",
              "      <td>a17e25be-532d-4cf5-b916-9308c8c3961f</td>\n",
              "      <td>Houston</td>\n",
              "      <td>77008.0</td>\n",
              "      <td>Mozilla/5.0 (iPhone; CPU iPhone OS 16_1_1 like...</td>\n",
              "      <td>Online Medical Journal</td>\n",
              "      <td>Website</td>\n",
              "      <td>https://www.cureus.com/articles/58184-a-review...</td>\n",
              "      <td>Critical Care|Emergency Medicine|General Pract...</td>\n",
              "      <td>NaN</td>\n",
              "      <td>0.0</td>\n",
              "    </tr>\n",
              "  </tbody>\n",
              "</table>\n",
              "</div>\n",
              "      <button class=\"colab-df-convert\" onclick=\"convertToInteractive('df-e6dc76a1-ff0d-4c96-8ff5-c13bb88aaacf')\"\n",
              "              title=\"Convert this dataframe to an interactive table.\"\n",
              "              style=\"display:none;\">\n",
              "        \n",
              "  <svg xmlns=\"http://www.w3.org/2000/svg\" height=\"24px\"viewBox=\"0 0 24 24\"\n",
              "       width=\"24px\">\n",
              "    <path d=\"M0 0h24v24H0V0z\" fill=\"none\"/>\n",
              "    <path d=\"M18.56 5.44l.94 2.06.94-2.06 2.06-.94-2.06-.94-.94-2.06-.94 2.06-2.06.94zm-11 1L8.5 8.5l.94-2.06 2.06-.94-2.06-.94L8.5 2.5l-.94 2.06-2.06.94zm10 10l.94 2.06.94-2.06 2.06-.94-2.06-.94-.94-2.06-.94 2.06-2.06.94z\"/><path d=\"M17.41 7.96l-1.37-1.37c-.4-.4-.92-.59-1.43-.59-.52 0-1.04.2-1.43.59L10.3 9.45l-7.72 7.72c-.78.78-.78 2.05 0 2.83L4 21.41c.39.39.9.59 1.41.59.51 0 1.02-.2 1.41-.59l7.78-7.78 2.81-2.81c.8-.78.8-2.07 0-2.86zM5.41 20L4 18.59l7.72-7.72 1.47 1.35L5.41 20z\"/>\n",
              "  </svg>\n",
              "      </button>\n",
              "      \n",
              "  <style>\n",
              "    .colab-df-container {\n",
              "      display:flex;\n",
              "      flex-wrap:wrap;\n",
              "      gap: 12px;\n",
              "    }\n",
              "\n",
              "    .colab-df-convert {\n",
              "      background-color: #E8F0FE;\n",
              "      border: none;\n",
              "      border-radius: 50%;\n",
              "      cursor: pointer;\n",
              "      display: none;\n",
              "      fill: #1967D2;\n",
              "      height: 32px;\n",
              "      padding: 0 0 0 0;\n",
              "      width: 32px;\n",
              "    }\n",
              "\n",
              "    .colab-df-convert:hover {\n",
              "      background-color: #E2EBFA;\n",
              "      box-shadow: 0px 1px 2px rgba(60, 64, 67, 0.3), 0px 1px 3px 1px rgba(60, 64, 67, 0.15);\n",
              "      fill: #174EA6;\n",
              "    }\n",
              "\n",
              "    [theme=dark] .colab-df-convert {\n",
              "      background-color: #3B4455;\n",
              "      fill: #D2E3FC;\n",
              "    }\n",
              "\n",
              "    [theme=dark] .colab-df-convert:hover {\n",
              "      background-color: #434B5C;\n",
              "      box-shadow: 0px 1px 3px 1px rgba(0, 0, 0, 0.15);\n",
              "      filter: drop-shadow(0px 1px 2px rgba(0, 0, 0, 0.3));\n",
              "      fill: #FFFFFF;\n",
              "    }\n",
              "  </style>\n",
              "\n",
              "      <script>\n",
              "        const buttonEl =\n",
              "          document.querySelector('#df-e6dc76a1-ff0d-4c96-8ff5-c13bb88aaacf button.colab-df-convert');\n",
              "        buttonEl.style.display =\n",
              "          google.colab.kernel.accessAllowed ? 'block' : 'none';\n",
              "\n",
              "        async function convertToInteractive(key) {\n",
              "          const element = document.querySelector('#df-e6dc76a1-ff0d-4c96-8ff5-c13bb88aaacf');\n",
              "          const dataTable =\n",
              "            await google.colab.kernel.invokeFunction('convertToInteractive',\n",
              "                                                     [key], {});\n",
              "          if (!dataTable) return;\n",
              "\n",
              "          const docLinkHtml = 'Like what you see? Visit the ' +\n",
              "            '<a target=\"_blank\" href=https://colab.research.google.com/notebooks/data_table.ipynb>data table notebook</a>'\n",
              "            + ' to learn more about interactive tables.';\n",
              "          element.innerHTML = '';\n",
              "          dataTable['output_type'] = 'display_data';\n",
              "          await google.colab.output.renderOutput(dataTable, element);\n",
              "          const docLink = document.createElement('div');\n",
              "          docLink.innerHTML = docLinkHtml;\n",
              "          element.appendChild(docLink);\n",
              "        }\n",
              "      </script>\n",
              "    </div>\n",
              "  </div>\n",
              "  "
            ]
          },
          "metadata": {},
          "execution_count": 63
        }
      ]
    },
    {
      "cell_type": "code",
      "execution_count": null,
      "id": "IkmE2o7gmLYW",
      "metadata": {
        "colab": {
          "base_uri": "https://localhost:8080/"
        },
        "id": "IkmE2o7gmLYW",
        "outputId": "4827615d-efc5-49c4-cc9e-10116ba48c24"
      },
      "outputs": [
        {
          "output_type": "stream",
          "name": "stdout",
          "text": [
            "no of nan values :  1\n"
          ]
        }
      ],
      "source": [
        "print(\"no of nan values : \" ,df['IS_HCP'].isna().sum())"
      ]
    },
    {
      "cell_type": "code",
      "execution_count": null,
      "id": "2b12bf78",
      "metadata": {
        "colab": {
          "base_uri": "https://localhost:8080/"
        },
        "id": "2b12bf78",
        "outputId": "08c8d3d6-c079-48c5-e63b-39b7fc3f0ba1"
      },
      "outputs": [
        {
          "output_type": "stream",
          "name": "stdout",
          "text": [
            "no of nan values :  44921\n",
            "2084P0800X    4391\n",
            "2084N0400X    3634\n",
            "207Q00000X    2166\n",
            "207R00000X    1732\n",
            "208000000X     469\n",
            "              ... \n",
            "2086X0206X       1\n",
            "207WX0200X       1\n",
            "111N00000X       1\n",
            "2086S0129X       1\n",
            "207ND0101X       1\n",
            "Name: TAXONOMY, Length: 189, dtype: int64\n"
          ]
        }
      ],
      "source": [
        "print(\"no of nan values : \" ,df['TAXONOMY'].isna().sum())\n",
        "print(df.TAXONOMY.value_counts())"
      ]
    },
    {
      "cell_type": "code",
      "execution_count": null,
      "id": "fc4ab65d",
      "metadata": {
        "colab": {
          "base_uri": "https://localhost:8080/"
        },
        "id": "fc4ab65d",
        "outputId": "d2de2092-db29-49c3-e0dc-2622ef0b0c99"
      },
      "outputs": [
        {
          "output_type": "stream",
          "name": "stdout",
          "text": [
            "<class 'pandas.core.frame.DataFrame'>\n",
            "RangeIndex: 62723 entries, 0 to 62722\n",
            "Data columns (total 14 columns):\n",
            " #   Column           Non-Null Count  Dtype  \n",
            "---  ------           --------------  -----  \n",
            " 0   ID               62723 non-null  int64  \n",
            " 1   DEVICETYPE       62723 non-null  object \n",
            " 2   PLATFORM_ID      62723 non-null  int64  \n",
            " 3   BIDREQUESTIP     62723 non-null  object \n",
            " 4   USERPLATFORMUID  62722 non-null  object \n",
            " 5   USERCITY         59226 non-null  object \n",
            " 6   USERZIPCODE      60213 non-null  float64\n",
            " 7   USERAGENT        62722 non-null  object \n",
            " 8   PLATFORMTYPE     62723 non-null  object \n",
            " 9   CHANNELTYPE      62723 non-null  object \n",
            " 10  URL              62723 non-null  object \n",
            " 11  KEYWORDS         62723 non-null  object \n",
            " 12  TAXONOMY         17802 non-null  object \n",
            " 13  IS_HCP           62722 non-null  float64\n",
            "dtypes: float64(2), int64(2), object(10)\n",
            "memory usage: 6.7+ MB\n"
          ]
        }
      ],
      "source": [
        "df.info()"
      ]
    },
    {
      "cell_type": "code",
      "execution_count": null,
      "id": "7538ce03",
      "metadata": {
        "colab": {
          "base_uri": "https://localhost:8080/"
        },
        "id": "7538ce03",
        "outputId": "9a876902-2511-4053-fe5c-81517d555689"
      },
      "outputs": [
        {
          "output_type": "execute_result",
          "data": {
            "text/plain": [
              "ID                   int64\n",
              "DEVICETYPE          object\n",
              "PLATFORM_ID          int64\n",
              "BIDREQUESTIP        object\n",
              "USERPLATFORMUID     object\n",
              "USERCITY            object\n",
              "USERZIPCODE        float64\n",
              "USERAGENT           object\n",
              "PLATFORMTYPE        object\n",
              "CHANNELTYPE         object\n",
              "URL                 object\n",
              "KEYWORDS            object\n",
              "TAXONOMY            object\n",
              "IS_HCP             float64\n",
              "dtype: object"
            ]
          },
          "metadata": {},
          "execution_count": 67
        }
      ],
      "source": [
        "df.dtypes"
      ]
    },
    {
      "cell_type": "code",
      "execution_count": null,
      "id": "351b89a2",
      "metadata": {
        "id": "351b89a2",
        "outputId": "899a640e-ada9-423b-f90f-b24902f1aa2a",
        "colab": {
          "base_uri": "https://localhost:8080/",
          "height": 492
        }
      },
      "outputs": [
        {
          "output_type": "stream",
          "name": "stderr",
          "text": [
            "<ipython-input-68-11928c89b839>:1: FutureWarning: The default value of numeric_only in DataFrame.corr is deprecated. In a future version, it will default to False. Select only valid columns or specify the value of numeric_only to silence this warning.\n",
            "  plt.matshow(df.corr())\n"
          ]
        },
        {
          "output_type": "display_data",
          "data": {
            "text/plain": [
              "<Figure size 480x480 with 1 Axes>"
            ],
            "image/png": "[encoded data removed]"
          },
          "metadata": {}
        }
      ],
      "source": [
        "plt.matshow(df.corr())\n",
        "plt.show()"
      ]
    },
    {
      "cell_type": "code",
      "execution_count": null,
      "id": "fe05510f",
      "metadata": {
        "id": "fe05510f"
      },
      "outputs": [],
      "source": [
        "a=df[[\"TAXONOMY\",\"IS_HCP\"]]"
      ]
    },
    {
      "cell_type": "code",
      "execution_count": null,
      "id": "42d56f40",
      "metadata": {
        "colab": {
          "base_uri": "https://localhost:8080/"
        },
        "id": "42d56f40",
        "outputId": "bdfccc3b-6310-4d9c-d493-a4ebd5d75dc2"
      },
      "outputs": [
        {
          "output_type": "stream",
          "name": "stdout",
          "text": [
            "      TAXONOMY  IS_HCP\n",
            "0          NaN     0.0\n",
            "1          NaN     0.0\n",
            "2          NaN     0.0\n",
            "3   2084P0800X     1.0\n",
            "4          NaN     0.0\n",
            "5          NaN     0.0\n",
            "6          NaN     0.0\n",
            "7          NaN     0.0\n",
            "8   2084P0804X     1.0\n",
            "9          NaN     0.0\n",
            "10         NaN     0.0\n",
            "11         NaN     0.0\n",
            "12         NaN     0.0\n",
            "13         NaN     0.0\n",
            "14         NaN     0.0\n",
            "15         NaN     0.0\n",
            "16         NaN     0.0\n",
            "17         NaN     0.0\n",
            "18         NaN     0.0\n",
            "19         NaN     0.0\n",
            "20         NaN     0.0\n",
            "21  2084N0400X     1.0\n",
            "22         NaN     0.0\n",
            "23         NaN     0.0\n",
            "24         NaN     0.0\n",
            "25         NaN     0.0\n",
            "26         NaN     0.0\n",
            "27         NaN     0.0\n",
            "28         NaN     0.0\n",
            "29  2084V0102X     1.0\n",
            "30         NaN     0.0\n",
            "31         NaN     0.0\n",
            "32         NaN     0.0\n",
            "33         NaN     0.0\n",
            "34         NaN     0.0\n",
            "35  207RC0000X     1.0\n",
            "36         NaN     0.0\n",
            "37         NaN     0.0\n",
            "38         NaN     0.0\n",
            "39         NaN     0.0\n",
            "40         NaN     0.0\n",
            "41         NaN     0.0\n",
            "42         NaN     0.0\n",
            "43         NaN     0.0\n",
            "44         NaN     0.0\n",
            "45         NaN     0.0\n",
            "46         NaN     0.0\n",
            "47         NaN     0.0\n",
            "48         NaN     0.0\n",
            "49         NaN     0.0\n"
          ]
        }
      ],
      "source": [
        "print(a.iloc[:50])"
      ]
    },
    {
      "cell_type": "code",
      "execution_count": null,
      "id": "TaoIRD7pkir_",
      "metadata": {
        "colab": {
          "base_uri": "https://localhost:8080/"
        },
        "id": "TaoIRD7pkir_",
        "outputId": "e2fc6d60-b7b6-47b8-be08-0f0e1434d1c0"
      },
      "outputs": [
        {
          "output_type": "execute_result",
          "data": {
            "text/plain": [
              "2084P0800X    4391\n",
              "2084N0400X    3634\n",
              "207Q00000X    2166\n",
              "207R00000X    1732\n",
              "208000000X     469\n",
              "              ... \n",
              "2086X0206X       1\n",
              "207WX0200X       1\n",
              "111N00000X       1\n",
              "2086S0129X       1\n",
              "207ND0101X       1\n",
              "Name: TAXONOMY, Length: 189, dtype: int64"
            ]
          },
          "metadata": {},
          "execution_count": 71
        }
      ],
      "source": [
        "df['TAXONOMY'].value_counts()"
      ]
    },
    {
      "cell_type": "code",
      "execution_count": 4,
      "id": "5GoJE0XUzj3J",
      "metadata": {
        "id": "5GoJE0XUzj3J"
      },
      "outputs": [],
      "source": [
        "def scale(x):\n",
        "  sclr = StandardScaler()\n",
        "  x = sclr.fit_transform(x)\n",
        "  return x"
      ]
    },
    {
      "cell_type": "code",
      "execution_count": 5,
      "id": "8yIjKF8SaZYI",
      "metadata": {
        "id": "8yIjKF8SaZYI"
      },
      "outputs": [],
      "source": [
        "def ohe(df,col):\n",
        "  df = pd.get_dummies(df,columns = [col])\n",
        "  return df"
      ]
    },
    {
      "cell_type": "code",
      "execution_count": 6,
      "id": "ulzuh9S_dlrT",
      "metadata": {
        "id": "ulzuh9S_dlrT"
      },
      "outputs": [],
      "source": [
        "def drp(df):\n",
        "  df.drop(['USERPLATFORMUID','USERCITY','USERAGENT','CHANNELTYPE','URL'],axis = 1,inplace = True)\n",
        "  return df"
      ]
    },
    {
      "cell_type": "code",
      "source": [
        "tfidf = TfidfVectorizer(tokenizer=lambda x: x.split('|'))\n",
        "vectorizer = TfidfVectorizer()"
      ],
      "metadata": {
        "id": "LR9t2swlkP30"
      },
      "id": "LR9t2swlkP30",
      "execution_count": 7,
      "outputs": []
    },
    {
      "cell_type": "code",
      "execution_count": null,
      "id": "LfHdFRj6rxpH",
      "metadata": {
        "id": "LfHdFRj6rxpH"
      },
      "outputs": [],
      "source": [
        "#feature_matrix=vectorizer_1.fit_transform(df[\"BIDREQUESTIP\"])\n",
        "#vectorized_bidrequestip=pd.DataFrame(feature_matrix.toarray())\n",
        "#vectorizer_2 = TfidfVectorizer(tokenizer=lambda x: x.split('|'))\n",
        "#tfidf_matrix = vectorizer_2.fit_transform(df['KEYWORDS'])\n",
        "#vectorized_keywords = pd.DataFrame(tfidf_matrix.toarray(), columns=vectorizer_2.get_feature_names_out())\n",
        "#df = pd.concat([df,vectorized_bidrequestip,vectorized_keywords],axis = 1)\n",
        "#df.drop(['BIDREQUESTIP','KEYWORDS'],axis = 1,inplace = True)"
      ]
    },
    {
      "cell_type": "code",
      "source": [
        "bid = vectorizer.fit_transform(df['BIDREQUESTIP'])\n",
        "bid = pd.DataFrame(bid.toarray())"
      ],
      "metadata": {
        "id": "xh-no4zBlm7Z"
      },
      "id": "xh-no4zBlm7Z",
      "execution_count": 8,
      "outputs": []
    },
    {
      "cell_type": "code",
      "source": [
        "kywrd = tfidf.fit_transform(df['KEYWORDS'])\n",
        "kywrd = pd.DataFrame(kywrd.toarray(),columns =tfidf.get_feature_names_out())"
      ],
      "metadata": {
        "colab": {
          "base_uri": "https://localhost:8080/"
        },
        "id": "l-ejId1srcsm",
        "outputId": "2d0d327d-602f-44dc-fc99-6450beb4ad2a"
      },
      "id": "l-ejId1srcsm",
      "execution_count": 9,
      "outputs": [
        {
          "output_type": "stream",
          "name": "stderr",
          "text": [
            "/usr/local/lib/python3.10/dist-packages/sklearn/feature_extraction/text.py:528: UserWarning: The parameter 'token_pattern' will not be used since 'tokenizer' is not None'\n",
            "  warnings.warn(\n"
          ]
        }
      ]
    },
    {
      "cell_type": "code",
      "source": [
        "bid.head()"
      ],
      "metadata": {
        "colab": {
          "base_uri": "https://localhost:8080/",
          "height": 235
        },
        "id": "-fvDB-5znPOS",
        "outputId": "d3fef653-09b2-4411-ea3a-595b0cf2fa27"
      },
      "id": "-fvDB-5znPOS",
      "execution_count": 11,
      "outputs": [
        {
          "output_type": "execute_result",
          "data": {
            "text/plain": [
              "   0    1    2    3    4    5    6    7    8    9    ...  236  237  238  239  \\\n",
              "0  0.0  0.0  0.0  0.0  0.0  0.0  0.0  0.0  0.0  0.0  ...  0.0  0.0  0.0  0.0   \n",
              "1  0.0  0.0  0.0  0.0  0.0  0.0  0.0  0.0  0.0  0.0  ...  0.0  0.0  0.0  0.0   \n",
              "2  0.0  0.0  0.0  0.0  0.0  0.0  0.0  0.0  0.0  0.0  ...  0.0  0.0  0.0  0.0   \n",
              "3  0.0  0.0  0.0  0.0  0.0  0.0  0.0  0.0  0.0  0.0  ...  0.0  0.0  0.0  0.0   \n",
              "4  0.0  0.0  0.0  0.0  0.0  0.0  0.0  0.0  0.0  0.0  ...  0.0  0.0  0.0  0.0   \n",
              "\n",
              "   240  241  242  243  244      245  \n",
              "0  0.0  0.0  0.0  0.0  0.0  0.00000  \n",
              "1  0.0  0.0  0.0  0.0  0.0  0.00000  \n",
              "2  0.0  0.0  0.0  0.0  0.0  0.00000  \n",
              "3  0.0  0.0  0.0  0.0  0.0  0.00000  \n",
              "4  0.0  0.0  0.0  0.0  0.0  0.48034  \n",
              "\n",
              "[5 rows x 246 columns]"
            ],
            "text/html": [
              "\n",
              "  <div id=\"df-61750e94-4d28-419f-83a6-19ad6e2ef22c\">\n",
              "    <div class=\"colab-df-container\">\n",
              "      <div>\n",
              "<style scoped>\n",
              "    .dataframe tbody tr th:only-of-type {\n",
              "        vertical-align: middle;\n",
              "    }\n",
              "\n",
              "    .dataframe tbody tr th {\n",
              "        vertical-align: top;\n",
              "    }\n",
              "\n",
              "    .dataframe thead th {\n",
              "        text-align: right;\n",
              "    }\n",
              "</style>\n",
              "<table border=\"1\" class=\"dataframe\">\n",
              "  <thead>\n",
              "    <tr style=\"text-align: right;\">\n",
              "      <th></th>\n",
              "      <th>0</th>\n",
              "      <th>1</th>\n",
              "      <th>2</th>\n",
              "      <th>3</th>\n",
              "      <th>4</th>\n",
              "      <th>5</th>\n",
              "      <th>6</th>\n",
              "      <th>7</th>\n",
              "      <th>8</th>\n",
              "      <th>9</th>\n",
              "      <th>...</th>\n",
              "      <th>236</th>\n",
              "      <th>237</th>\n",
              "      <th>238</th>\n",
              "      <th>239</th>\n",
              "      <th>240</th>\n",
              "      <th>241</th>\n",
              "      <th>242</th>\n",
              "      <th>243</th>\n",
              "      <th>244</th>\n",
              "      <th>245</th>\n",
              "    </tr>\n",
              "  </thead>\n",
              "  <tbody>\n",
              "    <tr>\n",
              "      <th>0</th>\n",
              "      <td>0.0</td>\n",
              "      <td>0.0</td>\n",
              "      <td>0.0</td>\n",
              "      <td>0.0</td>\n",
              "      <td>0.0</td>\n",
              "      <td>0.0</td>\n",
              "      <td>0.0</td>\n",
              "      <td>0.0</td>\n",
              "      <td>0.0</td>\n",
              "      <td>0.0</td>\n",
              "      <td>...</td>\n",
              "      <td>0.0</td>\n",
              "      <td>0.0</td>\n",
              "      <td>0.0</td>\n",
              "      <td>0.0</td>\n",
              "      <td>0.0</td>\n",
              "      <td>0.0</td>\n",
              "      <td>0.0</td>\n",
              "      <td>0.0</td>\n",
              "      <td>0.0</td>\n",
              "      <td>0.00000</td>\n",
              "    </tr>\n",
              "    <tr>\n",
              "      <th>1</th>\n",
              "      <td>0.0</td>\n",
              "      <td>0.0</td>\n",
              "      <td>0.0</td>\n",
              "      <td>0.0</td>\n",
              "      <td>0.0</td>\n",
              "      <td>0.0</td>\n",
              "      <td>0.0</td>\n",
              "      <td>0.0</td>\n",
              "      <td>0.0</td>\n",
              "      <td>0.0</td>\n",
              "      <td>...</td>\n",
              "      <td>0.0</td>\n",
              "      <td>0.0</td>\n",
              "      <td>0.0</td>\n",
              "      <td>0.0</td>\n",
              "      <td>0.0</td>\n",
              "      <td>0.0</td>\n",
              "      <td>0.0</td>\n",
              "      <td>0.0</td>\n",
              "      <td>0.0</td>\n",
              "      <td>0.00000</td>\n",
              "    </tr>\n",
              "    <tr>\n",
              "      <th>2</th>\n",
              "      <td>0.0</td>\n",
              "      <td>0.0</td>\n",
              "      <td>0.0</td>\n",
              "      <td>0.0</td>\n",
              "      <td>0.0</td>\n",
              "      <td>0.0</td>\n",
              "      <td>0.0</td>\n",
              "      <td>0.0</td>\n",
              "      <td>0.0</td>\n",
              "      <td>0.0</td>\n",
              "      <td>...</td>\n",
              "      <td>0.0</td>\n",
              "      <td>0.0</td>\n",
              "      <td>0.0</td>\n",
              "      <td>0.0</td>\n",
              "      <td>0.0</td>\n",
              "      <td>0.0</td>\n",
              "      <td>0.0</td>\n",
              "      <td>0.0</td>\n",
              "      <td>0.0</td>\n",
              "      <td>0.00000</td>\n",
              "    </tr>\n",
              "    <tr>\n",
              "      <th>3</th>\n",
              "      <td>0.0</td>\n",
              "      <td>0.0</td>\n",
              "      <td>0.0</td>\n",
              "      <td>0.0</td>\n",
              "      <td>0.0</td>\n",
              "      <td>0.0</td>\n",
              "      <td>0.0</td>\n",
              "      <td>0.0</td>\n",
              "      <td>0.0</td>\n",
              "      <td>0.0</td>\n",
              "      <td>...</td>\n",
              "      <td>0.0</td>\n",
              "      <td>0.0</td>\n",
              "      <td>0.0</td>\n",
              "      <td>0.0</td>\n",
              "      <td>0.0</td>\n",
              "      <td>0.0</td>\n",
              "      <td>0.0</td>\n",
              "      <td>0.0</td>\n",
              "      <td>0.0</td>\n",
              "      <td>0.00000</td>\n",
              "    </tr>\n",
              "    <tr>\n",
              "      <th>4</th>\n",
              "      <td>0.0</td>\n",
              "      <td>0.0</td>\n",
              "      <td>0.0</td>\n",
              "      <td>0.0</td>\n",
              "      <td>0.0</td>\n",
              "      <td>0.0</td>\n",
              "      <td>0.0</td>\n",
              "      <td>0.0</td>\n",
              "      <td>0.0</td>\n",
              "      <td>0.0</td>\n",
              "      <td>...</td>\n",
              "      <td>0.0</td>\n",
              "      <td>0.0</td>\n",
              "      <td>0.0</td>\n",
              "      <td>0.0</td>\n",
              "      <td>0.0</td>\n",
              "      <td>0.0</td>\n",
              "      <td>0.0</td>\n",
              "      <td>0.0</td>\n",
              "      <td>0.0</td>\n",
              "      <td>0.48034</td>\n",
              "    </tr>\n",
              "  </tbody>\n",
              "</table>\n",
              "<p>5 rows × 246 columns</p>\n",
              "</div>\n",
              "      <button class=\"colab-df-convert\" onclick=\"convertToInteractive('df-61750e94-4d28-419f-83a6-19ad6e2ef22c')\"\n",
              "              title=\"Convert this dataframe to an interactive table.\"\n",
              "              style=\"display:none;\">\n",
              "        \n",
              "  <svg xmlns=\"http://www.w3.org/2000/svg\" height=\"24px\"viewBox=\"0 0 24 24\"\n",
              "       width=\"24px\">\n",
              "    <path d=\"M0 0h24v24H0V0z\" fill=\"none\"/>\n",
              "    <path d=\"M18.56 5.44l.94 2.06.94-2.06 2.06-.94-2.06-.94-.94-2.06-.94 2.06-2.06.94zm-11 1L8.5 8.5l.94-2.06 2.06-.94-2.06-.94L8.5 2.5l-.94 2.06-2.06.94zm10 10l.94 2.06.94-2.06 2.06-.94-2.06-.94-.94-2.06-.94 2.06-2.06.94z\"/><path d=\"M17.41 7.96l-1.37-1.37c-.4-.4-.92-.59-1.43-.59-.52 0-1.04.2-1.43.59L10.3 9.45l-7.72 7.72c-.78.78-.78 2.05 0 2.83L4 21.41c.39.39.9.59 1.41.59.51 0 1.02-.2 1.41-.59l7.78-7.78 2.81-2.81c.8-.78.8-2.07 0-2.86zM5.41 20L4 18.59l7.72-7.72 1.47 1.35L5.41 20z\"/>\n",
              "  </svg>\n",
              "      </button>\n",
              "      \n",
              "  <style>\n",
              "    .colab-df-container {\n",
              "      display:flex;\n",
              "      flex-wrap:wrap;\n",
              "      gap: 12px;\n",
              "    }\n",
              "\n",
              "    .colab-df-convert {\n",
              "      background-color: #E8F0FE;\n",
              "      border: none;\n",
              "      border-radius: 50%;\n",
              "      cursor: pointer;\n",
              "      display: none;\n",
              "      fill: #1967D2;\n",
              "      height: 32px;\n",
              "      padding: 0 0 0 0;\n",
              "      width: 32px;\n",
              "    }\n",
              "\n",
              "    .colab-df-convert:hover {\n",
              "      background-color: #E2EBFA;\n",
              "      box-shadow: 0px 1px 2px rgba(60, 64, 67, 0.3), 0px 1px 3px 1px rgba(60, 64, 67, 0.15);\n",
              "      fill: #174EA6;\n",
              "    }\n",
              "\n",
              "    [theme=dark] .colab-df-convert {\n",
              "      background-color: #3B4455;\n",
              "      fill: #D2E3FC;\n",
              "    }\n",
              "\n",
              "    [theme=dark] .colab-df-convert:hover {\n",
              "      background-color: #434B5C;\n",
              "      box-shadow: 0px 1px 3px 1px rgba(0, 0, 0, 0.15);\n",
              "      filter: drop-shadow(0px 1px 2px rgba(0, 0, 0, 0.3));\n",
              "      fill: #FFFFFF;\n",
              "    }\n",
              "  </style>\n",
              "\n",
              "      <script>\n",
              "        const buttonEl =\n",
              "          document.querySelector('#df-61750e94-4d28-419f-83a6-19ad6e2ef22c button.colab-df-convert');\n",
              "        buttonEl.style.display =\n",
              "          google.colab.kernel.accessAllowed ? 'block' : 'none';\n",
              "\n",
              "        async function convertToInteractive(key) {\n",
              "          const element = document.querySelector('#df-61750e94-4d28-419f-83a6-19ad6e2ef22c');\n",
              "          const dataTable =\n",
              "            await google.colab.kernel.invokeFunction('convertToInteractive',\n",
              "                                                     [key], {});\n",
              "          if (!dataTable) return;\n",
              "\n",
              "          const docLinkHtml = 'Like what you see? Visit the ' +\n",
              "            '<a target=\"_blank\" href=https://colab.research.google.com/notebooks/data_table.ipynb>data table notebook</a>'\n",
              "            + ' to learn more about interactive tables.';\n",
              "          element.innerHTML = '';\n",
              "          dataTable['output_type'] = 'display_data';\n",
              "          await google.colab.output.renderOutput(dataTable, element);\n",
              "          const docLink = document.createElement('div');\n",
              "          docLink.innerHTML = docLinkHtml;\n",
              "          element.appendChild(docLink);\n",
              "        }\n",
              "      </script>\n",
              "    </div>\n",
              "  </div>\n",
              "  "
            ]
          },
          "metadata": {},
          "execution_count": 11
        }
      ]
    },
    {
      "cell_type": "code",
      "source": [
        "kywrd.head()"
      ],
      "metadata": {
        "colab": {
          "base_uri": "https://localhost:8080/",
          "height": 334
        },
        "id": "JUZ_i1xRr74E",
        "outputId": "c3d9b7ab-1747-4434-bd91-60d5cf269a7c"
      },
      "id": "JUZ_i1xRr74E",
      "execution_count": 12,
      "outputs": [
        {
          "output_type": "execute_result",
          "data": {
            "text/plain": [
              "        abatacept  ablation techniques  abortion  abscess  \\\n",
              "0  0.0        0.0                  0.0       0.0      0.0   \n",
              "1  0.0        0.0                  0.0       0.0      0.0   \n",
              "2  0.0        0.0                  0.0       0.0      0.0   \n",
              "3  0.0        0.0                  0.0       0.0      0.0   \n",
              "4  0.0        0.0                  0.0       0.0      0.0   \n",
              "\n",
              "   acanthamoeba keratitis  acetaminophen  acid-base imbalance  aco  acos  ...  \\\n",
              "0                     0.0            0.0                  0.0  0.0   0.0  ...   \n",
              "1                     0.0            0.0                  0.0  0.0   0.0  ...   \n",
              "2                     0.0            0.0                  0.0  0.0   0.0  ...   \n",
              "3                     0.0            0.0                  0.0  0.0   0.0  ...   \n",
              "4                     0.0            0.0                  0.0  0.0   0.0  ...   \n",
              "\n",
              "   wheezing  whipple disease  whole genome sequencing  whooping cough  \\\n",
              "0       0.0              0.0                      0.0             0.0   \n",
              "1       0.0              0.0                      0.0             0.0   \n",
              "2       0.0              0.0                      0.0             0.0   \n",
              "3       0.0              0.0                      0.0             0.0   \n",
              "4       0.0              0.0                      0.0             0.0   \n",
              "\n",
              "   wound infection  yaws  yellow fever  zoonoses  zostavax  \\\n",
              "0              0.0   0.0           0.0       0.0       0.0   \n",
              "1              0.0   0.0           0.0       0.0       0.0   \n",
              "2              0.0   0.0           0.0       0.0       0.0   \n",
              "3              0.0   0.0           0.0       0.0       0.0   \n",
              "4              0.0   0.0           0.0       0.0       0.0   \n",
              "\n",
              "   zoster sine herpete  \n",
              "0                  0.0  \n",
              "1                  0.0  \n",
              "2                  0.0  \n",
              "3                  0.0  \n",
              "4                  0.0  \n",
              "\n",
              "[5 rows x 1216 columns]"
            ],
            "text/html": [
              "\n",
              "  <div id=\"df-e7bf7f2c-52be-41e3-a518-e771f53088e1\">\n",
              "    <div class=\"colab-df-container\">\n",
              "      <div>\n",
              "<style scoped>\n",
              "    .dataframe tbody tr th:only-of-type {\n",
              "        vertical-align: middle;\n",
              "    }\n",
              "\n",
              "    .dataframe tbody tr th {\n",
              "        vertical-align: top;\n",
              "    }\n",
              "\n",
              "    .dataframe thead th {\n",
              "        text-align: right;\n",
              "    }\n",
              "</style>\n",
              "<table border=\"1\" class=\"dataframe\">\n",
              "  <thead>\n",
              "    <tr style=\"text-align: right;\">\n",
              "      <th></th>\n",
              "      <th></th>\n",
              "      <th>abatacept</th>\n",
              "      <th>ablation techniques</th>\n",
              "      <th>abortion</th>\n",
              "      <th>abscess</th>\n",
              "      <th>acanthamoeba keratitis</th>\n",
              "      <th>acetaminophen</th>\n",
              "      <th>acid-base imbalance</th>\n",
              "      <th>aco</th>\n",
              "      <th>acos</th>\n",
              "      <th>...</th>\n",
              "      <th>wheezing</th>\n",
              "      <th>whipple disease</th>\n",
              "      <th>whole genome sequencing</th>\n",
              "      <th>whooping cough</th>\n",
              "      <th>wound infection</th>\n",
              "      <th>yaws</th>\n",
              "      <th>yellow fever</th>\n",
              "      <th>zoonoses</th>\n",
              "      <th>zostavax</th>\n",
              "      <th>zoster sine herpete</th>\n",
              "    </tr>\n",
              "  </thead>\n",
              "  <tbody>\n",
              "    <tr>\n",
              "      <th>0</th>\n",
              "      <td>0.0</td>\n",
              "      <td>0.0</td>\n",
              "      <td>0.0</td>\n",
              "      <td>0.0</td>\n",
              "      <td>0.0</td>\n",
              "      <td>0.0</td>\n",
              "      <td>0.0</td>\n",
              "      <td>0.0</td>\n",
              "      <td>0.0</td>\n",
              "      <td>0.0</td>\n",
              "      <td>...</td>\n",
              "      <td>0.0</td>\n",
              "      <td>0.0</td>\n",
              "      <td>0.0</td>\n",
              "      <td>0.0</td>\n",
              "      <td>0.0</td>\n",
              "      <td>0.0</td>\n",
              "      <td>0.0</td>\n",
              "      <td>0.0</td>\n",
              "      <td>0.0</td>\n",
              "      <td>0.0</td>\n",
              "    </tr>\n",
              "    <tr>\n",
              "      <th>1</th>\n",
              "      <td>0.0</td>\n",
              "      <td>0.0</td>\n",
              "      <td>0.0</td>\n",
              "      <td>0.0</td>\n",
              "      <td>0.0</td>\n",
              "      <td>0.0</td>\n",
              "      <td>0.0</td>\n",
              "      <td>0.0</td>\n",
              "      <td>0.0</td>\n",
              "      <td>0.0</td>\n",
              "      <td>...</td>\n",
              "      <td>0.0</td>\n",
              "      <td>0.0</td>\n",
              "      <td>0.0</td>\n",
              "      <td>0.0</td>\n",
              "      <td>0.0</td>\n",
              "      <td>0.0</td>\n",
              "      <td>0.0</td>\n",
              "      <td>0.0</td>\n",
              "      <td>0.0</td>\n",
              "      <td>0.0</td>\n",
              "    </tr>\n",
              "    <tr>\n",
              "      <th>2</th>\n",
              "      <td>0.0</td>\n",
              "      <td>0.0</td>\n",
              "      <td>0.0</td>\n",
              "      <td>0.0</td>\n",
              "      <td>0.0</td>\n",
              "      <td>0.0</td>\n",
              "      <td>0.0</td>\n",
              "      <td>0.0</td>\n",
              "      <td>0.0</td>\n",
              "      <td>0.0</td>\n",
              "      <td>...</td>\n",
              "      <td>0.0</td>\n",
              "      <td>0.0</td>\n",
              "      <td>0.0</td>\n",
              "      <td>0.0</td>\n",
              "      <td>0.0</td>\n",
              "      <td>0.0</td>\n",
              "      <td>0.0</td>\n",
              "      <td>0.0</td>\n",
              "      <td>0.0</td>\n",
              "      <td>0.0</td>\n",
              "    </tr>\n",
              "    <tr>\n",
              "      <th>3</th>\n",
              "      <td>0.0</td>\n",
              "      <td>0.0</td>\n",
              "      <td>0.0</td>\n",
              "      <td>0.0</td>\n",
              "      <td>0.0</td>\n",
              "      <td>0.0</td>\n",
              "      <td>0.0</td>\n",
              "      <td>0.0</td>\n",
              "      <td>0.0</td>\n",
              "      <td>0.0</td>\n",
              "      <td>...</td>\n",
              "      <td>0.0</td>\n",
              "      <td>0.0</td>\n",
              "      <td>0.0</td>\n",
              "      <td>0.0</td>\n",
              "      <td>0.0</td>\n",
              "      <td>0.0</td>\n",
              "      <td>0.0</td>\n",
              "      <td>0.0</td>\n",
              "      <td>0.0</td>\n",
              "      <td>0.0</td>\n",
              "    </tr>\n",
              "    <tr>\n",
              "      <th>4</th>\n",
              "      <td>0.0</td>\n",
              "      <td>0.0</td>\n",
              "      <td>0.0</td>\n",
              "      <td>0.0</td>\n",
              "      <td>0.0</td>\n",
              "      <td>0.0</td>\n",
              "      <td>0.0</td>\n",
              "      <td>0.0</td>\n",
              "      <td>0.0</td>\n",
              "      <td>0.0</td>\n",
              "      <td>...</td>\n",
              "      <td>0.0</td>\n",
              "      <td>0.0</td>\n",
              "      <td>0.0</td>\n",
              "      <td>0.0</td>\n",
              "      <td>0.0</td>\n",
              "      <td>0.0</td>\n",
              "      <td>0.0</td>\n",
              "      <td>0.0</td>\n",
              "      <td>0.0</td>\n",
              "      <td>0.0</td>\n",
              "    </tr>\n",
              "  </tbody>\n",
              "</table>\n",
              "<p>5 rows × 1216 columns</p>\n",
              "</div>\n",
              "      <button class=\"colab-df-convert\" onclick=\"convertToInteractive('df-e7bf7f2c-52be-41e3-a518-e771f53088e1')\"\n",
              "              title=\"Convert this dataframe to an interactive table.\"\n",
              "              style=\"display:none;\">\n",
              "        \n",
              "  <svg xmlns=\"http://www.w3.org/2000/svg\" height=\"24px\"viewBox=\"0 0 24 24\"\n",
              "       width=\"24px\">\n",
              "    <path d=\"M0 0h24v24H0V0z\" fill=\"none\"/>\n",
              "    <path d=\"M18.56 5.44l.94 2.06.94-2.06 2.06-.94-2.06-.94-.94-2.06-.94 2.06-2.06.94zm-11 1L8.5 8.5l.94-2.06 2.06-.94-2.06-.94L8.5 2.5l-.94 2.06-2.06.94zm10 10l.94 2.06.94-2.06 2.06-.94-2.06-.94-.94-2.06-.94 2.06-2.06.94z\"/><path d=\"M17.41 7.96l-1.37-1.37c-.4-.4-.92-.59-1.43-.59-.52 0-1.04.2-1.43.59L10.3 9.45l-7.72 7.72c-.78.78-.78 2.05 0 2.83L4 21.41c.39.39.9.59 1.41.59.51 0 1.02-.2 1.41-.59l7.78-7.78 2.81-2.81c.8-.78.8-2.07 0-2.86zM5.41 20L4 18.59l7.72-7.72 1.47 1.35L5.41 20z\"/>\n",
              "  </svg>\n",
              "      </button>\n",
              "      \n",
              "  <style>\n",
              "    .colab-df-container {\n",
              "      display:flex;\n",
              "      flex-wrap:wrap;\n",
              "      gap: 12px;\n",
              "    }\n",
              "\n",
              "    .colab-df-convert {\n",
              "      background-color: #E8F0FE;\n",
              "      border: none;\n",
              "      border-radius: 50%;\n",
              "      cursor: pointer;\n",
              "      display: none;\n",
              "      fill: #1967D2;\n",
              "      height: 32px;\n",
              "      padding: 0 0 0 0;\n",
              "      width: 32px;\n",
              "    }\n",
              "\n",
              "    .colab-df-convert:hover {\n",
              "      background-color: #E2EBFA;\n",
              "      box-shadow: 0px 1px 2px rgba(60, 64, 67, 0.3), 0px 1px 3px 1px rgba(60, 64, 67, 0.15);\n",
              "      fill: #174EA6;\n",
              "    }\n",
              "\n",
              "    [theme=dark] .colab-df-convert {\n",
              "      background-color: #3B4455;\n",
              "      fill: #D2E3FC;\n",
              "    }\n",
              "\n",
              "    [theme=dark] .colab-df-convert:hover {\n",
              "      background-color: #434B5C;\n",
              "      box-shadow: 0px 1px 3px 1px rgba(0, 0, 0, 0.15);\n",
              "      filter: drop-shadow(0px 1px 2px rgba(0, 0, 0, 0.3));\n",
              "      fill: #FFFFFF;\n",
              "    }\n",
              "  </style>\n",
              "\n",
              "      <script>\n",
              "        const buttonEl =\n",
              "          document.querySelector('#df-e7bf7f2c-52be-41e3-a518-e771f53088e1 button.colab-df-convert');\n",
              "        buttonEl.style.display =\n",
              "          google.colab.kernel.accessAllowed ? 'block' : 'none';\n",
              "\n",
              "        async function convertToInteractive(key) {\n",
              "          const element = document.querySelector('#df-e7bf7f2c-52be-41e3-a518-e771f53088e1');\n",
              "          const dataTable =\n",
              "            await google.colab.kernel.invokeFunction('convertToInteractive',\n",
              "                                                     [key], {});\n",
              "          if (!dataTable) return;\n",
              "\n",
              "          const docLinkHtml = 'Like what you see? Visit the ' +\n",
              "            '<a target=\"_blank\" href=https://colab.research.google.com/notebooks/data_table.ipynb>data table notebook</a>'\n",
              "            + ' to learn more about interactive tables.';\n",
              "          element.innerHTML = '';\n",
              "          dataTable['output_type'] = 'display_data';\n",
              "          await google.colab.output.renderOutput(dataTable, element);\n",
              "          const docLink = document.createElement('div');\n",
              "          docLink.innerHTML = docLinkHtml;\n",
              "          element.appendChild(docLink);\n",
              "        }\n",
              "      </script>\n",
              "    </div>\n",
              "  </div>\n",
              "  "
            ]
          },
          "metadata": {},
          "execution_count": 12
        }
      ]
    },
    {
      "cell_type": "code",
      "source": [
        "df = pd.concat([df,bid,kywrd],axis = 1)"
      ],
      "metadata": {
        "id": "Y_DFrN_SrZ24"
      },
      "id": "Y_DFrN_SrZ24",
      "execution_count": 10,
      "outputs": []
    },
    {
      "cell_type": "markdown",
      "id": "lr_dOpDdycSj",
      "metadata": {
        "id": "lr_dOpDdycSj"
      },
      "source": [
        "Dropping certain fixed columns\n"
      ]
    },
    {
      "cell_type": "code",
      "source": [
        "del kywrd\n",
        "del bid"
      ],
      "metadata": {
        "id": "Iq9a4wJj2MFD"
      },
      "id": "Iq9a4wJj2MFD",
      "execution_count": 11,
      "outputs": []
    },
    {
      "cell_type": "code",
      "execution_count": 12,
      "id": "JCm4eSSTd3-Q",
      "metadata": {
        "id": "JCm4eSSTd3-Q"
      },
      "outputs": [],
      "source": [
        "df = drp(df)"
      ]
    },
    {
      "cell_type": "markdown",
      "id": "Kd3TUSq7yh5P",
      "metadata": {
        "id": "Kd3TUSq7yh5P"
      },
      "source": [
        "Performing One Hot Encoding over certian columns"
      ]
    },
    {
      "cell_type": "code",
      "execution_count": 13,
      "id": "yiJoB0DsbQco",
      "metadata": {
        "id": "yiJoB0DsbQco"
      },
      "outputs": [],
      "source": [
        "df = ohe(df,\"DEVICETYPE\")\n",
        "df = ohe(df,\"PLATFORMTYPE\")"
      ]
    },
    {
      "cell_type": "code",
      "source": [
        "df = df.drop(['BIDREQUESTIP','KEYWORDS'],axis = 1)"
      ],
      "metadata": {
        "id": "LmuvfkEWskd5"
      },
      "id": "LmuvfkEWskd5",
      "execution_count": 15,
      "outputs": []
    },
    {
      "cell_type": "markdown",
      "id": "-jaDhmAbyqwq",
      "metadata": {
        "id": "-jaDhmAbyqwq"
      },
      "source": [
        "Taking care of null values"
      ]
    },
    {
      "cell_type": "code",
      "source": [
        "df_hcp = df.drop(['TAXONOMY'],axis = 1)"
      ],
      "metadata": {
        "id": "A-w9LR2K0e-4"
      },
      "id": "A-w9LR2K0e-4",
      "execution_count": 16,
      "outputs": []
    },
    {
      "cell_type": "code",
      "source": [
        "id = df_hcp['ID']\n",
        "df_hcp = df_hcp.drop(['ID'],axis = 1)"
      ],
      "metadata": {
        "id": "pbrEuCbe0ufL"
      },
      "id": "pbrEuCbe0ufL",
      "execution_count": 17,
      "outputs": []
    },
    {
      "cell_type": "code",
      "source": [
        "df_hcp = df_hcp.dropna(how = 'any',axis = 0)"
      ],
      "metadata": {
        "id": "uqYau2Nf4Tmh"
      },
      "id": "uqYau2Nf4Tmh",
      "execution_count": 18,
      "outputs": []
    },
    {
      "cell_type": "code",
      "source": [
        "df_hcp.head()"
      ],
      "metadata": {
        "colab": {
          "base_uri": "https://localhost:8080/",
          "height": 334
        },
        "id": "X1CdFpyWUHxw",
        "outputId": "6cea22d3-f085-4087-b444-4910ee7aeba5"
      },
      "id": "X1CdFpyWUHxw",
      "execution_count": 44,
      "outputs": [
        {
          "output_type": "execute_result",
          "data": {
            "text/plain": [
              "   PLATFORM_ID  USERZIPCODE  IS_HCP    0    1    2    3    4    5    6  ...  \\\n",
              "0            2      97206.0     0.0  0.0  0.0  0.0  0.0  0.0  0.0  0.0  ...   \n",
              "1            2      22202.0     0.0  0.0  0.0  0.0  0.0  0.0  0.0  0.0  ...   \n",
              "2            2      83654.0     0.0  0.0  0.0  0.0  0.0  0.0  0.0  0.0  ...   \n",
              "3            3  229114624.0     1.0  0.0  0.0  0.0  0.0  0.0  0.0  0.0  ...   \n",
              "4            7      77008.0     0.0  0.0  0.0  0.0  0.0  0.0  0.0  0.0  ...   \n",
              "\n",
              "   zoster sine herpete  DEVICETYPE_Desktop  DEVICETYPE_Mobile  \\\n",
              "0                  0.0                   1                  0   \n",
              "1                  0.0                   1                  0   \n",
              "2                  0.0                   1                  0   \n",
              "3                  0.0                   1                  0   \n",
              "4                  0.0                   0                  1   \n",
              "\n",
              "   DEVICETYPE_Tablet  DEVICETYPE_Unknown  \\\n",
              "0                  0                   0   \n",
              "1                  0                   0   \n",
              "2                  0                   0   \n",
              "3                  0                   0   \n",
              "4                  0                   0   \n",
              "\n",
              "   PLATFORMTYPE_Electronic Health Record  PLATFORMTYPE_Medical News Platform  \\\n",
              "0                                      0                                   0   \n",
              "1                                      0                                   0   \n",
              "2                                      0                                   0   \n",
              "3                                      0                                   0   \n",
              "4                                      0                                   0   \n",
              "\n",
              "   PLATFORMTYPE_Online Learning Portal  PLATFORMTYPE_Online Medical Journal  \\\n",
              "0                                    0                                    1   \n",
              "1                                    0                                    1   \n",
              "2                                    0                                    1   \n",
              "3                                    0                                    1   \n",
              "4                                    0                                    1   \n",
              "\n",
              "   PLATFORMTYPE_Tele-medicine Platform  \n",
              "0                                    0  \n",
              "1                                    0  \n",
              "2                                    0  \n",
              "3                                    0  \n",
              "4                                    0  \n",
              "\n",
              "[5 rows x 1474 columns]"
            ],
            "text/html": [
              "\n",
              "  <div id=\"df-402b9bac-9811-4d7c-82c8-a0fa006278e0\">\n",
              "    <div class=\"colab-df-container\">\n",
              "      <div>\n",
              "<style scoped>\n",
              "    .dataframe tbody tr th:only-of-type {\n",
              "        vertical-align: middle;\n",
              "    }\n",
              "\n",
              "    .dataframe tbody tr th {\n",
              "        vertical-align: top;\n",
              "    }\n",
              "\n",
              "    .dataframe thead th {\n",
              "        text-align: right;\n",
              "    }\n",
              "</style>\n",
              "<table border=\"1\" class=\"dataframe\">\n",
              "  <thead>\n",
              "    <tr style=\"text-align: right;\">\n",
              "      <th></th>\n",
              "      <th>PLATFORM_ID</th>\n",
              "      <th>USERZIPCODE</th>\n",
              "      <th>IS_HCP</th>\n",
              "      <th>0</th>\n",
              "      <th>1</th>\n",
              "      <th>2</th>\n",
              "      <th>3</th>\n",
              "      <th>4</th>\n",
              "      <th>5</th>\n",
              "      <th>6</th>\n",
              "      <th>...</th>\n",
              "      <th>zoster sine herpete</th>\n",
              "      <th>DEVICETYPE_Desktop</th>\n",
              "      <th>DEVICETYPE_Mobile</th>\n",
              "      <th>DEVICETYPE_Tablet</th>\n",
              "      <th>DEVICETYPE_Unknown</th>\n",
              "      <th>PLATFORMTYPE_Electronic Health Record</th>\n",
              "      <th>PLATFORMTYPE_Medical News Platform</th>\n",
              "      <th>PLATFORMTYPE_Online Learning Portal</th>\n",
              "      <th>PLATFORMTYPE_Online Medical Journal</th>\n",
              "      <th>PLATFORMTYPE_Tele-medicine Platform</th>\n",
              "    </tr>\n",
              "  </thead>\n",
              "  <tbody>\n",
              "    <tr>\n",
              "      <th>0</th>\n",
              "      <td>2</td>\n",
              "      <td>97206.0</td>\n",
              "      <td>0.0</td>\n",
              "      <td>0.0</td>\n",
              "      <td>0.0</td>\n",
              "      <td>0.0</td>\n",
              "      <td>0.0</td>\n",
              "      <td>0.0</td>\n",
              "      <td>0.0</td>\n",
              "      <td>0.0</td>\n",
              "      <td>...</td>\n",
              "      <td>0.0</td>\n",
              "      <td>1</td>\n",
              "      <td>0</td>\n",
              "      <td>0</td>\n",
              "      <td>0</td>\n",
              "      <td>0</td>\n",
              "      <td>0</td>\n",
              "      <td>0</td>\n",
              "      <td>1</td>\n",
              "      <td>0</td>\n",
              "    </tr>\n",
              "    <tr>\n",
              "      <th>1</th>\n",
              "      <td>2</td>\n",
              "      <td>22202.0</td>\n",
              "      <td>0.0</td>\n",
              "      <td>0.0</td>\n",
              "      <td>0.0</td>\n",
              "      <td>0.0</td>\n",
              "      <td>0.0</td>\n",
              "      <td>0.0</td>\n",
              "      <td>0.0</td>\n",
              "      <td>0.0</td>\n",
              "      <td>...</td>\n",
              "      <td>0.0</td>\n",
              "      <td>1</td>\n",
              "      <td>0</td>\n",
              "      <td>0</td>\n",
              "      <td>0</td>\n",
              "      <td>0</td>\n",
              "      <td>0</td>\n",
              "      <td>0</td>\n",
              "      <td>1</td>\n",
              "      <td>0</td>\n",
              "    </tr>\n",
              "    <tr>\n",
              "      <th>2</th>\n",
              "      <td>2</td>\n",
              "      <td>83654.0</td>\n",
              "      <td>0.0</td>\n",
              "      <td>0.0</td>\n",
              "      <td>0.0</td>\n",
              "      <td>0.0</td>\n",
              "      <td>0.0</td>\n",
              "      <td>0.0</td>\n",
              "      <td>0.0</td>\n",
              "      <td>0.0</td>\n",
              "      <td>...</td>\n",
              "      <td>0.0</td>\n",
              "      <td>1</td>\n",
              "      <td>0</td>\n",
              "      <td>0</td>\n",
              "      <td>0</td>\n",
              "      <td>0</td>\n",
              "      <td>0</td>\n",
              "      <td>0</td>\n",
              "      <td>1</td>\n",
              "      <td>0</td>\n",
              "    </tr>\n",
              "    <tr>\n",
              "      <th>3</th>\n",
              "      <td>3</td>\n",
              "      <td>229114624.0</td>\n",
              "      <td>1.0</td>\n",
              "      <td>0.0</td>\n",
              "      <td>0.0</td>\n",
              "      <td>0.0</td>\n",
              "      <td>0.0</td>\n",
              "      <td>0.0</td>\n",
              "      <td>0.0</td>\n",
              "      <td>0.0</td>\n",
              "      <td>...</td>\n",
              "      <td>0.0</td>\n",
              "      <td>1</td>\n",
              "      <td>0</td>\n",
              "      <td>0</td>\n",
              "      <td>0</td>\n",
              "      <td>0</td>\n",
              "      <td>0</td>\n",
              "      <td>0</td>\n",
              "      <td>1</td>\n",
              "      <td>0</td>\n",
              "    </tr>\n",
              "    <tr>\n",
              "      <th>4</th>\n",
              "      <td>7</td>\n",
              "      <td>77008.0</td>\n",
              "      <td>0.0</td>\n",
              "      <td>0.0</td>\n",
              "      <td>0.0</td>\n",
              "      <td>0.0</td>\n",
              "      <td>0.0</td>\n",
              "      <td>0.0</td>\n",
              "      <td>0.0</td>\n",
              "      <td>0.0</td>\n",
              "      <td>...</td>\n",
              "      <td>0.0</td>\n",
              "      <td>0</td>\n",
              "      <td>1</td>\n",
              "      <td>0</td>\n",
              "      <td>0</td>\n",
              "      <td>0</td>\n",
              "      <td>0</td>\n",
              "      <td>0</td>\n",
              "      <td>1</td>\n",
              "      <td>0</td>\n",
              "    </tr>\n",
              "  </tbody>\n",
              "</table>\n",
              "<p>5 rows × 1474 columns</p>\n",
              "</div>\n",
              "      <button class=\"colab-df-convert\" onclick=\"convertToInteractive('df-402b9bac-9811-4d7c-82c8-a0fa006278e0')\"\n",
              "              title=\"Convert this dataframe to an interactive table.\"\n",
              "              style=\"display:none;\">\n",
              "        \n",
              "  <svg xmlns=\"http://www.w3.org/2000/svg\" height=\"24px\"viewBox=\"0 0 24 24\"\n",
              "       width=\"24px\">\n",
              "    <path d=\"M0 0h24v24H0V0z\" fill=\"none\"/>\n",
              "    <path d=\"M18.56 5.44l.94 2.06.94-2.06 2.06-.94-2.06-.94-.94-2.06-.94 2.06-2.06.94zm-11 1L8.5 8.5l.94-2.06 2.06-.94-2.06-.94L8.5 2.5l-.94 2.06-2.06.94zm10 10l.94 2.06.94-2.06 2.06-.94-2.06-.94-.94-2.06-.94 2.06-2.06.94z\"/><path d=\"M17.41 7.96l-1.37-1.37c-.4-.4-.92-.59-1.43-.59-.52 0-1.04.2-1.43.59L10.3 9.45l-7.72 7.72c-.78.78-.78 2.05 0 2.83L4 21.41c.39.39.9.59 1.41.59.51 0 1.02-.2 1.41-.59l7.78-7.78 2.81-2.81c.8-.78.8-2.07 0-2.86zM5.41 20L4 18.59l7.72-7.72 1.47 1.35L5.41 20z\"/>\n",
              "  </svg>\n",
              "      </button>\n",
              "      \n",
              "  <style>\n",
              "    .colab-df-container {\n",
              "      display:flex;\n",
              "      flex-wrap:wrap;\n",
              "      gap: 12px;\n",
              "    }\n",
              "\n",
              "    .colab-df-convert {\n",
              "      background-color: #E8F0FE;\n",
              "      border: none;\n",
              "      border-radius: 50%;\n",
              "      cursor: pointer;\n",
              "      display: none;\n",
              "      fill: #1967D2;\n",
              "      height: 32px;\n",
              "      padding: 0 0 0 0;\n",
              "      width: 32px;\n",
              "    }\n",
              "\n",
              "    .colab-df-convert:hover {\n",
              "      background-color: #E2EBFA;\n",
              "      box-shadow: 0px 1px 2px rgba(60, 64, 67, 0.3), 0px 1px 3px 1px rgba(60, 64, 67, 0.15);\n",
              "      fill: #174EA6;\n",
              "    }\n",
              "\n",
              "    [theme=dark] .colab-df-convert {\n",
              "      background-color: #3B4455;\n",
              "      fill: #D2E3FC;\n",
              "    }\n",
              "\n",
              "    [theme=dark] .colab-df-convert:hover {\n",
              "      background-color: #434B5C;\n",
              "      box-shadow: 0px 1px 3px 1px rgba(0, 0, 0, 0.15);\n",
              "      filter: drop-shadow(0px 1px 2px rgba(0, 0, 0, 0.3));\n",
              "      fill: #FFFFFF;\n",
              "    }\n",
              "  </style>\n",
              "\n",
              "      <script>\n",
              "        const buttonEl =\n",
              "          document.querySelector('#df-402b9bac-9811-4d7c-82c8-a0fa006278e0 button.colab-df-convert');\n",
              "        buttonEl.style.display =\n",
              "          google.colab.kernel.accessAllowed ? 'block' : 'none';\n",
              "\n",
              "        async function convertToInteractive(key) {\n",
              "          const element = document.querySelector('#df-402b9bac-9811-4d7c-82c8-a0fa006278e0');\n",
              "          const dataTable =\n",
              "            await google.colab.kernel.invokeFunction('convertToInteractive',\n",
              "                                                     [key], {});\n",
              "          if (!dataTable) return;\n",
              "\n",
              "          const docLinkHtml = 'Like what you see? Visit the ' +\n",
              "            '<a target=\"_blank\" href=https://colab.research.google.com/notebooks/data_table.ipynb>data table notebook</a>'\n",
              "            + ' to learn more about interactive tables.';\n",
              "          element.innerHTML = '';\n",
              "          dataTable['output_type'] = 'display_data';\n",
              "          await google.colab.output.renderOutput(dataTable, element);\n",
              "          const docLink = document.createElement('div');\n",
              "          docLink.innerHTML = docLinkHtml;\n",
              "          element.appendChild(docLink);\n",
              "        }\n",
              "      </script>\n",
              "    </div>\n",
              "  </div>\n",
              "  "
            ]
          },
          "metadata": {},
          "execution_count": 44
        }
      ]
    },
    {
      "cell_type": "code",
      "source": [
        "from sklearn.ensemble import RandomForestClassifier\n",
        "from sklearn.model_selection import cross_val_score,train_test_split"
      ],
      "metadata": {
        "id": "3usb9X1mGIe4"
      },
      "id": "3usb9X1mGIe4",
      "execution_count": 19,
      "outputs": []
    },
    {
      "cell_type": "code",
      "source": [
        "X = df_hcp.drop('IS_HCP',axis = 1).to_numpy()\n",
        "#X.columns = X.columns.astype(str)\n",
        "X = scale(X)\n",
        "y = df_hcp['IS_HCP'].to_numpy()\n",
        "y = y.reshape(-1,1)"
      ],
      "metadata": {
        "id": "o1nWm5rb4eFz"
      },
      "id": "o1nWm5rb4eFz",
      "execution_count": 53,
      "outputs": []
    },
    {
      "cell_type": "code",
      "source": [
        "print(X.shape,y.shape)"
      ],
      "metadata": {
        "colab": {
          "base_uri": "https://localhost:8080/"
        },
        "id": "eOXghnK7Ieia",
        "outputId": "616e0971-d05d-4e6e-83a4-e0a858fc597b"
      },
      "id": "eOXghnK7Ieia",
      "execution_count": 54,
      "outputs": [
        {
          "output_type": "stream",
          "name": "stdout",
          "text": [
            "(109344, 1473) (109344, 1)\n"
          ]
        }
      ]
    },
    {
      "cell_type": "code",
      "source": [
        "clf = RandomForestClassifier( n_estimators = 100 ,random_state = 42)"
      ],
      "metadata": {
        "id": "xkeM7m4DGZ27"
      },
      "id": "xkeM7m4DGZ27",
      "execution_count": 55,
      "outputs": []
    },
    {
      "cell_type": "code",
      "source": [
        "X_train,X_val,y_train,y_val = train_test_split(X,y,test_size = 0.4)"
      ],
      "metadata": {
        "id": "--nU5co-K-Lz"
      },
      "id": "--nU5co-K-Lz",
      "execution_count": 56,
      "outputs": []
    },
    {
      "cell_type": "code",
      "source": [
        "clf.fit(X_train,y_train)"
      ],
      "metadata": {
        "id": "43tpux4DK7-K"
      },
      "id": "43tpux4DK7-K",
      "execution_count": null,
      "outputs": []
    },
    {
      "cell_type": "code",
      "source": [
        "scores = cross_val_score(clf, X , y , cv=5)\n",
        "scores.mean()"
      ],
      "metadata": {
        "id": "kahzY7DU6wE-"
      },
      "id": "kahzY7DU6wE-",
      "execution_count": null,
      "outputs": []
    },
    {
      "cell_type": "code",
      "source": [
        "hclf = HistGradientBoostingClassifier()\n",
        "hclf.fit(X_train,y_train)"
      ],
      "metadata": {
        "colab": {
          "base_uri": "https://localhost:8080/",
          "height": 129
        },
        "id": "ras8LLwlP-Jg",
        "outputId": "6043eee8-86ed-4f98-fec3-45a70abab836"
      },
      "id": "ras8LLwlP-Jg",
      "execution_count": 57,
      "outputs": [
        {
          "output_type": "stream",
          "name": "stderr",
          "text": [
            "/usr/local/lib/python3.10/dist-packages/sklearn/utils/validation.py:1143: DataConversionWarning: A column-vector y was passed when a 1d array was expected. Please change the shape of y to (n_samples, ), for example using ravel().\n",
            "  y = column_or_1d(y, warn=True)\n"
          ]
        },
        {
          "output_type": "execute_result",
          "data": {
            "text/plain": [
              "HistGradientBoostingClassifier()"
            ],
            "text/html": [
              "<style>#sk-container-id-2 {color: black;background-color: white;}#sk-container-id-2 pre{padding: 0;}#sk-container-id-2 div.sk-toggleable {background-color: white;}#sk-container-id-2 label.sk-toggleable__label {cursor: pointer;display: block;width: 100%;margin-bottom: 0;padding: 0.3em;box-sizing: border-box;text-align: center;}#sk-container-id-2 label.sk-toggleable__label-arrow:before {content: \"▸\";float: left;margin-right: 0.25em;color: #696969;}#sk-container-id-2 label.sk-toggleable__label-arrow:hover:before {color: black;}#sk-container-id-2 div.sk-estimator:hover label.sk-toggleable__label-arrow:before {color: black;}#sk-container-id-2 div.sk-toggleable__content {max-height: 0;max-width: 0;overflow: hidden;text-align: left;background-color: #f0f8ff;}#sk-container-id-2 div.sk-toggleable__content pre {margin: 0.2em;color: black;border-radius: 0.25em;background-color: #f0f8ff;}#sk-container-id-2 input.sk-toggleable__control:checked~div.sk-toggleable__content {max-height: 200px;max-width: 100%;overflow: auto;}#sk-container-id-2 input.sk-toggleable__control:checked~label.sk-toggleable__label-arrow:before {content: \"▾\";}#sk-container-id-2 div.sk-estimator input.sk-toggleable__control:checked~label.sk-toggleable__label {background-color: #d4ebff;}#sk-container-id-2 div.sk-label input.sk-toggleable__control:checked~label.sk-toggleable__label {background-color: #d4ebff;}#sk-container-id-2 input.sk-hidden--visually {border: 0;clip: rect(1px 1px 1px 1px);clip: rect(1px, 1px, 1px, 1px);height: 1px;margin: -1px;overflow: hidden;padding: 0;position: absolute;width: 1px;}#sk-container-id-2 div.sk-estimator {font-family: monospace;background-color: #f0f8ff;border: 1px dotted black;border-radius: 0.25em;box-sizing: border-box;margin-bottom: 0.5em;}#sk-container-id-2 div.sk-estimator:hover {background-color: #d4ebff;}#sk-container-id-2 div.sk-parallel-item::after {content: \"\";width: 100%;border-bottom: 1px solid gray;flex-grow: 1;}#sk-container-id-2 div.sk-label:hover label.sk-toggleable__label {background-color: #d4ebff;}#sk-container-id-2 div.sk-serial::before {content: \"\";position: absolute;border-left: 1px solid gray;box-sizing: border-box;top: 0;bottom: 0;left: 50%;z-index: 0;}#sk-container-id-2 div.sk-serial {display: flex;flex-direction: column;align-items: center;background-color: white;padding-right: 0.2em;padding-left: 0.2em;position: relative;}#sk-container-id-2 div.sk-item {position: relative;z-index: 1;}#sk-container-id-2 div.sk-parallel {display: flex;align-items: stretch;justify-content: center;background-color: white;position: relative;}#sk-container-id-2 div.sk-item::before, #sk-container-id-2 div.sk-parallel-item::before {content: \"\";position: absolute;border-left: 1px solid gray;box-sizing: border-box;top: 0;bottom: 0;left: 50%;z-index: -1;}#sk-container-id-2 div.sk-parallel-item {display: flex;flex-direction: column;z-index: 1;position: relative;background-color: white;}#sk-container-id-2 div.sk-parallel-item:first-child::after {align-self: flex-end;width: 50%;}#sk-container-id-2 div.sk-parallel-item:last-child::after {align-self: flex-start;width: 50%;}#sk-container-id-2 div.sk-parallel-item:only-child::after {width: 0;}#sk-container-id-2 div.sk-dashed-wrapped {border: 1px dashed gray;margin: 0 0.4em 0.5em 0.4em;box-sizing: border-box;padding-bottom: 0.4em;background-color: white;}#sk-container-id-2 div.sk-label label {font-family: monospace;font-weight: bold;display: inline-block;line-height: 1.2em;}#sk-container-id-2 div.sk-label-container {text-align: center;}#sk-container-id-2 div.sk-container {/* jupyter's `normalize.less` sets `[hidden] { display: none; }` but bootstrap.min.css set `[hidden] { display: none !important; }` so we also need the `!important` here to be able to override the default hidden behavior on the sphinx rendered scikit-learn.org. See: https://github.com/scikit-learn/scikit-learn/issues/21755 */display: inline-block !important;position: relative;}#sk-container-id-2 div.sk-text-repr-fallback {display: none;}</style><div id=\"sk-container-id-2\" class=\"sk-top-container\"><div class=\"sk-text-repr-fallback\"><pre>HistGradientBoostingClassifier()</pre><b>In a Jupyter environment, please rerun this cell to show the HTML representation or trust the notebook. <br />On GitHub, the HTML representation is unable to render, please try loading this page with nbviewer.org.</b></div><div class=\"sk-container\" hidden><div class=\"sk-item\"><div class=\"sk-estimator sk-toggleable\"><input class=\"sk-toggleable__control sk-hidden--visually\" id=\"sk-estimator-id-2\" type=\"checkbox\" checked><label for=\"sk-estimator-id-2\" class=\"sk-toggleable__label sk-toggleable__label-arrow\">HistGradientBoostingClassifier</label><div class=\"sk-toggleable__content\"><pre>HistGradientBoostingClassifier()</pre></div></div></div></div></div>"
            ]
          },
          "metadata": {},
          "execution_count": 57
        }
      ]
    },
    {
      "cell_type": "code",
      "source": [
        "y_val_pred = hclf.predict(X_val)"
      ],
      "metadata": {
        "id": "wemDhWxvR94I"
      },
      "id": "wemDhWxvR94I",
      "execution_count": 58,
      "outputs": []
    },
    {
      "cell_type": "code",
      "source": [
        "f1_score(y_val,y_val_pred)"
      ],
      "metadata": {
        "colab": {
          "base_uri": "https://localhost:8080/"
        },
        "id": "qWGBAzKlSg0T",
        "outputId": "e82dff97-f137-458d-ad7c-3b29833667be"
      },
      "id": "qWGBAzKlSg0T",
      "execution_count": 59,
      "outputs": [
        {
          "output_type": "execute_result",
          "data": {
            "text/plain": [
              "0.9653343157119174"
            ]
          },
          "metadata": {},
          "execution_count": 59
        }
      ]
    },
    {
      "cell_type": "code",
      "source": [
        "df_test = pd.read_csv('/content/drive/MyDrive/hackathon/Doceree-HCP_Test.csv')"
      ],
      "metadata": {
        "id": "AXybTidbJXe0"
      },
      "id": "AXybTidbJXe0",
      "execution_count": 60,
      "outputs": []
    },
    {
      "cell_type": "code",
      "source": [
        "df_test.isnull().sum()"
      ],
      "metadata": {
        "colab": {
          "base_uri": "https://localhost:8080/"
        },
        "id": "2WNP9o9OO22G",
        "outputId": "192378e5-9748-474c-e340-860782e5dde4"
      },
      "id": "2WNP9o9OO22G",
      "execution_count": 61,
      "outputs": [
        {
          "output_type": "execute_result",
          "data": {
            "text/plain": [
              "ID                    0\n",
              "DEVICETYPE            0\n",
              "PLATFORM_ID           0\n",
              "BIDREQUESTIP          0\n",
              "USERPLATFORMUID       0\n",
              "USERCITY           1559\n",
              "USERZIPCODE        1115\n",
              "USERAGENT             1\n",
              "PLATFORMTYPE          0\n",
              "CHANNELTYPE           0\n",
              "URL                   0\n",
              "KEYWORDS              0\n",
              "dtype: int64"
            ]
          },
          "metadata": {},
          "execution_count": 61
        }
      ]
    },
    {
      "cell_type": "code",
      "source": [
        "bid = vectorizer.transform(df_test['BIDREQUESTIP'])\n",
        "bid = pd.DataFrame(bid.toarray())"
      ],
      "metadata": {
        "id": "APlRLmLc49_h"
      },
      "id": "APlRLmLc49_h",
      "execution_count": 62,
      "outputs": []
    },
    {
      "cell_type": "code",
      "source": [
        "kywrd = tfidf.transform(df_test['KEYWORDS'])\n",
        "kywrd = pd.DataFrame(kywrd.toarray(),columns = tfidf.get_feature_names_out())"
      ],
      "metadata": {
        "id": "wcWrcdgb5YKc"
      },
      "id": "wcWrcdgb5YKc",
      "execution_count": 63,
      "outputs": []
    },
    {
      "cell_type": "code",
      "source": [
        "df_test = pd.concat([df_test,bid,kywrd],axis=1)"
      ],
      "metadata": {
        "id": "s3ov_SdCOphy"
      },
      "id": "s3ov_SdCOphy",
      "execution_count": 64,
      "outputs": []
    },
    {
      "cell_type": "code",
      "source": [
        "null = dict(df_test.isnull().sum())"
      ],
      "metadata": {
        "id": "0W0eS4kAO-Hh"
      },
      "id": "0W0eS4kAO-Hh",
      "execution_count": 32,
      "outputs": []
    },
    {
      "cell_type": "code",
      "source": [
        "keys = null.keys()\n",
        "for key in keys:\n",
        "  if(null[key] == 1):\n",
        "    print(\"there is null value\")"
      ],
      "metadata": {
        "colab": {
          "base_uri": "https://localhost:8080/"
        },
        "id": "hxj9nYwwPC5M",
        "outputId": "3aca859d-3b63-4180-daa8-ad7943bdb625"
      },
      "id": "hxj9nYwwPC5M",
      "execution_count": 33,
      "outputs": [
        {
          "output_type": "stream",
          "name": "stdout",
          "text": [
            "there is null value\n"
          ]
        }
      ]
    },
    {
      "cell_type": "markdown",
      "source": [
        "there are no null values n df_test"
      ],
      "metadata": {
        "id": "xoeeKilpPOr_"
      },
      "id": "xoeeKilpPOr_"
    },
    {
      "cell_type": "code",
      "source": [
        "id_t = df_test['ID']\n",
        "df_test = drp(df_test)\n",
        "df_test = df_test.drop(['BIDREQUESTIP','KEYWORDS','ID'],axis = 1)\n",
        "df_test = ohe(df_test,'DEVICETYPE')\n",
        "df_test = ohe(df_test,'PLATFORMTYPE')"
      ],
      "metadata": {
        "id": "B6Nj4gFV6yA8"
      },
      "id": "B6Nj4gFV6yA8",
      "execution_count": 65,
      "outputs": []
    },
    {
      "cell_type": "code",
      "source": [
        "null = dict(df_test.isnull().sum())\n",
        "keys = null.keys()\n",
        "for key in keys:\n",
        "  if(null[key] == 1):\n",
        "    print(\"there is null value\")"
      ],
      "metadata": {
        "id": "EyAiyAM0PSkC"
      },
      "id": "EyAiyAM0PSkC",
      "execution_count": 35,
      "outputs": []
    },
    {
      "cell_type": "code",
      "source": [
        "trcol = list(df_hcp.columns)\n",
        "tstcol = list(df_test.columns)"
      ],
      "metadata": {
        "id": "OaPMoxKxQyvR"
      },
      "id": "OaPMoxKxQyvR",
      "execution_count": 37,
      "outputs": []
    },
    {
      "cell_type": "code",
      "source": [
        "msngcol = []\n",
        "index = []\n",
        "ind = 0\n",
        "for i in trcol:\n",
        "  if i not in tstcol:\n",
        "    msngcol.append(i)\n",
        "    index.append(ind)\n",
        "  ind+=1\n",
        "index"
      ],
      "metadata": {
        "colab": {
          "base_uri": "https://localhost:8080/"
        },
        "id": "3k06D1QcRBCW",
        "outputId": "130cbde0-7538-42a1-d307-89d41afd795a"
      },
      "id": "3k06D1QcRBCW",
      "execution_count": 43,
      "outputs": [
        {
          "output_type": "execute_result",
          "data": {
            "text/plain": [
              "[2, 1473]"
            ]
          },
          "metadata": {},
          "execution_count": 43
        }
      ]
    },
    {
      "cell_type": "code",
      "source": [
        "msngcol"
      ],
      "metadata": {
        "colab": {
          "base_uri": "https://localhost:8080/"
        },
        "id": "WijfSwvjRJvo",
        "outputId": "ab463995-577e-4d24-fba2-4572b90af680"
      },
      "id": "WijfSwvjRJvo",
      "execution_count": 42,
      "outputs": [
        {
          "output_type": "execute_result",
          "data": {
            "text/plain": [
              "['IS_HCP', 'PLATFORMTYPE_Tele-medicine Platform']"
            ]
          },
          "metadata": {},
          "execution_count": 42
        }
      ]
    },
    {
      "cell_type": "code",
      "source": [
        "col = np.zeros([df_test.shape[0],1])\n",
        "col = pd.DataFrame(col,columns = ['PLATFORMTYPE_Tele-medicine Platform'])\n",
        "df_test = pd.concat([df_test,col],axis = 1)"
      ],
      "metadata": {
        "id": "uHEhui7KUMsi"
      },
      "id": "uHEhui7KUMsi",
      "execution_count": 66,
      "outputs": []
    },
    {
      "cell_type": "code",
      "source": [
        "X_test = df_test\n",
        "X_test.columns = X_test.columns.astype(str)\n",
        "X_test = scale(X_test)\n",
        "X_test.shape"
      ],
      "metadata": {
        "colab": {
          "base_uri": "https://localhost:8080/"
        },
        "id": "JswaIANc8bKG",
        "outputId": "0c8536e9-1bcd-4571-a289-6773d5aeda18"
      },
      "id": "JswaIANc8bKG",
      "execution_count": 70,
      "outputs": [
        {
          "output_type": "execute_result",
          "data": {
            "text/plain": [
              "(28493, 1473)"
            ]
          },
          "metadata": {},
          "execution_count": 70
        }
      ]
    },
    {
      "cell_type": "code",
      "source": [
        "y_test = hclf.predict(X_test)"
      ],
      "metadata": {
        "id": "vhXObnNsKy0r"
      },
      "id": "vhXObnNsKy0r",
      "execution_count": 71,
      "outputs": []
    },
    {
      "cell_type": "code",
      "source": [
        "is_hcp = pd.DataFrame(y_test,columns = ['IS_HCP'])"
      ],
      "metadata": {
        "id": "KLBeZC2OYpeF"
      },
      "id": "KLBeZC2OYpeF",
      "execution_count": 77,
      "outputs": []
    },
    {
      "cell_type": "code",
      "source": [
        "is_hcp"
      ],
      "metadata": {
        "colab": {
          "base_uri": "https://localhost:8080/",
          "height": 423
        },
        "id": "1AxIP2AaZ6JV",
        "outputId": "5a5bf26a-52f0-47a0-ded9-dea49d8482f6"
      },
      "id": "1AxIP2AaZ6JV",
      "execution_count": 78,
      "outputs": [
        {
          "output_type": "execute_result",
          "data": {
            "text/plain": [
              "       IS_HCP\n",
              "0         0.0\n",
              "1         1.0\n",
              "2         0.0\n",
              "3         0.0\n",
              "4         1.0\n",
              "...       ...\n",
              "28488     0.0\n",
              "28489     0.0\n",
              "28490     0.0\n",
              "28491     0.0\n",
              "28492     1.0\n",
              "\n",
              "[28493 rows x 1 columns]"
            ],
            "text/html": [
              "\n",
              "  <div id=\"df-d60e9e39-bff8-4077-b24e-6823f24c450d\">\n",
              "    <div class=\"colab-df-container\">\n",
              "      <div>\n",
              "<style scoped>\n",
              "    .dataframe tbody tr th:only-of-type {\n",
              "        vertical-align: middle;\n",
              "    }\n",
              "\n",
              "    .dataframe tbody tr th {\n",
              "        vertical-align: top;\n",
              "    }\n",
              "\n",
              "    .dataframe thead th {\n",
              "        text-align: right;\n",
              "    }\n",
              "</style>\n",
              "<table border=\"1\" class=\"dataframe\">\n",
              "  <thead>\n",
              "    <tr style=\"text-align: right;\">\n",
              "      <th></th>\n",
              "      <th>IS_HCP</th>\n",
              "    </tr>\n",
              "  </thead>\n",
              "  <tbody>\n",
              "    <tr>\n",
              "      <th>0</th>\n",
              "      <td>0.0</td>\n",
              "    </tr>\n",
              "    <tr>\n",
              "      <th>1</th>\n",
              "      <td>1.0</td>\n",
              "    </tr>\n",
              "    <tr>\n",
              "      <th>2</th>\n",
              "      <td>0.0</td>\n",
              "    </tr>\n",
              "    <tr>\n",
              "      <th>3</th>\n",
              "      <td>0.0</td>\n",
              "    </tr>\n",
              "    <tr>\n",
              "      <th>4</th>\n",
              "      <td>1.0</td>\n",
              "    </tr>\n",
              "    <tr>\n",
              "      <th>...</th>\n",
              "      <td>...</td>\n",
              "    </tr>\n",
              "    <tr>\n",
              "      <th>28488</th>\n",
              "      <td>0.0</td>\n",
              "    </tr>\n",
              "    <tr>\n",
              "      <th>28489</th>\n",
              "      <td>0.0</td>\n",
              "    </tr>\n",
              "    <tr>\n",
              "      <th>28490</th>\n",
              "      <td>0.0</td>\n",
              "    </tr>\n",
              "    <tr>\n",
              "      <th>28491</th>\n",
              "      <td>0.0</td>\n",
              "    </tr>\n",
              "    <tr>\n",
              "      <th>28492</th>\n",
              "      <td>1.0</td>\n",
              "    </tr>\n",
              "  </tbody>\n",
              "</table>\n",
              "<p>28493 rows × 1 columns</p>\n",
              "</div>\n",
              "      <button class=\"colab-df-convert\" onclick=\"convertToInteractive('df-d60e9e39-bff8-4077-b24e-6823f24c450d')\"\n",
              "              title=\"Convert this dataframe to an interactive table.\"\n",
              "              style=\"display:none;\">\n",
              "        \n",
              "  <svg xmlns=\"http://www.w3.org/2000/svg\" height=\"24px\"viewBox=\"0 0 24 24\"\n",
              "       width=\"24px\">\n",
              "    <path d=\"M0 0h24v24H0V0z\" fill=\"none\"/>\n",
              "    <path d=\"M18.56 5.44l.94 2.06.94-2.06 2.06-.94-2.06-.94-.94-2.06-.94 2.06-2.06.94zm-11 1L8.5 8.5l.94-2.06 2.06-.94-2.06-.94L8.5 2.5l-.94 2.06-2.06.94zm10 10l.94 2.06.94-2.06 2.06-.94-2.06-.94-.94-2.06-.94 2.06-2.06.94z\"/><path d=\"M17.41 7.96l-1.37-1.37c-.4-.4-.92-.59-1.43-.59-.52 0-1.04.2-1.43.59L10.3 9.45l-7.72 7.72c-.78.78-.78 2.05 0 2.83L4 21.41c.39.39.9.59 1.41.59.51 0 1.02-.2 1.41-.59l7.78-7.78 2.81-2.81c.8-.78.8-2.07 0-2.86zM5.41 20L4 18.59l7.72-7.72 1.47 1.35L5.41 20z\"/>\n",
              "  </svg>\n",
              "      </button>\n",
              "      \n",
              "  <style>\n",
              "    .colab-df-container {\n",
              "      display:flex;\n",
              "      flex-wrap:wrap;\n",
              "      gap: 12px;\n",
              "    }\n",
              "\n",
              "    .colab-df-convert {\n",
              "      background-color: #E8F0FE;\n",
              "      border: none;\n",
              "      border-radius: 50%;\n",
              "      cursor: pointer;\n",
              "      display: none;\n",
              "      fill: #1967D2;\n",
              "      height: 32px;\n",
              "      padding: 0 0 0 0;\n",
              "      width: 32px;\n",
              "    }\n",
              "\n",
              "    .colab-df-convert:hover {\n",
              "      background-color: #E2EBFA;\n",
              "      box-shadow: 0px 1px 2px rgba(60, 64, 67, 0.3), 0px 1px 3px 1px rgba(60, 64, 67, 0.15);\n",
              "      fill: #174EA6;\n",
              "    }\n",
              "\n",
              "    [theme=dark] .colab-df-convert {\n",
              "      background-color: #3B4455;\n",
              "      fill: #D2E3FC;\n",
              "    }\n",
              "\n",
              "    [theme=dark] .colab-df-convert:hover {\n",
              "      background-color: #434B5C;\n",
              "      box-shadow: 0px 1px 3px 1px rgba(0, 0, 0, 0.15);\n",
              "      filter: drop-shadow(0px 1px 2px rgba(0, 0, 0, 0.3));\n",
              "      fill: #FFFFFF;\n",
              "    }\n",
              "  </style>\n",
              "\n",
              "      <script>\n",
              "        const buttonEl =\n",
              "          document.querySelector('#df-d60e9e39-bff8-4077-b24e-6823f24c450d button.colab-df-convert');\n",
              "        buttonEl.style.display =\n",
              "          google.colab.kernel.accessAllowed ? 'block' : 'none';\n",
              "\n",
              "        async function convertToInteractive(key) {\n",
              "          const element = document.querySelector('#df-d60e9e39-bff8-4077-b24e-6823f24c450d');\n",
              "          const dataTable =\n",
              "            await google.colab.kernel.invokeFunction('convertToInteractive',\n",
              "                                                     [key], {});\n",
              "          if (!dataTable) return;\n",
              "\n",
              "          const docLinkHtml = 'Like what you see? Visit the ' +\n",
              "            '<a target=\"_blank\" href=https://colab.research.google.com/notebooks/data_table.ipynb>data table notebook</a>'\n",
              "            + ' to learn more about interactive tables.';\n",
              "          element.innerHTML = '';\n",
              "          dataTable['output_type'] = 'display_data';\n",
              "          await google.colab.output.renderOutput(dataTable, element);\n",
              "          const docLink = document.createElement('div');\n",
              "          docLink.innerHTML = docLinkHtml;\n",
              "          element.appendChild(docLink);\n",
              "        }\n",
              "      </script>\n",
              "    </div>\n",
              "  </div>\n",
              "  "
            ]
          },
          "metadata": {},
          "execution_count": 78
        }
      ]
    },
    {
      "cell_type": "code",
      "source": [
        "id = pd.DataFrame(id,columns = ['ID'])"
      ],
      "metadata": {
        "id": "zGtaJAHRZyvy"
      },
      "id": "zGtaJAHRZyvy",
      "execution_count": 79,
      "outputs": []
    },
    {
      "cell_type": "code",
      "source": [
        "fa = pd.concat([id,is_hcp],axis = 1)\n",
        "fa.head()"
      ],
      "metadata": {
        "colab": {
          "base_uri": "https://localhost:8080/",
          "height": 206
        },
        "id": "EnmQKzsLZatR",
        "outputId": "e1edd58c-eaf4-4572-f559-6d57187e1db8"
      },
      "id": "EnmQKzsLZatR",
      "execution_count": 81,
      "outputs": [
        {
          "output_type": "execute_result",
          "data": {
            "text/plain": [
              "     ID  IS_HCP\n",
              "0  1001     0.0\n",
              "1  1002     1.0\n",
              "2  1003     0.0\n",
              "3  1004     0.0\n",
              "4  1005     1.0"
            ],
            "text/html": [
              "\n",
              "  <div id=\"df-7a70a9f6-9637-4915-ae54-6c20f45860b3\">\n",
              "    <div class=\"colab-df-container\">\n",
              "      <div>\n",
              "<style scoped>\n",
              "    .dataframe tbody tr th:only-of-type {\n",
              "        vertical-align: middle;\n",
              "    }\n",
              "\n",
              "    .dataframe tbody tr th {\n",
              "        vertical-align: top;\n",
              "    }\n",
              "\n",
              "    .dataframe thead th {\n",
              "        text-align: right;\n",
              "    }\n",
              "</style>\n",
              "<table border=\"1\" class=\"dataframe\">\n",
              "  <thead>\n",
              "    <tr style=\"text-align: right;\">\n",
              "      <th></th>\n",
              "      <th>ID</th>\n",
              "      <th>IS_HCP</th>\n",
              "    </tr>\n",
              "  </thead>\n",
              "  <tbody>\n",
              "    <tr>\n",
              "      <th>0</th>\n",
              "      <td>1001</td>\n",
              "      <td>0.0</td>\n",
              "    </tr>\n",
              "    <tr>\n",
              "      <th>1</th>\n",
              "      <td>1002</td>\n",
              "      <td>1.0</td>\n",
              "    </tr>\n",
              "    <tr>\n",
              "      <th>2</th>\n",
              "      <td>1003</td>\n",
              "      <td>0.0</td>\n",
              "    </tr>\n",
              "    <tr>\n",
              "      <th>3</th>\n",
              "      <td>1004</td>\n",
              "      <td>0.0</td>\n",
              "    </tr>\n",
              "    <tr>\n",
              "      <th>4</th>\n",
              "      <td>1005</td>\n",
              "      <td>1.0</td>\n",
              "    </tr>\n",
              "  </tbody>\n",
              "</table>\n",
              "</div>\n",
              "      <button class=\"colab-df-convert\" onclick=\"convertToInteractive('df-7a70a9f6-9637-4915-ae54-6c20f45860b3')\"\n",
              "              title=\"Convert this dataframe to an interactive table.\"\n",
              "              style=\"display:none;\">\n",
              "        \n",
              "  <svg xmlns=\"http://www.w3.org/2000/svg\" height=\"24px\"viewBox=\"0 0 24 24\"\n",
              "       width=\"24px\">\n",
              "    <path d=\"M0 0h24v24H0V0z\" fill=\"none\"/>\n",
              "    <path d=\"M18.56 5.44l.94 2.06.94-2.06 2.06-.94-2.06-.94-.94-2.06-.94 2.06-2.06.94zm-11 1L8.5 8.5l.94-2.06 2.06-.94-2.06-.94L8.5 2.5l-.94 2.06-2.06.94zm10 10l.94 2.06.94-2.06 2.06-.94-2.06-.94-.94-2.06-.94 2.06-2.06.94z\"/><path d=\"M17.41 7.96l-1.37-1.37c-.4-.4-.92-.59-1.43-.59-.52 0-1.04.2-1.43.59L10.3 9.45l-7.72 7.72c-.78.78-.78 2.05 0 2.83L4 21.41c.39.39.9.59 1.41.59.51 0 1.02-.2 1.41-.59l7.78-7.78 2.81-2.81c.8-.78.8-2.07 0-2.86zM5.41 20L4 18.59l7.72-7.72 1.47 1.35L5.41 20z\"/>\n",
              "  </svg>\n",
              "      </button>\n",
              "      \n",
              "  <style>\n",
              "    .colab-df-container {\n",
              "      display:flex;\n",
              "      flex-wrap:wrap;\n",
              "      gap: 12px;\n",
              "    }\n",
              "\n",
              "    .colab-df-convert {\n",
              "      background-color: #E8F0FE;\n",
              "      border: none;\n",
              "      border-radius: 50%;\n",
              "      cursor: pointer;\n",
              "      display: none;\n",
              "      fill: #1967D2;\n",
              "      height: 32px;\n",
              "      padding: 0 0 0 0;\n",
              "      width: 32px;\n",
              "    }\n",
              "\n",
              "    .colab-df-convert:hover {\n",
              "      background-color: #E2EBFA;\n",
              "      box-shadow: 0px 1px 2px rgba(60, 64, 67, 0.3), 0px 1px 3px 1px rgba(60, 64, 67, 0.15);\n",
              "      fill: #174EA6;\n",
              "    }\n",
              "\n",
              "    [theme=dark] .colab-df-convert {\n",
              "      background-color: #3B4455;\n",
              "      fill: #D2E3FC;\n",
              "    }\n",
              "\n",
              "    [theme=dark] .colab-df-convert:hover {\n",
              "      background-color: #434B5C;\n",
              "      box-shadow: 0px 1px 3px 1px rgba(0, 0, 0, 0.15);\n",
              "      filter: drop-shadow(0px 1px 2px rgba(0, 0, 0, 0.3));\n",
              "      fill: #FFFFFF;\n",
              "    }\n",
              "  </style>\n",
              "\n",
              "      <script>\n",
              "        const buttonEl =\n",
              "          document.querySelector('#df-7a70a9f6-9637-4915-ae54-6c20f45860b3 button.colab-df-convert');\n",
              "        buttonEl.style.display =\n",
              "          google.colab.kernel.accessAllowed ? 'block' : 'none';\n",
              "\n",
              "        async function convertToInteractive(key) {\n",
              "          const element = document.querySelector('#df-7a70a9f6-9637-4915-ae54-6c20f45860b3');\n",
              "          const dataTable =\n",
              "            await google.colab.kernel.invokeFunction('convertToInteractive',\n",
              "                                                     [key], {});\n",
              "          if (!dataTable) return;\n",
              "\n",
              "          const docLinkHtml = 'Like what you see? Visit the ' +\n",
              "            '<a target=\"_blank\" href=https://colab.research.google.com/notebooks/data_table.ipynb>data table notebook</a>'\n",
              "            + ' to learn more about interactive tables.';\n",
              "          element.innerHTML = '';\n",
              "          dataTable['output_type'] = 'display_data';\n",
              "          await google.colab.output.renderOutput(dataTable, element);\n",
              "          const docLink = document.createElement('div');\n",
              "          docLink.innerHTML = docLinkHtml;\n",
              "          element.appendChild(docLink);\n",
              "        }\n",
              "      </script>\n",
              "    </div>\n",
              "  </div>\n",
              "  "
            ]
          },
          "metadata": {},
          "execution_count": 81
        }
      ]
    },
    {
      "cell_type": "code",
      "source": [
        "fa.to_csv('IS_HCP.csv')"
      ],
      "metadata": {
        "id": "jWAXE07gaC9l"
      },
      "id": "jWAXE07gaC9l",
      "execution_count": 82,
      "outputs": []
    }
  ],
  "metadata": {
    "colab": {
      "provenance": [],
      "include_colab_link": true
    },
    "kernelspec": {
      "display_name": "Python 3 (ipykernel)",
      "language": "python",
      "name": "python3"
    },
    "language_info": {
      "codemirror_mode": {
        "name": "ipython",
        "version": 3
      },
      "file_extension": ".py",
      "mimetype": "text/x-python",
      "name": "python",
      "nbconvert_exporter": "python",
      "pygments_lexer": "ipython3",
      "version": "3.11.1"
    }
  },
  "nbformat": 4,
  "nbformat_minor": 5
}