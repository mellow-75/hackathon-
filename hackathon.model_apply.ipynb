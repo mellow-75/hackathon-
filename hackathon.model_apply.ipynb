{
 "cells": [
  {
   "cell_type": "markdown",
   "id": "d2c8fd32",
   "metadata": {
    "colab_type": "text",
    "id": "view-in-github"
   },
   "source": [
    "<a href=\"https://colab.research.google.com/github/mellow-75/hackathon-/blob/branch_1/hackathon_data_analysis_(1).ipynb\" target=\"_parent\"><img src=\"https://colab.research.google.com/assets/colab-badge.svg\" alt=\"Open In Colab\"/></a>"
   ]
  },
  {
   "cell_type": "code",
   "execution_count": 1,
   "id": "95377922",
   "metadata": {
    "id": "95377922"
   },
   "outputs": [],
   "source": [
    "import pandas as pd\n",
    "import numpy as np\n",
    "import matplotlib.pyplot as plt\n",
    "import sklearn.ensemble"
   ]
  },
  {
   "cell_type": "code",
   "execution_count": 2,
   "id": "fb839c51",
   "metadata": {
    "id": "fb839c51"
   },
   "outputs": [],
   "source": [
    "df=pd.read_csv(\"Doceree-HCP_Train.csv\", encoding = \"latin=1\")"
   ]
  },
  {
   "cell_type": "code",
   "execution_count": 3,
   "id": "e68d3579",
   "metadata": {
    "colab": {
     "base_uri": "https://localhost:8080/",
     "height": 634
    },
    "id": "e68d3579",
    "outputId": "6f188ac5-e555-4172-9034-2c153003e69a",
    "scrolled": true
   },
   "outputs": [
    {
     "data": {
      "text/html": [
       "<div>\n",
       "<style scoped>\n",
       "    .dataframe tbody tr th:only-of-type {\n",
       "        vertical-align: middle;\n",
       "    }\n",
       "\n",
       "    .dataframe tbody tr th {\n",
       "        vertical-align: top;\n",
       "    }\n",
       "\n",
       "    .dataframe thead th {\n",
       "        text-align: right;\n",
       "    }\n",
       "</style>\n",
       "<table border=\"1\" class=\"dataframe\">\n",
       "  <thead>\n",
       "    <tr style=\"text-align: right;\">\n",
       "      <th></th>\n",
       "      <th>ID</th>\n",
       "      <th>DEVICETYPE</th>\n",
       "      <th>PLATFORM_ID</th>\n",
       "      <th>BIDREQUESTIP</th>\n",
       "      <th>USERPLATFORMUID</th>\n",
       "      <th>USERCITY</th>\n",
       "      <th>USERZIPCODE</th>\n",
       "      <th>USERAGENT</th>\n",
       "      <th>PLATFORMTYPE</th>\n",
       "      <th>CHANNELTYPE</th>\n",
       "      <th>URL</th>\n",
       "      <th>KEYWORDS</th>\n",
       "      <th>TAXONOMY</th>\n",
       "      <th>IS_HCP</th>\n",
       "    </tr>\n",
       "  </thead>\n",
       "  <tbody>\n",
       "    <tr>\n",
       "      <th>0</th>\n",
       "      <td>1001</td>\n",
       "      <td>Desktop</td>\n",
       "      <td>2</td>\n",
       "      <td>170.173.0.22</td>\n",
       "      <td>6974dcaa-f932-480e-9fb5-c52e20e1393a</td>\n",
       "      <td>Portland</td>\n",
       "      <td>97206.0</td>\n",
       "      <td>Mozilla/5.0 (Windows NT 10.0; Win64; x64) Appl...</td>\n",
       "      <td>Online Medical Journal</td>\n",
       "      <td>Website</td>\n",
       "      <td>https://www.cancertherapyadvisor.com/home/canc...</td>\n",
       "      <td>General|Endocrine|False|Medicine|Surgery|Urolo...</td>\n",
       "      <td>NaN</td>\n",
       "      <td>0.0</td>\n",
       "    </tr>\n",
       "    <tr>\n",
       "      <th>1</th>\n",
       "      <td>1002</td>\n",
       "      <td>Desktop</td>\n",
       "      <td>2</td>\n",
       "      <td>65.216.253.25</td>\n",
       "      <td>c12f3f8f-8fcf-484a-90e1-1ac04db8cdcf</td>\n",
       "      <td>Arlington</td>\n",
       "      <td>22202.0</td>\n",
       "      <td>Mozilla/5.0 (Macintosh; Intel Mac OS X 10_15_7...</td>\n",
       "      <td>Online Medical Journal</td>\n",
       "      <td>Website</td>\n",
       "      <td>https://www.cancertherapyadvisor.com/home/deci...</td>\n",
       "      <td>Bone Marrow|Radiography|Chronic|Oncology|Psych...</td>\n",
       "      <td>NaN</td>\n",
       "      <td>0.0</td>\n",
       "    </tr>\n",
       "    <tr>\n",
       "      <th>2</th>\n",
       "      <td>1003</td>\n",
       "      <td>Desktop</td>\n",
       "      <td>2</td>\n",
       "      <td>66.232.79.22</td>\n",
       "      <td>a698de4b-e200-46dd-b5fb-40402175ae18</td>\n",
       "      <td>New Meadows</td>\n",
       "      <td>83654.0</td>\n",
       "      <td>Mozilla/5.0 (Macintosh; Intel Mac OS X 10_15_7...</td>\n",
       "      <td>Online Medical Journal</td>\n",
       "      <td>Website</td>\n",
       "      <td>https://www.cancertherapyadvisor.com/home/canc...</td>\n",
       "      <td>General|Endocrine|False|Medicine|Surgery|Urolo...</td>\n",
       "      <td>NaN</td>\n",
       "      <td>0.0</td>\n",
       "    </tr>\n",
       "    <tr>\n",
       "      <th>3</th>\n",
       "      <td>1004</td>\n",
       "      <td>Desktop</td>\n",
       "      <td>3</td>\n",
       "      <td>137.54.125.246</td>\n",
       "      <td>45967533-75c8-4fbd-a00c-e6ff20447aaa</td>\n",
       "      <td>NaN</td>\n",
       "      <td>229114624.0</td>\n",
       "      <td>Mozilla/5.0 (Windows NT 10.0; Win64; x64) Appl...</td>\n",
       "      <td>Online Medical Journal</td>\n",
       "      <td>Website</td>\n",
       "      <td>https://globalrph.com/medcalcs/warfarin-mainte...</td>\n",
       "      <td>Dental|Total|Clinical|Pharmacology|Physicians|...</td>\n",
       "      <td>2084P0800X</td>\n",
       "      <td>1.0</td>\n",
       "    </tr>\n",
       "    <tr>\n",
       "      <th>4</th>\n",
       "      <td>1005</td>\n",
       "      <td>Mobile</td>\n",
       "      <td>7</td>\n",
       "      <td>174.202.231.99</td>\n",
       "      <td>a17e25be-532d-4cf5-b916-9308c8c3961f</td>\n",
       "      <td>Houston</td>\n",
       "      <td>77008.0</td>\n",
       "      <td>Mozilla/5.0 (iPhone; CPU iPhone OS 16_1_1 like...</td>\n",
       "      <td>Online Medical Journal</td>\n",
       "      <td>Website</td>\n",
       "      <td>https://www.cureus.com/articles/58184-a-review...</td>\n",
       "      <td>Critical Care|Emergency Medicine|General Pract...</td>\n",
       "      <td>NaN</td>\n",
       "      <td>0.0</td>\n",
       "    </tr>\n",
       "  </tbody>\n",
       "</table>\n",
       "</div>"
      ],
      "text/plain": [
       "     ID DEVICETYPE  PLATFORM_ID    BIDREQUESTIP  \\\n",
       "0  1001    Desktop            2    170.173.0.22   \n",
       "1  1002    Desktop            2   65.216.253.25   \n",
       "2  1003    Desktop            2    66.232.79.22   \n",
       "3  1004    Desktop            3  137.54.125.246   \n",
       "4  1005     Mobile            7  174.202.231.99   \n",
       "\n",
       "                        USERPLATFORMUID     USERCITY  USERZIPCODE  \\\n",
       "0  6974dcaa-f932-480e-9fb5-c52e20e1393a     Portland      97206.0   \n",
       "1  c12f3f8f-8fcf-484a-90e1-1ac04db8cdcf    Arlington      22202.0   \n",
       "2  a698de4b-e200-46dd-b5fb-40402175ae18  New Meadows      83654.0   \n",
       "3  45967533-75c8-4fbd-a00c-e6ff20447aaa          NaN  229114624.0   \n",
       "4  a17e25be-532d-4cf5-b916-9308c8c3961f      Houston      77008.0   \n",
       "\n",
       "                                           USERAGENT            PLATFORMTYPE  \\\n",
       "0  Mozilla/5.0 (Windows NT 10.0; Win64; x64) Appl...  Online Medical Journal   \n",
       "1  Mozilla/5.0 (Macintosh; Intel Mac OS X 10_15_7...  Online Medical Journal   \n",
       "2  Mozilla/5.0 (Macintosh; Intel Mac OS X 10_15_7...  Online Medical Journal   \n",
       "3  Mozilla/5.0 (Windows NT 10.0; Win64; x64) Appl...  Online Medical Journal   \n",
       "4  Mozilla/5.0 (iPhone; CPU iPhone OS 16_1_1 like...  Online Medical Journal   \n",
       "\n",
       "  CHANNELTYPE                                                URL  \\\n",
       "0     Website  https://www.cancertherapyadvisor.com/home/canc...   \n",
       "1     Website  https://www.cancertherapyadvisor.com/home/deci...   \n",
       "2     Website  https://www.cancertherapyadvisor.com/home/canc...   \n",
       "3     Website  https://globalrph.com/medcalcs/warfarin-mainte...   \n",
       "4     Website  https://www.cureus.com/articles/58184-a-review...   \n",
       "\n",
       "                                            KEYWORDS    TAXONOMY  IS_HCP  \n",
       "0  General|Endocrine|False|Medicine|Surgery|Urolo...         NaN     0.0  \n",
       "1  Bone Marrow|Radiography|Chronic|Oncology|Psych...         NaN     0.0  \n",
       "2  General|Endocrine|False|Medicine|Surgery|Urolo...         NaN     0.0  \n",
       "3  Dental|Total|Clinical|Pharmacology|Physicians|...  2084P0800X     1.0  \n",
       "4  Critical Care|Emergency Medicine|General Pract...         NaN     0.0  "
      ]
     },
     "execution_count": 3,
     "metadata": {},
     "output_type": "execute_result"
    }
   ],
   "source": [
    "df.head()"
   ]
  },
  {
   "cell_type": "code",
   "execution_count": 4,
   "id": "a63239ec",
   "metadata": {
    "colab": {
     "base_uri": "https://localhost:8080/"
    },
    "id": "a63239ec",
    "outputId": "74162b9b-f5bc-4ebb-89a1-ae30b129d5c7"
   },
   "outputs": [
    {
     "name": "stdout",
     "output_type": "stream",
     "text": [
      "no of nan values :  0\n",
      "(113937, 14)\n"
     ]
    }
   ],
   "source": [
    "print(\"no of nan values : \" ,df['ID'].isna().sum())\n",
    "print(df.shape)"
   ]
  },
  {
   "cell_type": "code",
   "execution_count": 5,
   "id": "472a66ec",
   "metadata": {
    "colab": {
     "base_uri": "https://localhost:8080/"
    },
    "id": "472a66ec",
    "outputId": "3b5f8639-d4ab-4500-9cd6-60dcdbfdc053"
   },
   "outputs": [
    {
     "name": "stdout",
     "output_type": "stream",
     "text": [
      "no of nan values :  0\n",
      "DEVICETYPE\n",
      "Desktop    78423\n",
      "Mobile     32065\n",
      "Tablet      3425\n",
      "Unknown       24\n",
      "Name: count, dtype: int64\n"
     ]
    }
   ],
   "source": [
    "print(\"no of nan values : \" ,df['DEVICETYPE'].isna().sum())\n",
    "print(df.DEVICETYPE.value_counts())"
   ]
  },
  {
   "cell_type": "code",
   "execution_count": 6,
   "id": "99ff1253",
   "metadata": {
    "colab": {
     "base_uri": "https://localhost:8080/"
    },
    "id": "99ff1253",
    "outputId": "df10f7f0-9201-490d-a95b-0ce37cff7c30"
   },
   "outputs": [
    {
     "name": "stdout",
     "output_type": "stream",
     "text": [
      "no of nan values :  0\n",
      "PLATFORM_ID\n",
      "2     79151\n",
      "7     20913\n",
      "9      3891\n",
      "5      3230\n",
      "6      2978\n",
      "10     1037\n",
      "4       745\n",
      "14      725\n",
      "12      544\n",
      "3       479\n",
      "8       130\n",
      "15       42\n",
      "1        40\n",
      "13       31\n",
      "16        1\n",
      "Name: count, dtype: int64\n"
     ]
    }
   ],
   "source": [
    "print(\"no of nan values : \" ,df['PLATFORM_ID'].isna().sum())\n",
    "print(df.PLATFORM_ID.value_counts())"
   ]
  },
  {
   "cell_type": "code",
   "execution_count": 7,
   "id": "ea4380ee",
   "metadata": {
    "colab": {
     "base_uri": "https://localhost:8080/"
    },
    "id": "ea4380ee",
    "outputId": "ecf2ac2c-e9e4-486f-95ea-7b342d737602"
   },
   "outputs": [
    {
     "name": "stdout",
     "output_type": "stream",
     "text": [
      "no of nan values :  0\n",
      "BIDREQUESTIP\n",
      "71.105.120.171     1718\n",
      "142.154.205.202    1143\n",
      "68.132.98.211       866\n",
      "108.175.114.100     727\n",
      "108.175.114.101     707\n",
      "173.66.114.27       675\n",
      "162.17.102.153      629\n",
      "12.218.110.242      604\n",
      "65.216.253.25       581\n",
      "150.148.14.137      517\n",
      "99.160.6.197        505\n",
      "129.176.151.15      456\n",
      "23.125.217.54       426\n",
      "65.112.8.18         419\n",
      "24.102.87.62        373\n",
      "69.92.49.4          350\n",
      "38.240.111.51       346\n",
      "47.189.55.180       327\n",
      "71.87.24.123        303\n",
      "67.203.36.94        259\n",
      "198.184.147.58      257\n",
      "128.146.52.108      253\n",
      "67.203.36.81        244\n",
      "71.66.42.242        237\n",
      "128.146.189.103     231\n",
      "209.126.104.10      218\n",
      "50.26.129.135       211\n",
      "98.110.76.22        209\n",
      "66.249.66.75        207\n",
      "24.45.121.35        202\n",
      "66.249.66.73        200\n",
      "209.126.104.7       199\n",
      "207.38.89.236       183\n",
      "207.38.87.145       182\n",
      "209.126.104.18      176\n",
      "209.126.127.71      169\n",
      "185.228.195.71      169\n",
      "35.129.213.194      169\n",
      "209.126.124.58      168\n",
      "216.24.45.43        168\n",
      "66.97.189.250       165\n",
      "209.126.103.138     165\n",
      "209.126.104.13      164\n",
      "68.175.60.169       161\n",
      "139.52.18.237       159\n",
      "170.212.0.93        157\n",
      "167.201.243.131     153\n",
      "162.119.232.108     151\n",
      "174.66.101.238      149\n",
      "152.3.43.49         149\n",
      "73.7.183.117        143\n",
      "71.232.195.131      142\n",
      "152.16.191.106      140\n",
      "208.74.105.182      140\n",
      "71.163.17.92        140\n",
      "66.249.66.89        138\n",
      "104.136.3.138       137\n",
      "174.59.217.179      136\n",
      "162.82.0.67         133\n",
      "208.68.20.27        133\n",
      "Name: count, dtype: int64\n"
     ]
    }
   ],
   "source": [
    "print(\"no of nan values : \" ,df['BIDREQUESTIP'].isna().sum())\n",
    "print(df.BIDREQUESTIP.value_counts().head(60))"
   ]
  },
  {
   "cell_type": "code",
   "execution_count": 8,
   "id": "497a28fc",
   "metadata": {
    "colab": {
     "base_uri": "https://localhost:8080/"
    },
    "id": "497a28fc",
    "outputId": "cb392bdc-d5a7-4c5b-b628-62472a0a6ca1"
   },
   "outputs": [
    {
     "name": "stdout",
     "output_type": "stream",
     "text": [
      "no of nan values :  4\n",
      "USERPLATFORMUID\n",
      "3e2578c8-f794-41af-a38c-c5cfb3c0f014    1447\n",
      "d76f7c0b-1a64-4d4b-b36d-86c832be8837    1406\n",
      "d00f28d6-3a50-46cd-92f3-8601bd57ad0e     675\n",
      "fcd3d327-0ad5-425e-8ea8-33ffe6a31543     629\n",
      "fe53f32c-4646-4abe-afea-90b21d6b8531     617\n",
      "82fcc028-f146-4efb-b95e-69fd62109bbc     520\n",
      "73828378-8999-4670-a3bf-e5e78096301c     517\n",
      "fa24a307-1001-4f5e-9d87-669e91737c07     505\n",
      "f6890950-af86-4400-ab0b-e8498d0ba99e     418\n",
      "a4706c21-3ce1-453d-b57c-1541c50d15f5     418\n",
      "6b1794db-cc22-4f66-b185-ecd99146bb07     391\n",
      "d9f89efd-0f02-4844-9719-098302c545df     365\n",
      "c42db189-7d1b-4639-b9c6-9fa4d80be4bd     347\n",
      "29903453-4c40-4f25-98a5-ddc554f71555     346\n",
      "9fee45ce-0010-40e0-a272-6c1c4f86ea00     344\n",
      "72cbb382-31dd-4e2a-9e9c-9d0f40a7d0a9     324\n",
      "cd57e558-f19d-4cd8-afcc-d0fa18259173     300\n",
      "63238044-b275-480b-a613-780d45d2f70a     294\n",
      "b323edaf-33ac-44f0-a570-b1c342f806b9     271\n",
      "456631b8-ca59-4e7a-96a0-53bcbf85eaef     259\n",
      "Name: count, dtype: int64\n"
     ]
    }
   ],
   "source": [
    "print(\"no of nan values : \" ,df['USERPLATFORMUID'].isna().sum())\n",
    "print(df.USERPLATFORMUID.value_counts().head(20))"
   ]
  },
  {
   "cell_type": "code",
   "execution_count": 9,
   "id": "8cdf96bc",
   "metadata": {
    "colab": {
     "base_uri": "https://localhost:8080/"
    },
    "id": "8cdf96bc",
    "outputId": "3f4e89d0-aa85-4e3b-dd98-835ccd094fdd"
   },
   "outputs": [
    {
     "name": "stdout",
     "output_type": "stream",
     "text": [
      "no of nan values :  6359\n",
      "USERCITY\n",
      "New York              4943\n",
      "Brooklyn              3237\n",
      "St Louis              2545\n",
      "Los Angeles           2154\n",
      "Houston               1747\n",
      "Queens                1629\n",
      "Arlington             1503\n",
      "Chicago               1448\n",
      "Philadelphia          1191\n",
      "Columbus              1105\n",
      "Miami                 1023\n",
      "Phoenix                888\n",
      "Fort Worth             884\n",
      "Deer Park              883\n",
      "San Francisco          881\n",
      "Rochester              798\n",
      "Dallas                 784\n",
      "Memphis                756\n",
      "Charlotte              695\n",
      "Pittsburgh             669\n",
      "Palm Beach Gardens     664\n",
      "Seattle                650\n",
      "Atlanta                630\n",
      "Rockville              592\n",
      "Durham                 577\n",
      "Washington             565\n",
      "Minneapolis            557\n",
      "Springfield            556\n",
      "Cleveland              555\n",
      "Cambridge              538\n",
      "Denver                 503\n",
      "Tampa                  485\n",
      "San Diego              478\n",
      "Portland               463\n",
      "Buena Park             431\n",
      "Jacksonville           430\n",
      "Orlando                429\n",
      "Austin                 425\n",
      "Boston                 410\n",
      "Las Vegas              396\n",
      "San Antonio            392\n",
      "Cincinnati             385\n",
      "Garland                384\n",
      "Idaho Falls            382\n",
      "Sacramento             382\n",
      "Kansas City            380\n",
      "Ashburn                375\n",
      "Birmingham             373\n",
      "Salt Lake City         347\n",
      "San Jose               347\n",
      "Indianapolis           347\n",
      "Pilot Mountain         346\n",
      "Appleton               344\n",
      "Richmond               330\n",
      "Baltimore              329\n",
      "Tucson                 306\n",
      "Amarillo               294\n",
      "Nashville              283\n",
      "Milwaukee              275\n",
      "Gainesville            273\n",
      "Name: count, dtype: int64\n"
     ]
    }
   ],
   "source": [
    "print(\"no of nan values : \" ,df['USERCITY'].isna().sum())\n",
    "print(df.USERCITY.value_counts().head(60))"
   ]
  },
  {
   "cell_type": "code",
   "execution_count": 10,
   "id": "02c32a70",
   "metadata": {
    "colab": {
     "base_uri": "https://localhost:8080/"
    },
    "id": "02c32a70",
    "outputId": "9113211b-0360-4dcd-ca43-0cdba9ccce14"
   },
   "outputs": [
    {
     "name": "stdout",
     "output_type": "stream",
     "text": [
      "no of nan values :  4592\n",
      "USERZIPCODE\n",
      "63169.0        2116\n",
      "11226.0        1752\n",
      "22202.0        1259\n",
      "10001.0        1190\n",
      "90060.0        1058\n",
      "               ... \n",
      "56748.0           1\n",
      "77021.0           1\n",
      "74880.0           1\n",
      "93630.0           1\n",
      "760865488.0       1\n",
      "Name: count, Length: 11278, dtype: int64\n"
     ]
    }
   ],
   "source": [
    "print(\"no of nan values : \" ,df['USERZIPCODE'].isna().sum())\n",
    "print(df.USERZIPCODE.value_counts())"
   ]
  },
  {
   "cell_type": "code",
   "execution_count": 11,
   "id": "17008e93",
   "metadata": {
    "colab": {
     "base_uri": "https://localhost:8080/"
    },
    "id": "17008e93",
    "outputId": "160f739e-c753-4481-ac65-555348d30721",
    "scrolled": true
   },
   "outputs": [
    {
     "name": "stdout",
     "output_type": "stream",
     "text": [
      "no of nan values :  2\n"
     ]
    }
   ],
   "source": [
    "print(\"no of nan values : \" ,df['USERAGENT'].isna().sum())\n"
   ]
  },
  {
   "cell_type": "code",
   "execution_count": 12,
   "id": "6eeedca0",
   "metadata": {
    "colab": {
     "base_uri": "https://localhost:8080/"
    },
    "id": "6eeedca0",
    "outputId": "2bdfc2dd-ac0b-4b65-f63e-cad73304bc13"
   },
   "outputs": [
    {
     "name": "stdout",
     "output_type": "stream",
     "text": [
      "no of nan values :  0\n",
      "PLATFORMTYPE\n",
      "Online Medical Journal      110120\n",
      "Online Learning Portal        2978\n",
      "Medical News Platform          798\n",
      "Electronic Health Record        40\n",
      "Tele-medicine Platform           1\n",
      "Name: count, dtype: int64\n"
     ]
    }
   ],
   "source": [
    "print(\"no of nan values : \" ,df['PLATFORMTYPE'].isna().sum())\n",
    "print(df.PLATFORMTYPE.value_counts())"
   ]
  },
  {
   "cell_type": "code",
   "execution_count": 13,
   "id": "1abc9643",
   "metadata": {
    "colab": {
     "base_uri": "https://localhost:8080/"
    },
    "id": "1abc9643",
    "outputId": "c1384147-7b3b-4a0b-b34a-def21e296a41"
   },
   "outputs": [
    {
     "name": "stdout",
     "output_type": "stream",
     "text": [
      "no of nan values :  0\n",
      "CHANNELTYPE\n",
      "Website    113937\n",
      "Name: count, dtype: int64\n"
     ]
    }
   ],
   "source": [
    "print(\"no of nan values : \" ,df['CHANNELTYPE'].isna().sum())\n",
    "print(df.CHANNELTYPE.value_counts())"
   ]
  },
  {
   "cell_type": "code",
   "execution_count": 14,
   "id": "97a4bf71",
   "metadata": {
    "colab": {
     "base_uri": "https://localhost:8080/"
    },
    "id": "97a4bf71",
    "outputId": "c11e09f9-0abe-4a26-b862-6cac3ac62206"
   },
   "outputs": [
    {
     "name": "stdout",
     "output_type": "stream",
     "text": [
      "no of nan values :  0\n",
      "5231\n"
     ]
    }
   ],
   "source": [
    "print(\"no of nan values : \" ,df['URL'].isna().sum())\n",
    "print(df.URL.nunique())"
   ]
  },
  {
   "cell_type": "code",
   "execution_count": 15,
   "id": "f2651d7d",
   "metadata": {
    "colab": {
     "base_uri": "https://localhost:8080/"
    },
    "id": "f2651d7d",
    "outputId": "9c340863-2cc6-4df9-d384-5417905d0a0d"
   },
   "outputs": [
    {
     "name": "stdout",
     "output_type": "stream",
     "text": [
      "no of nan values :  0\n",
      "2460\n"
     ]
    }
   ],
   "source": [
    "print(\"no of nan values : \" ,df['KEYWORDS'].isna().sum())\n",
    "print(df.KEYWORDS.nunique())"
   ]
  },
  {
   "cell_type": "code",
   "execution_count": 16,
   "id": "2b12bf78",
   "metadata": {
    "colab": {
     "base_uri": "https://localhost:8080/"
    },
    "id": "2b12bf78",
    "outputId": "6c4eb686-6453-470f-fdc0-eebb9c4920ee"
   },
   "outputs": [
    {
     "name": "stdout",
     "output_type": "stream",
     "text": [
      "no of nan values :  81624\n",
      "TAXONOMY\n",
      "2084P0800X    7930\n",
      "2084N0400X    6621\n",
      "207Q00000X    3997\n",
      "207R00000X    3190\n",
      "208000000X     837\n",
      "              ... \n",
      "163WC0400X       1\n",
      "246QM0706X       1\n",
      "1835N1003X       1\n",
      "207RI0008X       1\n",
      "207XX0801X       1\n",
      "Name: count, Length: 207, dtype: int64\n"
     ]
    }
   ],
   "source": [
    "print(\"no of nan values : \" ,df['TAXONOMY'].isna().sum())\n",
    "print(df.TAXONOMY.value_counts())"
   ]
  },
  {
   "cell_type": "code",
   "execution_count": 17,
   "id": "fc4ab65d",
   "metadata": {
    "colab": {
     "base_uri": "https://localhost:8080/"
    },
    "id": "fc4ab65d",
    "outputId": "70525f88-de19-4a9b-95ff-2f9a84157de4"
   },
   "outputs": [
    {
     "name": "stdout",
     "output_type": "stream",
     "text": [
      "<class 'pandas.core.frame.DataFrame'>\n",
      "RangeIndex: 113937 entries, 0 to 113936\n",
      "Data columns (total 14 columns):\n",
      " #   Column           Non-Null Count   Dtype  \n",
      "---  ------           --------------   -----  \n",
      " 0   ID               113937 non-null  int64  \n",
      " 1   DEVICETYPE       113937 non-null  object \n",
      " 2   PLATFORM_ID      113937 non-null  int64  \n",
      " 3   BIDREQUESTIP     113937 non-null  object \n",
      " 4   USERPLATFORMUID  113933 non-null  object \n",
      " 5   USERCITY         107578 non-null  object \n",
      " 6   USERZIPCODE      109345 non-null  float64\n",
      " 7   USERAGENT        113935 non-null  object \n",
      " 8   PLATFORMTYPE     113937 non-null  object \n",
      " 9   CHANNELTYPE      113937 non-null  object \n",
      " 10  URL              113937 non-null  object \n",
      " 11  KEYWORDS         113937 non-null  object \n",
      " 12  TAXONOMY         32313 non-null   object \n",
      " 13  IS_HCP           113936 non-null  float64\n",
      "dtypes: float64(2), int64(2), object(10)\n",
      "memory usage: 12.2+ MB\n"
     ]
    }
   ],
   "source": [
    "df.info()"
   ]
  },
  {
   "cell_type": "code",
   "execution_count": 18,
   "id": "7538ce03",
   "metadata": {
    "colab": {
     "base_uri": "https://localhost:8080/"
    },
    "id": "7538ce03",
    "outputId": "b5b23de9-7bff-4bd3-982a-ee746b86014f"
   },
   "outputs": [
    {
     "data": {
      "text/plain": [
       "ID                   int64\n",
       "DEVICETYPE          object\n",
       "PLATFORM_ID          int64\n",
       "BIDREQUESTIP        object\n",
       "USERPLATFORMUID     object\n",
       "USERCITY            object\n",
       "USERZIPCODE        float64\n",
       "USERAGENT           object\n",
       "PLATFORMTYPE        object\n",
       "CHANNELTYPE         object\n",
       "URL                 object\n",
       "KEYWORDS            object\n",
       "TAXONOMY            object\n",
       "IS_HCP             float64\n",
       "dtype: object"
      ]
     },
     "execution_count": 18,
     "metadata": {},
     "output_type": "execute_result"
    }
   ],
   "source": [
    "df.dtypes"
   ]
  },
  {
   "cell_type": "code",
   "execution_count": 19,
   "id": "351b89a2",
   "metadata": {
    "colab": {
     "base_uri": "https://localhost:8080/",
     "height": 492
    },
    "id": "351b89a2",
    "outputId": "c7831d75-7082-4dd2-d178-dd4acb9a0f5f"
   },
   "outputs": [],
   "source": [
    "# plt.matshow(df.corr())\n",
    "# plt.show()"
   ]
  },
  {
   "cell_type": "code",
   "execution_count": 20,
   "id": "fe05510f",
   "metadata": {
    "id": "fe05510f"
   },
   "outputs": [],
   "source": [
    "a=df[[\"TAXONOMY\",\"IS_HCP\"]]"
   ]
  },
  {
   "cell_type": "code",
   "execution_count": 21,
   "id": "42d56f40",
   "metadata": {
    "colab": {
     "base_uri": "https://localhost:8080/"
    },
    "id": "42d56f40",
    "outputId": "78e8c580-d4c2-41a2-fa7e-3c0c6a6e75d6"
   },
   "outputs": [
    {
     "name": "stdout",
     "output_type": "stream",
     "text": [
      "      TAXONOMY  IS_HCP\n",
      "0          NaN     0.0\n",
      "1          NaN     0.0\n",
      "2          NaN     0.0\n",
      "3   2084P0800X     1.0\n",
      "4          NaN     0.0\n",
      "5          NaN     0.0\n",
      "6          NaN     0.0\n",
      "7          NaN     0.0\n",
      "8   2084P0804X     1.0\n",
      "9          NaN     0.0\n",
      "10         NaN     0.0\n",
      "11         NaN     0.0\n",
      "12         NaN     0.0\n",
      "13         NaN     0.0\n",
      "14         NaN     0.0\n",
      "15         NaN     0.0\n",
      "16         NaN     0.0\n",
      "17         NaN     0.0\n",
      "18         NaN     0.0\n",
      "19         NaN     0.0\n",
      "20         NaN     0.0\n",
      "21  2084N0400X     1.0\n",
      "22         NaN     0.0\n",
      "23         NaN     0.0\n",
      "24         NaN     0.0\n",
      "25         NaN     0.0\n",
      "26         NaN     0.0\n",
      "27         NaN     0.0\n",
      "28         NaN     0.0\n",
      "29  2084V0102X     1.0\n",
      "30         NaN     0.0\n",
      "31         NaN     0.0\n",
      "32         NaN     0.0\n",
      "33         NaN     0.0\n",
      "34         NaN     0.0\n",
      "35  207RC0000X     1.0\n",
      "36         NaN     0.0\n",
      "37         NaN     0.0\n",
      "38         NaN     0.0\n",
      "39         NaN     0.0\n",
      "40         NaN     0.0\n",
      "41         NaN     0.0\n",
      "42         NaN     0.0\n",
      "43         NaN     0.0\n",
      "44         NaN     0.0\n",
      "45         NaN     0.0\n",
      "46         NaN     0.0\n",
      "47         NaN     0.0\n",
      "48         NaN     0.0\n",
      "49         NaN     0.0\n"
     ]
    }
   ],
   "source": [
    "print(a.iloc[:50])"
   ]
  },
  {
   "cell_type": "markdown",
   "id": "6ced8f21",
   "metadata": {},
   "source": [
    "# Changing 'Platformtype' and 'Devicetype' colomn "
   ]
  },
  {
   "cell_type": "code",
   "execution_count": null,
   "id": "1bcb0862",
   "metadata": {},
   "outputs": [],
   "source": []
  },
  {
   "cell_type": "code",
   "execution_count": 22,
   "id": "a7ed87d2",
   "metadata": {
    "id": "a7ed87d2"
   },
   "outputs": [],
   "source": [
    "# from sklearn.preprocessing import OneHotEncoder"
   ]
  },
  {
   "cell_type": "code",
   "execution_count": 23,
   "id": "daa086c9",
   "metadata": {
    "id": "daa086c9"
   },
   "outputs": [],
   "source": [
    "# ohe=OneHotEncoder()"
   ]
  },
  {
   "cell_type": "code",
   "execution_count": 24,
   "id": "3d0f5a80",
   "metadata": {
    "id": "3d0f5a80"
   },
   "outputs": [],
   "source": [
    "# device_type=ohe.fit_transform(df[\"DEVICETYPE\"].values.reshape(-1,1)).toarray()"
   ]
  },
  {
   "cell_type": "code",
   "execution_count": 25,
   "id": "5b30af46",
   "metadata": {
    "colab": {
     "base_uri": "https://localhost:8080/",
     "height": 206
    },
    "id": "5b30af46",
    "outputId": "3d4600ce-4f29-4fa8-c218-a9f0359be997"
   },
   "outputs": [],
   "source": [
    "# pd.DataFrame(device_type).head()"
   ]
  },
  {
   "cell_type": "code",
   "execution_count": 26,
   "id": "d189f37b",
   "metadata": {
    "id": "d189f37b"
   },
   "outputs": [],
   "source": [
    "# feature_labels=ohe.categories_"
   ]
  },
  {
   "cell_type": "code",
   "execution_count": 27,
   "id": "515ea05d",
   "metadata": {
    "colab": {
     "base_uri": "https://localhost:8080/"
    },
    "id": "515ea05d",
    "outputId": "bce2686c-2cde-4d6e-9d2d-d701779dcb9d"
   },
   "outputs": [],
   "source": [
    "# np.array(feature_labels).ravel()"
   ]
  },
  {
   "cell_type": "code",
   "execution_count": 28,
   "id": "fa926ff6",
   "metadata": {
    "id": "fa926ff6"
   },
   "outputs": [],
   "source": [
    "# feature_labels=np.array(feature_labels).ravel()"
   ]
  },
  {
   "cell_type": "code",
   "execution_count": 29,
   "id": "2b71db6a",
   "metadata": {
    "colab": {
     "base_uri": "https://localhost:8080/"
    },
    "id": "2b71db6a",
    "outputId": "3eb61c8d-e9ad-48ce-c8a9-e7bf3acff2af"
   },
   "outputs": [],
   "source": [
    "# print(feature_labels)"
   ]
  },
  {
   "cell_type": "code",
   "execution_count": 30,
   "id": "e9ddb539",
   "metadata": {
    "id": "e9ddb539"
   },
   "outputs": [],
   "source": [
    "# x=pd.DataFrame(device_type,columns=feature_labels)"
   ]
  },
  {
   "cell_type": "code",
   "execution_count": 31,
   "id": "31913adb",
   "metadata": {
    "id": "31913adb"
   },
   "outputs": [],
   "source": [
    "# del df[\"DEVICETYPE\"]"
   ]
  },
  {
   "cell_type": "code",
   "execution_count": 32,
   "id": "463b7c8c",
   "metadata": {
    "id": "463b7c8c"
   },
   "outputs": [],
   "source": [
    "# df=pd.concat([df,x],axis=1)"
   ]
  },
  {
   "cell_type": "code",
   "execution_count": 33,
   "id": "bb77231f",
   "metadata": {
    "colab": {
     "base_uri": "https://localhost:8080/",
     "height": 634
    },
    "id": "bb77231f",
    "outputId": "4484d10b-8469-46a3-e576-5b91397b7a1f"
   },
   "outputs": [],
   "source": [
    "# df.head()\n"
   ]
  },
  {
   "cell_type": "code",
   "execution_count": 34,
   "id": "6868e548",
   "metadata": {
    "id": "6868e548"
   },
   "outputs": [],
   "source": [
    "del df[\"USERCITY\"]"
   ]
  },
  {
   "cell_type": "code",
   "execution_count": 35,
   "id": "2332b377",
   "metadata": {
    "id": "2332b377"
   },
   "outputs": [],
   "source": [
    "del df[\"URL\"]"
   ]
  },
  {
   "cell_type": "code",
   "execution_count": 36,
   "id": "c82663e7",
   "metadata": {
    "colab": {
     "base_uri": "https://localhost:8080/",
     "height": 634
    },
    "id": "c82663e7",
    "outputId": "bf1e5fda-6058-4855-f34c-95dc5d92d636"
   },
   "outputs": [
    {
     "data": {
      "text/html": [
       "<div>\n",
       "<style scoped>\n",
       "    .dataframe tbody tr th:only-of-type {\n",
       "        vertical-align: middle;\n",
       "    }\n",
       "\n",
       "    .dataframe tbody tr th {\n",
       "        vertical-align: top;\n",
       "    }\n",
       "\n",
       "    .dataframe thead th {\n",
       "        text-align: right;\n",
       "    }\n",
       "</style>\n",
       "<table border=\"1\" class=\"dataframe\">\n",
       "  <thead>\n",
       "    <tr style=\"text-align: right;\">\n",
       "      <th></th>\n",
       "      <th>ID</th>\n",
       "      <th>DEVICETYPE</th>\n",
       "      <th>PLATFORM_ID</th>\n",
       "      <th>BIDREQUESTIP</th>\n",
       "      <th>USERPLATFORMUID</th>\n",
       "      <th>USERZIPCODE</th>\n",
       "      <th>USERAGENT</th>\n",
       "      <th>PLATFORMTYPE</th>\n",
       "      <th>CHANNELTYPE</th>\n",
       "      <th>KEYWORDS</th>\n",
       "      <th>TAXONOMY</th>\n",
       "      <th>IS_HCP</th>\n",
       "    </tr>\n",
       "  </thead>\n",
       "  <tbody>\n",
       "    <tr>\n",
       "      <th>0</th>\n",
       "      <td>1001</td>\n",
       "      <td>Desktop</td>\n",
       "      <td>2</td>\n",
       "      <td>170.173.0.22</td>\n",
       "      <td>6974dcaa-f932-480e-9fb5-c52e20e1393a</td>\n",
       "      <td>97206.0</td>\n",
       "      <td>Mozilla/5.0 (Windows NT 10.0; Win64; x64) Appl...</td>\n",
       "      <td>Online Medical Journal</td>\n",
       "      <td>Website</td>\n",
       "      <td>General|Endocrine|False|Medicine|Surgery|Urolo...</td>\n",
       "      <td>NaN</td>\n",
       "      <td>0.0</td>\n",
       "    </tr>\n",
       "    <tr>\n",
       "      <th>1</th>\n",
       "      <td>1002</td>\n",
       "      <td>Desktop</td>\n",
       "      <td>2</td>\n",
       "      <td>65.216.253.25</td>\n",
       "      <td>c12f3f8f-8fcf-484a-90e1-1ac04db8cdcf</td>\n",
       "      <td>22202.0</td>\n",
       "      <td>Mozilla/5.0 (Macintosh; Intel Mac OS X 10_15_7...</td>\n",
       "      <td>Online Medical Journal</td>\n",
       "      <td>Website</td>\n",
       "      <td>Bone Marrow|Radiography|Chronic|Oncology|Psych...</td>\n",
       "      <td>NaN</td>\n",
       "      <td>0.0</td>\n",
       "    </tr>\n",
       "    <tr>\n",
       "      <th>2</th>\n",
       "      <td>1003</td>\n",
       "      <td>Desktop</td>\n",
       "      <td>2</td>\n",
       "      <td>66.232.79.22</td>\n",
       "      <td>a698de4b-e200-46dd-b5fb-40402175ae18</td>\n",
       "      <td>83654.0</td>\n",
       "      <td>Mozilla/5.0 (Macintosh; Intel Mac OS X 10_15_7...</td>\n",
       "      <td>Online Medical Journal</td>\n",
       "      <td>Website</td>\n",
       "      <td>General|Endocrine|False|Medicine|Surgery|Urolo...</td>\n",
       "      <td>NaN</td>\n",
       "      <td>0.0</td>\n",
       "    </tr>\n",
       "    <tr>\n",
       "      <th>3</th>\n",
       "      <td>1004</td>\n",
       "      <td>Desktop</td>\n",
       "      <td>3</td>\n",
       "      <td>137.54.125.246</td>\n",
       "      <td>45967533-75c8-4fbd-a00c-e6ff20447aaa</td>\n",
       "      <td>229114624.0</td>\n",
       "      <td>Mozilla/5.0 (Windows NT 10.0; Win64; x64) Appl...</td>\n",
       "      <td>Online Medical Journal</td>\n",
       "      <td>Website</td>\n",
       "      <td>Dental|Total|Clinical|Pharmacology|Physicians|...</td>\n",
       "      <td>2084P0800X</td>\n",
       "      <td>1.0</td>\n",
       "    </tr>\n",
       "    <tr>\n",
       "      <th>4</th>\n",
       "      <td>1005</td>\n",
       "      <td>Mobile</td>\n",
       "      <td>7</td>\n",
       "      <td>174.202.231.99</td>\n",
       "      <td>a17e25be-532d-4cf5-b916-9308c8c3961f</td>\n",
       "      <td>77008.0</td>\n",
       "      <td>Mozilla/5.0 (iPhone; CPU iPhone OS 16_1_1 like...</td>\n",
       "      <td>Online Medical Journal</td>\n",
       "      <td>Website</td>\n",
       "      <td>Critical Care|Emergency Medicine|General Pract...</td>\n",
       "      <td>NaN</td>\n",
       "      <td>0.0</td>\n",
       "    </tr>\n",
       "  </tbody>\n",
       "</table>\n",
       "</div>"
      ],
      "text/plain": [
       "     ID DEVICETYPE  PLATFORM_ID    BIDREQUESTIP  \\\n",
       "0  1001    Desktop            2    170.173.0.22   \n",
       "1  1002    Desktop            2   65.216.253.25   \n",
       "2  1003    Desktop            2    66.232.79.22   \n",
       "3  1004    Desktop            3  137.54.125.246   \n",
       "4  1005     Mobile            7  174.202.231.99   \n",
       "\n",
       "                        USERPLATFORMUID  USERZIPCODE  \\\n",
       "0  6974dcaa-f932-480e-9fb5-c52e20e1393a      97206.0   \n",
       "1  c12f3f8f-8fcf-484a-90e1-1ac04db8cdcf      22202.0   \n",
       "2  a698de4b-e200-46dd-b5fb-40402175ae18      83654.0   \n",
       "3  45967533-75c8-4fbd-a00c-e6ff20447aaa  229114624.0   \n",
       "4  a17e25be-532d-4cf5-b916-9308c8c3961f      77008.0   \n",
       "\n",
       "                                           USERAGENT            PLATFORMTYPE  \\\n",
       "0  Mozilla/5.0 (Windows NT 10.0; Win64; x64) Appl...  Online Medical Journal   \n",
       "1  Mozilla/5.0 (Macintosh; Intel Mac OS X 10_15_7...  Online Medical Journal   \n",
       "2  Mozilla/5.0 (Macintosh; Intel Mac OS X 10_15_7...  Online Medical Journal   \n",
       "3  Mozilla/5.0 (Windows NT 10.0; Win64; x64) Appl...  Online Medical Journal   \n",
       "4  Mozilla/5.0 (iPhone; CPU iPhone OS 16_1_1 like...  Online Medical Journal   \n",
       "\n",
       "  CHANNELTYPE                                           KEYWORDS    TAXONOMY  \\\n",
       "0     Website  General|Endocrine|False|Medicine|Surgery|Urolo...         NaN   \n",
       "1     Website  Bone Marrow|Radiography|Chronic|Oncology|Psych...         NaN   \n",
       "2     Website  General|Endocrine|False|Medicine|Surgery|Urolo...         NaN   \n",
       "3     Website  Dental|Total|Clinical|Pharmacology|Physicians|...  2084P0800X   \n",
       "4     Website  Critical Care|Emergency Medicine|General Pract...         NaN   \n",
       "\n",
       "   IS_HCP  \n",
       "0     0.0  \n",
       "1     0.0  \n",
       "2     0.0  \n",
       "3     1.0  \n",
       "4     0.0  "
      ]
     },
     "execution_count": 36,
     "metadata": {},
     "output_type": "execute_result"
    }
   ],
   "source": [
    "df.head()"
   ]
  },
  {
   "cell_type": "code",
   "execution_count": 37,
   "id": "dc2f0e3b",
   "metadata": {
    "id": "dc2f0e3b"
   },
   "outputs": [],
   "source": [
    "# platform_type = ohe.fit_transform(df['PLATFORMTYPE'].values.reshape(-1,1)).toarray()"
   ]
  },
  {
   "cell_type": "code",
   "execution_count": 38,
   "id": "9b37idafQVNe",
   "metadata": {
    "colab": {
     "base_uri": "https://localhost:8080/"
    },
    "id": "9b37idafQVNe",
    "outputId": "a9c94919-86fe-4369-c4e2-8d5ec820abde"
   },
   "outputs": [],
   "source": [
    "# platform_type"
   ]
  },
  {
   "cell_type": "code",
   "execution_count": 39,
   "id": "EfPYj47pQYGb",
   "metadata": {
    "id": "EfPYj47pQYGb"
   },
   "outputs": [],
   "source": [
    "# features = ohe.categories_"
   ]
  },
  {
   "cell_type": "code",
   "execution_count": 40,
   "id": "6LwEyPpnQiai",
   "metadata": {
    "id": "6LwEyPpnQiai"
   },
   "outputs": [],
   "source": [
    "# features = np.array(features).ravel()"
   ]
  },
  {
   "cell_type": "code",
   "execution_count": 41,
   "id": "5w2ypcINQn9t",
   "metadata": {
    "colab": {
     "base_uri": "https://localhost:8080/"
    },
    "id": "5w2ypcINQn9t",
    "outputId": "b5aa55eb-ed18-4d56-e6d1-b21003f87305"
   },
   "outputs": [],
   "source": [
    "# features"
   ]
  },
  {
   "cell_type": "code",
   "execution_count": 42,
   "id": "ZLVePdr4QrJj",
   "metadata": {
    "colab": {
     "base_uri": "https://localhost:8080/"
    },
    "id": "ZLVePdr4QrJj",
    "outputId": "61f4dab9-3161-4f78-e760-c16529d61983"
   },
   "outputs": [],
   "source": [
    "# platform_type.shape"
   ]
  },
  {
   "cell_type": "code",
   "execution_count": 43,
   "id": "uhu0b_jkQwgE",
   "metadata": {
    "colab": {
     "base_uri": "https://localhost:8080/"
    },
    "id": "uhu0b_jkQwgE",
    "outputId": "c78562e1-1f48-4379-d0f7-bdb87f3b2c7b"
   },
   "outputs": [],
   "source": [
    "# features.shape"
   ]
  },
  {
   "cell_type": "code",
   "execution_count": 44,
   "id": "YpRwg2ATQ1J-",
   "metadata": {
    "colab": {
     "base_uri": "https://localhost:8080/",
     "height": 206
    },
    "id": "YpRwg2ATQ1J-",
    "outputId": "394a5b23-0d6a-4d4e-ce41-06a3602c8310"
   },
   "outputs": [],
   "source": [
    "# pd.DataFrame(platform_type).head()"
   ]
  },
  {
   "cell_type": "code",
   "execution_count": 45,
   "id": "L9v7ahYBQ5S8",
   "metadata": {
    "id": "L9v7ahYBQ5S8"
   },
   "outputs": [],
   "source": [
    "# x = pd.DataFrame(platform_type,columns = features)"
   ]
  },
  {
   "cell_type": "code",
   "execution_count": 46,
   "id": "Un0muSZsRIWq",
   "metadata": {
    "colab": {
     "base_uri": "https://localhost:8080/",
     "height": 267
    },
    "id": "Un0muSZsRIWq",
    "outputId": "a61973b7-a031-4caf-ef6f-8f8c8f898c60"
   },
   "outputs": [],
   "source": [
    "# x.head()"
   ]
  },
  {
   "cell_type": "code",
   "execution_count": 47,
   "id": "Xfz9MBfyRNsL",
   "metadata": {
    "id": "Xfz9MBfyRNsL"
   },
   "outputs": [],
   "source": [
    "# df = pd.concat([df,x],axis = 1)"
   ]
  },
  {
   "cell_type": "code",
   "execution_count": 48,
   "id": "e08a8608",
   "metadata": {},
   "outputs": [
    {
     "data": {
      "text/html": [
       "<div>\n",
       "<style scoped>\n",
       "    .dataframe tbody tr th:only-of-type {\n",
       "        vertical-align: middle;\n",
       "    }\n",
       "\n",
       "    .dataframe tbody tr th {\n",
       "        vertical-align: top;\n",
       "    }\n",
       "\n",
       "    .dataframe thead th {\n",
       "        text-align: right;\n",
       "    }\n",
       "</style>\n",
       "<table border=\"1\" class=\"dataframe\">\n",
       "  <thead>\n",
       "    <tr style=\"text-align: right;\">\n",
       "      <th></th>\n",
       "      <th>ID</th>\n",
       "      <th>PLATFORM_ID</th>\n",
       "      <th>BIDREQUESTIP</th>\n",
       "      <th>USERPLATFORMUID</th>\n",
       "      <th>USERZIPCODE</th>\n",
       "      <th>USERAGENT</th>\n",
       "      <th>CHANNELTYPE</th>\n",
       "      <th>KEYWORDS</th>\n",
       "      <th>TAXONOMY</th>\n",
       "      <th>IS_HCP</th>\n",
       "      <th>DEVICETYPE_Desktop</th>\n",
       "      <th>DEVICETYPE_Mobile</th>\n",
       "      <th>DEVICETYPE_Tablet</th>\n",
       "      <th>DEVICETYPE_Unknown</th>\n",
       "      <th>PLATFORMTYPE_Electronic Health Record</th>\n",
       "      <th>PLATFORMTYPE_Medical News Platform</th>\n",
       "      <th>PLATFORMTYPE_Online Learning Portal</th>\n",
       "      <th>PLATFORMTYPE_Online Medical Journal</th>\n",
       "      <th>PLATFORMTYPE_Tele-medicine Platform</th>\n",
       "    </tr>\n",
       "  </thead>\n",
       "  <tbody>\n",
       "    <tr>\n",
       "      <th>0</th>\n",
       "      <td>1001</td>\n",
       "      <td>2</td>\n",
       "      <td>170.173.0.22</td>\n",
       "      <td>6974dcaa-f932-480e-9fb5-c52e20e1393a</td>\n",
       "      <td>97206.0</td>\n",
       "      <td>Mozilla/5.0 (Windows NT 10.0; Win64; x64) Appl...</td>\n",
       "      <td>Website</td>\n",
       "      <td>General|Endocrine|False|Medicine|Surgery|Urolo...</td>\n",
       "      <td>NaN</td>\n",
       "      <td>0.0</td>\n",
       "      <td>1</td>\n",
       "      <td>0</td>\n",
       "      <td>0</td>\n",
       "      <td>0</td>\n",
       "      <td>0</td>\n",
       "      <td>0</td>\n",
       "      <td>0</td>\n",
       "      <td>1</td>\n",
       "      <td>0</td>\n",
       "    </tr>\n",
       "    <tr>\n",
       "      <th>1</th>\n",
       "      <td>1002</td>\n",
       "      <td>2</td>\n",
       "      <td>65.216.253.25</td>\n",
       "      <td>c12f3f8f-8fcf-484a-90e1-1ac04db8cdcf</td>\n",
       "      <td>22202.0</td>\n",
       "      <td>Mozilla/5.0 (Macintosh; Intel Mac OS X 10_15_7...</td>\n",
       "      <td>Website</td>\n",
       "      <td>Bone Marrow|Radiography|Chronic|Oncology|Psych...</td>\n",
       "      <td>NaN</td>\n",
       "      <td>0.0</td>\n",
       "      <td>1</td>\n",
       "      <td>0</td>\n",
       "      <td>0</td>\n",
       "      <td>0</td>\n",
       "      <td>0</td>\n",
       "      <td>0</td>\n",
       "      <td>0</td>\n",
       "      <td>1</td>\n",
       "      <td>0</td>\n",
       "    </tr>\n",
       "    <tr>\n",
       "      <th>2</th>\n",
       "      <td>1003</td>\n",
       "      <td>2</td>\n",
       "      <td>66.232.79.22</td>\n",
       "      <td>a698de4b-e200-46dd-b5fb-40402175ae18</td>\n",
       "      <td>83654.0</td>\n",
       "      <td>Mozilla/5.0 (Macintosh; Intel Mac OS X 10_15_7...</td>\n",
       "      <td>Website</td>\n",
       "      <td>General|Endocrine|False|Medicine|Surgery|Urolo...</td>\n",
       "      <td>NaN</td>\n",
       "      <td>0.0</td>\n",
       "      <td>1</td>\n",
       "      <td>0</td>\n",
       "      <td>0</td>\n",
       "      <td>0</td>\n",
       "      <td>0</td>\n",
       "      <td>0</td>\n",
       "      <td>0</td>\n",
       "      <td>1</td>\n",
       "      <td>0</td>\n",
       "    </tr>\n",
       "    <tr>\n",
       "      <th>3</th>\n",
       "      <td>1004</td>\n",
       "      <td>3</td>\n",
       "      <td>137.54.125.246</td>\n",
       "      <td>45967533-75c8-4fbd-a00c-e6ff20447aaa</td>\n",
       "      <td>229114624.0</td>\n",
       "      <td>Mozilla/5.0 (Windows NT 10.0; Win64; x64) Appl...</td>\n",
       "      <td>Website</td>\n",
       "      <td>Dental|Total|Clinical|Pharmacology|Physicians|...</td>\n",
       "      <td>2084P0800X</td>\n",
       "      <td>1.0</td>\n",
       "      <td>1</td>\n",
       "      <td>0</td>\n",
       "      <td>0</td>\n",
       "      <td>0</td>\n",
       "      <td>0</td>\n",
       "      <td>0</td>\n",
       "      <td>0</td>\n",
       "      <td>1</td>\n",
       "      <td>0</td>\n",
       "    </tr>\n",
       "    <tr>\n",
       "      <th>4</th>\n",
       "      <td>1005</td>\n",
       "      <td>7</td>\n",
       "      <td>174.202.231.99</td>\n",
       "      <td>a17e25be-532d-4cf5-b916-9308c8c3961f</td>\n",
       "      <td>77008.0</td>\n",
       "      <td>Mozilla/5.0 (iPhone; CPU iPhone OS 16_1_1 like...</td>\n",
       "      <td>Website</td>\n",
       "      <td>Critical Care|Emergency Medicine|General Pract...</td>\n",
       "      <td>NaN</td>\n",
       "      <td>0.0</td>\n",
       "      <td>0</td>\n",
       "      <td>1</td>\n",
       "      <td>0</td>\n",
       "      <td>0</td>\n",
       "      <td>0</td>\n",
       "      <td>0</td>\n",
       "      <td>0</td>\n",
       "      <td>1</td>\n",
       "      <td>0</td>\n",
       "    </tr>\n",
       "  </tbody>\n",
       "</table>\n",
       "</div>"
      ],
      "text/plain": [
       "     ID  PLATFORM_ID    BIDREQUESTIP                       USERPLATFORMUID  \\\n",
       "0  1001            2    170.173.0.22  6974dcaa-f932-480e-9fb5-c52e20e1393a   \n",
       "1  1002            2   65.216.253.25  c12f3f8f-8fcf-484a-90e1-1ac04db8cdcf   \n",
       "2  1003            2    66.232.79.22  a698de4b-e200-46dd-b5fb-40402175ae18   \n",
       "3  1004            3  137.54.125.246  45967533-75c8-4fbd-a00c-e6ff20447aaa   \n",
       "4  1005            7  174.202.231.99  a17e25be-532d-4cf5-b916-9308c8c3961f   \n",
       "\n",
       "   USERZIPCODE                                          USERAGENT CHANNELTYPE  \\\n",
       "0      97206.0  Mozilla/5.0 (Windows NT 10.0; Win64; x64) Appl...     Website   \n",
       "1      22202.0  Mozilla/5.0 (Macintosh; Intel Mac OS X 10_15_7...     Website   \n",
       "2      83654.0  Mozilla/5.0 (Macintosh; Intel Mac OS X 10_15_7...     Website   \n",
       "3  229114624.0  Mozilla/5.0 (Windows NT 10.0; Win64; x64) Appl...     Website   \n",
       "4      77008.0  Mozilla/5.0 (iPhone; CPU iPhone OS 16_1_1 like...     Website   \n",
       "\n",
       "                                            KEYWORDS    TAXONOMY  IS_HCP  \\\n",
       "0  General|Endocrine|False|Medicine|Surgery|Urolo...         NaN     0.0   \n",
       "1  Bone Marrow|Radiography|Chronic|Oncology|Psych...         NaN     0.0   \n",
       "2  General|Endocrine|False|Medicine|Surgery|Urolo...         NaN     0.0   \n",
       "3  Dental|Total|Clinical|Pharmacology|Physicians|...  2084P0800X     1.0   \n",
       "4  Critical Care|Emergency Medicine|General Pract...         NaN     0.0   \n",
       "\n",
       "   DEVICETYPE_Desktop  DEVICETYPE_Mobile  DEVICETYPE_Tablet  \\\n",
       "0                   1                  0                  0   \n",
       "1                   1                  0                  0   \n",
       "2                   1                  0                  0   \n",
       "3                   1                  0                  0   \n",
       "4                   0                  1                  0   \n",
       "\n",
       "   DEVICETYPE_Unknown  PLATFORMTYPE_Electronic Health Record  \\\n",
       "0                   0                                      0   \n",
       "1                   0                                      0   \n",
       "2                   0                                      0   \n",
       "3                   0                                      0   \n",
       "4                   0                                      0   \n",
       "\n",
       "   PLATFORMTYPE_Medical News Platform  PLATFORMTYPE_Online Learning Portal  \\\n",
       "0                                   0                                    0   \n",
       "1                                   0                                    0   \n",
       "2                                   0                                    0   \n",
       "3                                   0                                    0   \n",
       "4                                   0                                    0   \n",
       "\n",
       "   PLATFORMTYPE_Online Medical Journal  PLATFORMTYPE_Tele-medicine Platform  \n",
       "0                                    1                                    0  \n",
       "1                                    1                                    0  \n",
       "2                                    1                                    0  \n",
       "3                                    1                                    0  \n",
       "4                                    1                                    0  "
      ]
     },
     "execution_count": 48,
     "metadata": {},
     "output_type": "execute_result"
    }
   ],
   "source": [
    "df1= pd.get_dummies(df, columns=['DEVICETYPE' , 'PLATFORMTYPE'])\n",
    "\n",
    "\n",
    "boolean_columns = df1.select_dtypes(include=bool).columns\n",
    "df1[boolean_columns] = df1[boolean_columns].astype(int)\n",
    "\n",
    "\n",
    "df1.head()"
   ]
  },
  {
   "cell_type": "markdown",
   "id": "TQGy6DJ6R0rl",
   "metadata": {
    "id": "TQGy6DJ6R0rl"
   },
   "source": [
    "Dropping user agent and channel type"
   ]
  },
  {
   "cell_type": "code",
   "execution_count": 49,
   "id": "8eef8db0",
   "metadata": {},
   "outputs": [
    {
     "data": {
      "text/html": [
       "<div>\n",
       "<style scoped>\n",
       "    .dataframe tbody tr th:only-of-type {\n",
       "        vertical-align: middle;\n",
       "    }\n",
       "\n",
       "    .dataframe tbody tr th {\n",
       "        vertical-align: top;\n",
       "    }\n",
       "\n",
       "    .dataframe thead th {\n",
       "        text-align: right;\n",
       "    }\n",
       "</style>\n",
       "<table border=\"1\" class=\"dataframe\">\n",
       "  <thead>\n",
       "    <tr style=\"text-align: right;\">\n",
       "      <th></th>\n",
       "      <th>ID</th>\n",
       "      <th>DEVICETYPE</th>\n",
       "      <th>PLATFORM_ID</th>\n",
       "      <th>BIDREQUESTIP</th>\n",
       "      <th>USERPLATFORMUID</th>\n",
       "      <th>USERZIPCODE</th>\n",
       "      <th>USERAGENT</th>\n",
       "      <th>PLATFORMTYPE</th>\n",
       "      <th>CHANNELTYPE</th>\n",
       "      <th>KEYWORDS</th>\n",
       "      <th>TAXONOMY</th>\n",
       "      <th>IS_HCP</th>\n",
       "    </tr>\n",
       "  </thead>\n",
       "  <tbody>\n",
       "    <tr>\n",
       "      <th>0</th>\n",
       "      <td>1001</td>\n",
       "      <td>Desktop</td>\n",
       "      <td>2</td>\n",
       "      <td>170.173.0.22</td>\n",
       "      <td>6974dcaa-f932-480e-9fb5-c52e20e1393a</td>\n",
       "      <td>97206.0</td>\n",
       "      <td>Mozilla/5.0 (Windows NT 10.0; Win64; x64) Appl...</td>\n",
       "      <td>Online Medical Journal</td>\n",
       "      <td>Website</td>\n",
       "      <td>General|Endocrine|False|Medicine|Surgery|Urolo...</td>\n",
       "      <td>NaN</td>\n",
       "      <td>0.0</td>\n",
       "    </tr>\n",
       "    <tr>\n",
       "      <th>1</th>\n",
       "      <td>1002</td>\n",
       "      <td>Desktop</td>\n",
       "      <td>2</td>\n",
       "      <td>65.216.253.25</td>\n",
       "      <td>c12f3f8f-8fcf-484a-90e1-1ac04db8cdcf</td>\n",
       "      <td>22202.0</td>\n",
       "      <td>Mozilla/5.0 (Macintosh; Intel Mac OS X 10_15_7...</td>\n",
       "      <td>Online Medical Journal</td>\n",
       "      <td>Website</td>\n",
       "      <td>Bone Marrow|Radiography|Chronic|Oncology|Psych...</td>\n",
       "      <td>NaN</td>\n",
       "      <td>0.0</td>\n",
       "    </tr>\n",
       "    <tr>\n",
       "      <th>2</th>\n",
       "      <td>1003</td>\n",
       "      <td>Desktop</td>\n",
       "      <td>2</td>\n",
       "      <td>66.232.79.22</td>\n",
       "      <td>a698de4b-e200-46dd-b5fb-40402175ae18</td>\n",
       "      <td>83654.0</td>\n",
       "      <td>Mozilla/5.0 (Macintosh; Intel Mac OS X 10_15_7...</td>\n",
       "      <td>Online Medical Journal</td>\n",
       "      <td>Website</td>\n",
       "      <td>General|Endocrine|False|Medicine|Surgery|Urolo...</td>\n",
       "      <td>NaN</td>\n",
       "      <td>0.0</td>\n",
       "    </tr>\n",
       "    <tr>\n",
       "      <th>3</th>\n",
       "      <td>1004</td>\n",
       "      <td>Desktop</td>\n",
       "      <td>3</td>\n",
       "      <td>137.54.125.246</td>\n",
       "      <td>45967533-75c8-4fbd-a00c-e6ff20447aaa</td>\n",
       "      <td>229114624.0</td>\n",
       "      <td>Mozilla/5.0 (Windows NT 10.0; Win64; x64) Appl...</td>\n",
       "      <td>Online Medical Journal</td>\n",
       "      <td>Website</td>\n",
       "      <td>Dental|Total|Clinical|Pharmacology|Physicians|...</td>\n",
       "      <td>2084P0800X</td>\n",
       "      <td>1.0</td>\n",
       "    </tr>\n",
       "    <tr>\n",
       "      <th>4</th>\n",
       "      <td>1005</td>\n",
       "      <td>Mobile</td>\n",
       "      <td>7</td>\n",
       "      <td>174.202.231.99</td>\n",
       "      <td>a17e25be-532d-4cf5-b916-9308c8c3961f</td>\n",
       "      <td>77008.0</td>\n",
       "      <td>Mozilla/5.0 (iPhone; CPU iPhone OS 16_1_1 like...</td>\n",
       "      <td>Online Medical Journal</td>\n",
       "      <td>Website</td>\n",
       "      <td>Critical Care|Emergency Medicine|General Pract...</td>\n",
       "      <td>NaN</td>\n",
       "      <td>0.0</td>\n",
       "    </tr>\n",
       "  </tbody>\n",
       "</table>\n",
       "</div>"
      ],
      "text/plain": [
       "     ID DEVICETYPE  PLATFORM_ID    BIDREQUESTIP  \\\n",
       "0  1001    Desktop            2    170.173.0.22   \n",
       "1  1002    Desktop            2   65.216.253.25   \n",
       "2  1003    Desktop            2    66.232.79.22   \n",
       "3  1004    Desktop            3  137.54.125.246   \n",
       "4  1005     Mobile            7  174.202.231.99   \n",
       "\n",
       "                        USERPLATFORMUID  USERZIPCODE  \\\n",
       "0  6974dcaa-f932-480e-9fb5-c52e20e1393a      97206.0   \n",
       "1  c12f3f8f-8fcf-484a-90e1-1ac04db8cdcf      22202.0   \n",
       "2  a698de4b-e200-46dd-b5fb-40402175ae18      83654.0   \n",
       "3  45967533-75c8-4fbd-a00c-e6ff20447aaa  229114624.0   \n",
       "4  a17e25be-532d-4cf5-b916-9308c8c3961f      77008.0   \n",
       "\n",
       "                                           USERAGENT            PLATFORMTYPE  \\\n",
       "0  Mozilla/5.0 (Windows NT 10.0; Win64; x64) Appl...  Online Medical Journal   \n",
       "1  Mozilla/5.0 (Macintosh; Intel Mac OS X 10_15_7...  Online Medical Journal   \n",
       "2  Mozilla/5.0 (Macintosh; Intel Mac OS X 10_15_7...  Online Medical Journal   \n",
       "3  Mozilla/5.0 (Windows NT 10.0; Win64; x64) Appl...  Online Medical Journal   \n",
       "4  Mozilla/5.0 (iPhone; CPU iPhone OS 16_1_1 like...  Online Medical Journal   \n",
       "\n",
       "  CHANNELTYPE                                           KEYWORDS    TAXONOMY  \\\n",
       "0     Website  General|Endocrine|False|Medicine|Surgery|Urolo...         NaN   \n",
       "1     Website  Bone Marrow|Radiography|Chronic|Oncology|Psych...         NaN   \n",
       "2     Website  General|Endocrine|False|Medicine|Surgery|Urolo...         NaN   \n",
       "3     Website  Dental|Total|Clinical|Pharmacology|Physicians|...  2084P0800X   \n",
       "4     Website  Critical Care|Emergency Medicine|General Pract...         NaN   \n",
       "\n",
       "   IS_HCP  \n",
       "0     0.0  \n",
       "1     0.0  \n",
       "2     0.0  \n",
       "3     1.0  \n",
       "4     0.0  "
      ]
     },
     "execution_count": 49,
     "metadata": {},
     "output_type": "execute_result"
    }
   ],
   "source": [
    "df1 = df1.drop(['USERPLATFORMUID' , 'USERAGENT' , 'CHANNELTYPE', 'KEYWORDS' , 'BIDREQUESTIP' , 'TAXONOMY' ], axis =  1 ,inplace= False)\n",
    "df.head()"
   ]
  },
  {
   "cell_type": "markdown",
   "id": "154b8abb",
   "metadata": {},
   "source": [
    "In test set Tele-medicine platform in not present so dropind this coloum "
   ]
  },
  {
   "cell_type": "code",
   "execution_count": 50,
   "id": "c6496a3e",
   "metadata": {},
   "outputs": [],
   "source": [
    "df1 = df1.drop(['PLATFORMTYPE_Tele-medicine Platform'] , axis = 1 , inplace = False)"
   ]
  },
  {
   "cell_type": "code",
   "execution_count": 51,
   "id": "2c4e43e5",
   "metadata": {},
   "outputs": [
    {
     "name": "stdout",
     "output_type": "stream",
     "text": [
      "Index(['ID', 'PLATFORM_ID', 'USERZIPCODE', 'IS_HCP', 'DEVICETYPE_Desktop',\n",
      "       'DEVICETYPE_Mobile', 'DEVICETYPE_Tablet', 'DEVICETYPE_Unknown',\n",
      "       'PLATFORMTYPE_Electronic Health Record',\n",
      "       'PLATFORMTYPE_Medical News Platform',\n",
      "       'PLATFORMTYPE_Online Learning Portal',\n",
      "       'PLATFORMTYPE_Online Medical Journal'],\n",
      "      dtype='object')\n"
     ]
    }
   ],
   "source": [
    "print(df1.columns)\n"
   ]
  },
  {
   "cell_type": "code",
   "execution_count": 52,
   "id": "cec36a4c",
   "metadata": {},
   "outputs": [
    {
     "name": "stdout",
     "output_type": "stream",
     "text": [
      "Index(['ID', 'DEVICETYPE', 'PLATFORM_ID', 'BIDREQUESTIP', 'USERPLATFORMUID',\n",
      "       'USERZIPCODE', 'USERAGENT', 'PLATFORMTYPE', 'CHANNELTYPE', 'KEYWORDS',\n",
      "       'TAXONOMY', 'IS_HCP'],\n",
      "      dtype='object')\n",
      "Column deleted successfully.\n"
     ]
    }
   ],
   "source": [
    "# Check column names in the DataFrame\n",
    "print(df.columns)\n",
    "\n",
    "# Delete column if it exists in the DataFrame\n",
    "column_to_delete = 'PLATFORMTYPE'\n",
    "if column_to_delete in df.columns:\n",
    "    del df[column_to_delete]\n",
    "    print(\"Column deleted successfully.\")\n",
    "else:\n",
    "    print(\"Column not found in the DataFrame.\")\n"
   ]
  },
  {
   "cell_type": "code",
   "execution_count": 53,
   "id": "wNO0MMZRRZRY",
   "metadata": {
    "colab": {
     "base_uri": "https://localhost:8080/",
     "height": 669
    },
    "id": "wNO0MMZRRZRY",
    "outputId": "27400e95-d236-46fb-8a59-a7e7d27b0bfb"
   },
   "outputs": [
    {
     "data": {
      "text/html": [
       "<div>\n",
       "<style scoped>\n",
       "    .dataframe tbody tr th:only-of-type {\n",
       "        vertical-align: middle;\n",
       "    }\n",
       "\n",
       "    .dataframe tbody tr th {\n",
       "        vertical-align: top;\n",
       "    }\n",
       "\n",
       "    .dataframe thead th {\n",
       "        text-align: right;\n",
       "    }\n",
       "</style>\n",
       "<table border=\"1\" class=\"dataframe\">\n",
       "  <thead>\n",
       "    <tr style=\"text-align: right;\">\n",
       "      <th></th>\n",
       "      <th>ID</th>\n",
       "      <th>DEVICETYPE</th>\n",
       "      <th>PLATFORM_ID</th>\n",
       "      <th>BIDREQUESTIP</th>\n",
       "      <th>USERPLATFORMUID</th>\n",
       "      <th>USERZIPCODE</th>\n",
       "      <th>USERAGENT</th>\n",
       "      <th>CHANNELTYPE</th>\n",
       "      <th>KEYWORDS</th>\n",
       "      <th>TAXONOMY</th>\n",
       "      <th>IS_HCP</th>\n",
       "    </tr>\n",
       "  </thead>\n",
       "  <tbody>\n",
       "    <tr>\n",
       "      <th>0</th>\n",
       "      <td>1001</td>\n",
       "      <td>Desktop</td>\n",
       "      <td>2</td>\n",
       "      <td>170.173.0.22</td>\n",
       "      <td>6974dcaa-f932-480e-9fb5-c52e20e1393a</td>\n",
       "      <td>97206.0</td>\n",
       "      <td>Mozilla/5.0 (Windows NT 10.0; Win64; x64) Appl...</td>\n",
       "      <td>Website</td>\n",
       "      <td>General|Endocrine|False|Medicine|Surgery|Urolo...</td>\n",
       "      <td>NaN</td>\n",
       "      <td>0.0</td>\n",
       "    </tr>\n",
       "    <tr>\n",
       "      <th>1</th>\n",
       "      <td>1002</td>\n",
       "      <td>Desktop</td>\n",
       "      <td>2</td>\n",
       "      <td>65.216.253.25</td>\n",
       "      <td>c12f3f8f-8fcf-484a-90e1-1ac04db8cdcf</td>\n",
       "      <td>22202.0</td>\n",
       "      <td>Mozilla/5.0 (Macintosh; Intel Mac OS X 10_15_7...</td>\n",
       "      <td>Website</td>\n",
       "      <td>Bone Marrow|Radiography|Chronic|Oncology|Psych...</td>\n",
       "      <td>NaN</td>\n",
       "      <td>0.0</td>\n",
       "    </tr>\n",
       "    <tr>\n",
       "      <th>2</th>\n",
       "      <td>1003</td>\n",
       "      <td>Desktop</td>\n",
       "      <td>2</td>\n",
       "      <td>66.232.79.22</td>\n",
       "      <td>a698de4b-e200-46dd-b5fb-40402175ae18</td>\n",
       "      <td>83654.0</td>\n",
       "      <td>Mozilla/5.0 (Macintosh; Intel Mac OS X 10_15_7...</td>\n",
       "      <td>Website</td>\n",
       "      <td>General|Endocrine|False|Medicine|Surgery|Urolo...</td>\n",
       "      <td>NaN</td>\n",
       "      <td>0.0</td>\n",
       "    </tr>\n",
       "    <tr>\n",
       "      <th>3</th>\n",
       "      <td>1004</td>\n",
       "      <td>Desktop</td>\n",
       "      <td>3</td>\n",
       "      <td>137.54.125.246</td>\n",
       "      <td>45967533-75c8-4fbd-a00c-e6ff20447aaa</td>\n",
       "      <td>229114624.0</td>\n",
       "      <td>Mozilla/5.0 (Windows NT 10.0; Win64; x64) Appl...</td>\n",
       "      <td>Website</td>\n",
       "      <td>Dental|Total|Clinical|Pharmacology|Physicians|...</td>\n",
       "      <td>2084P0800X</td>\n",
       "      <td>1.0</td>\n",
       "    </tr>\n",
       "    <tr>\n",
       "      <th>4</th>\n",
       "      <td>1005</td>\n",
       "      <td>Mobile</td>\n",
       "      <td>7</td>\n",
       "      <td>174.202.231.99</td>\n",
       "      <td>a17e25be-532d-4cf5-b916-9308c8c3961f</td>\n",
       "      <td>77008.0</td>\n",
       "      <td>Mozilla/5.0 (iPhone; CPU iPhone OS 16_1_1 like...</td>\n",
       "      <td>Website</td>\n",
       "      <td>Critical Care|Emergency Medicine|General Pract...</td>\n",
       "      <td>NaN</td>\n",
       "      <td>0.0</td>\n",
       "    </tr>\n",
       "  </tbody>\n",
       "</table>\n",
       "</div>"
      ],
      "text/plain": [
       "     ID DEVICETYPE  PLATFORM_ID    BIDREQUESTIP  \\\n",
       "0  1001    Desktop            2    170.173.0.22   \n",
       "1  1002    Desktop            2   65.216.253.25   \n",
       "2  1003    Desktop            2    66.232.79.22   \n",
       "3  1004    Desktop            3  137.54.125.246   \n",
       "4  1005     Mobile            7  174.202.231.99   \n",
       "\n",
       "                        USERPLATFORMUID  USERZIPCODE  \\\n",
       "0  6974dcaa-f932-480e-9fb5-c52e20e1393a      97206.0   \n",
       "1  c12f3f8f-8fcf-484a-90e1-1ac04db8cdcf      22202.0   \n",
       "2  a698de4b-e200-46dd-b5fb-40402175ae18      83654.0   \n",
       "3  45967533-75c8-4fbd-a00c-e6ff20447aaa  229114624.0   \n",
       "4  a17e25be-532d-4cf5-b916-9308c8c3961f      77008.0   \n",
       "\n",
       "                                           USERAGENT CHANNELTYPE  \\\n",
       "0  Mozilla/5.0 (Windows NT 10.0; Win64; x64) Appl...     Website   \n",
       "1  Mozilla/5.0 (Macintosh; Intel Mac OS X 10_15_7...     Website   \n",
       "2  Mozilla/5.0 (Macintosh; Intel Mac OS X 10_15_7...     Website   \n",
       "3  Mozilla/5.0 (Windows NT 10.0; Win64; x64) Appl...     Website   \n",
       "4  Mozilla/5.0 (iPhone; CPU iPhone OS 16_1_1 like...     Website   \n",
       "\n",
       "                                            KEYWORDS    TAXONOMY  IS_HCP  \n",
       "0  General|Endocrine|False|Medicine|Surgery|Urolo...         NaN     0.0  \n",
       "1  Bone Marrow|Radiography|Chronic|Oncology|Psych...         NaN     0.0  \n",
       "2  General|Endocrine|False|Medicine|Surgery|Urolo...         NaN     0.0  \n",
       "3  Dental|Total|Clinical|Pharmacology|Physicians|...  2084P0800X     1.0  \n",
       "4  Critical Care|Emergency Medicine|General Pract...         NaN     0.0  "
      ]
     },
     "execution_count": 53,
     "metadata": {},
     "output_type": "execute_result"
    }
   ],
   "source": [
    "df.head()"
   ]
  },
  {
   "cell_type": "code",
   "execution_count": 54,
   "id": "d47e352a",
   "metadata": {},
   "outputs": [
    {
     "data": {
      "text/plain": [
       "(113937, 11)"
      ]
     },
     "execution_count": 54,
     "metadata": {},
     "output_type": "execute_result"
    }
   ],
   "source": [
    "df.shape"
   ]
  },
  {
   "cell_type": "code",
   "execution_count": 55,
   "id": "2c0beb1f",
   "metadata": {},
   "outputs": [
    {
     "name": "stdout",
     "output_type": "stream",
     "text": [
      "(113936, 11)\n"
     ]
    },
    {
     "data": {
      "text/html": [
       "<div>\n",
       "<style scoped>\n",
       "    .dataframe tbody tr th:only-of-type {\n",
       "        vertical-align: middle;\n",
       "    }\n",
       "\n",
       "    .dataframe tbody tr th {\n",
       "        vertical-align: top;\n",
       "    }\n",
       "\n",
       "    .dataframe thead th {\n",
       "        text-align: right;\n",
       "    }\n",
       "</style>\n",
       "<table border=\"1\" class=\"dataframe\">\n",
       "  <thead>\n",
       "    <tr style=\"text-align: right;\">\n",
       "      <th></th>\n",
       "      <th>ID</th>\n",
       "      <th>DEVICETYPE</th>\n",
       "      <th>PLATFORM_ID</th>\n",
       "      <th>BIDREQUESTIP</th>\n",
       "      <th>USERPLATFORMUID</th>\n",
       "      <th>USERZIPCODE</th>\n",
       "      <th>USERAGENT</th>\n",
       "      <th>CHANNELTYPE</th>\n",
       "      <th>KEYWORDS</th>\n",
       "      <th>TAXONOMY</th>\n",
       "      <th>IS_HCP</th>\n",
       "    </tr>\n",
       "  </thead>\n",
       "  <tbody>\n",
       "    <tr>\n",
       "      <th>0</th>\n",
       "      <td>1001</td>\n",
       "      <td>Desktop</td>\n",
       "      <td>2</td>\n",
       "      <td>170.173.0.22</td>\n",
       "      <td>6974dcaa-f932-480e-9fb5-c52e20e1393a</td>\n",
       "      <td>97206.0</td>\n",
       "      <td>Mozilla/5.0 (Windows NT 10.0; Win64; x64) Appl...</td>\n",
       "      <td>Website</td>\n",
       "      <td>General|Endocrine|False|Medicine|Surgery|Urolo...</td>\n",
       "      <td>NaN</td>\n",
       "      <td>0.0</td>\n",
       "    </tr>\n",
       "    <tr>\n",
       "      <th>1</th>\n",
       "      <td>1002</td>\n",
       "      <td>Desktop</td>\n",
       "      <td>2</td>\n",
       "      <td>65.216.253.25</td>\n",
       "      <td>c12f3f8f-8fcf-484a-90e1-1ac04db8cdcf</td>\n",
       "      <td>22202.0</td>\n",
       "      <td>Mozilla/5.0 (Macintosh; Intel Mac OS X 10_15_7...</td>\n",
       "      <td>Website</td>\n",
       "      <td>Bone Marrow|Radiography|Chronic|Oncology|Psych...</td>\n",
       "      <td>NaN</td>\n",
       "      <td>0.0</td>\n",
       "    </tr>\n",
       "    <tr>\n",
       "      <th>2</th>\n",
       "      <td>1003</td>\n",
       "      <td>Desktop</td>\n",
       "      <td>2</td>\n",
       "      <td>66.232.79.22</td>\n",
       "      <td>a698de4b-e200-46dd-b5fb-40402175ae18</td>\n",
       "      <td>83654.0</td>\n",
       "      <td>Mozilla/5.0 (Macintosh; Intel Mac OS X 10_15_7...</td>\n",
       "      <td>Website</td>\n",
       "      <td>General|Endocrine|False|Medicine|Surgery|Urolo...</td>\n",
       "      <td>NaN</td>\n",
       "      <td>0.0</td>\n",
       "    </tr>\n",
       "    <tr>\n",
       "      <th>3</th>\n",
       "      <td>1004</td>\n",
       "      <td>Desktop</td>\n",
       "      <td>3</td>\n",
       "      <td>137.54.125.246</td>\n",
       "      <td>45967533-75c8-4fbd-a00c-e6ff20447aaa</td>\n",
       "      <td>229114624.0</td>\n",
       "      <td>Mozilla/5.0 (Windows NT 10.0; Win64; x64) Appl...</td>\n",
       "      <td>Website</td>\n",
       "      <td>Dental|Total|Clinical|Pharmacology|Physicians|...</td>\n",
       "      <td>2084P0800X</td>\n",
       "      <td>1.0</td>\n",
       "    </tr>\n",
       "    <tr>\n",
       "      <th>4</th>\n",
       "      <td>1005</td>\n",
       "      <td>Mobile</td>\n",
       "      <td>7</td>\n",
       "      <td>174.202.231.99</td>\n",
       "      <td>a17e25be-532d-4cf5-b916-9308c8c3961f</td>\n",
       "      <td>77008.0</td>\n",
       "      <td>Mozilla/5.0 (iPhone; CPU iPhone OS 16_1_1 like...</td>\n",
       "      <td>Website</td>\n",
       "      <td>Critical Care|Emergency Medicine|General Pract...</td>\n",
       "      <td>NaN</td>\n",
       "      <td>0.0</td>\n",
       "    </tr>\n",
       "  </tbody>\n",
       "</table>\n",
       "</div>"
      ],
      "text/plain": [
       "     ID DEVICETYPE  PLATFORM_ID    BIDREQUESTIP  \\\n",
       "0  1001    Desktop            2    170.173.0.22   \n",
       "1  1002    Desktop            2   65.216.253.25   \n",
       "2  1003    Desktop            2    66.232.79.22   \n",
       "3  1004    Desktop            3  137.54.125.246   \n",
       "4  1005     Mobile            7  174.202.231.99   \n",
       "\n",
       "                        USERPLATFORMUID  USERZIPCODE  \\\n",
       "0  6974dcaa-f932-480e-9fb5-c52e20e1393a      97206.0   \n",
       "1  c12f3f8f-8fcf-484a-90e1-1ac04db8cdcf      22202.0   \n",
       "2  a698de4b-e200-46dd-b5fb-40402175ae18      83654.0   \n",
       "3  45967533-75c8-4fbd-a00c-e6ff20447aaa  229114624.0   \n",
       "4  a17e25be-532d-4cf5-b916-9308c8c3961f      77008.0   \n",
       "\n",
       "                                           USERAGENT CHANNELTYPE  \\\n",
       "0  Mozilla/5.0 (Windows NT 10.0; Win64; x64) Appl...     Website   \n",
       "1  Mozilla/5.0 (Macintosh; Intel Mac OS X 10_15_7...     Website   \n",
       "2  Mozilla/5.0 (Macintosh; Intel Mac OS X 10_15_7...     Website   \n",
       "3  Mozilla/5.0 (Windows NT 10.0; Win64; x64) Appl...     Website   \n",
       "4  Mozilla/5.0 (iPhone; CPU iPhone OS 16_1_1 like...     Website   \n",
       "\n",
       "                                            KEYWORDS    TAXONOMY  IS_HCP  \n",
       "0  General|Endocrine|False|Medicine|Surgery|Urolo...         NaN     0.0  \n",
       "1  Bone Marrow|Radiography|Chronic|Oncology|Psych...         NaN     0.0  \n",
       "2  General|Endocrine|False|Medicine|Surgery|Urolo...         NaN     0.0  \n",
       "3  Dental|Total|Clinical|Pharmacology|Physicians|...  2084P0800X     1.0  \n",
       "4  Critical Care|Emergency Medicine|General Pract...         NaN     0.0  "
      ]
     },
     "execution_count": 55,
     "metadata": {},
     "output_type": "execute_result"
    }
   ],
   "source": [
    "# Drop rows with NaN values in the 'IS_HCP' column\n",
    "df.dropna(subset=['IS_HCP'], inplace=True)\n",
    "\n",
    "# Verify the changes\n",
    "print(df.shape)\n",
    "df.head()\n"
   ]
  },
  {
   "cell_type": "code",
   "execution_count": 56,
   "id": "330a2e68",
   "metadata": {},
   "outputs": [],
   "source": [
    "df1 = df1.dropna()"
   ]
  },
  {
   "cell_type": "code",
   "execution_count": 57,
   "id": "8d2c892e",
   "metadata": {},
   "outputs": [],
   "source": [
    "y = df1['IS_HCP']\n",
    "x = df1.drop('IS_HCP' , axis = 1 )"
   ]
  },
  {
   "cell_type": "code",
   "execution_count": 58,
   "id": "547bc580",
   "metadata": {
    "scrolled": true
   },
   "outputs": [],
   "source": [
    "# Find indices of rows containing NaN values\n",
    "# nan_indices = np.isnan(x).any(axis=1)\n",
    "# nan_indices = np.isnan(y).any(axis=1)\n",
    "# # Remove rows with NaN values from x and y\n",
    "# x = x[~nan_indices]\n",
    "# y = y[~nan_indices]\n"
   ]
  },
  {
   "cell_type": "markdown",
   "id": "b102faad",
   "metadata": {},
   "source": [
    "Spling into train and validation set "
   ]
  },
  {
   "cell_type": "code",
   "execution_count": 59,
   "id": "6212e582",
   "metadata": {},
   "outputs": [],
   "source": [
    "from sklearn.model_selection import train_test_split  \n",
    "x_train, x_vald, y_train, y_vald = train_test_split(x, y, test_size= 0.2, random_state=0)  \n",
    "  "
   ]
  },
  {
   "cell_type": "code",
   "execution_count": 60,
   "id": "2f36dd26",
   "metadata": {},
   "outputs": [],
   "source": [
    "x_train  = np.array(x_train)"
   ]
  },
  {
   "cell_type": "raw",
   "id": "194a61f3",
   "metadata": {},
   "source": [
    "standerization"
   ]
  },
  {
   "cell_type": "code",
   "execution_count": 61,
   "id": "841b769e",
   "metadata": {},
   "outputs": [
    {
     "name": "stderr",
     "output_type": "stream",
     "text": [
      "C:\\Users\\garim\\AppData\\Local\\Programs\\Python\\Python311\\Lib\\site-packages\\sklearn\\base.py:432: UserWarning: X has feature names, but StandardScaler was fitted without feature names\n",
      "  warnings.warn(\n"
     ]
    }
   ],
   "source": [
    "from sklearn.preprocessing import StandardScaler    \n",
    "st_x= StandardScaler()  \n",
    "x_train= st_x.fit_transform(x_train)    \n",
    "x_vald= st_x.transform(x_vald)   "
   ]
  },
  {
   "cell_type": "markdown",
   "id": "7465fb3d",
   "metadata": {},
   "source": [
    "apply pipeline for handeling NAN values in input "
   ]
  },
  {
   "cell_type": "markdown",
   "id": "515287e2",
   "metadata": {},
   "source": [
    "Apply model"
   ]
  },
  {
   "cell_type": "code",
   "execution_count": 62,
   "id": "c1209837",
   "metadata": {},
   "outputs": [
    {
     "data": {
      "text/html": [
       "<style>#sk-container-id-1 {color: black;background-color: white;}#sk-container-id-1 pre{padding: 0;}#sk-container-id-1 div.sk-toggleable {background-color: white;}#sk-container-id-1 label.sk-toggleable__label {cursor: pointer;display: block;width: 100%;margin-bottom: 0;padding: 0.3em;box-sizing: border-box;text-align: center;}#sk-container-id-1 label.sk-toggleable__label-arrow:before {content: \"▸\";float: left;margin-right: 0.25em;color: #696969;}#sk-container-id-1 label.sk-toggleable__label-arrow:hover:before {color: black;}#sk-container-id-1 div.sk-estimator:hover label.sk-toggleable__label-arrow:before {color: black;}#sk-container-id-1 div.sk-toggleable__content {max-height: 0;max-width: 0;overflow: hidden;text-align: left;background-color: #f0f8ff;}#sk-container-id-1 div.sk-toggleable__content pre {margin: 0.2em;color: black;border-radius: 0.25em;background-color: #f0f8ff;}#sk-container-id-1 input.sk-toggleable__control:checked~div.sk-toggleable__content {max-height: 200px;max-width: 100%;overflow: auto;}#sk-container-id-1 input.sk-toggleable__control:checked~label.sk-toggleable__label-arrow:before {content: \"▾\";}#sk-container-id-1 div.sk-estimator input.sk-toggleable__control:checked~label.sk-toggleable__label {background-color: #d4ebff;}#sk-container-id-1 div.sk-label input.sk-toggleable__control:checked~label.sk-toggleable__label {background-color: #d4ebff;}#sk-container-id-1 input.sk-hidden--visually {border: 0;clip: rect(1px 1px 1px 1px);clip: rect(1px, 1px, 1px, 1px);height: 1px;margin: -1px;overflow: hidden;padding: 0;position: absolute;width: 1px;}#sk-container-id-1 div.sk-estimator {font-family: monospace;background-color: #f0f8ff;border: 1px dotted black;border-radius: 0.25em;box-sizing: border-box;margin-bottom: 0.5em;}#sk-container-id-1 div.sk-estimator:hover {background-color: #d4ebff;}#sk-container-id-1 div.sk-parallel-item::after {content: \"\";width: 100%;border-bottom: 1px solid gray;flex-grow: 1;}#sk-container-id-1 div.sk-label:hover label.sk-toggleable__label {background-color: #d4ebff;}#sk-container-id-1 div.sk-serial::before {content: \"\";position: absolute;border-left: 1px solid gray;box-sizing: border-box;top: 0;bottom: 0;left: 50%;z-index: 0;}#sk-container-id-1 div.sk-serial {display: flex;flex-direction: column;align-items: center;background-color: white;padding-right: 0.2em;padding-left: 0.2em;position: relative;}#sk-container-id-1 div.sk-item {position: relative;z-index: 1;}#sk-container-id-1 div.sk-parallel {display: flex;align-items: stretch;justify-content: center;background-color: white;position: relative;}#sk-container-id-1 div.sk-item::before, #sk-container-id-1 div.sk-parallel-item::before {content: \"\";position: absolute;border-left: 1px solid gray;box-sizing: border-box;top: 0;bottom: 0;left: 50%;z-index: -1;}#sk-container-id-1 div.sk-parallel-item {display: flex;flex-direction: column;z-index: 1;position: relative;background-color: white;}#sk-container-id-1 div.sk-parallel-item:first-child::after {align-self: flex-end;width: 50%;}#sk-container-id-1 div.sk-parallel-item:last-child::after {align-self: flex-start;width: 50%;}#sk-container-id-1 div.sk-parallel-item:only-child::after {width: 0;}#sk-container-id-1 div.sk-dashed-wrapped {border: 1px dashed gray;margin: 0 0.4em 0.5em 0.4em;box-sizing: border-box;padding-bottom: 0.4em;background-color: white;}#sk-container-id-1 div.sk-label label {font-family: monospace;font-weight: bold;display: inline-block;line-height: 1.2em;}#sk-container-id-1 div.sk-label-container {text-align: center;}#sk-container-id-1 div.sk-container {/* jupyter's `normalize.less` sets `[hidden] { display: none; }` but bootstrap.min.css set `[hidden] { display: none !important; }` so we also need the `!important` here to be able to override the default hidden behavior on the sphinx rendered scikit-learn.org. See: https://github.com/scikit-learn/scikit-learn/issues/21755 */display: inline-block !important;position: relative;}#sk-container-id-1 div.sk-text-repr-fallback {display: none;}</style><div id=\"sk-container-id-1\" class=\"sk-top-container\"><div class=\"sk-text-repr-fallback\"><pre>RandomForestClassifier(criterion=&#x27;entropy&#x27;, n_estimators=10)</pre><b>In a Jupyter environment, please rerun this cell to show the HTML representation or trust the notebook. <br />On GitHub, the HTML representation is unable to render, please try loading this page with nbviewer.org.</b></div><div class=\"sk-container\" hidden><div class=\"sk-item\"><div class=\"sk-estimator sk-toggleable\"><input class=\"sk-toggleable__control sk-hidden--visually\" id=\"sk-estimator-id-1\" type=\"checkbox\" checked><label for=\"sk-estimator-id-1\" class=\"sk-toggleable__label sk-toggleable__label-arrow\">RandomForestClassifier</label><div class=\"sk-toggleable__content\"><pre>RandomForestClassifier(criterion=&#x27;entropy&#x27;, n_estimators=10)</pre></div></div></div></div></div>"
      ],
      "text/plain": [
       "RandomForestClassifier(criterion='entropy', n_estimators=10)"
      ]
     },
     "execution_count": 62,
     "metadata": {},
     "output_type": "execute_result"
    }
   ],
   "source": [
    "#Fitting Decision Tree classifier to the training set  \n",
    "from sklearn.ensemble import RandomForestClassifier  \n",
    "from sklearn.neural_network import MLPClassifier\n",
    "# classifier = MLPClassifier(hidden_layer_sizes=(100,), activation='relu', solver='adam', random_state=42)\n",
    "classifier= RandomForestClassifier(n_estimators= 10, criterion=\"entropy\")  \n",
    "classifier.fit(x_train, y_train)  "
   ]
  },
  {
   "cell_type": "code",
   "execution_count": 63,
   "id": "387d4deb",
   "metadata": {},
   "outputs": [],
   "source": [
    "#Predicting the test set result  \n",
    "y_pred= classifier.predict(x_vald)  "
   ]
  },
  {
   "cell_type": "code",
   "execution_count": 64,
   "id": "84f2b5ff",
   "metadata": {},
   "outputs": [],
   "source": [
    "#Creating the Confusion matrix  \n",
    "from sklearn.metrics import confusion_matrix  \n",
    "cm= confusion_matrix(y_vald, y_pred)  "
   ]
  },
  {
   "cell_type": "code",
   "execution_count": 65,
   "id": "7340387d",
   "metadata": {},
   "outputs": [
    {
     "name": "stdout",
     "output_type": "stream",
     "text": [
      "[[13096  1959]\n",
      " [ 3244  3570]]\n"
     ]
    }
   ],
   "source": [
    "print(cm)"
   ]
  },
  {
   "cell_type": "code",
   "execution_count": 66,
   "id": "09730fa8",
   "metadata": {},
   "outputs": [
    {
     "name": "stdout",
     "output_type": "stream",
     "text": [
      "Accuracy: 0.7620833142804884\n",
      "Precision: 0.6456863809007054\n",
      "Recall: 0.5239213384208982\n",
      "f1-score 0.5784655270193632\n"
     ]
    }
   ],
   "source": [
    "from sklearn.metrics import accuracy_score, precision_score, recall_score ,f1_score\n",
    "\n",
    "# Calculate metrics\n",
    "accuracy = accuracy_score(y_vald, y_pred)\n",
    "precision = precision_score(y_vald, y_pred)\n",
    "recall = recall_score(y_vald, y_pred)\n",
    "f1score = f1_score(y_vald , y_pred)\n",
    "\n",
    "print(\"Accuracy:\", accuracy)\n",
    "print(\"Precision:\", precision)\n",
    "print(\"Recall:\", recall)\n",
    "print (\"f1-score\" , f1score)"
   ]
  },
  {
   "cell_type": "markdown",
   "id": "3e617a1c",
   "metadata": {},
   "source": [
    "# working on test set "
   ]
  },
  {
   "cell_type": "code",
   "execution_count": 67,
   "id": "95e9aabc",
   "metadata": {},
   "outputs": [],
   "source": [
    "data = pd.read_csv(\"Doceree-HCP_Test.csv\" , encoding = \"latin=1\")"
   ]
  },
  {
   "cell_type": "code",
   "execution_count": 68,
   "id": "af0c96a2",
   "metadata": {},
   "outputs": [
    {
     "data": {
      "text/html": [
       "<div>\n",
       "<style scoped>\n",
       "    .dataframe tbody tr th:only-of-type {\n",
       "        vertical-align: middle;\n",
       "    }\n",
       "\n",
       "    .dataframe tbody tr th {\n",
       "        vertical-align: top;\n",
       "    }\n",
       "\n",
       "    .dataframe thead th {\n",
       "        text-align: right;\n",
       "    }\n",
       "</style>\n",
       "<table border=\"1\" class=\"dataframe\">\n",
       "  <thead>\n",
       "    <tr style=\"text-align: right;\">\n",
       "      <th></th>\n",
       "      <th>ID</th>\n",
       "      <th>DEVICETYPE</th>\n",
       "      <th>PLATFORM_ID</th>\n",
       "      <th>BIDREQUESTIP</th>\n",
       "      <th>USERPLATFORMUID</th>\n",
       "      <th>USERCITY</th>\n",
       "      <th>USERZIPCODE</th>\n",
       "      <th>USERAGENT</th>\n",
       "      <th>PLATFORMTYPE</th>\n",
       "      <th>CHANNELTYPE</th>\n",
       "      <th>URL</th>\n",
       "      <th>KEYWORDS</th>\n",
       "    </tr>\n",
       "  </thead>\n",
       "  <tbody>\n",
       "    <tr>\n",
       "      <th>0</th>\n",
       "      <td>115501</td>\n",
       "      <td>Desktop</td>\n",
       "      <td>2</td>\n",
       "      <td>75.189.231.103</td>\n",
       "      <td>0d5041ff-f0b6-4d1a-9ad7-0a29f7d485b4</td>\n",
       "      <td>Fayetteville</td>\n",
       "      <td>28305.0</td>\n",
       "      <td>Mozilla/5.0 (Macintosh; Intel Mac OS X 10_11_6...</td>\n",
       "      <td>Online Medical Journal</td>\n",
       "      <td>Website</td>\n",
       "      <td>https://www.clinicaladvisor.com/home/features/...</td>\n",
       "      <td>Family Practice|Drainage|Clinical|Dermatology|...</td>\n",
       "    </tr>\n",
       "    <tr>\n",
       "      <th>1</th>\n",
       "      <td>115502</td>\n",
       "      <td>Mobile</td>\n",
       "      <td>2</td>\n",
       "      <td>24.101.33.158</td>\n",
       "      <td>c8396dd0-969f-4d99-a40b-b7bb1f516154</td>\n",
       "      <td>Conneaut Lake</td>\n",
       "      <td>16316.0</td>\n",
       "      <td>Mozilla/5.0 (iPhone; CPU iPhone OS 15_6_1 like...</td>\n",
       "      <td>Online Medical Journal</td>\n",
       "      <td>Website</td>\n",
       "      <td>https://www.ophthalmologyadvisor.com/topics/ca...</td>\n",
       "      <td>General|Clinical|Operative|Medicine|Cardiology...</td>\n",
       "    </tr>\n",
       "    <tr>\n",
       "      <th>2</th>\n",
       "      <td>115503</td>\n",
       "      <td>Desktop</td>\n",
       "      <td>2</td>\n",
       "      <td>172.118.216.142</td>\n",
       "      <td>3c97a081-6518-43f8-9f26-369759cfb471</td>\n",
       "      <td>Covina</td>\n",
       "      <td>91724.0</td>\n",
       "      <td>Mozilla/5.0 (Macintosh; Intel Mac OS X 10_15_7...</td>\n",
       "      <td>Online Medical Journal</td>\n",
       "      <td>Website</td>\n",
       "      <td>https://www.psychiatryadvisor.com/author/tori-...</td>\n",
       "      <td>Abortion|Anxiety Disorders|Apnea|False|Trauma|...</td>\n",
       "    </tr>\n",
       "    <tr>\n",
       "      <th>3</th>\n",
       "      <td>115504</td>\n",
       "      <td>Desktop</td>\n",
       "      <td>7</td>\n",
       "      <td>71.105.120.171</td>\n",
       "      <td>3e2578c8-f794-41af-a38c-c5cfb3c0f014</td>\n",
       "      <td>Brooklyn</td>\n",
       "      <td>11226.0</td>\n",
       "      <td>Mozilla/5.0 (Macintosh; Intel Mac OS X 10_15_7...</td>\n",
       "      <td>Online Medical Journal</td>\n",
       "      <td>Website</td>\n",
       "      <td>https://www.cureus.com/articles/105482-diverti...</td>\n",
       "      <td>Health|Male|Neurological Surgery|Otolaryngolog...</td>\n",
       "    </tr>\n",
       "    <tr>\n",
       "      <th>4</th>\n",
       "      <td>115505</td>\n",
       "      <td>Desktop</td>\n",
       "      <td>2</td>\n",
       "      <td>73.82.211.73</td>\n",
       "      <td>ec2ae7ce-6a8c-4156-98a7-07203e60f483</td>\n",
       "      <td>Marietta</td>\n",
       "      <td>30062.0</td>\n",
       "      <td>Mozilla/5.0 (Windows NT 10.0; Win64; x64) Appl...</td>\n",
       "      <td>Online Medical Journal</td>\n",
       "      <td>Website</td>\n",
       "      <td>https://www.renalandurologynews.com/home/confe...</td>\n",
       "      <td>chronic kidney disease|pain|nephrology|disease...</td>\n",
       "    </tr>\n",
       "  </tbody>\n",
       "</table>\n",
       "</div>"
      ],
      "text/plain": [
       "       ID DEVICETYPE  PLATFORM_ID     BIDREQUESTIP  \\\n",
       "0  115501    Desktop            2   75.189.231.103   \n",
       "1  115502     Mobile            2    24.101.33.158   \n",
       "2  115503    Desktop            2  172.118.216.142   \n",
       "3  115504    Desktop            7   71.105.120.171   \n",
       "4  115505    Desktop            2     73.82.211.73   \n",
       "\n",
       "                        USERPLATFORMUID       USERCITY  USERZIPCODE  \\\n",
       "0  0d5041ff-f0b6-4d1a-9ad7-0a29f7d485b4   Fayetteville      28305.0   \n",
       "1  c8396dd0-969f-4d99-a40b-b7bb1f516154  Conneaut Lake      16316.0   \n",
       "2  3c97a081-6518-43f8-9f26-369759cfb471         Covina      91724.0   \n",
       "3  3e2578c8-f794-41af-a38c-c5cfb3c0f014       Brooklyn      11226.0   \n",
       "4  ec2ae7ce-6a8c-4156-98a7-07203e60f483       Marietta      30062.0   \n",
       "\n",
       "                                           USERAGENT            PLATFORMTYPE  \\\n",
       "0  Mozilla/5.0 (Macintosh; Intel Mac OS X 10_11_6...  Online Medical Journal   \n",
       "1  Mozilla/5.0 (iPhone; CPU iPhone OS 15_6_1 like...  Online Medical Journal   \n",
       "2  Mozilla/5.0 (Macintosh; Intel Mac OS X 10_15_7...  Online Medical Journal   \n",
       "3  Mozilla/5.0 (Macintosh; Intel Mac OS X 10_15_7...  Online Medical Journal   \n",
       "4  Mozilla/5.0 (Windows NT 10.0; Win64; x64) Appl...  Online Medical Journal   \n",
       "\n",
       "  CHANNELTYPE                                                URL  \\\n",
       "0     Website  https://www.clinicaladvisor.com/home/features/...   \n",
       "1     Website  https://www.ophthalmologyadvisor.com/topics/ca...   \n",
       "2     Website  https://www.psychiatryadvisor.com/author/tori-...   \n",
       "3     Website  https://www.cureus.com/articles/105482-diverti...   \n",
       "4     Website  https://www.renalandurologynews.com/home/confe...   \n",
       "\n",
       "                                            KEYWORDS  \n",
       "0  Family Practice|Drainage|Clinical|Dermatology|...  \n",
       "1  General|Clinical|Operative|Medicine|Cardiology...  \n",
       "2  Abortion|Anxiety Disorders|Apnea|False|Trauma|...  \n",
       "3  Health|Male|Neurological Surgery|Otolaryngolog...  \n",
       "4  chronic kidney disease|pain|nephrology|disease...  "
      ]
     },
     "execution_count": 68,
     "metadata": {},
     "output_type": "execute_result"
    }
   ],
   "source": [
    "data.head()"
   ]
  },
  {
   "cell_type": "code",
   "execution_count": 69,
   "id": "b34dc45d",
   "metadata": {},
   "outputs": [
    {
     "name": "stdout",
     "output_type": "stream",
     "text": [
      "Index(['ID', 'DEVICETYPE', 'PLATFORM_ID', 'BIDREQUESTIP', 'USERPLATFORMUID',\n",
      "       'USERCITY', 'USERZIPCODE', 'USERAGENT', 'PLATFORMTYPE', 'CHANNELTYPE',\n",
      "       'URL', 'KEYWORDS'],\n",
      "      dtype='object')\n"
     ]
    }
   ],
   "source": [
    "column_names = data.columns\n",
    "\n",
    "# Print the column names\n",
    "print(column_names)"
   ]
  },
  {
   "cell_type": "code",
   "execution_count": 70,
   "id": "a80d133e",
   "metadata": {},
   "outputs": [
    {
     "data": {
      "text/html": [
       "<div>\n",
       "<style scoped>\n",
       "    .dataframe tbody tr th:only-of-type {\n",
       "        vertical-align: middle;\n",
       "    }\n",
       "\n",
       "    .dataframe tbody tr th {\n",
       "        vertical-align: top;\n",
       "    }\n",
       "\n",
       "    .dataframe thead th {\n",
       "        text-align: right;\n",
       "    }\n",
       "</style>\n",
       "<table border=\"1\" class=\"dataframe\">\n",
       "  <thead>\n",
       "    <tr style=\"text-align: right;\">\n",
       "      <th></th>\n",
       "      <th>ID</th>\n",
       "      <th>DEVICETYPE</th>\n",
       "      <th>PLATFORM_ID</th>\n",
       "      <th>USERZIPCODE</th>\n",
       "      <th>PLATFORMTYPE</th>\n",
       "    </tr>\n",
       "  </thead>\n",
       "  <tbody>\n",
       "    <tr>\n",
       "      <th>0</th>\n",
       "      <td>115501</td>\n",
       "      <td>Desktop</td>\n",
       "      <td>2</td>\n",
       "      <td>28305.0</td>\n",
       "      <td>Online Medical Journal</td>\n",
       "    </tr>\n",
       "    <tr>\n",
       "      <th>1</th>\n",
       "      <td>115502</td>\n",
       "      <td>Mobile</td>\n",
       "      <td>2</td>\n",
       "      <td>16316.0</td>\n",
       "      <td>Online Medical Journal</td>\n",
       "    </tr>\n",
       "    <tr>\n",
       "      <th>2</th>\n",
       "      <td>115503</td>\n",
       "      <td>Desktop</td>\n",
       "      <td>2</td>\n",
       "      <td>91724.0</td>\n",
       "      <td>Online Medical Journal</td>\n",
       "    </tr>\n",
       "    <tr>\n",
       "      <th>3</th>\n",
       "      <td>115504</td>\n",
       "      <td>Desktop</td>\n",
       "      <td>7</td>\n",
       "      <td>11226.0</td>\n",
       "      <td>Online Medical Journal</td>\n",
       "    </tr>\n",
       "    <tr>\n",
       "      <th>4</th>\n",
       "      <td>115505</td>\n",
       "      <td>Desktop</td>\n",
       "      <td>2</td>\n",
       "      <td>30062.0</td>\n",
       "      <td>Online Medical Journal</td>\n",
       "    </tr>\n",
       "  </tbody>\n",
       "</table>\n",
       "</div>"
      ],
      "text/plain": [
       "       ID DEVICETYPE  PLATFORM_ID  USERZIPCODE            PLATFORMTYPE\n",
       "0  115501    Desktop            2      28305.0  Online Medical Journal\n",
       "1  115502     Mobile            2      16316.0  Online Medical Journal\n",
       "2  115503    Desktop            2      91724.0  Online Medical Journal\n",
       "3  115504    Desktop            7      11226.0  Online Medical Journal\n",
       "4  115505    Desktop            2      30062.0  Online Medical Journal"
      ]
     },
     "execution_count": 70,
     "metadata": {},
     "output_type": "execute_result"
    }
   ],
   "source": [
    "data= data.drop(['USERPLATFORMUID' , 'USERAGENT' , 'CHANNELTYPE', 'KEYWORDS' , 'BIDREQUESTIP'  , 'USERCITY','URL'], axis =  1 ,inplace= False)\n",
    "\n",
    "data.head()"
   ]
  },
  {
   "cell_type": "code",
   "execution_count": 72,
   "id": "6d5c3695",
   "metadata": {},
   "outputs": [
    {
     "name": "stdout",
     "output_type": "stream",
     "text": [
      "Index(['ID', 'DEVICETYPE', 'PLATFORM_ID', 'USERZIPCODE', 'PLATFORMTYPE'], dtype='object')\n"
     ]
    },
    {
     "data": {
      "text/html": [
       "<div>\n",
       "<style scoped>\n",
       "    .dataframe tbody tr th:only-of-type {\n",
       "        vertical-align: middle;\n",
       "    }\n",
       "\n",
       "    .dataframe tbody tr th {\n",
       "        vertical-align: top;\n",
       "    }\n",
       "\n",
       "    .dataframe thead th {\n",
       "        text-align: right;\n",
       "    }\n",
       "</style>\n",
       "<table border=\"1\" class=\"dataframe\">\n",
       "  <thead>\n",
       "    <tr style=\"text-align: right;\">\n",
       "      <th></th>\n",
       "      <th>ID</th>\n",
       "      <th>DEVICETYPE</th>\n",
       "      <th>PLATFORM_ID</th>\n",
       "      <th>USERZIPCODE</th>\n",
       "      <th>PLATFORMTYPE</th>\n",
       "    </tr>\n",
       "  </thead>\n",
       "  <tbody>\n",
       "    <tr>\n",
       "      <th>0</th>\n",
       "      <td>115501</td>\n",
       "      <td>Desktop</td>\n",
       "      <td>2</td>\n",
       "      <td>28305.0</td>\n",
       "      <td>Online Medical Journal</td>\n",
       "    </tr>\n",
       "    <tr>\n",
       "      <th>1</th>\n",
       "      <td>115502</td>\n",
       "      <td>Mobile</td>\n",
       "      <td>2</td>\n",
       "      <td>16316.0</td>\n",
       "      <td>Online Medical Journal</td>\n",
       "    </tr>\n",
       "    <tr>\n",
       "      <th>2</th>\n",
       "      <td>115503</td>\n",
       "      <td>Desktop</td>\n",
       "      <td>2</td>\n",
       "      <td>91724.0</td>\n",
       "      <td>Online Medical Journal</td>\n",
       "    </tr>\n",
       "    <tr>\n",
       "      <th>3</th>\n",
       "      <td>115504</td>\n",
       "      <td>Desktop</td>\n",
       "      <td>7</td>\n",
       "      <td>11226.0</td>\n",
       "      <td>Online Medical Journal</td>\n",
       "    </tr>\n",
       "    <tr>\n",
       "      <th>4</th>\n",
       "      <td>115505</td>\n",
       "      <td>Desktop</td>\n",
       "      <td>2</td>\n",
       "      <td>30062.0</td>\n",
       "      <td>Online Medical Journal</td>\n",
       "    </tr>\n",
       "  </tbody>\n",
       "</table>\n",
       "</div>"
      ],
      "text/plain": [
       "       ID DEVICETYPE  PLATFORM_ID  USERZIPCODE            PLATFORMTYPE\n",
       "0  115501    Desktop            2      28305.0  Online Medical Journal\n",
       "1  115502     Mobile            2      16316.0  Online Medical Journal\n",
       "2  115503    Desktop            2      91724.0  Online Medical Journal\n",
       "3  115504    Desktop            7      11226.0  Online Medical Journal\n",
       "4  115505    Desktop            2      30062.0  Online Medical Journal"
      ]
     },
     "execution_count": 72,
     "metadata": {},
     "output_type": "execute_result"
    }
   ],
   "source": [
    "print(data.columns)\n",
    "data.head()\n"
   ]
  },
  {
   "cell_type": "markdown",
   "id": "5273f37a",
   "metadata": {},
   "source": [
    "One hot encoding "
   ]
  },
  {
   "cell_type": "code",
   "execution_count": 73,
   "id": "96aaa561",
   "metadata": {},
   "outputs": [
    {
     "data": {
      "text/html": [
       "<div>\n",
       "<style scoped>\n",
       "    .dataframe tbody tr th:only-of-type {\n",
       "        vertical-align: middle;\n",
       "    }\n",
       "\n",
       "    .dataframe tbody tr th {\n",
       "        vertical-align: top;\n",
       "    }\n",
       "\n",
       "    .dataframe thead th {\n",
       "        text-align: right;\n",
       "    }\n",
       "</style>\n",
       "<table border=\"1\" class=\"dataframe\">\n",
       "  <thead>\n",
       "    <tr style=\"text-align: right;\">\n",
       "      <th></th>\n",
       "      <th>ID</th>\n",
       "      <th>PLATFORM_ID</th>\n",
       "      <th>USERZIPCODE</th>\n",
       "      <th>DEVICETYPE_Desktop</th>\n",
       "      <th>DEVICETYPE_Mobile</th>\n",
       "      <th>DEVICETYPE_Tablet</th>\n",
       "      <th>DEVICETYPE_Unknown</th>\n",
       "      <th>PLATFORMTYPE_Electronic Health Record</th>\n",
       "      <th>PLATFORMTYPE_Medical News Platform</th>\n",
       "      <th>PLATFORMTYPE_Online Learning Portal</th>\n",
       "      <th>PLATFORMTYPE_Online Medical Journal</th>\n",
       "    </tr>\n",
       "  </thead>\n",
       "  <tbody>\n",
       "    <tr>\n",
       "      <th>0</th>\n",
       "      <td>115501</td>\n",
       "      <td>2</td>\n",
       "      <td>28305.0</td>\n",
       "      <td>1</td>\n",
       "      <td>0</td>\n",
       "      <td>0</td>\n",
       "      <td>0</td>\n",
       "      <td>0</td>\n",
       "      <td>0</td>\n",
       "      <td>0</td>\n",
       "      <td>1</td>\n",
       "    </tr>\n",
       "    <tr>\n",
       "      <th>1</th>\n",
       "      <td>115502</td>\n",
       "      <td>2</td>\n",
       "      <td>16316.0</td>\n",
       "      <td>0</td>\n",
       "      <td>1</td>\n",
       "      <td>0</td>\n",
       "      <td>0</td>\n",
       "      <td>0</td>\n",
       "      <td>0</td>\n",
       "      <td>0</td>\n",
       "      <td>1</td>\n",
       "    </tr>\n",
       "    <tr>\n",
       "      <th>2</th>\n",
       "      <td>115503</td>\n",
       "      <td>2</td>\n",
       "      <td>91724.0</td>\n",
       "      <td>1</td>\n",
       "      <td>0</td>\n",
       "      <td>0</td>\n",
       "      <td>0</td>\n",
       "      <td>0</td>\n",
       "      <td>0</td>\n",
       "      <td>0</td>\n",
       "      <td>1</td>\n",
       "    </tr>\n",
       "    <tr>\n",
       "      <th>3</th>\n",
       "      <td>115504</td>\n",
       "      <td>7</td>\n",
       "      <td>11226.0</td>\n",
       "      <td>1</td>\n",
       "      <td>0</td>\n",
       "      <td>0</td>\n",
       "      <td>0</td>\n",
       "      <td>0</td>\n",
       "      <td>0</td>\n",
       "      <td>0</td>\n",
       "      <td>1</td>\n",
       "    </tr>\n",
       "    <tr>\n",
       "      <th>4</th>\n",
       "      <td>115505</td>\n",
       "      <td>2</td>\n",
       "      <td>30062.0</td>\n",
       "      <td>1</td>\n",
       "      <td>0</td>\n",
       "      <td>0</td>\n",
       "      <td>0</td>\n",
       "      <td>0</td>\n",
       "      <td>0</td>\n",
       "      <td>0</td>\n",
       "      <td>1</td>\n",
       "    </tr>\n",
       "  </tbody>\n",
       "</table>\n",
       "</div>"
      ],
      "text/plain": [
       "       ID  PLATFORM_ID  USERZIPCODE  DEVICETYPE_Desktop  DEVICETYPE_Mobile  \\\n",
       "0  115501            2      28305.0                   1                  0   \n",
       "1  115502            2      16316.0                   0                  1   \n",
       "2  115503            2      91724.0                   1                  0   \n",
       "3  115504            7      11226.0                   1                  0   \n",
       "4  115505            2      30062.0                   1                  0   \n",
       "\n",
       "   DEVICETYPE_Tablet  DEVICETYPE_Unknown  \\\n",
       "0                  0                   0   \n",
       "1                  0                   0   \n",
       "2                  0                   0   \n",
       "3                  0                   0   \n",
       "4                  0                   0   \n",
       "\n",
       "   PLATFORMTYPE_Electronic Health Record  PLATFORMTYPE_Medical News Platform  \\\n",
       "0                                      0                                   0   \n",
       "1                                      0                                   0   \n",
       "2                                      0                                   0   \n",
       "3                                      0                                   0   \n",
       "4                                      0                                   0   \n",
       "\n",
       "   PLATFORMTYPE_Online Learning Portal  PLATFORMTYPE_Online Medical Journal  \n",
       "0                                    0                                    1  \n",
       "1                                    0                                    1  \n",
       "2                                    0                                    1  \n",
       "3                                    0                                    1  \n",
       "4                                    0                                    1  "
      ]
     },
     "execution_count": 73,
     "metadata": {},
     "output_type": "execute_result"
    }
   ],
   "source": [
    "data1 = pd.get_dummies(data, columns=['DEVICETYPE' , 'PLATFORMTYPE'])\n",
    "\n",
    "\n",
    "boolean_columns = data1.select_dtypes(include=bool).columns\n",
    "data1[boolean_columns] = data1[boolean_columns].astype(int)\n",
    "\n",
    "\n",
    "data1.head()"
   ]
  },
  {
   "cell_type": "code",
   "execution_count": 74,
   "id": "10304b75",
   "metadata": {},
   "outputs": [],
   "source": [
    "data1 = data1.dropna()"
   ]
  },
  {
   "cell_type": "markdown",
   "id": "6dd6ae1e",
   "metadata": {},
   "source": [
    "# Final results "
   ]
  },
  {
   "cell_type": "code",
   "execution_count": 75,
   "id": "bd952bfe",
   "metadata": {},
   "outputs": [],
   "source": [
    " x_test = np.array(data1)"
   ]
  },
  {
   "cell_type": "code",
   "execution_count": 76,
   "id": "00ef9904",
   "metadata": {},
   "outputs": [
    {
     "data": {
      "text/plain": [
       "array([[1.15501000e+05, 2.00000000e+00, 2.83050000e+04, ...,\n",
       "        7.51359852e-18, 1.29152666e-17, 1.00000000e+00],\n",
       "       [1.15502000e+05, 2.00000000e+00, 1.63160000e+04, ...,\n",
       "        7.51359852e-18, 1.29152666e-17, 1.00000000e+00],\n",
       "       [1.15503000e+05, 2.00000000e+00, 9.17240000e+04, ...,\n",
       "        7.51359852e-18, 1.29152666e-17, 1.00000000e+00],\n",
       "       ...,\n",
       "       [1.43990000e+05, 7.00000000e+00, 3.31780000e+04, ...,\n",
       "        7.51359852e-18, 1.29152666e-17, 1.00000000e+00],\n",
       "       [1.43991000e+05, 7.00000000e+00, 3.33140000e+04, ...,\n",
       "        7.51359852e-18, 1.29152666e-17, 1.00000000e+00],\n",
       "       [1.43993000e+05, 2.00000000e+00, 2.84120000e+04, ...,\n",
       "        7.51359852e-18, 1.29152666e-17, 1.00000000e+00]])"
      ]
     },
     "execution_count": 76,
     "metadata": {},
     "output_type": "execute_result"
    }
   ],
   "source": [
    "st_x = StandardScaler()\n",
    "st_x.fit(x_train)\n",
    "\n",
    "\n",
    "x_test = st_x.transform(x_test)\n",
    "x_test\n"
   ]
  },
  {
   "cell_type": "code",
   "execution_count": 77,
   "id": "633fa0cc",
   "metadata": {},
   "outputs": [
    {
     "data": {
      "text/html": [
       "<div>\n",
       "<style scoped>\n",
       "    .dataframe tbody tr th:only-of-type {\n",
       "        vertical-align: middle;\n",
       "    }\n",
       "\n",
       "    .dataframe tbody tr th {\n",
       "        vertical-align: top;\n",
       "    }\n",
       "\n",
       "    .dataframe thead th {\n",
       "        text-align: right;\n",
       "    }\n",
       "</style>\n",
       "<table border=\"1\" class=\"dataframe\">\n",
       "  <thead>\n",
       "    <tr style=\"text-align: right;\">\n",
       "      <th></th>\n",
       "      <th>ID</th>\n",
       "      <th>PLATFORM_ID</th>\n",
       "      <th>USERZIPCODE</th>\n",
       "      <th>DEVICETYPE_Desktop</th>\n",
       "      <th>DEVICETYPE_Mobile</th>\n",
       "      <th>DEVICETYPE_Tablet</th>\n",
       "      <th>DEVICETYPE_Unknown</th>\n",
       "      <th>PLATFORMTYPE_Electronic Health Record</th>\n",
       "      <th>PLATFORMTYPE_Medical News Platform</th>\n",
       "      <th>PLATFORMTYPE_Online Learning Portal</th>\n",
       "      <th>PLATFORMTYPE_Online Medical Journal</th>\n",
       "    </tr>\n",
       "  </thead>\n",
       "  <tbody>\n",
       "    <tr>\n",
       "      <th>0</th>\n",
       "      <td>115501</td>\n",
       "      <td>2</td>\n",
       "      <td>28305.0</td>\n",
       "      <td>1</td>\n",
       "      <td>0</td>\n",
       "      <td>0</td>\n",
       "      <td>0</td>\n",
       "      <td>0</td>\n",
       "      <td>0</td>\n",
       "      <td>0</td>\n",
       "      <td>1</td>\n",
       "    </tr>\n",
       "    <tr>\n",
       "      <th>1</th>\n",
       "      <td>115502</td>\n",
       "      <td>2</td>\n",
       "      <td>16316.0</td>\n",
       "      <td>0</td>\n",
       "      <td>1</td>\n",
       "      <td>0</td>\n",
       "      <td>0</td>\n",
       "      <td>0</td>\n",
       "      <td>0</td>\n",
       "      <td>0</td>\n",
       "      <td>1</td>\n",
       "    </tr>\n",
       "    <tr>\n",
       "      <th>2</th>\n",
       "      <td>115503</td>\n",
       "      <td>2</td>\n",
       "      <td>91724.0</td>\n",
       "      <td>1</td>\n",
       "      <td>0</td>\n",
       "      <td>0</td>\n",
       "      <td>0</td>\n",
       "      <td>0</td>\n",
       "      <td>0</td>\n",
       "      <td>0</td>\n",
       "      <td>1</td>\n",
       "    </tr>\n",
       "    <tr>\n",
       "      <th>3</th>\n",
       "      <td>115504</td>\n",
       "      <td>7</td>\n",
       "      <td>11226.0</td>\n",
       "      <td>1</td>\n",
       "      <td>0</td>\n",
       "      <td>0</td>\n",
       "      <td>0</td>\n",
       "      <td>0</td>\n",
       "      <td>0</td>\n",
       "      <td>0</td>\n",
       "      <td>1</td>\n",
       "    </tr>\n",
       "    <tr>\n",
       "      <th>4</th>\n",
       "      <td>115505</td>\n",
       "      <td>2</td>\n",
       "      <td>30062.0</td>\n",
       "      <td>1</td>\n",
       "      <td>0</td>\n",
       "      <td>0</td>\n",
       "      <td>0</td>\n",
       "      <td>0</td>\n",
       "      <td>0</td>\n",
       "      <td>0</td>\n",
       "      <td>1</td>\n",
       "    </tr>\n",
       "  </tbody>\n",
       "</table>\n",
       "</div>"
      ],
      "text/plain": [
       "       ID  PLATFORM_ID  USERZIPCODE  DEVICETYPE_Desktop  DEVICETYPE_Mobile  \\\n",
       "0  115501            2      28305.0                   1                  0   \n",
       "1  115502            2      16316.0                   0                  1   \n",
       "2  115503            2      91724.0                   1                  0   \n",
       "3  115504            7      11226.0                   1                  0   \n",
       "4  115505            2      30062.0                   1                  0   \n",
       "\n",
       "   DEVICETYPE_Tablet  DEVICETYPE_Unknown  \\\n",
       "0                  0                   0   \n",
       "1                  0                   0   \n",
       "2                  0                   0   \n",
       "3                  0                   0   \n",
       "4                  0                   0   \n",
       "\n",
       "   PLATFORMTYPE_Electronic Health Record  PLATFORMTYPE_Medical News Platform  \\\n",
       "0                                      0                                   0   \n",
       "1                                      0                                   0   \n",
       "2                                      0                                   0   \n",
       "3                                      0                                   0   \n",
       "4                                      0                                   0   \n",
       "\n",
       "   PLATFORMTYPE_Online Learning Portal  PLATFORMTYPE_Online Medical Journal  \n",
       "0                                    0                                    1  \n",
       "1                                    0                                    1  \n",
       "2                                    0                                    1  \n",
       "3                                    0                                    1  \n",
       "4                                    0                                    1  "
      ]
     },
     "execution_count": 77,
     "metadata": {},
     "output_type": "execute_result"
    }
   ],
   "source": [
    "data1.head()"
   ]
  },
  {
   "cell_type": "code",
   "execution_count": null,
   "id": "1a76a1fb",
   "metadata": {},
   "outputs": [],
   "source": []
  },
  {
   "cell_type": "code",
   "execution_count": 79,
   "id": "639c1796",
   "metadata": {},
   "outputs": [],
   "source": [
    "y_test = classifier.predict(x_test)\n"
   ]
  },
  {
   "cell_type": "code",
   "execution_count": 80,
   "id": "3ae73072",
   "metadata": {},
   "outputs": [
    {
     "data": {
      "text/plain": [
       "array([1., 1., 1., ..., 1., 1., 1.])"
      ]
     },
     "execution_count": 80,
     "metadata": {},
     "output_type": "execute_result"
    }
   ],
   "source": [
    "y_test "
   ]
  },
  {
   "cell_type": "code",
   "execution_count": 81,
   "id": "79044841",
   "metadata": {},
   "outputs": [],
   "source": [
    "df = pd.DataFrame(y_test)\n",
    "df.to_excel('y_test.xlsx', index=False)"
   ]
  },
  {
   "cell_type": "code",
   "execution_count": 82,
   "id": "b37d25cc",
   "metadata": {},
   "outputs": [],
   "source": [
    "column_names = ['IS_HCP']"
   ]
  },
  {
   "cell_type": "code",
   "execution_count": null,
   "id": "4c68c157",
   "metadata": {},
   "outputs": [],
   "source": []
  }
 ],
 "metadata": {
  "colab": {
   "include_colab_link": true,
   "provenance": []
  },
  "kernelspec": {
   "display_name": "Python 3 (ipykernel)",
   "language": "python",
   "name": "python3"
  },
  "language_info": {
   "codemirror_mode": {
    "name": "ipython",
    "version": 3
   },
   "file_extension": ".py",
   "mimetype": "text/x-python",
   "name": "python",
   "nbconvert_exporter": "python",
   "pygments_lexer": "ipython3",
   "version": "3.11.1"
  }
 },
 "nbformat": 4,
 "nbformat_minor": 5
}
