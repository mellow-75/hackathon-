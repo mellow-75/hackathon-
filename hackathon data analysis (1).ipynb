{
 "cells": [
  {
   "cell_type": "code",
   "execution_count": 39,
   "id": "95377922",
   "metadata": {},
   "outputs": [],
   "source": [
    "import pandas as pd \n",
    "import numpy as np \n",
    "import matplotlib.pyplot as plt"
   ]
  },
  {
   "cell_type": "code",
   "execution_count": 40,
   "id": "fb839c51",
   "metadata": {},
   "outputs": [],
   "source": [
    "df=pd.read_csv(\"F:\\Doceree_Complete_DataSet\\Doceree-HCP_Train.csv\",encoding = \"ISO-8859-1\")"
   ]
  },
  {
   "cell_type": "code",
   "execution_count": 41,
   "id": "e68d3579",
   "metadata": {
    "scrolled": true
   },
   "outputs": [
    {
     "data": {
      "text/html": [
       "<div>\n",
       "<style scoped>\n",
       "    .dataframe tbody tr th:only-of-type {\n",
       "        vertical-align: middle;\n",
       "    }\n",
       "\n",
       "    .dataframe tbody tr th {\n",
       "        vertical-align: top;\n",
       "    }\n",
       "\n",
       "    .dataframe thead th {\n",
       "        text-align: right;\n",
       "    }\n",
       "</style>\n",
       "<table border=\"1\" class=\"dataframe\">\n",
       "  <thead>\n",
       "    <tr style=\"text-align: right;\">\n",
       "      <th></th>\n",
       "      <th>ID</th>\n",
       "      <th>DEVICETYPE</th>\n",
       "      <th>PLATFORM_ID</th>\n",
       "      <th>BIDREQUESTIP</th>\n",
       "      <th>USERPLATFORMUID</th>\n",
       "      <th>USERCITY</th>\n",
       "      <th>USERZIPCODE</th>\n",
       "      <th>USERAGENT</th>\n",
       "      <th>PLATFORMTYPE</th>\n",
       "      <th>CHANNELTYPE</th>\n",
       "      <th>URL</th>\n",
       "      <th>KEYWORDS</th>\n",
       "      <th>TAXONOMY</th>\n",
       "      <th>IS_HCP</th>\n",
       "    </tr>\n",
       "  </thead>\n",
       "  <tbody>\n",
       "    <tr>\n",
       "      <th>0</th>\n",
       "      <td>1001</td>\n",
       "      <td>Desktop</td>\n",
       "      <td>2</td>\n",
       "      <td>170.173.0.22</td>\n",
       "      <td>6974dcaa-f932-480e-9fb5-c52e20e1393a</td>\n",
       "      <td>Portland</td>\n",
       "      <td>97206.0</td>\n",
       "      <td>Mozilla/5.0 (Windows NT 10.0; Win64; x64) Appl...</td>\n",
       "      <td>Online Medical Journal</td>\n",
       "      <td>Website</td>\n",
       "      <td>https://www.cancertherapyadvisor.com/home/canc...</td>\n",
       "      <td>General|Endocrine|False|Medicine|Surgery|Urolo...</td>\n",
       "      <td>NaN</td>\n",
       "      <td>0.0</td>\n",
       "    </tr>\n",
       "    <tr>\n",
       "      <th>1</th>\n",
       "      <td>1002</td>\n",
       "      <td>Desktop</td>\n",
       "      <td>2</td>\n",
       "      <td>65.216.253.25</td>\n",
       "      <td>c12f3f8f-8fcf-484a-90e1-1ac04db8cdcf</td>\n",
       "      <td>Arlington</td>\n",
       "      <td>22202.0</td>\n",
       "      <td>Mozilla/5.0 (Macintosh; Intel Mac OS X 10_15_7...</td>\n",
       "      <td>Online Medical Journal</td>\n",
       "      <td>Website</td>\n",
       "      <td>https://www.cancertherapyadvisor.com/home/deci...</td>\n",
       "      <td>Bone Marrow|Radiography|Chronic|Oncology|Psych...</td>\n",
       "      <td>NaN</td>\n",
       "      <td>0.0</td>\n",
       "    </tr>\n",
       "    <tr>\n",
       "      <th>2</th>\n",
       "      <td>1003</td>\n",
       "      <td>Desktop</td>\n",
       "      <td>2</td>\n",
       "      <td>66.232.79.22</td>\n",
       "      <td>a698de4b-e200-46dd-b5fb-40402175ae18</td>\n",
       "      <td>New Meadows</td>\n",
       "      <td>83654.0</td>\n",
       "      <td>Mozilla/5.0 (Macintosh; Intel Mac OS X 10_15_7...</td>\n",
       "      <td>Online Medical Journal</td>\n",
       "      <td>Website</td>\n",
       "      <td>https://www.cancertherapyadvisor.com/home/canc...</td>\n",
       "      <td>General|Endocrine|False|Medicine|Surgery|Urolo...</td>\n",
       "      <td>NaN</td>\n",
       "      <td>0.0</td>\n",
       "    </tr>\n",
       "    <tr>\n",
       "      <th>3</th>\n",
       "      <td>1004</td>\n",
       "      <td>Desktop</td>\n",
       "      <td>3</td>\n",
       "      <td>137.54.125.246</td>\n",
       "      <td>45967533-75c8-4fbd-a00c-e6ff20447aaa</td>\n",
       "      <td>NaN</td>\n",
       "      <td>229114624.0</td>\n",
       "      <td>Mozilla/5.0 (Windows NT 10.0; Win64; x64) Appl...</td>\n",
       "      <td>Online Medical Journal</td>\n",
       "      <td>Website</td>\n",
       "      <td>https://globalrph.com/medcalcs/warfarin-mainte...</td>\n",
       "      <td>Dental|Total|Clinical|Pharmacology|Physicians|...</td>\n",
       "      <td>2084P0800X</td>\n",
       "      <td>1.0</td>\n",
       "    </tr>\n",
       "    <tr>\n",
       "      <th>4</th>\n",
       "      <td>1005</td>\n",
       "      <td>Mobile</td>\n",
       "      <td>7</td>\n",
       "      <td>174.202.231.99</td>\n",
       "      <td>a17e25be-532d-4cf5-b916-9308c8c3961f</td>\n",
       "      <td>Houston</td>\n",
       "      <td>77008.0</td>\n",
       "      <td>Mozilla/5.0 (iPhone; CPU iPhone OS 16_1_1 like...</td>\n",
       "      <td>Online Medical Journal</td>\n",
       "      <td>Website</td>\n",
       "      <td>https://www.cureus.com/articles/58184-a-review...</td>\n",
       "      <td>Critical Care|Emergency Medicine|General Pract...</td>\n",
       "      <td>NaN</td>\n",
       "      <td>0.0</td>\n",
       "    </tr>\n",
       "  </tbody>\n",
       "</table>\n",
       "</div>"
      ],
      "text/plain": [
       "     ID DEVICETYPE  PLATFORM_ID    BIDREQUESTIP  \\\n",
       "0  1001    Desktop            2    170.173.0.22   \n",
       "1  1002    Desktop            2   65.216.253.25   \n",
       "2  1003    Desktop            2    66.232.79.22   \n",
       "3  1004    Desktop            3  137.54.125.246   \n",
       "4  1005     Mobile            7  174.202.231.99   \n",
       "\n",
       "                        USERPLATFORMUID     USERCITY  USERZIPCODE  \\\n",
       "0  6974dcaa-f932-480e-9fb5-c52e20e1393a     Portland      97206.0   \n",
       "1  c12f3f8f-8fcf-484a-90e1-1ac04db8cdcf    Arlington      22202.0   \n",
       "2  a698de4b-e200-46dd-b5fb-40402175ae18  New Meadows      83654.0   \n",
       "3  45967533-75c8-4fbd-a00c-e6ff20447aaa          NaN  229114624.0   \n",
       "4  a17e25be-532d-4cf5-b916-9308c8c3961f      Houston      77008.0   \n",
       "\n",
       "                                           USERAGENT            PLATFORMTYPE  \\\n",
       "0  Mozilla/5.0 (Windows NT 10.0; Win64; x64) Appl...  Online Medical Journal   \n",
       "1  Mozilla/5.0 (Macintosh; Intel Mac OS X 10_15_7...  Online Medical Journal   \n",
       "2  Mozilla/5.0 (Macintosh; Intel Mac OS X 10_15_7...  Online Medical Journal   \n",
       "3  Mozilla/5.0 (Windows NT 10.0; Win64; x64) Appl...  Online Medical Journal   \n",
       "4  Mozilla/5.0 (iPhone; CPU iPhone OS 16_1_1 like...  Online Medical Journal   \n",
       "\n",
       "  CHANNELTYPE                                                URL  \\\n",
       "0     Website  https://www.cancertherapyadvisor.com/home/canc...   \n",
       "1     Website  https://www.cancertherapyadvisor.com/home/deci...   \n",
       "2     Website  https://www.cancertherapyadvisor.com/home/canc...   \n",
       "3     Website  https://globalrph.com/medcalcs/warfarin-mainte...   \n",
       "4     Website  https://www.cureus.com/articles/58184-a-review...   \n",
       "\n",
       "                                            KEYWORDS    TAXONOMY  IS_HCP  \n",
       "0  General|Endocrine|False|Medicine|Surgery|Urolo...         NaN     0.0  \n",
       "1  Bone Marrow|Radiography|Chronic|Oncology|Psych...         NaN     0.0  \n",
       "2  General|Endocrine|False|Medicine|Surgery|Urolo...         NaN     0.0  \n",
       "3  Dental|Total|Clinical|Pharmacology|Physicians|...  2084P0800X     1.0  \n",
       "4  Critical Care|Emergency Medicine|General Pract...         NaN     0.0  "
      ]
     },
     "execution_count": 41,
     "metadata": {},
     "output_type": "execute_result"
    }
   ],
   "source": [
    "df.head()"
   ]
  },
  {
   "cell_type": "code",
   "execution_count": 42,
   "id": "a63239ec",
   "metadata": {},
   "outputs": [
    {
     "name": "stdout",
     "output_type": "stream",
     "text": [
      "no of nan values :  0\n",
      "(113937, 14)\n"
     ]
    }
   ],
   "source": [
    "print(\"no of nan values : \" ,df['ID'].isna().sum())\n",
    "print(df.shape)"
   ]
  },
  {
   "cell_type": "code",
   "execution_count": 43,
   "id": "472a66ec",
   "metadata": {},
   "outputs": [
    {
     "name": "stdout",
     "output_type": "stream",
     "text": [
      "no of nan values :  0\n",
      "Desktop    78423\n",
      "Mobile     32065\n",
      "Tablet      3425\n",
      "Unknown       24\n",
      "Name: DEVICETYPE, dtype: int64\n"
     ]
    }
   ],
   "source": [
    "print(\"no of nan values : \" ,df['DEVICETYPE'].isna().sum())\n",
    "print(df.DEVICETYPE.value_counts())"
   ]
  },
  {
   "cell_type": "code",
   "execution_count": 44,
   "id": "99ff1253",
   "metadata": {},
   "outputs": [
    {
     "name": "stdout",
     "output_type": "stream",
     "text": [
      "no of nan values :  0\n",
      "2     79151\n",
      "7     20913\n",
      "9      3891\n",
      "5      3230\n",
      "6      2978\n",
      "10     1037\n",
      "4       745\n",
      "14      725\n",
      "12      544\n",
      "3       479\n",
      "8       130\n",
      "15       42\n",
      "1        40\n",
      "13       31\n",
      "16        1\n",
      "Name: PLATFORM_ID, dtype: int64\n"
     ]
    }
   ],
   "source": [
    "print(\"no of nan values : \" ,df['PLATFORM_ID'].isna().sum())\n",
    "print(df.PLATFORM_ID.value_counts())"
   ]
  },
  {
   "cell_type": "code",
   "execution_count": 73,
   "id": "ea4380ee",
   "metadata": {},
   "outputs": [
    {
     "name": "stdout",
     "output_type": "stream",
     "text": [
      "no of nan values :  0\n",
      "71.105.120.171     1718\n",
      "142.154.205.202    1143\n",
      "68.132.98.211       866\n",
      "108.175.114.100     727\n",
      "108.175.114.101     707\n",
      "173.66.114.27       675\n",
      "162.17.102.153      629\n",
      "12.218.110.242      604\n",
      "65.216.253.25       581\n",
      "150.148.14.137      517\n",
      "99.160.6.197        505\n",
      "129.176.151.15      456\n",
      "23.125.217.54       426\n",
      "65.112.8.18         419\n",
      "24.102.87.62        373\n",
      "69.92.49.4          350\n",
      "38.240.111.51       346\n",
      "47.189.55.180       327\n",
      "71.87.24.123        303\n",
      "67.203.36.94        259\n",
      "198.184.147.58      257\n",
      "128.146.52.108      253\n",
      "67.203.36.81        244\n",
      "71.66.42.242        237\n",
      "128.146.189.103     231\n",
      "209.126.104.10      218\n",
      "50.26.129.135       211\n",
      "98.110.76.22        209\n",
      "66.249.66.75        207\n",
      "24.45.121.35        202\n",
      "66.249.66.73        200\n",
      "209.126.104.7       199\n",
      "207.38.89.236       183\n",
      "207.38.87.145       182\n",
      "209.126.104.18      176\n",
      "209.126.127.71      169\n",
      "185.228.195.71      169\n",
      "35.129.213.194      169\n",
      "209.126.124.58      168\n",
      "216.24.45.43        168\n",
      "66.97.189.250       165\n",
      "209.126.103.138     165\n",
      "209.126.104.13      164\n",
      "68.175.60.169       161\n",
      "139.52.18.237       159\n",
      "170.212.0.93        157\n",
      "167.201.243.131     153\n",
      "162.119.232.108     151\n",
      "174.66.101.238      149\n",
      "152.3.43.49         149\n",
      "73.7.183.117        143\n",
      "71.232.195.131      142\n",
      "152.16.191.106      140\n",
      "208.74.105.182      140\n",
      "71.163.17.92        140\n",
      "66.249.66.89        138\n",
      "104.136.3.138       137\n",
      "174.59.217.179      136\n",
      "162.82.0.67         133\n",
      "208.68.20.27        133\n",
      "Name: BIDREQUESTIP, dtype: int64\n"
     ]
    }
   ],
   "source": [
    "print(\"no of nan values : \" ,df['BIDREQUESTIP'].isna().sum())\n",
    "print(df.BIDREQUESTIP.value_counts().head(60))"
   ]
  },
  {
   "cell_type": "code",
   "execution_count": 46,
   "id": "497a28fc",
   "metadata": {},
   "outputs": [
    {
     "name": "stdout",
     "output_type": "stream",
     "text": [
      "no of nan values :  4\n",
      "3e2578c8-f794-41af-a38c-c5cfb3c0f014    1447\n",
      "d76f7c0b-1a64-4d4b-b36d-86c832be8837    1406\n",
      "d00f28d6-3a50-46cd-92f3-8601bd57ad0e     675\n",
      "fcd3d327-0ad5-425e-8ea8-33ffe6a31543     629\n",
      "fe53f32c-4646-4abe-afea-90b21d6b8531     617\n",
      "82fcc028-f146-4efb-b95e-69fd62109bbc     520\n",
      "73828378-8999-4670-a3bf-e5e78096301c     517\n",
      "fa24a307-1001-4f5e-9d87-669e91737c07     505\n",
      "f6890950-af86-4400-ab0b-e8498d0ba99e     418\n",
      "a4706c21-3ce1-453d-b57c-1541c50d15f5     418\n",
      "6b1794db-cc22-4f66-b185-ecd99146bb07     391\n",
      "d9f89efd-0f02-4844-9719-098302c545df     365\n",
      "c42db189-7d1b-4639-b9c6-9fa4d80be4bd     347\n",
      "29903453-4c40-4f25-98a5-ddc554f71555     346\n",
      "9fee45ce-0010-40e0-a272-6c1c4f86ea00     344\n",
      "72cbb382-31dd-4e2a-9e9c-9d0f40a7d0a9     324\n",
      "cd57e558-f19d-4cd8-afcc-d0fa18259173     300\n",
      "63238044-b275-480b-a613-780d45d2f70a     294\n",
      "b323edaf-33ac-44f0-a570-b1c342f806b9     271\n",
      "456631b8-ca59-4e7a-96a0-53bcbf85eaef     259\n",
      "Name: USERPLATFORMUID, dtype: int64\n"
     ]
    }
   ],
   "source": [
    "print(\"no of nan values : \" ,df['USERPLATFORMUID'].isna().sum())\n",
    "print(df.USERPLATFORMUID.value_counts().head(20))"
   ]
  },
  {
   "cell_type": "code",
   "execution_count": 47,
   "id": "8cdf96bc",
   "metadata": {},
   "outputs": [
    {
     "name": "stdout",
     "output_type": "stream",
     "text": [
      "no of nan values :  6359\n",
      "New York              4943\n",
      "Brooklyn              3237\n",
      "St Louis              2545\n",
      "Los Angeles           2154\n",
      "Houston               1747\n",
      "Queens                1629\n",
      "Arlington             1503\n",
      "Chicago               1448\n",
      "Philadelphia          1191\n",
      "Columbus              1105\n",
      "Miami                 1023\n",
      "Phoenix                888\n",
      "Fort Worth             884\n",
      "Deer Park              883\n",
      "San Francisco          881\n",
      "Rochester              798\n",
      "Dallas                 784\n",
      "Memphis                756\n",
      "Charlotte              695\n",
      "Pittsburgh             669\n",
      "Palm Beach Gardens     664\n",
      "Seattle                650\n",
      "Atlanta                630\n",
      "Rockville              592\n",
      "Durham                 577\n",
      "Washington             565\n",
      "Minneapolis            557\n",
      "Springfield            556\n",
      "Cleveland              555\n",
      "Cambridge              538\n",
      "Denver                 503\n",
      "Tampa                  485\n",
      "San Diego              478\n",
      "Portland               463\n",
      "Buena Park             431\n",
      "Jacksonville           430\n",
      "Orlando                429\n",
      "Austin                 425\n",
      "Boston                 410\n",
      "Las Vegas              396\n",
      "San Antonio            392\n",
      "Cincinnati             385\n",
      "Garland                384\n",
      "Idaho Falls            382\n",
      "Sacramento             382\n",
      "Kansas City            380\n",
      "Ashburn                375\n",
      "Birmingham             373\n",
      "Salt Lake City         347\n",
      "San Jose               347\n",
      "Indianapolis           347\n",
      "Pilot Mountain         346\n",
      "Appleton               344\n",
      "Richmond               330\n",
      "Baltimore              329\n",
      "Tucson                 306\n",
      "Amarillo               294\n",
      "Nashville              283\n",
      "Milwaukee              275\n",
      "Gainesville            273\n",
      "Name: USERCITY, dtype: int64\n"
     ]
    }
   ],
   "source": [
    "print(\"no of nan values : \" ,df['USERCITY'].isna().sum())\n",
    "print(df.USERCITY.value_counts().head(60))"
   ]
  },
  {
   "cell_type": "code",
   "execution_count": 48,
   "id": "02c32a70",
   "metadata": {},
   "outputs": [
    {
     "name": "stdout",
     "output_type": "stream",
     "text": [
      "no of nan values :  4592\n",
      "63169.0        2116\n",
      "11226.0        1752\n",
      "22202.0        1259\n",
      "10001.0        1190\n",
      "90060.0        1058\n",
      "               ... \n",
      "56748.0           1\n",
      "77021.0           1\n",
      "74880.0           1\n",
      "93630.0           1\n",
      "760865488.0       1\n",
      "Name: USERZIPCODE, Length: 11278, dtype: int64\n"
     ]
    }
   ],
   "source": [
    "print(\"no of nan values : \" ,df['USERZIPCODE'].isna().sum())\n",
    "print(df.USERZIPCODE.value_counts())"
   ]
  },
  {
   "cell_type": "code",
   "execution_count": 49,
   "id": "17008e93",
   "metadata": {
    "scrolled": true
   },
   "outputs": [
    {
     "name": "stdout",
     "output_type": "stream",
     "text": [
      "no of nan values :  2\n"
     ]
    }
   ],
   "source": [
    "print(\"no of nan values : \" ,df['USERAGENT'].isna().sum())\n"
   ]
  },
  {
   "cell_type": "code",
   "execution_count": 50,
   "id": "6eeedca0",
   "metadata": {},
   "outputs": [
    {
     "name": "stdout",
     "output_type": "stream",
     "text": [
      "no of nan values :  0\n",
      "Online Medical Journal      110120\n",
      "Online Learning Portal        2978\n",
      "Medical News Platform          798\n",
      "Electronic Health Record        40\n",
      "Tele-medicine Platform           1\n",
      "Name: PLATFORMTYPE, dtype: int64\n"
     ]
    }
   ],
   "source": [
    "print(\"no of nan values : \" ,df['PLATFORMTYPE'].isna().sum())\n",
    "print(df.PLATFORMTYPE.value_counts())"
   ]
  },
  {
   "cell_type": "code",
   "execution_count": 51,
   "id": "1abc9643",
   "metadata": {},
   "outputs": [
    {
     "name": "stdout",
     "output_type": "stream",
     "text": [
      "no of nan values :  0\n",
      "Website    113937\n",
      "Name: CHANNELTYPE, dtype: int64\n"
     ]
    }
   ],
   "source": [
    "print(\"no of nan values : \" ,df['CHANNELTYPE'].isna().sum())\n",
    "print(df.CHANNELTYPE.value_counts())"
   ]
  },
  {
   "cell_type": "code",
   "execution_count": 52,
   "id": "97a4bf71",
   "metadata": {},
   "outputs": [
    {
     "name": "stdout",
     "output_type": "stream",
     "text": [
      "no of nan values :  0\n",
      "5231\n"
     ]
    }
   ],
   "source": [
    "print(\"no of nan values : \" ,df['URL'].isna().sum())\n",
    "print(df.URL.nunique())"
   ]
  },
  {
   "cell_type": "code",
   "execution_count": 53,
   "id": "f2651d7d",
   "metadata": {},
   "outputs": [
    {
     "name": "stdout",
     "output_type": "stream",
     "text": [
      "no of nan values :  0\n",
      "2460\n"
     ]
    }
   ],
   "source": [
    "print(\"no of nan values : \" ,df['KEYWORDS'].isna().sum())\n",
    "print(df.KEYWORDS.nunique())"
   ]
  },
  {
   "cell_type": "code",
   "execution_count": 54,
   "id": "2b12bf78",
   "metadata": {},
   "outputs": [
    {
     "name": "stdout",
     "output_type": "stream",
     "text": [
      "no of nan values :  81624\n",
      "2084P0800X    7930\n",
      "2084N0400X    6621\n",
      "207Q00000X    3997\n",
      "207R00000X    3190\n",
      "208000000X     837\n",
      "              ... \n",
      "163WC0400X       1\n",
      "246QM0706X       1\n",
      "1835N1003X       1\n",
      "207RI0008X       1\n",
      "207XX0801X       1\n",
      "Name: TAXONOMY, Length: 207, dtype: int64\n"
     ]
    }
   ],
   "source": [
    "print(\"no of nan values : \" ,df['TAXONOMY'].isna().sum())\n",
    "print(df.TAXONOMY.value_counts())"
   ]
  },
  {
   "cell_type": "code",
   "execution_count": 55,
   "id": "fc4ab65d",
   "metadata": {},
   "outputs": [
    {
     "name": "stdout",
     "output_type": "stream",
     "text": [
      "<class 'pandas.core.frame.DataFrame'>\n",
      "RangeIndex: 113937 entries, 0 to 113936\n",
      "Data columns (total 14 columns):\n",
      " #   Column           Non-Null Count   Dtype  \n",
      "---  ------           --------------   -----  \n",
      " 0   ID               113937 non-null  int64  \n",
      " 1   DEVICETYPE       113937 non-null  object \n",
      " 2   PLATFORM_ID      113937 non-null  int64  \n",
      " 3   BIDREQUESTIP     113937 non-null  object \n",
      " 4   USERPLATFORMUID  113933 non-null  object \n",
      " 5   USERCITY         107578 non-null  object \n",
      " 6   USERZIPCODE      109345 non-null  float64\n",
      " 7   USERAGENT        113935 non-null  object \n",
      " 8   PLATFORMTYPE     113937 non-null  object \n",
      " 9   CHANNELTYPE      113937 non-null  object \n",
      " 10  URL              113937 non-null  object \n",
      " 11  KEYWORDS         113937 non-null  object \n",
      " 12  TAXONOMY         32313 non-null   object \n",
      " 13  IS_HCP           113936 non-null  float64\n",
      "dtypes: float64(2), int64(2), object(10)\n",
      "memory usage: 12.2+ MB\n"
     ]
    }
   ],
   "source": [
    "df.info()"
   ]
  },
  {
   "cell_type": "code",
   "execution_count": 56,
   "id": "7538ce03",
   "metadata": {},
   "outputs": [
    {
     "data": {
      "text/plain": [
       "ID                   int64\n",
       "DEVICETYPE          object\n",
       "PLATFORM_ID          int64\n",
       "BIDREQUESTIP        object\n",
       "USERPLATFORMUID     object\n",
       "USERCITY            object\n",
       "USERZIPCODE        float64\n",
       "USERAGENT           object\n",
       "PLATFORMTYPE        object\n",
       "CHANNELTYPE         object\n",
       "URL                 object\n",
       "KEYWORDS            object\n",
       "TAXONOMY            object\n",
       "IS_HCP             float64\n",
       "dtype: object"
      ]
     },
     "execution_count": 56,
     "metadata": {},
     "output_type": "execute_result"
    }
   ],
   "source": [
    "df.dtypes"
   ]
  },
  {
   "cell_type": "code",
   "execution_count": 57,
   "id": "351b89a2",
   "metadata": {},
   "outputs": [
    {
     "name": "stderr",
     "output_type": "stream",
     "text": [
      "C:\\Users\\Prakhar\\AppData\\Local\\Temp\\ipykernel_26512\\2438265331.py:1: FutureWarning: The default value of numeric_only in DataFrame.corr is deprecated. In a future version, it will default to False. Select only valid columns or specify the value of numeric_only to silence this warning.\n",
      "  plt.matshow(df.corr())\n"
     ]
    },
    {
     "data": {
      "image/png": "[encoded data removed]",
      "text/plain": [
       "<Figure size 480x480 with 1 Axes>"
      ]
     },
     "metadata": {},
     "output_type": "display_data"
    }
   ],
   "source": [
    "plt.matshow(df.corr())\n",
    "plt.show()"
   ]
  },
  {
   "cell_type": "code",
   "execution_count": 58,
   "id": "fe05510f",
   "metadata": {},
   "outputs": [],
   "source": [
    "a=df[[\"TAXONOMY\",\"IS_HCP\"]]"
   ]
  },
  {
   "cell_type": "code",
   "execution_count": 59,
   "id": "42d56f40",
   "metadata": {},
   "outputs": [
    {
     "name": "stdout",
     "output_type": "stream",
     "text": [
      "      TAXONOMY  IS_HCP\n",
      "0          NaN     0.0\n",
      "1          NaN     0.0\n",
      "2          NaN     0.0\n",
      "3   2084P0800X     1.0\n",
      "4          NaN     0.0\n",
      "5          NaN     0.0\n",
      "6          NaN     0.0\n",
      "7          NaN     0.0\n",
      "8   2084P0804X     1.0\n",
      "9          NaN     0.0\n",
      "10         NaN     0.0\n",
      "11         NaN     0.0\n",
      "12         NaN     0.0\n",
      "13         NaN     0.0\n",
      "14         NaN     0.0\n",
      "15         NaN     0.0\n",
      "16         NaN     0.0\n",
      "17         NaN     0.0\n",
      "18         NaN     0.0\n",
      "19         NaN     0.0\n",
      "20         NaN     0.0\n",
      "21  2084N0400X     1.0\n",
      "22         NaN     0.0\n",
      "23         NaN     0.0\n",
      "24         NaN     0.0\n",
      "25         NaN     0.0\n",
      "26         NaN     0.0\n",
      "27         NaN     0.0\n",
      "28         NaN     0.0\n",
      "29  2084V0102X     1.0\n",
      "30         NaN     0.0\n",
      "31         NaN     0.0\n",
      "32         NaN     0.0\n",
      "33         NaN     0.0\n",
      "34         NaN     0.0\n",
      "35  207RC0000X     1.0\n",
      "36         NaN     0.0\n",
      "37         NaN     0.0\n",
      "38         NaN     0.0\n",
      "39         NaN     0.0\n",
      "40         NaN     0.0\n",
      "41         NaN     0.0\n",
      "42         NaN     0.0\n",
      "43         NaN     0.0\n",
      "44         NaN     0.0\n",
      "45         NaN     0.0\n",
      "46         NaN     0.0\n",
      "47         NaN     0.0\n",
      "48         NaN     0.0\n",
      "49         NaN     0.0\n"
     ]
    }
   ],
   "source": [
    "print(a.iloc[:50])"
   ]
  },
  {
   "cell_type": "code",
   "execution_count": 60,
   "id": "a7ed87d2",
   "metadata": {},
   "outputs": [],
   "source": [
    "from sklearn.preprocessing import OneHotEncoder"
   ]
  },
  {
   "cell_type": "code",
   "execution_count": 61,
   "id": "daa086c9",
   "metadata": {},
   "outputs": [],
   "source": [
    "ohe=OneHotEncoder()"
   ]
  },
  {
   "cell_type": "code",
   "execution_count": 62,
   "id": "3d0f5a80",
   "metadata": {},
   "outputs": [],
   "source": [
    "device_type=ohe.fit_transform(df[\"DEVICETYPE\"].values.reshape(-1,1)).toarray()"
   ]
  },
  {
   "cell_type": "code",
   "execution_count": 63,
   "id": "5b30af46",
   "metadata": {},
   "outputs": [
    {
     "data": {
      "text/html": [
       "<div>\n",
       "<style scoped>\n",
       "    .dataframe tbody tr th:only-of-type {\n",
       "        vertical-align: middle;\n",
       "    }\n",
       "\n",
       "    .dataframe tbody tr th {\n",
       "        vertical-align: top;\n",
       "    }\n",
       "\n",
       "    .dataframe thead th {\n",
       "        text-align: right;\n",
       "    }\n",
       "</style>\n",
       "<table border=\"1\" class=\"dataframe\">\n",
       "  <thead>\n",
       "    <tr style=\"text-align: right;\">\n",
       "      <th></th>\n",
       "      <th>0</th>\n",
       "      <th>1</th>\n",
       "      <th>2</th>\n",
       "      <th>3</th>\n",
       "    </tr>\n",
       "  </thead>\n",
       "  <tbody>\n",
       "    <tr>\n",
       "      <th>0</th>\n",
       "      <td>1.0</td>\n",
       "      <td>0.0</td>\n",
       "      <td>0.0</td>\n",
       "      <td>0.0</td>\n",
       "    </tr>\n",
       "    <tr>\n",
       "      <th>1</th>\n",
       "      <td>1.0</td>\n",
       "      <td>0.0</td>\n",
       "      <td>0.0</td>\n",
       "      <td>0.0</td>\n",
       "    </tr>\n",
       "    <tr>\n",
       "      <th>2</th>\n",
       "      <td>1.0</td>\n",
       "      <td>0.0</td>\n",
       "      <td>0.0</td>\n",
       "      <td>0.0</td>\n",
       "    </tr>\n",
       "    <tr>\n",
       "      <th>3</th>\n",
       "      <td>1.0</td>\n",
       "      <td>0.0</td>\n",
       "      <td>0.0</td>\n",
       "      <td>0.0</td>\n",
       "    </tr>\n",
       "    <tr>\n",
       "      <th>4</th>\n",
       "      <td>0.0</td>\n",
       "      <td>1.0</td>\n",
       "      <td>0.0</td>\n",
       "      <td>0.0</td>\n",
       "    </tr>\n",
       "  </tbody>\n",
       "</table>\n",
       "</div>"
      ],
      "text/plain": [
       "     0    1    2    3\n",
       "0  1.0  0.0  0.0  0.0\n",
       "1  1.0  0.0  0.0  0.0\n",
       "2  1.0  0.0  0.0  0.0\n",
       "3  1.0  0.0  0.0  0.0\n",
       "4  0.0  1.0  0.0  0.0"
      ]
     },
     "execution_count": 63,
     "metadata": {},
     "output_type": "execute_result"
    }
   ],
   "source": [
    "pd.DataFrame(device_type).head()"
   ]
  },
  {
   "cell_type": "code",
   "execution_count": 64,
   "id": "d189f37b",
   "metadata": {},
   "outputs": [],
   "source": [
    "feature_labels=ohe.categories_"
   ]
  },
  {
   "cell_type": "code",
   "execution_count": 65,
   "id": "515ea05d",
   "metadata": {},
   "outputs": [
    {
     "data": {
      "text/plain": [
       "array(['Desktop', 'Mobile', 'Tablet', 'Unknown'], dtype=object)"
      ]
     },
     "execution_count": 65,
     "metadata": {},
     "output_type": "execute_result"
    }
   ],
   "source": [
    "np.array(feature_labels).ravel()"
   ]
  },
  {
   "cell_type": "code",
   "execution_count": 66,
   "id": "fa926ff6",
   "metadata": {},
   "outputs": [],
   "source": [
    "feature_labels=np.array(feature_labels).ravel()"
   ]
  },
  {
   "cell_type": "code",
   "execution_count": 67,
   "id": "2b71db6a",
   "metadata": {},
   "outputs": [
    {
     "name": "stdout",
     "output_type": "stream",
     "text": [
      "['Desktop' 'Mobile' 'Tablet' 'Unknown']\n"
     ]
    }
   ],
   "source": [
    "print(feature_labels) "
   ]
  },
  {
   "cell_type": "code",
   "execution_count": 68,
   "id": "e9ddb539",
   "metadata": {},
   "outputs": [],
   "source": [
    "x=pd.DataFrame(device_type,columns=feature_labels)"
   ]
  },
  {
   "cell_type": "code",
   "execution_count": 69,
   "id": "31913adb",
   "metadata": {},
   "outputs": [],
   "source": [
    "del df[\"DEVICETYPE\"]"
   ]
  },
  {
   "cell_type": "code",
   "execution_count": 70,
   "id": "463b7c8c",
   "metadata": {},
   "outputs": [],
   "source": [
    "df=pd.concat([df,x],axis=1)"
   ]
  },
  {
   "cell_type": "code",
   "execution_count": 83,
   "id": "bb77231f",
   "metadata": {},
   "outputs": [
    {
     "data": {
      "text/html": [
       "<div>\n",
       "<style scoped>\n",
       "    .dataframe tbody tr th:only-of-type {\n",
       "        vertical-align: middle;\n",
       "    }\n",
       "\n",
       "    .dataframe tbody tr th {\n",
       "        vertical-align: top;\n",
       "    }\n",
       "\n",
       "    .dataframe thead th {\n",
       "        text-align: right;\n",
       "    }\n",
       "</style>\n",
       "<table border=\"1\" class=\"dataframe\">\n",
       "  <thead>\n",
       "    <tr style=\"text-align: right;\">\n",
       "      <th></th>\n",
       "      <th>ID</th>\n",
       "      <th>PLATFORM_ID</th>\n",
       "      <th>BIDREQUESTIP</th>\n",
       "      <th>USERCITY</th>\n",
       "      <th>USERZIPCODE</th>\n",
       "      <th>USERAGENT</th>\n",
       "      <th>PLATFORMTYPE</th>\n",
       "      <th>CHANNELTYPE</th>\n",
       "      <th>URL</th>\n",
       "      <th>KEYWORDS</th>\n",
       "      <th>TAXONOMY</th>\n",
       "      <th>IS_HCP</th>\n",
       "      <th>Desktop</th>\n",
       "      <th>Mobile</th>\n",
       "      <th>Tablet</th>\n",
       "      <th>Unknown</th>\n",
       "    </tr>\n",
       "  </thead>\n",
       "  <tbody>\n",
       "    <tr>\n",
       "      <th>0</th>\n",
       "      <td>1001</td>\n",
       "      <td>2</td>\n",
       "      <td>170.173.0.22</td>\n",
       "      <td>Portland</td>\n",
       "      <td>97206.0</td>\n",
       "      <td>Mozilla/5.0 (Windows NT 10.0; Win64; x64) Appl...</td>\n",
       "      <td>Online Medical Journal</td>\n",
       "      <td>Website</td>\n",
       "      <td>https://www.cancertherapyadvisor.com/home/canc...</td>\n",
       "      <td>General|Endocrine|False|Medicine|Surgery|Urolo...</td>\n",
       "      <td>NaN</td>\n",
       "      <td>0.0</td>\n",
       "      <td>1.0</td>\n",
       "      <td>0.0</td>\n",
       "      <td>0.0</td>\n",
       "      <td>0.0</td>\n",
       "    </tr>\n",
       "    <tr>\n",
       "      <th>1</th>\n",
       "      <td>1002</td>\n",
       "      <td>2</td>\n",
       "      <td>65.216.253.25</td>\n",
       "      <td>Arlington</td>\n",
       "      <td>22202.0</td>\n",
       "      <td>Mozilla/5.0 (Macintosh; Intel Mac OS X 10_15_7...</td>\n",
       "      <td>Online Medical Journal</td>\n",
       "      <td>Website</td>\n",
       "      <td>https://www.cancertherapyadvisor.com/home/deci...</td>\n",
       "      <td>Bone Marrow|Radiography|Chronic|Oncology|Psych...</td>\n",
       "      <td>NaN</td>\n",
       "      <td>0.0</td>\n",
       "      <td>1.0</td>\n",
       "      <td>0.0</td>\n",
       "      <td>0.0</td>\n",
       "      <td>0.0</td>\n",
       "    </tr>\n",
       "    <tr>\n",
       "      <th>2</th>\n",
       "      <td>1003</td>\n",
       "      <td>2</td>\n",
       "      <td>66.232.79.22</td>\n",
       "      <td>New Meadows</td>\n",
       "      <td>83654.0</td>\n",
       "      <td>Mozilla/5.0 (Macintosh; Intel Mac OS X 10_15_7...</td>\n",
       "      <td>Online Medical Journal</td>\n",
       "      <td>Website</td>\n",
       "      <td>https://www.cancertherapyadvisor.com/home/canc...</td>\n",
       "      <td>General|Endocrine|False|Medicine|Surgery|Urolo...</td>\n",
       "      <td>NaN</td>\n",
       "      <td>0.0</td>\n",
       "      <td>1.0</td>\n",
       "      <td>0.0</td>\n",
       "      <td>0.0</td>\n",
       "      <td>0.0</td>\n",
       "    </tr>\n",
       "    <tr>\n",
       "      <th>3</th>\n",
       "      <td>1004</td>\n",
       "      <td>3</td>\n",
       "      <td>137.54.125.246</td>\n",
       "      <td>NaN</td>\n",
       "      <td>229114624.0</td>\n",
       "      <td>Mozilla/5.0 (Windows NT 10.0; Win64; x64) Appl...</td>\n",
       "      <td>Online Medical Journal</td>\n",
       "      <td>Website</td>\n",
       "      <td>https://globalrph.com/medcalcs/warfarin-mainte...</td>\n",
       "      <td>Dental|Total|Clinical|Pharmacology|Physicians|...</td>\n",
       "      <td>2084P0800X</td>\n",
       "      <td>1.0</td>\n",
       "      <td>1.0</td>\n",
       "      <td>0.0</td>\n",
       "      <td>0.0</td>\n",
       "      <td>0.0</td>\n",
       "    </tr>\n",
       "    <tr>\n",
       "      <th>4</th>\n",
       "      <td>1005</td>\n",
       "      <td>7</td>\n",
       "      <td>174.202.231.99</td>\n",
       "      <td>Houston</td>\n",
       "      <td>77008.0</td>\n",
       "      <td>Mozilla/5.0 (iPhone; CPU iPhone OS 16_1_1 like...</td>\n",
       "      <td>Online Medical Journal</td>\n",
       "      <td>Website</td>\n",
       "      <td>https://www.cureus.com/articles/58184-a-review...</td>\n",
       "      <td>Critical Care|Emergency Medicine|General Pract...</td>\n",
       "      <td>NaN</td>\n",
       "      <td>0.0</td>\n",
       "      <td>0.0</td>\n",
       "      <td>1.0</td>\n",
       "      <td>0.0</td>\n",
       "      <td>0.0</td>\n",
       "    </tr>\n",
       "  </tbody>\n",
       "</table>\n",
       "</div>"
      ],
      "text/plain": [
       "     ID  PLATFORM_ID    BIDREQUESTIP     USERCITY  USERZIPCODE  \\\n",
       "0  1001            2    170.173.0.22     Portland      97206.0   \n",
       "1  1002            2   65.216.253.25    Arlington      22202.0   \n",
       "2  1003            2    66.232.79.22  New Meadows      83654.0   \n",
       "3  1004            3  137.54.125.246          NaN  229114624.0   \n",
       "4  1005            7  174.202.231.99      Houston      77008.0   \n",
       "\n",
       "                                           USERAGENT            PLATFORMTYPE  \\\n",
       "0  Mozilla/5.0 (Windows NT 10.0; Win64; x64) Appl...  Online Medical Journal   \n",
       "1  Mozilla/5.0 (Macintosh; Intel Mac OS X 10_15_7...  Online Medical Journal   \n",
       "2  Mozilla/5.0 (Macintosh; Intel Mac OS X 10_15_7...  Online Medical Journal   \n",
       "3  Mozilla/5.0 (Windows NT 10.0; Win64; x64) Appl...  Online Medical Journal   \n",
       "4  Mozilla/5.0 (iPhone; CPU iPhone OS 16_1_1 like...  Online Medical Journal   \n",
       "\n",
       "  CHANNELTYPE                                                URL  \\\n",
       "0     Website  https://www.cancertherapyadvisor.com/home/canc...   \n",
       "1     Website  https://www.cancertherapyadvisor.com/home/deci...   \n",
       "2     Website  https://www.cancertherapyadvisor.com/home/canc...   \n",
       "3     Website  https://globalrph.com/medcalcs/warfarin-mainte...   \n",
       "4     Website  https://www.cureus.com/articles/58184-a-review...   \n",
       "\n",
       "                                            KEYWORDS    TAXONOMY  IS_HCP  \\\n",
       "0  General|Endocrine|False|Medicine|Surgery|Urolo...         NaN     0.0   \n",
       "1  Bone Marrow|Radiography|Chronic|Oncology|Psych...         NaN     0.0   \n",
       "2  General|Endocrine|False|Medicine|Surgery|Urolo...         NaN     0.0   \n",
       "3  Dental|Total|Clinical|Pharmacology|Physicians|...  2084P0800X     1.0   \n",
       "4  Critical Care|Emergency Medicine|General Pract...         NaN     0.0   \n",
       "\n",
       "   Desktop  Mobile  Tablet  Unknown  \n",
       "0      1.0     0.0     0.0      0.0  \n",
       "1      1.0     0.0     0.0      0.0  \n",
       "2      1.0     0.0     0.0      0.0  \n",
       "3      1.0     0.0     0.0      0.0  \n",
       "4      0.0     1.0     0.0      0.0  "
      ]
     },
     "execution_count": 83,
     "metadata": {},
     "output_type": "execute_result"
    }
   ],
   "source": [
    "df.head()\n"
   ]
  },
  {
   "cell_type": "code",
   "execution_count": 85,
   "id": "6868e548",
   "metadata": {},
   "outputs": [],
   "source": [
    "del df[\"USERCITY\"]"
   ]
  },
  {
   "cell_type": "code",
   "execution_count": 86,
   "id": "2332b377",
   "metadata": {},
   "outputs": [],
   "source": [
    "del df[\"URL\"]"
   ]
  },
  {
   "cell_type": "code",
   "execution_count": 87,
   "id": "c82663e7",
   "metadata": {},
   "outputs": [
    {
     "data": {
      "text/html": [
       "<div>\n",
       "<style scoped>\n",
       "    .dataframe tbody tr th:only-of-type {\n",
       "        vertical-align: middle;\n",
       "    }\n",
       "\n",
       "    .dataframe tbody tr th {\n",
       "        vertical-align: top;\n",
       "    }\n",
       "\n",
       "    .dataframe thead th {\n",
       "        text-align: right;\n",
       "    }\n",
       "</style>\n",
       "<table border=\"1\" class=\"dataframe\">\n",
       "  <thead>\n",
       "    <tr style=\"text-align: right;\">\n",
       "      <th></th>\n",
       "      <th>ID</th>\n",
       "      <th>PLATFORM_ID</th>\n",
       "      <th>BIDREQUESTIP</th>\n",
       "      <th>USERZIPCODE</th>\n",
       "      <th>USERAGENT</th>\n",
       "      <th>PLATFORMTYPE</th>\n",
       "      <th>CHANNELTYPE</th>\n",
       "      <th>KEYWORDS</th>\n",
       "      <th>TAXONOMY</th>\n",
       "      <th>IS_HCP</th>\n",
       "      <th>Desktop</th>\n",
       "      <th>Mobile</th>\n",
       "      <th>Tablet</th>\n",
       "      <th>Unknown</th>\n",
       "    </tr>\n",
       "  </thead>\n",
       "  <tbody>\n",
       "    <tr>\n",
       "      <th>0</th>\n",
       "      <td>1001</td>\n",
       "      <td>2</td>\n",
       "      <td>170.173.0.22</td>\n",
       "      <td>97206.0</td>\n",
       "      <td>Mozilla/5.0 (Windows NT 10.0; Win64; x64) Appl...</td>\n",
       "      <td>Online Medical Journal</td>\n",
       "      <td>Website</td>\n",
       "      <td>General|Endocrine|False|Medicine|Surgery|Urolo...</td>\n",
       "      <td>NaN</td>\n",
       "      <td>0.0</td>\n",
       "      <td>1.0</td>\n",
       "      <td>0.0</td>\n",
       "      <td>0.0</td>\n",
       "      <td>0.0</td>\n",
       "    </tr>\n",
       "    <tr>\n",
       "      <th>1</th>\n",
       "      <td>1002</td>\n",
       "      <td>2</td>\n",
       "      <td>65.216.253.25</td>\n",
       "      <td>22202.0</td>\n",
       "      <td>Mozilla/5.0 (Macintosh; Intel Mac OS X 10_15_7...</td>\n",
       "      <td>Online Medical Journal</td>\n",
       "      <td>Website</td>\n",
       "      <td>Bone Marrow|Radiography|Chronic|Oncology|Psych...</td>\n",
       "      <td>NaN</td>\n",
       "      <td>0.0</td>\n",
       "      <td>1.0</td>\n",
       "      <td>0.0</td>\n",
       "      <td>0.0</td>\n",
       "      <td>0.0</td>\n",
       "    </tr>\n",
       "    <tr>\n",
       "      <th>2</th>\n",
       "      <td>1003</td>\n",
       "      <td>2</td>\n",
       "      <td>66.232.79.22</td>\n",
       "      <td>83654.0</td>\n",
       "      <td>Mozilla/5.0 (Macintosh; Intel Mac OS X 10_15_7...</td>\n",
       "      <td>Online Medical Journal</td>\n",
       "      <td>Website</td>\n",
       "      <td>General|Endocrine|False|Medicine|Surgery|Urolo...</td>\n",
       "      <td>NaN</td>\n",
       "      <td>0.0</td>\n",
       "      <td>1.0</td>\n",
       "      <td>0.0</td>\n",
       "      <td>0.0</td>\n",
       "      <td>0.0</td>\n",
       "    </tr>\n",
       "    <tr>\n",
       "      <th>3</th>\n",
       "      <td>1004</td>\n",
       "      <td>3</td>\n",
       "      <td>137.54.125.246</td>\n",
       "      <td>229114624.0</td>\n",
       "      <td>Mozilla/5.0 (Windows NT 10.0; Win64; x64) Appl...</td>\n",
       "      <td>Online Medical Journal</td>\n",
       "      <td>Website</td>\n",
       "      <td>Dental|Total|Clinical|Pharmacology|Physicians|...</td>\n",
       "      <td>2084P0800X</td>\n",
       "      <td>1.0</td>\n",
       "      <td>1.0</td>\n",
       "      <td>0.0</td>\n",
       "      <td>0.0</td>\n",
       "      <td>0.0</td>\n",
       "    </tr>\n",
       "    <tr>\n",
       "      <th>4</th>\n",
       "      <td>1005</td>\n",
       "      <td>7</td>\n",
       "      <td>174.202.231.99</td>\n",
       "      <td>77008.0</td>\n",
       "      <td>Mozilla/5.0 (iPhone; CPU iPhone OS 16_1_1 like...</td>\n",
       "      <td>Online Medical Journal</td>\n",
       "      <td>Website</td>\n",
       "      <td>Critical Care|Emergency Medicine|General Pract...</td>\n",
       "      <td>NaN</td>\n",
       "      <td>0.0</td>\n",
       "      <td>0.0</td>\n",
       "      <td>1.0</td>\n",
       "      <td>0.0</td>\n",
       "      <td>0.0</td>\n",
       "    </tr>\n",
       "  </tbody>\n",
       "</table>\n",
       "</div>"
      ],
      "text/plain": [
       "     ID  PLATFORM_ID    BIDREQUESTIP  USERZIPCODE  \\\n",
       "0  1001            2    170.173.0.22      97206.0   \n",
       "1  1002            2   65.216.253.25      22202.0   \n",
       "2  1003            2    66.232.79.22      83654.0   \n",
       "3  1004            3  137.54.125.246  229114624.0   \n",
       "4  1005            7  174.202.231.99      77008.0   \n",
       "\n",
       "                                           USERAGENT            PLATFORMTYPE  \\\n",
       "0  Mozilla/5.0 (Windows NT 10.0; Win64; x64) Appl...  Online Medical Journal   \n",
       "1  Mozilla/5.0 (Macintosh; Intel Mac OS X 10_15_7...  Online Medical Journal   \n",
       "2  Mozilla/5.0 (Macintosh; Intel Mac OS X 10_15_7...  Online Medical Journal   \n",
       "3  Mozilla/5.0 (Windows NT 10.0; Win64; x64) Appl...  Online Medical Journal   \n",
       "4  Mozilla/5.0 (iPhone; CPU iPhone OS 16_1_1 like...  Online Medical Journal   \n",
       "\n",
       "  CHANNELTYPE                                           KEYWORDS    TAXONOMY  \\\n",
       "0     Website  General|Endocrine|False|Medicine|Surgery|Urolo...         NaN   \n",
       "1     Website  Bone Marrow|Radiography|Chronic|Oncology|Psych...         NaN   \n",
       "2     Website  General|Endocrine|False|Medicine|Surgery|Urolo...         NaN   \n",
       "3     Website  Dental|Total|Clinical|Pharmacology|Physicians|...  2084P0800X   \n",
       "4     Website  Critical Care|Emergency Medicine|General Pract...         NaN   \n",
       "\n",
       "   IS_HCP  Desktop  Mobile  Tablet  Unknown  \n",
       "0     0.0      1.0     0.0     0.0      0.0  \n",
       "1     0.0      1.0     0.0     0.0      0.0  \n",
       "2     0.0      1.0     0.0     0.0      0.0  \n",
       "3     1.0      1.0     0.0     0.0      0.0  \n",
       "4     0.0      0.0     1.0     0.0      0.0  "
      ]
     },
     "execution_count": 87,
     "metadata": {},
     "output_type": "execute_result"
    }
   ],
   "source": [
    "df.head()"
   ]
  },
  {
   "cell_type": "code",
   "execution_count": null,
   "id": "dc2f0e3b",
   "metadata": {},
   "outputs": [],
   "source": []
  }
 ],
 "metadata": {
  "kernelspec": {
   "display_name": "Python 3 (ipykernel)",
   "language": "python",
   "name": "python3"
  },
  "language_info": {
   "codemirror_mode": {
    "name": "ipython",
    "version": 3
   },
   "file_extension": ".py",
   "mimetype": "text/x-python",
   "name": "python",
   "nbconvert_exporter": "python",
   "pygments_lexer": "ipython3",
   "version": "3.10.9"
  }
 },
 "nbformat": 4,
 "nbformat_minor": 5
}
